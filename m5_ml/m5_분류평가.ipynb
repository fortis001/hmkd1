{
 "cells": [
  {
   "cell_type": "code",
   "execution_count": 117,
   "id": "7b45b24c",
   "metadata": {},
   "outputs": [],
   "source": [
    "import pandas as pd\n",
    "from sklearn.preprocessing import LabelEncoder\n",
    "from sklearn.preprocessing import OneHotEncoder\n",
    "import numpy as np\n",
    "from sklearn.model_selection import train_test_split\n",
    "from sklearn.metrics import accuracy_score, precision_score, recall_score, confusion_matrix, f1_score\n",
    "import re\n",
    "from sklearn.tree import DecisionTreeClassifier\n",
    "from sklearn.linear_model import LogisticRegression\n",
    "from sklearn.preprocessing import Binarizer\n",
    "from sklearn.metrics import precision_recall_curve\n",
    "import matplotlib.pyplot as plt\n",
    "import matplotlib.ticker as ticker"
   ]
  },
  {
   "cell_type": "markdown",
   "id": "cd286ae8",
   "metadata": {},
   "source": [
    "## 분류 평가\n",
    "\n",
    "- 정확도(Accuracy): 가장 직관적으로 이해할 수 있는 지표로, 전체 예측 데이터 중 예측이 정확한 데이터의 비율을 의미합니다. 하지만 이는 불균형한 레이블 클래스를 가진 경우, 즉 특정 클래스의 데이터가 많을 때 모델의 성능을 왜곡할 수 있습니다.\n",
    "\n",
    "- 오차 행렬(Confusion Matrix): 이진 분류에서 성능을 나타내는 행렬로, FP, FN, TP, TN의 4분면으로 이루어져 있습니다. 각각은 다음과 같습니다.\n",
    "\n",
    "    - True Positive(TP): 실제 값과 예측 값이 모두 Positive(1)인 경우\n",
    "    - False Positive(FP): 실제 값은 Negative(0)인데 Positive(1)로 잘못 예측한 경우\n",
    "    - False Negative(FN): 실제 값은 Positive(1)인데 Negative(0)로 잘못 예측한 경우\n",
    "    - True Negative(TN): 실제 값과 예측 값이 모두 Negative(0)인 경우\n",
    "- 정밀도(Precision)와 재현율(Recall):\n",
    "\n",
    "    - 정밀도: TP / (FP + TP). Positive로 예측한 대상 중에 실제 값이 Positive인 데이터의 비율을 의미합니다.\n",
    "    - 재현율: TP / (FN + TP). 실제 값이 Positive인 대상 중에 예측과 실제 값이 모두 Positive인 데이터 비율을 의미합니다.\n",
    "    - F1 스코어: 정밀도와 재현율을 결합한 지표로, 이 두 값이 어느 한 쪽으로 치우치지 않을 때 높은 값을 가집니다.\n",
    "\n",
    "    - ROC-AUC: Receiver Operation Characteristic Curve와 이 곡선의 면적인 Area Under Curve를 의미합니다. 이진 분류의 예측 성능 측정에서 중요하게 사용되며, 1에 가까울수록 좋은 수치를 나타냅니다.\n",
    "\n",
    "- 위의 지표들은 sklearn.metrics 모듈에서 제공하는 다양한 API를 통해 쉽게 계산할 수 있습니다. 이 지표들을 통해 모델의 성능을 평가하고, 모델 간 성능을 비교하거나, 하이퍼파라미터 튜닝 등을 통해 모델을 개선할 수 있습니다.\n",
    "\n",
    "* TP, FP, FN, TP는 예측 클래스와 실제 클래스의 Positive 결정 값과 Negative 결정 값의 결합에 따라 결정\n",
    "* 앞문자 True/False는 예측값과 실제값이 같은가/틀린가를 의미하고 뒤 문자 Negative/Positive는 예측 결과 값이 부정/긍정을 의미\n",
    "* TN는 예측값을 Negative 값 0으로 예측했고 실제값 역시 Negative 값 0\n",
    "* FP는 예측값을 Positive 값 1로 예측했고 실제값은 Negative 값 0\n",
    "* FN은 예측값을 Negative 값 0으로 예측했고 실제값은 Positive 값 1\n",
    "* TP는 예측값을 Positive 값 1로 예측했고 실제값 역시 Positive 값 1\n",
    "* 정확도 = (TP + TN) / ( TP + TN + FP + FN)\n",
    "* 정밀도 = TP / ( TP + FP)\n",
    "* 재현율 = TP / ( TP + FN) : 정밀도와 재현율이 어느 한쪽으로 치우치지 않는 수치를 나타낼때 높아짐.\n",
    "* F1 = 2 * ( 정밀도 * 재현율) / (정밀도 + 재현율)\n",
    "* 정밀도와 재현율은 Positive 데이터 세트의 예측 성능에 좀 더 초점을 맞춘 평가 지표\n",
    "* 재현율이 중요 지표인 경우는 실제 Positive 양성 데이터를 Negative로 잘못 판단하게 되면 업무상 큰 영향이 발생하는 경우(ex. 보험사기, 암진단)\n",
    "* 정밀도가 더 중요한 지표인 사례는 스팸 메일 여부를 판단하는 경우로 스팸 메일이 아닌데 스팸 메일로 분류해서 업무 차질 발생"
   ]
  },
  {
   "cell_type": "markdown",
   "id": "07ff219c",
   "metadata": {},
   "source": [
    "### 과제 1_0517\n",
    "전처리 사용자 함수 transform_features(df)를 생성하여 적용하고 알고리즘 dt를 사용하여 모델링 및 성능 평가를 수행하시오."
   ]
  },
  {
   "cell_type": "code",
   "execution_count": 35,
   "id": "53c78a08",
   "metadata": {},
   "outputs": [],
   "source": [
    "def get_category(age):\n",
    "    cat = ''\n",
    "    if age <= -1: cat = 'Unknown'\n",
    "    elif age <= 5: cat = 'Baby'\n",
    "    elif age <= 15: cat = 'Child'\n",
    "    elif age <= 20: cat = 'Teenager'\n",
    "    elif age <= 30: cat = 'Twenties'\n",
    "    elif age <= 35: cat = 'Young Adult'\n",
    "    elif age <= 50: cat = 'Adult'\n",
    "    else : cat = 'Elderly'\n",
    "    \n",
    "    return cat\n",
    "def Fare_Cat(fare):\n",
    "    cat = ''\n",
    "    if fare <= -1: cat = 'Unknown'\n",
    "    elif fare <= 8: cat = 'Very Low'\n",
    "    elif fare <= 11: cat = 'Low'\n",
    "    elif fare <= 25: cat = 'Middle'\n",
    "    elif fare <= 50: cat = 'High'\n",
    "    elif fare <= 100: cat = 'Very High'\n",
    "    else : cat = 'Extra High'\n",
    "    \n",
    "    return cat\n",
    "def transform_features(df):\n",
    "    df.dropna(axis = 1, thresh = len(titanic_df)/2, inplace = True)\n",
    "    \n",
    "    big = df[\"Embarked\"].value_counts().idxmax()\n",
    "    df[\"Embarked\"].fillna(big, inplace = True)\n",
    "    \n",
    "    pattern = r\", (.*?)\\.\"\n",
    "    df[\"Title\"] = df[\"Name\"].apply(lambda x: re.search(pattern, x).group(1))\n",
    "    \n",
    "    df['Age'] = df.groupby('Title')['Age'].transform(lambda x: x.fillna(round(x.mean(),0)))\n",
    "    \n",
    "    df.drop(['Name', \"Ticket\", \"PassengerId\", \"SibSp\", \"Parch\", \"Embarked\"], axis=1, inplace=True)\n",
    "    \n",
    "    df[\"Age_cat\"] = df['Age'].apply(lambda x : get_category(x))\n",
    "    \n",
    "    df[\"Fare_cat\"] = df['Fare'].apply(lambda x : Fare_Cat(x))\n",
    "    \n",
    "    df.drop([\"Age\", \"Fare\"] , axis=1, inplace=True)\n",
    "    \n",
    "    features = [\"Pclass\", \"Sex\", \"Title\", \"Age_cat\", \"Fare_cat\"]\n",
    "    for feature in features:\n",
    "        le = LabelEncoder()\n",
    "        le = le.fit(df[feature])\n",
    "        df[feature] = le.transform(df[feature])\n",
    "    return df"
   ]
  },
  {
   "cell_type": "code",
   "execution_count": 67,
   "id": "6b827097",
   "metadata": {},
   "outputs": [],
   "source": [
    "titanic_df = pd.read_csv(\"dataSet/train.csv\")\n",
    "y_titanic = titanic_df[\"Survived\"]\n",
    "X_titanic= titanic_df.drop('Survived',axis=1)\n",
    "\n",
    "X_titanic = transform_features(X_titanic)"
   ]
  },
  {
   "cell_type": "code",
   "execution_count": 68,
   "id": "e2de976e",
   "metadata": {},
   "outputs": [],
   "source": [
    "X_train, X_test, y_train, y_test=train_test_split(X_titanic, y_titanic, \\\n",
    "                                                  test_size=0.2, random_state=11)\n",
    "dt_clf = DecisionTreeClassifier(random_state=11)"
   ]
  },
  {
   "cell_type": "code",
   "execution_count": 69,
   "id": "69632d6a",
   "metadata": {},
   "outputs": [
    {
     "name": "stdout",
     "output_type": "stream",
     "text": [
      "DecisionTreeClassifier 정확도: 0.8547\n"
     ]
    }
   ],
   "source": [
    "dt_clf.fit(X_train , y_train)\n",
    "dt_pred = dt_clf.predict(X_test)\n",
    "print('DecisionTreeClassifier 정확도: {0:.4f}'.format(accuracy_score(y_test, dt_pred)))"
   ]
  },
  {
   "cell_type": "code",
   "execution_count": 78,
   "id": "33fbb378",
   "metadata": {},
   "outputs": [],
   "source": [
    "def get_clf_eval(y_test, pred):\n",
    "    confusion = confusion_matrix(y_test, pred)\n",
    "    accuracy = round(accuracy_score(y_test, pred),4)\n",
    "    precision = round(precision_score(y_test, pred),4)\n",
    "    recall = round(recall_score(y_test, pred),4)\n",
    "    f1 = round(f1_score(y_test, pred),4)\n",
    "    print(\"오차 행렬\")\n",
    "    print(confusion)\n",
    "    print(f\"정확도 : {accuracy}, 정밀도 : {precision}\\n재현율 : {recall}, f1 : {f1}\")"
   ]
  },
  {
   "cell_type": "code",
   "execution_count": 79,
   "id": "84767812",
   "metadata": {},
   "outputs": [
    {
     "name": "stdout",
     "output_type": "stream",
     "text": [
      "오차 행렬\n",
      "[[109   9]\n",
      " [ 17  44]]\n",
      "정확도 : 0.8547, 정밀도 : 0.8302\n",
      "재현율 : 0.7213, f1 : 0.7719\n"
     ]
    }
   ],
   "source": [
    "get_clf_eval(y_test,dt_pred)"
   ]
  },
  {
   "cell_type": "code",
   "execution_count": 42,
   "id": "baf27dd0",
   "metadata": {},
   "outputs": [
    {
     "data": {
      "text/plain": [
       "0.8156424581005587"
      ]
     },
     "execution_count": 42,
     "metadata": {},
     "output_type": "execute_result"
    }
   ],
   "source": [
    "lr_clf = LogisticRegression()\n",
    "lr_clf.fit(X_train, y_train)\n",
    "pred = lr_clf.predict(X_test)\n",
    "accuracy_lr = accuracy_score(y_test,pred)\n",
    "accuracy_lr"
   ]
  },
  {
   "cell_type": "code",
   "execution_count": 45,
   "id": "8fe4b08f",
   "metadata": {},
   "outputs": [
    {
     "name": "stdout",
     "output_type": "stream",
     "text": [
      "<class 'numpy.ndarray'>\n"
     ]
    },
    {
     "data": {
      "text/plain": [
       "array([[0.46234182, 0.53765818],\n",
       "       [0.90938718, 0.09061282],\n",
       "       [0.88080712, 0.11919288]])"
      ]
     },
     "execution_count": 45,
     "metadata": {},
     "output_type": "execute_result"
    }
   ],
   "source": [
    "pred_proba = lr_clf.predict_proba(X_test)\n",
    "pred = lr_clf.predict(X_test)\n",
    "print(type(pred_proba[:3]))\n",
    "type(pred.reshape(-1,1))\n",
    "pred.reshape(-1,1)[:3]\n",
    "pred_proba[:3]"
   ]
  },
  {
   "cell_type": "code",
   "execution_count": 46,
   "id": "a65efba6",
   "metadata": {},
   "outputs": [
    {
     "data": {
      "text/plain": [
       "array([1, 0, 0], dtype=int64)"
      ]
     },
     "execution_count": 46,
     "metadata": {},
     "output_type": "execute_result"
    }
   ],
   "source": [
    "pred[:3]"
   ]
  },
  {
   "cell_type": "code",
   "execution_count": 48,
   "id": "0d7ce9e9",
   "metadata": {},
   "outputs": [
    {
     "name": "stdout",
     "output_type": "stream",
     "text": [
      "pred_proba 결과 Shape : (179, 2)\n",
      "pred_proba array에서 앞 3개만 샘플로 추출 : \n",
      "[[0.46234182 0.53765818]\n",
      " [0.90938718 0.09061282]\n",
      " [0.88080712 0.11919288]]\n",
      "pred에서 앞 3개만 샘플로 추출 \n",
      ": [1 0 0]\n",
      "pred.reshape(-1,1)에서 앞 3개만 샘플로 추출 : \n",
      "[[1]\n",
      " [0]\n",
      " [0]]\n"
     ]
    }
   ],
   "source": [
    "print(f\"pred_proba 결과 Shape : {pred_proba.shape}\")\n",
    "print(f\"pred_proba array에서 앞 3개만 샘플로 추출 : \\n{pred_proba[:3]}\")\n",
    "print(f\"pred에서 앞 3개만 샘플로 추출 \\n: {pred[:3]}\")\n",
    "print(f\"pred.reshape(-1,1)에서 앞 3개만 샘플로 추출 : \\n{pred.reshape(-1,1)[:3]}\")"
   ]
  },
  {
   "cell_type": "code",
   "execution_count": 52,
   "id": "fdae12bc",
   "metadata": {},
   "outputs": [
    {
     "name": "stdout",
     "output_type": "stream",
     "text": [
      "[[0. 0. 1.]\n",
      " [1. 0. 0.]\n",
      " [0. 0. 1.]]\n"
     ]
    }
   ],
   "source": [
    "X = [[1,-1,2],\n",
    "    [2,0,0],\n",
    "    [0, 1.1 ,1.2]]\n",
    "\n",
    "# threshold 기준값보다 같거나 작으면 0을, 크면 1을 반환\n",
    "binarizer = Binarizer(threshold = 1.1)\n",
    "print(binarizer.fit_transform(X))"
   ]
  },
  {
   "cell_type": "markdown",
   "id": "c73515c5",
   "metadata": {},
   "source": [
    "### 과제2_0517\n",
    "랜덤하게 2차원 배열을 생성한 후, 임계값을 0.5로 지정한 후 임계값보다 크면 1, 작으면 0으로 변환하시오."
   ]
  },
  {
   "cell_type": "code",
   "execution_count": 65,
   "id": "41bc18f8",
   "metadata": {},
   "outputs": [
    {
     "data": {
      "text/plain": [
       "array([[0., 0., 1.],\n",
       "       [1., 1., 0.]])"
      ]
     },
     "execution_count": 65,
     "metadata": {},
     "output_type": "execute_result"
    }
   ],
   "source": [
    "ar = np.random.random(6).reshape(2,3)\n",
    "\n",
    "binarizer = Binarizer(threshold = 0.5)\n",
    "binarizer.fit_transform(ar)"
   ]
  },
  {
   "cell_type": "code",
   "execution_count": 54,
   "id": "36cc7c5a",
   "metadata": {},
   "outputs": [
    {
     "name": "stdout",
     "output_type": "stream",
     "text": [
      "pred_proba : \n",
      " [[0.46234182 0.53765818]\n",
      " [0.90938718 0.09061282]\n",
      " [0.88080712 0.11919288]\n",
      " [0.80940217 0.19059783]\n",
      " [0.75077277 0.24922723]]\n",
      "생존확률 : \n",
      " [[0.53765818]\n",
      " [0.09061282]\n",
      " [0.11919288]\n",
      " [0.19059783]\n",
      " [0.24922723]]\n"
     ]
    },
    {
     "data": {
      "text/plain": [
       "array([[1.],\n",
       "       [0.],\n",
       "       [0.],\n",
       "       [0.],\n",
       "       [0.]])"
      ]
     },
     "execution_count": 54,
     "metadata": {},
     "output_type": "execute_result"
    }
   ],
   "source": [
    "custom_threshold = 0.5\n",
    "print(\"pred_proba : \\n\", pred_proba[0:5])\n",
    "\n",
    "pred_proba_1 = pred_proba[:,1].reshape(-1,1)\n",
    "print(\"생존확률 : \\n\", pred_proba_1[0:5])\n",
    "\n",
    "binarizer = Binarizer(threshold = custom_threshold).fit(pred_proba_1)\n",
    "custom_predict = binarizer.transform(pred_proba_1)\n",
    "custom_predict[0:5]"
   ]
  },
  {
   "cell_type": "code",
   "execution_count": 75,
   "id": "b00820e3",
   "metadata": {},
   "outputs": [],
   "source": [
    "mat = [[104, 14],[13,48]]\n",
    "acc = round((104+48)/(104+14+13+48),4)\n",
    "pre = round(48/(48+13),4)\n",
    "rec = round(48/(48+14),4)\n",
    "f1 = round(2*(pre*rec)/(pre+rec),4)"
   ]
  },
  {
   "cell_type": "code",
   "execution_count": 76,
   "id": "ac8ed5bd",
   "metadata": {},
   "outputs": [
    {
     "name": "stdout",
     "output_type": "stream",
     "text": [
      "0.8492\n",
      "0.7869\n",
      "0.7742\n",
      "0.7805\n"
     ]
    }
   ],
   "source": [
    "print(acc)\n",
    "print(pre)\n",
    "print(rec)\n",
    "print(f1)"
   ]
  },
  {
   "cell_type": "code",
   "execution_count": 102,
   "id": "fed6a0a1",
   "metadata": {},
   "outputs": [
    {
     "name": "stdout",
     "output_type": "stream",
     "text": [
      "오차 행렬\n",
      "[[114   4]\n",
      " [ 20  41]]\n",
      "정확도 : 0.8659, 정밀도 : 0.9111\n",
      "재현율 : 0.6721, f1 : 0.7736\n"
     ]
    }
   ],
   "source": [
    "custom_threshold = 0.6\n",
    "pred_proba_1 = pred_proba[:,1].reshape(-1,1)\n",
    "binarizer = Binarizer(threshold = custom_threshold).fit(pred_proba_1)\n",
    "custom_predict = binarizer.transform(pred_proba_1)\n",
    "\n",
    "get_clf_eval(y_test, custom_predict)"
   ]
  },
  {
   "cell_type": "code",
   "execution_count": 91,
   "id": "65b9f9b1",
   "metadata": {},
   "outputs": [
    {
     "name": "stdout",
     "output_type": "stream",
     "text": [
      "0.4\n",
      "오차 행렬\n",
      "[[90 28]\n",
      " [10 51]]\n",
      "정확도 : 0.7877, 정밀도 : 0.6456\n",
      "재현율 : 0.8361, f1 : 0.7286\n",
      "0.45\n",
      "오차 행렬\n",
      "[[95 23]\n",
      " [12 49]]\n",
      "정확도 : 0.8045, 정밀도 : 0.6806\n",
      "재현율 : 0.8033, f1 : 0.7368\n",
      "0.5\n",
      "오차 행렬\n",
      "[[101  17]\n",
      " [ 16  45]]\n",
      "정확도 : 0.8156, 정밀도 : 0.7258\n",
      "재현율 : 0.7377, f1 : 0.7317\n",
      "0.55\n",
      "오차 행렬\n",
      "[[109   9]\n",
      " [ 20  41]]\n",
      "정확도 : 0.838, 정밀도 : 0.82\n",
      "재현율 : 0.6721, f1 : 0.7387\n",
      "0.6\n",
      "오차 행렬\n",
      "[[114   4]\n",
      " [ 20  41]]\n",
      "정확도 : 0.8659, 정밀도 : 0.9111\n",
      "재현율 : 0.6721, f1 : 0.7736\n"
     ]
    }
   ],
   "source": [
    "thresholds = [0.4, 0.45, 0.5, 0.55, 0.6]\n",
    "\n",
    "for i in thresholds:\n",
    "    pred_proba_1 = pred_proba[:,1].reshape(-1,1)\n",
    "    binarizer = Binarizer(threshold = i).fit(pred_proba_1)\n",
    "    custom_predict = binarizer.transform(pred_proba_1)\n",
    "    print(i)\n",
    "\n",
    "    get_clf_eval(y_test, custom_predict)"
   ]
  },
  {
   "cell_type": "code",
   "execution_count": 104,
   "id": "da8d9c77",
   "metadata": {},
   "outputs": [
    {
     "name": "stdout",
     "output_type": "stream",
     "text": [
      "(78,)\n",
      "[ 0 15 30 45 60 75]\n"
     ]
    },
    {
     "data": {
      "text/plain": [
       "array([0.09, 0.19, 0.39, 0.54, 0.74, 0.91])"
      ]
     },
     "execution_count": 104,
     "metadata": {},
     "output_type": "execute_result"
    }
   ],
   "source": [
    "pred_proba_class1 = lr_clf.predict_proba(X_test)[:,1]\n",
    "\n",
    "precision, recalls, thresholds = precision_recall_curve(y_test, pred_proba_class1)\n",
    "type(thresholds)\n",
    "print(thresholds.shape)\n",
    "pd.Series(thresholds).value_counts\n",
    "thr_index = np.arange(0, thresholds.shape[0], 15)\n",
    "print(thr_index)\n",
    "np.round(thresholds[thr_index],2)"
   ]
  },
  {
   "cell_type": "code",
   "execution_count": 106,
   "id": "3b27b660",
   "metadata": {},
   "outputs": [
    {
     "name": "stdout",
     "output_type": "stream",
     "text": [
      "[0.53765818 0.09061282 0.11919288 0.19059783 0.24922723 0.2052387\n",
      " 0.11919288 0.67652499 0.19642063 0.71851177]\n",
      "반환된 분류 결정 임곗값 배열의 Shape :  (78,)\n",
      "정밀도 :  [0.35882353 0.35928144 0.36363636 0.37735849 0.38461538]\n",
      "재현율 :  [1.         0.98360656 0.98360656 0.98360656 0.98360656]\n",
      "임곗값 :  [0.09061282 0.0929024  0.09775117 0.10020125 0.1025873 ]\n",
      "<bound method IndexOpsMixin.value_counts of 0     0.090613\n",
      "1     0.092902\n",
      "2     0.097751\n",
      "3     0.100201\n",
      "4     0.102587\n",
      "        ...   \n",
      "73    0.907139\n",
      "74    0.913059\n",
      "75    0.914130\n",
      "76    0.921032\n",
      "77    0.928331\n",
      "Length: 78, dtype: float64>\n",
      "[ 0 15 30 45 60 75]\n",
      "[0.09 0.19 0.39 0.54 0.74 0.91]\n"
     ]
    }
   ],
   "source": [
    "print(pred_proba_class1[0:10])\n",
    "\n",
    "precisions , recalls, thresholds = precision_recall_curve(y_test, pred_proba_class1)\n",
    "\n",
    "print(\"반환된 분류 결정 임곗값 배열의 Shape : \", thresholds.shape)\n",
    "print(\"정밀도 : \", precisions[0:5])\n",
    "print(\"재현율 : \", recalls[0:5])\n",
    "print(\"임곗값 : \", thresholds[0:5])\n",
    "print(pd.Series(thresholds).value_counts)\n",
    "\n",
    "thr_index = np.arange(0, thresholds.shape[0], 15)\n",
    "print(thr_index)\n",
    "print(np.round(thresholds[thr_index],2))"
   ]
  },
  {
   "cell_type": "code",
   "execution_count": 125,
   "id": "d7af4e2d",
   "metadata": {},
   "outputs": [
    {
     "data": {
      "image/png": "[encoded data removed]",
      "text/plain": [
       "<Figure size 800x600 with 1 Axes>"
      ]
     },
     "metadata": {},
     "output_type": "display_data"
    }
   ],
   "source": [
    "def precision_recall_curve_plot(y_test , pred_proba_c1):\n",
    "    # threshold ndarray와 이 threshold에 따른 정밀도, 재현율 ndarray 추출. \n",
    "    precisions, recalls, thresholds = precision_recall_curve( y_test, pred_proba_c1)\n",
    "#     print(list(thresholds))\n",
    "    # X축을 threshold값으로, Y축은 정밀도, 재현율 값으로 각각 Plot 수행. 정밀도는 점선으로 표시\n",
    "    plt.figure(figsize=(8,6))\n",
    "    threshold_boundary = thresholds.shape[0]\n",
    "#     print(threshold_boundary)\n",
    "    plt.plot(thresholds, precisions[0:threshold_boundary], linestyle='--', label='precision')\n",
    "    plt.plot(thresholds, recalls[0:threshold_boundary],label='recall')\n",
    "    \n",
    "    # threshold 값 X 축의 Scale을 0.1 단위로 변경\n",
    "    start, end = plt.xlim()\n",
    "    plt.xticks(np.round(np.arange(start, end, 0.1),2))\n",
    "    \n",
    "    # x축, y축 label과 legend, 그리고 grid 설정\n",
    "    plt.xlabel('Threshold value'); plt.ylabel('Precision and Recall value')\n",
    "    plt.legend(); plt.grid()\n",
    "    plt.show()\n",
    "    \n",
    "precision_recall_curve_plot( y_test, lr_clf.predict_proba(X_test)[:, 1] )"
   ]
  },
  {
   "cell_type": "markdown",
   "id": "9f483942",
   "metadata": {},
   "source": [
    "### ROC 곡선과 AUC\n",
    "- 수신자 판단 곡선이라고 하며 ML의 이진 분류 모델의 예측 성능을 판단하는 중요한 평가 지표\n",
    "- FPR이 변할 때 TPR이 어떻게 변하는지를 나타내는 곡선으로 FPR은 1_특이성(TNR), TPR은 재현율(민감도)를 나타냄\n",
    "- TNR은 TN/(TN+FP)이며, FPR은 FP/(TN_FP)임\n",
    "- ROC 곡선은 FPR을 0부터 1까지 변경하면서 FPR을 구하고 이 FPR값이 변화에 따른 TPR의 변화 값을 구함\n",
    "- FPR을 0에서 1까지 변경하는 것은 Positive 예측값을 결정하는 기준인 분류 결정 임곗값을 변경하면 됨\n",
    "- FPR을 0으로 만드려면 임곗값을 1로 지정하고 반대로 FPR을 1로 만드려면 임곗값을 0으로 지정하면 됨."
   ]
  },
  {
   "cell_type": "markdown",
   "id": "c32cecca",
   "metadata": {},
   "source": [
    "ROC 곡선(Receiver Operating Characteristic curve), AUC\n",
    "- 분류 모델의 성능을 시각화하는 데 사용되는 그래프입니다.\n",
    "- 이 그래프는 분류 모델의 임계값(threshold)을 변화시키면서, True Positive Rate(TPR)에 대한 FPR의 변화를 나타냅니다.\n",
    "- FPR은 \"False Positive Rate\"의 약자로, 거짓 양성 비율을 나타내는 지표입니다. \n",
    "    - TPR = TP / (TP + FN)\n",
    "    - FPR = FP / (FP + TN) = 1 - 특이도(TN/(FP + TN))\n",
    "- FPR은 0부터 1까지의 값을 가지며, 분류 모델의 임계값에 따라 변화합니다. \n",
    "- 임계값이 낮을수록 모델은 더 많은 샘플을 양성으로 분류하며, 이로 인해 FPR은 증가합니다. \n",
    "- 임계값이 높을수록 모델은 더 많은 샘플을 음성으로 분류하며, FPR은 감소합니다.\n",
    "- ROC 곡선은 FPR을 x축에, TPR(민감도, True Positive Rate)를 y축에 나타냅니다. 따라서 ROC 곡선은 임계값 변화에 따른 모델의 TPR과 FPR의 관계를 보여줍니다. \n",
    "- 좋은 분류 모델은 FPR이 낮은 상태에서 높은 TPR을 유지하는 곡선이 되어야 합니다. \n",
    "- ROC 곡선의 아래쪽 면적인 AUC(Area Under the Curve)는 분류 모델의 성능을 종합적으로 평가하는 지표로 사용됩니다. \n",
    "- AUC가 1에 가까울수록 모델의 성능이 우수하다고 판단할 수 있습니다."
   ]
  },
  {
   "cell_type": "markdown",
   "id": "1f37c29e",
   "metadata": {},
   "source": [
    "### 과제 3_1517\n",
    "타이타닉 데이터셋으로 모델링 한 후 ROC, AUC를 포함한 모든 분류 평가지표를 사용하여 평가를 수행하고 ROC AUC를 시각화하시오."
   ]
  },
  {
   "cell_type": "code",
   "execution_count": null,
   "id": "12f07a94",
   "metadata": {},
   "outputs": [],
   "source": []
  }
 ],
 "metadata": {
  "kernelspec": {
   "display_name": "Python 3 (ipykernel)",
   "language": "python",
   "name": "python3"
  },
  "language_info": {
   "codemirror_mode": {
    "name": "ipython",
    "version": 3
   },
   "file_extension": ".py",
   "mimetype": "text/x-python",
   "name": "python",
   "nbconvert_exporter": "python",
   "pygments_lexer": "ipython3",
   "version": "3.9.13"
  }
 },
 "nbformat": 4,
 "nbformat_minor": 5
}
