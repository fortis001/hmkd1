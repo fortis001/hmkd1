{
 "cells": [
  {
   "cell_type": "code",
   "execution_count": 1,
   "id": "9a03b1b1",
   "metadata": {},
   "outputs": [],
   "source": [
    "from sklearn.preprocessing import PolynomialFeatures\n",
    "import numpy as np\n",
    "import pandas as pd\n",
    "import matplotlib.pyplot as plt\n",
    "import seaborn as sns\n",
    "from sklearn.linear_model import Ridge\n",
    "from sklearn.datasets import load_boston\n",
    "\n",
    "\n",
    "\n",
    "import warnings\n",
    "warnings.filterwarnings(\"ignore\")"
   ]
  },
  {
   "cell_type": "code",
   "execution_count": 2,
   "id": "6ca110cd",
   "metadata": {},
   "outputs": [
    {
     "name": "stdout",
     "output_type": "stream",
     "text": [
      "일차 단항식 계수 feature : \n",
      " [[0 1]\n",
      " [2 3]]\n",
      "변환된 2차 다항식 계수 feature : \n",
      " [[1. 0. 1. 0. 0. 1.]\n",
      " [1. 2. 3. 4. 6. 9.]]\n"
     ]
    }
   ],
   "source": [
    "X = np.arange(4).reshape(2,2)\n",
    "print(\"일차 단항식 계수 feature : \\n\", X)\n",
    "\n",
    "poly = PolynomialFeatures(degree = 2)\n",
    "poly.fit(X)\n",
    "poly_ftr = poly.transform(X)\n",
    "print(\"변환된 2차 다항식 계수 feature : \\n\", poly_ftr)"
   ]
  },
  {
   "cell_type": "markdown",
   "id": "c5cbe780",
   "metadata": {},
   "source": [
    "3차 다항식 결정값을 구하는 함수 polynomial_func(X) 생성, 즉 회귀식은 결정값 y = 1+2x_1 + 3x_1^2 + 4x_2^3"
   ]
  },
  {
   "cell_type": "code",
   "execution_count": 3,
   "id": "051f3046",
   "metadata": {},
   "outputs": [
    {
     "name": "stdout",
     "output_type": "stream",
     "text": [
      "일차 단항식 계수 feature : \n",
      " [[0 1]\n",
      " [2 3]] \n",
      "\n",
      "[0 2]\n",
      "[1 3]\n",
      "일차 다항식 결정값 : \n",
      " [  5 125]\n"
     ]
    }
   ],
   "source": [
    "def polynomial_func(X):\n",
    "    y = 1 + 2*X[:,0] + 3*X[:,0]**2 + 4*X[:,1]**3\n",
    "    print(X[:,0])\n",
    "    print(X[:,1])\n",
    "    return y\n",
    "\n",
    "X = np.arange(0,4).reshape(2,2)\n",
    "\n",
    "print(\"일차 단항식 계수 feature : \\n\", X, \"\\n\")\n",
    "y = polynomial_func(X)\n",
    "print(\"일차 다항식 결정값 : \\n\", y)"
   ]
  },
  {
   "cell_type": "markdown",
   "id": "f37d5bb7",
   "metadata": {},
   "source": [
    "3차 다항식 계수의 피쳐값과 3차 다항식 결정값으로 학습"
   ]
  },
  {
   "cell_type": "code",
   "execution_count": 4,
   "id": "3b0e1f0a",
   "metadata": {},
   "outputs": [
    {
     "name": "stdout",
     "output_type": "stream",
     "text": [
      "3차 다항식 계수 feature : \n",
      " [[ 1.  0.  1.  0.  0.  1.  0.  0.  0.  1.]\n",
      " [ 1.  2.  3.  4.  6.  9.  8. 12. 18. 27.]]\n",
      "Polynomial 회귀 계수 :\n",
      " [0.   0.18 0.18 0.36 0.54 0.72 0.72 1.08 1.62 2.34]\n",
      "Polynomial 회귀 Shape :  (10,)\n"
     ]
    }
   ],
   "source": [
    "from sklearn.linear_model import LinearRegression\n",
    "poly_ftr = PolynomialFeatures(degree = 3).fit_transform(X)\n",
    "print(\"3차 다항식 계수 feature : \\n\", poly_ftr)\n",
    "\n",
    "model = LinearRegression()\n",
    "model.fit(poly_ftr, y)\n",
    "print(\"Polynomial 회귀 계수 :\\n\" ,np.round(model.coef_ , 2))\n",
    "print(\"Polynomial 회귀 Shape : \", model.coef_.shape)"
   ]
  },
  {
   "cell_type": "code",
   "execution_count": 5,
   "id": "7b4f7685",
   "metadata": {},
   "outputs": [
    {
     "name": "stdout",
     "output_type": "stream",
     "text": [
      "Polynomial 회귀 계수 \n",
      " [0.   0.18 0.18 0.36 0.54 0.72 0.72 1.08 1.62 2.34]\n"
     ]
    }
   ],
   "source": [
    "from sklearn.pipeline import Pipeline\n",
    "\n",
    "def polynomial_func(X):\n",
    "    y = 1 + 2*X[:,0] + 3*X[:,0]**2 + 4*X[:,1]**3\n",
    "    return y\n",
    "\n",
    "model = Pipeline([(\"poly\", PolynomialFeatures(degree = 3)),\n",
    "                 (\"linear\", LinearRegression())])\n",
    "\n",
    "X = np.arange(4).reshape(2,2)\n",
    "y = polynomial_func(X)\n",
    "\n",
    "model = model.fit(X, y)\n",
    "print(\"Polynomial 회귀 계수 \\n\", np.round(model.named_steps[\"linear\"].coef_, 2))"
   ]
  },
  {
   "cell_type": "markdown",
   "id": "f11b8545",
   "metadata": {},
   "source": [
    "### 과제 1_0531\n",
    "다항 회귀를 이용한 과소적합, 과대적합 비교 및 인사이트 도출을 위한 사례(교재 Page 332 ~ 336)을 코드로 구현하고 시사점을 요약해서 설명하시오."
   ]
  },
  {
   "cell_type": "code",
   "execution_count": 6,
   "id": "4d3c9bc4",
   "metadata": {},
   "outputs": [],
   "source": [
    "def true_fun(X):\n",
    "    return np.cos(1.5 * np.pi * X)\n",
    "\n",
    "np.random.seed(0)\n",
    "n_samples = 30\n",
    "X = np.sort(np.random.rand(n_samples))\n",
    "\n",
    "y = true_fun(X) + np.random.randn(n_samples) * 0.1"
   ]
  },
  {
   "cell_type": "code",
   "execution_count": 7,
   "id": "abdedf25",
   "metadata": {},
   "outputs": [
    {
     "name": "stdout",
     "output_type": "stream",
     "text": [
      "Degree 1 회귀 계수는 [-1.61] 입니다.\n",
      "Degree 1 MSE는 0.40772896250986834 입니다.\n",
      "Degree 4 회귀 계수는 [  0.47 -17.79  23.59  -7.26] 입니다.\n",
      "Degree 4 MSE는 0.04320874987231747 입니다.\n",
      "Degree 15 회귀 계수는 [-2.98295000e+03  1.03899930e+05 -1.87417069e+06  2.03717225e+07\n",
      " -1.44873988e+08  7.09318780e+08 -2.47066977e+09  6.24564048e+09\n",
      " -1.15677067e+10  1.56895696e+10 -1.54006776e+10  1.06457788e+10\n",
      " -4.91379977e+09  1.35920330e+09 -1.70381654e+08] 입니다.\n",
      "Degree 15 MSE는 182815433.47648773 입니다.\n"
     ]
    },
    {
     "data": {
      "image/png": "[encoded data removed]",
      "text/plain": [
       "<Figure size 1400x500 with 3 Axes>"
      ]
     },
     "metadata": {},
     "output_type": "display_data"
    }
   ],
   "source": [
    "from sklearn.model_selection import cross_val_score\n",
    "\n",
    "plt.figure(figsize = (14,5))\n",
    "degrees = [1, 4, 15]\n",
    "\n",
    "for i in range(len(degrees)):\n",
    "    ax = plt.subplot(1, len(degrees), i + 1)\n",
    "    plt.setp(ax, xticks = (), yticks = ())\n",
    "    \n",
    "    polynomial_features = PolynomialFeatures(degree = degrees[i], include_bias = False)\n",
    "    linear_regression = LinearRegression()\n",
    "    pipeline = Pipeline([(\"polynomial_features\", polynomial_features),\n",
    "                        (\"linear_regression\", linear_regression)])\n",
    "    \n",
    "    pipeline.fit(X.reshape(-1,1), y)\n",
    "    \n",
    "    \n",
    "    scores = cross_val_score(pipeline, X.reshape(-1, 1), y, scoring = \"neg_mean_squared_error\", cv = 10)\n",
    "    \n",
    "    coefficients = pipeline.named_steps[\"linear_regression\"].coef_\n",
    "    print(f\"Degree {degrees[i]} 회귀 계수는 {np.round(coefficients,2)} 입니다.\")\n",
    "    print(f\"Degree {degrees[i]} MSE는 {-1*np.mean(scores)} 입니다.\")\n",
    "    \n",
    "    X_test = np.linspace(0, 1, 100)\n",
    "    plt.plot(X_test, pipeline.predict(X_test[:, np.newaxis]), label = \"Model\")\n",
    "    \n",
    "    plt.plot(X_test, true_fun(X_test), '--', label = \"True function\")\n",
    "    plt.scatter(X, y, edgecolor = 'b', s = 20, label = \"Samples\")\n",
    "    \n",
    "    plt.xlabel(\"x\")\n",
    "    plt.ylabel(\"y\")\n",
    "    plt.xlim((0,1))\n",
    "    plt.ylim((-2,2))\n",
    "    plt.legend(loc = \"best\")\n",
    "    plt.title(\"Degree {}\\nMSE = {:.2e}(+/- {:.2e})\".format(degrees[i], -scores.mean(),scores.std()))"
   ]
  },
  {
   "cell_type": "markdown",
   "id": "7a3052d8",
   "metadata": {},
   "source": [
    "### Regularized Linear Model \n",
    "\n",
    "1. Lasso (Least Absolute Shrinkage and Selection Operator) Regression:\n",
    "\n",
    "Lasso 회귀는 선형 회귀의 한 형태로, 특징 선택과 정규화를 함께 수행하여 최종 모델의 예측 성능을 향상시킵니다. Lasso는 목적 함수에 L1 패널티를 추가하여 일부 특징의 계수를 완전히 0으로 만듭니다. 이렇게 하면 덜 중요한 특징이 모델에서 제외되므로 특징 선택이 이루어집니다. 이 점은 고차원 데이터에서 유용합니다.\n",
    "\n",
    "2. Ridge Regression:\n",
    "\n",
    "Ridge 회귀도 선형 회귀의 한 형태로, L2 정규화를 사용합니다. L2 패널티는 모든 계수의 제곱을 합한 값을 목적 함수에 더하는 것을 의미합니다. 이로 인해 계수가 0이 되지는 않지만, 모델의 복잡성을 줄이고 다중공선성 문제를 완화하여 모델의 일반화 성능을 향상시킵니다.\n",
    "\n",
    "3. Elastic Net Regression:\n",
    "\n",
    "Elastic Net 회귀는 Lasso와 Ridge 회귀의 조합입니다. L1과 L2 패널티를 모두 사용하여 특징 선택의 이점과 복잡성 제어를 동시에 수행합니다. Elastic Net은 Lasso와 Ridge의 특징을 모두 가지므로, 적은 수의 특징이 관련성이 높을 때(Lasso)와 많은 수의 특징이 관련성이 높을 때(Ridge) 모두 좋은 성능을 보입니다.\n",
    "\n",
    "이 세 가지 회귀 방법 모두 머신러닝 모델이 훈련 데이터에 과적합되는 것을 방지하는 데 도움이 됩니다. 이는 모델이 새로운, 이전에 보지 못한 데이터에 대해 더 잘 일반화하도록 돕습니다. 이들 방법은 사이킷런의 linear_model 모듈에 Lasso, Ridge, ElasticNet 클래스로 구현되어 있습니다."
   ]
  },
  {
   "cell_type": "code",
   "execution_count": 13,
   "id": "2d6820a3",
   "metadata": {},
   "outputs": [
    {
     "name": "stdout",
     "output_type": "stream",
     "text": [
      " 5 folds 의 개별 Negative Mse scores :  [-11.422 -24.294 -28.144 -74.599 -28.517]\n",
      " 5 folds 의 개별 RMSE scores :  [3.38  4.929 5.305 8.637 5.34 ]\n",
      " 5 folds 의 평균 RMSE :  5.518\n"
     ]
    }
   ],
   "source": [
    "boston = load_boston()\n",
    "\n",
    "bostonDF = pd.DataFrame(boston.data, columns = boston.feature_names)\n",
    "\n",
    "bostonDF[\"PRICE\"] = boston.target\n",
    "\n",
    "y_target = bostonDF[\"PRICE\"]\n",
    "x_data = bostonDF.drop([\"PRICE\"], axis = 1, inplace = False)\n",
    "\n",
    "ridge = Ridge(alpha = 10)\n",
    "neg_mse_scores = cross_val_score(ridge, x_data, y_target, scoring = \"neg_mean_squared_error\", cv = 5)\n",
    "rmse_scores = np.sqrt(-1 * neg_mse_scores)\n",
    "avg_rmse = np.mean(rmse_scores)\n",
    "\n",
    "print(\" 5 folds 의 개별 Negative Mse scores : \", np.round(neg_mse_scores, 3))\n",
    "print(\" 5 folds 의 개별 RMSE scores : \", np.round(rmse_scores,3))\n",
    "print(\" 5 folds 의 평균 RMSE : \", round(avg_rmse,3))"
   ]
  },
  {
   "cell_type": "markdown",
   "id": "214f42e1",
   "metadata": {},
   "source": [
    "#### alpha 값을 0, 0.1, 1, 10, 100으로 변경하면서 RMSE 측정"
   ]
  },
  {
   "cell_type": "code",
   "execution_count": 15,
   "id": "c76f1628",
   "metadata": {},
   "outputs": [
    {
     "name": "stdout",
     "output_type": "stream",
     "text": [
      "alpha :  0\n",
      " 5 folds 의 개별 Negative Mse scores :  [-12.46  -26.049 -33.074 -80.762 -33.314]\n",
      " 5 folds 의 개별 RMSE scores :  [3.53  5.104 5.751 8.987 5.772]\n",
      " 5 folds 의 평균 RMSE :  5.829\n",
      "alpha :  0.1\n",
      " 5 folds 의 개별 Negative Mse scores :  [-12.32  -25.198 -32.435 -80.703 -32.88 ]\n",
      " 5 folds 의 개별 RMSE scores :  [3.51  5.02  5.695 8.983 5.734]\n",
      " 5 folds 의 평균 RMSE :  5.788\n",
      "alpha :  1\n",
      " 5 folds 의 개별 Negative Mse scores :  [-11.711 -23.583 -29.693 -80.23  -31.116]\n",
      " 5 folds 의 개별 RMSE scores :  [3.422 4.856 5.449 8.957 5.578]\n",
      " 5 folds 의 평균 RMSE :  5.653\n",
      "alpha :  10\n",
      " 5 folds 의 개별 Negative Mse scores :  [-11.422 -24.294 -28.144 -74.599 -28.517]\n",
      " 5 folds 의 개별 RMSE scores :  [3.38  4.929 5.305 8.637 5.34 ]\n",
      " 5 folds 의 평균 RMSE :  5.518\n",
      "alpha :  100\n",
      " 5 folds 의 개별 Negative Mse scores :  [-12.825 -27.279 -34.68  -52.694 -22.051]\n",
      " 5 folds 의 개별 RMSE scores :  [3.581 5.223 5.889 7.259 4.696]\n",
      " 5 folds 의 평균 RMSE :  5.33\n"
     ]
    }
   ],
   "source": [
    "for i in [0, 0.1, 1, 10, 100]:\n",
    "    ridge = Ridge(alpha = i)\n",
    "    neg_mse_scores = cross_val_score(ridge, x_data, y_target, scoring = \"neg_mean_squared_error\", cv = 5)\n",
    "    rmse_scores = np.sqrt(-1 * neg_mse_scores)\n",
    "    avg_rmse = np.mean(rmse_scores)\n",
    "    print(\"alpha : \", i)\n",
    "    print(\" 5 folds 의 개별 Negative Mse scores : \", np.round(neg_mse_scores, 3))\n",
    "    print(\" 5 folds 의 개별 RMSE scores : \", np.round(rmse_scores,3))\n",
    "    print(\" 5 folds 의 평균 RMSE : \", round(avg_rmse,3))"
   ]
  },
  {
   "cell_type": "markdown",
   "id": "6c6c37fc",
   "metadata": {},
   "source": [
    "#### 각 alpha 값에 따른 회귀 계수 값을 시각화, 각 alpha값 별로 plt.subplots로 맷플롯립 축 생성"
   ]
  },
  {
   "cell_type": "code",
   "execution_count": 17,
   "id": "5ecedb50",
   "metadata": {},
   "outputs": [
    {
     "data": {
      "image/png": "[encoded data removed]",
      "text/plain": [
       "<Figure size 1800x600 with 5 Axes>"
      ]
     },
     "metadata": {},
     "output_type": "display_data"
    }
   ],
   "source": [
    "fig, axs = plt.subplots(figsize = (18, 6), nrows = 1, ncols = 5)\n",
    "\n",
    "coeff_df = pd.DataFrame()\n",
    "\n",
    "for pos, alpha in enumerate([0, 0.1, 1, 10, 100]) :\n",
    "    ridge = Ridge(alpha = alpha)\n",
    "    ridge.fit(x_data, y_target)\n",
    "    coeff = pd.Series(data = ridge.coef_, index = x_data.columns)\n",
    "    colname = \"alpha : \"+ str(alpha)\n",
    "    coeff_df[colname] = coeff\n",
    "    \n",
    "    coeff = coeff.sort_values(ascending = False)\n",
    "    axs[pos].set_title(colname)\n",
    "    axs[pos].set_xlim(-3, 6)\n",
    "    sns.barplot(x = coeff.values, y = coeff.index, ax = axs[pos])"
   ]
  },
  {
   "cell_type": "code",
   "execution_count": 19,
   "id": "c58521a3",
   "metadata": {},
   "outputs": [
    {
     "data": {
      "text/html": [
       "<div>\n",
       "<style scoped>\n",
       "    .dataframe tbody tr th:only-of-type {\n",
       "        vertical-align: middle;\n",
       "    }\n",
       "\n",
       "    .dataframe tbody tr th {\n",
       "        vertical-align: top;\n",
       "    }\n",
       "\n",
       "    .dataframe thead th {\n",
       "        text-align: right;\n",
       "    }\n",
       "</style>\n",
       "<table border=\"1\" class=\"dataframe\">\n",
       "  <thead>\n",
       "    <tr style=\"text-align: right;\">\n",
       "      <th></th>\n",
       "      <th>alpha : 0</th>\n",
       "      <th>alpha : 0.1</th>\n",
       "      <th>alpha : 1</th>\n",
       "      <th>alpha : 10</th>\n",
       "      <th>alpha : 100</th>\n",
       "    </tr>\n",
       "  </thead>\n",
       "  <tbody>\n",
       "    <tr>\n",
       "      <th>RM</th>\n",
       "      <td>3.809865</td>\n",
       "      <td>3.818233</td>\n",
       "      <td>3.854000</td>\n",
       "      <td>3.702272</td>\n",
       "      <td>2.334536</td>\n",
       "    </tr>\n",
       "    <tr>\n",
       "      <th>CHAS</th>\n",
       "      <td>2.686734</td>\n",
       "      <td>2.670019</td>\n",
       "      <td>2.552393</td>\n",
       "      <td>1.952021</td>\n",
       "      <td>0.638335</td>\n",
       "    </tr>\n",
       "    <tr>\n",
       "      <th>RAD</th>\n",
       "      <td>0.306049</td>\n",
       "      <td>0.303515</td>\n",
       "      <td>0.290142</td>\n",
       "      <td>0.279596</td>\n",
       "      <td>0.315358</td>\n",
       "    </tr>\n",
       "    <tr>\n",
       "      <th>ZN</th>\n",
       "      <td>0.046420</td>\n",
       "      <td>0.046572</td>\n",
       "      <td>0.047443</td>\n",
       "      <td>0.049579</td>\n",
       "      <td>0.054496</td>\n",
       "    </tr>\n",
       "    <tr>\n",
       "      <th>INDUS</th>\n",
       "      <td>0.020559</td>\n",
       "      <td>0.015999</td>\n",
       "      <td>-0.008805</td>\n",
       "      <td>-0.042962</td>\n",
       "      <td>-0.052826</td>\n",
       "    </tr>\n",
       "    <tr>\n",
       "      <th>B</th>\n",
       "      <td>0.009312</td>\n",
       "      <td>0.009368</td>\n",
       "      <td>0.009673</td>\n",
       "      <td>0.010037</td>\n",
       "      <td>0.009393</td>\n",
       "    </tr>\n",
       "    <tr>\n",
       "      <th>AGE</th>\n",
       "      <td>0.000692</td>\n",
       "      <td>-0.000269</td>\n",
       "      <td>-0.005415</td>\n",
       "      <td>-0.010707</td>\n",
       "      <td>0.001212</td>\n",
       "    </tr>\n",
       "    <tr>\n",
       "      <th>TAX</th>\n",
       "      <td>-0.012335</td>\n",
       "      <td>-0.012421</td>\n",
       "      <td>-0.012912</td>\n",
       "      <td>-0.013993</td>\n",
       "      <td>-0.015856</td>\n",
       "    </tr>\n",
       "    <tr>\n",
       "      <th>CRIM</th>\n",
       "      <td>-0.108011</td>\n",
       "      <td>-0.107474</td>\n",
       "      <td>-0.104595</td>\n",
       "      <td>-0.101435</td>\n",
       "      <td>-0.102202</td>\n",
       "    </tr>\n",
       "    <tr>\n",
       "      <th>LSTAT</th>\n",
       "      <td>-0.524758</td>\n",
       "      <td>-0.525966</td>\n",
       "      <td>-0.533343</td>\n",
       "      <td>-0.559366</td>\n",
       "      <td>-0.660764</td>\n",
       "    </tr>\n",
       "    <tr>\n",
       "      <th>PTRATIO</th>\n",
       "      <td>-0.952747</td>\n",
       "      <td>-0.940759</td>\n",
       "      <td>-0.876074</td>\n",
       "      <td>-0.797945</td>\n",
       "      <td>-0.829218</td>\n",
       "    </tr>\n",
       "    <tr>\n",
       "      <th>DIS</th>\n",
       "      <td>-1.475567</td>\n",
       "      <td>-1.459626</td>\n",
       "      <td>-1.372654</td>\n",
       "      <td>-1.248808</td>\n",
       "      <td>-1.153390</td>\n",
       "    </tr>\n",
       "    <tr>\n",
       "      <th>NOX</th>\n",
       "      <td>-17.766611</td>\n",
       "      <td>-16.684645</td>\n",
       "      <td>-10.777015</td>\n",
       "      <td>-2.371619</td>\n",
       "      <td>-0.262847</td>\n",
       "    </tr>\n",
       "  </tbody>\n",
       "</table>\n",
       "</div>"
      ],
      "text/plain": [
       "         alpha : 0  alpha : 0.1  alpha : 1  alpha : 10  alpha : 100\n",
       "RM        3.809865     3.818233   3.854000    3.702272     2.334536\n",
       "CHAS      2.686734     2.670019   2.552393    1.952021     0.638335\n",
       "RAD       0.306049     0.303515   0.290142    0.279596     0.315358\n",
       "ZN        0.046420     0.046572   0.047443    0.049579     0.054496\n",
       "INDUS     0.020559     0.015999  -0.008805   -0.042962    -0.052826\n",
       "B         0.009312     0.009368   0.009673    0.010037     0.009393\n",
       "AGE       0.000692    -0.000269  -0.005415   -0.010707     0.001212\n",
       "TAX      -0.012335    -0.012421  -0.012912   -0.013993    -0.015856\n",
       "CRIM     -0.108011    -0.107474  -0.104595   -0.101435    -0.102202\n",
       "LSTAT    -0.524758    -0.525966  -0.533343   -0.559366    -0.660764\n",
       "PTRATIO  -0.952747    -0.940759  -0.876074   -0.797945    -0.829218\n",
       "DIS      -1.475567    -1.459626  -1.372654   -1.248808    -1.153390\n",
       "NOX     -17.766611   -16.684645 -10.777015   -2.371619    -0.262847"
      ]
     },
     "execution_count": 19,
     "metadata": {},
     "output_type": "execute_result"
    }
   ],
   "source": [
    "ridge_alphas = [0, 0.1, 1, 10, 100]\n",
    "sort_column = \"alpha : \" + str(ridge_alphas[0])\n",
    "coeff_df.sort_values(by = sort_column, ascending = False)"
   ]
  },
  {
   "cell_type": "code",
   "execution_count": 20,
   "id": "d12b6293",
   "metadata": {},
   "outputs": [],
   "source": [
    "from sklearn.linear_model import Lasso, ElasticNet\n",
    "\n",
    "def get_linear_reg_eval(model_name, params = None, X_data_n = None, y_target_n = None, verbose = True, return_coeff = True):\n",
    "    coeff_df = pd.DataFrame()\n",
    "    if verbose : print(\"#######\", model_name, \"#######\")\n",
    "    for param in params:\n",
    "        if model_name == \"Ridge\" : model = Ridge(alpha = param)\n",
    "        elif model_name == \"Lasso\" : model = Lasso(alpha = param)\n",
    "        elif model_name == \"ElasticNet\" : model = ElasticNet(alpha = param, l1_ratio = 0.7)\n",
    "        neg_mse_scores = cross_val_score(model, X_data_n, y_target_n, scoring = \"neg_mean_squared_error\", cv = 5)\n",
    "        avg_rmse = np.mean(np.sqrt(-1 * neg_mse_scores))\n",
    "        \n",
    "        print(f\"alpha {param}일 때 5폴드 세트의 평균 RMSE : {avg_rmse:.3f}\")\n",
    "        \n",
    "        model.fit(X_data_n, y_target_n)\n",
    "        if return_coeff:\n",
    "            coeff = pd.Series(data = model.coef_, index = X_data_n.columns)\n",
    "            colname = \"alpha : \" + str(param)\n",
    "            coeff_df[colname] = coeff\n",
    "    return coeff_df"
   ]
  },
  {
   "cell_type": "code",
   "execution_count": 25,
   "id": "8b2bbd4b",
   "metadata": {},
   "outputs": [
    {
     "name": "stdout",
     "output_type": "stream",
     "text": [
      "#######  Lasso #######\n",
      "alpha 0.07일 때 5폴드 세트의 평균 RMSE : 5.612\n",
      "alpha 0.1일 때 5폴드 세트의 평균 RMSE : 5.615\n",
      "alpha 0.5일 때 5폴드 세트의 평균 RMSE : 5.669\n",
      "alpha 1일 때 5폴드 세트의 평균 RMSE : 5.776\n",
      "alpha 3일 때 5폴드 세트의 평균 RMSE : 6.189\n"
     ]
    }
   ],
   "source": [
    "lasso_alphas = [0.07, 0.1, 0.5, 1, 3]\n",
    "coeff_lasso_df = get_linear_reg_eval(\"Lasso\", params = lasso_alphas, X_data_n = x_data, y_target_n = y_target)"
   ]
  },
  {
   "cell_type": "code",
   "execution_count": 24,
   "id": "4c669ac9",
   "metadata": {},
   "outputs": [
    {
     "data": {
      "text/html": [
       "<div>\n",
       "<style scoped>\n",
       "    .dataframe tbody tr th:only-of-type {\n",
       "        vertical-align: middle;\n",
       "    }\n",
       "\n",
       "    .dataframe tbody tr th {\n",
       "        vertical-align: top;\n",
       "    }\n",
       "\n",
       "    .dataframe thead th {\n",
       "        text-align: right;\n",
       "    }\n",
       "</style>\n",
       "<table border=\"1\" class=\"dataframe\">\n",
       "  <thead>\n",
       "    <tr style=\"text-align: right;\">\n",
       "      <th></th>\n",
       "      <th>alpha : 0.07</th>\n",
       "      <th>alpha : 0.1</th>\n",
       "      <th>alpha : 0.5</th>\n",
       "      <th>alpha : 1</th>\n",
       "      <th>alpha : 3</th>\n",
       "    </tr>\n",
       "  </thead>\n",
       "  <tbody>\n",
       "    <tr>\n",
       "      <th>RM</th>\n",
       "      <td>3.789725</td>\n",
       "      <td>3.703202</td>\n",
       "      <td>2.498212</td>\n",
       "      <td>0.949811</td>\n",
       "      <td>0.000000</td>\n",
       "    </tr>\n",
       "    <tr>\n",
       "      <th>CHAS</th>\n",
       "      <td>1.434343</td>\n",
       "      <td>0.955190</td>\n",
       "      <td>0.000000</td>\n",
       "      <td>0.000000</td>\n",
       "      <td>0.000000</td>\n",
       "    </tr>\n",
       "    <tr>\n",
       "      <th>RAD</th>\n",
       "      <td>0.270936</td>\n",
       "      <td>0.274707</td>\n",
       "      <td>0.277451</td>\n",
       "      <td>0.264206</td>\n",
       "      <td>0.061864</td>\n",
       "    </tr>\n",
       "    <tr>\n",
       "      <th>ZN</th>\n",
       "      <td>0.049059</td>\n",
       "      <td>0.049211</td>\n",
       "      <td>0.049544</td>\n",
       "      <td>0.049165</td>\n",
       "      <td>0.037231</td>\n",
       "    </tr>\n",
       "    <tr>\n",
       "      <th>B</th>\n",
       "      <td>0.010248</td>\n",
       "      <td>0.010249</td>\n",
       "      <td>0.009469</td>\n",
       "      <td>0.008247</td>\n",
       "      <td>0.006510</td>\n",
       "    </tr>\n",
       "    <tr>\n",
       "      <th>NOX</th>\n",
       "      <td>-0.000000</td>\n",
       "      <td>-0.000000</td>\n",
       "      <td>-0.000000</td>\n",
       "      <td>-0.000000</td>\n",
       "      <td>0.000000</td>\n",
       "    </tr>\n",
       "    <tr>\n",
       "      <th>AGE</th>\n",
       "      <td>-0.011706</td>\n",
       "      <td>-0.010037</td>\n",
       "      <td>0.003604</td>\n",
       "      <td>0.020910</td>\n",
       "      <td>0.042495</td>\n",
       "    </tr>\n",
       "    <tr>\n",
       "      <th>TAX</th>\n",
       "      <td>-0.014290</td>\n",
       "      <td>-0.014570</td>\n",
       "      <td>-0.015442</td>\n",
       "      <td>-0.015212</td>\n",
       "      <td>-0.008602</td>\n",
       "    </tr>\n",
       "    <tr>\n",
       "      <th>INDUS</th>\n",
       "      <td>-0.042120</td>\n",
       "      <td>-0.036619</td>\n",
       "      <td>-0.005253</td>\n",
       "      <td>-0.000000</td>\n",
       "      <td>-0.000000</td>\n",
       "    </tr>\n",
       "    <tr>\n",
       "      <th>CRIM</th>\n",
       "      <td>-0.098193</td>\n",
       "      <td>-0.097894</td>\n",
       "      <td>-0.083289</td>\n",
       "      <td>-0.063437</td>\n",
       "      <td>-0.000000</td>\n",
       "    </tr>\n",
       "    <tr>\n",
       "      <th>LSTAT</th>\n",
       "      <td>-0.560431</td>\n",
       "      <td>-0.568769</td>\n",
       "      <td>-0.656290</td>\n",
       "      <td>-0.761115</td>\n",
       "      <td>-0.807679</td>\n",
       "    </tr>\n",
       "    <tr>\n",
       "      <th>PTRATIO</th>\n",
       "      <td>-0.765107</td>\n",
       "      <td>-0.770654</td>\n",
       "      <td>-0.758752</td>\n",
       "      <td>-0.722966</td>\n",
       "      <td>-0.265072</td>\n",
       "    </tr>\n",
       "    <tr>\n",
       "      <th>DIS</th>\n",
       "      <td>-1.176583</td>\n",
       "      <td>-1.160538</td>\n",
       "      <td>-0.936605</td>\n",
       "      <td>-0.668790</td>\n",
       "      <td>-0.000000</td>\n",
       "    </tr>\n",
       "  </tbody>\n",
       "</table>\n",
       "</div>"
      ],
      "text/plain": [
       "         alpha : 0.07  alpha : 0.1  alpha : 0.5  alpha : 1  alpha : 3\n",
       "RM           3.789725     3.703202     2.498212   0.949811   0.000000\n",
       "CHAS         1.434343     0.955190     0.000000   0.000000   0.000000\n",
       "RAD          0.270936     0.274707     0.277451   0.264206   0.061864\n",
       "ZN           0.049059     0.049211     0.049544   0.049165   0.037231\n",
       "B            0.010248     0.010249     0.009469   0.008247   0.006510\n",
       "NOX         -0.000000    -0.000000    -0.000000  -0.000000   0.000000\n",
       "AGE         -0.011706    -0.010037     0.003604   0.020910   0.042495\n",
       "TAX         -0.014290    -0.014570    -0.015442  -0.015212  -0.008602\n",
       "INDUS       -0.042120    -0.036619    -0.005253  -0.000000  -0.000000\n",
       "CRIM        -0.098193    -0.097894    -0.083289  -0.063437  -0.000000\n",
       "LSTAT       -0.560431    -0.568769    -0.656290  -0.761115  -0.807679\n",
       "PTRATIO     -0.765107    -0.770654    -0.758752  -0.722966  -0.265072\n",
       "DIS         -1.176583    -1.160538    -0.936605  -0.668790  -0.000000"
      ]
     },
     "execution_count": 24,
     "metadata": {},
     "output_type": "execute_result"
    }
   ],
   "source": [
    "sort_column = \"alpha : \" + str(lasso_alphas[0])\n",
    "coeff_lasso_df.sort_values(by = sort_column, ascending = False)"
   ]
  },
  {
   "cell_type": "code",
   "execution_count": 26,
   "id": "1fd2b695",
   "metadata": {},
   "outputs": [
    {
     "name": "stdout",
     "output_type": "stream",
     "text": [
      "#######  ElasticNet #######\n",
      "alpha 0.07일 때 5폴드 세트의 평균 RMSE : 5.542\n",
      "alpha 0.1일 때 5폴드 세트의 평균 RMSE : 5.526\n",
      "alpha 0.5일 때 5폴드 세트의 평균 RMSE : 5.467\n",
      "alpha 1일 때 5폴드 세트의 평균 RMSE : 5.597\n",
      "alpha 3일 때 5폴드 세트의 평균 RMSE : 6.068\n"
     ]
    }
   ],
   "source": [
    "elastic_alphas = [0.07, 0.1, 0.5, 1, 3]\n",
    "coeff_elastic_df = get_linear_reg_eval(\"ElasticNet\", params = elastic_alphas, X_data_n = x_data, y_target_n = y_target)"
   ]
  },
  {
   "cell_type": "code",
   "execution_count": 27,
   "id": "dc297890",
   "metadata": {},
   "outputs": [
    {
     "data": {
      "text/html": [
       "<div>\n",
       "<style scoped>\n",
       "    .dataframe tbody tr th:only-of-type {\n",
       "        vertical-align: middle;\n",
       "    }\n",
       "\n",
       "    .dataframe tbody tr th {\n",
       "        vertical-align: top;\n",
       "    }\n",
       "\n",
       "    .dataframe thead th {\n",
       "        text-align: right;\n",
       "    }\n",
       "</style>\n",
       "<table border=\"1\" class=\"dataframe\">\n",
       "  <thead>\n",
       "    <tr style=\"text-align: right;\">\n",
       "      <th></th>\n",
       "      <th>alpha : 0.07</th>\n",
       "      <th>alpha : 0.1</th>\n",
       "      <th>alpha : 0.5</th>\n",
       "      <th>alpha : 1</th>\n",
       "      <th>alpha : 3</th>\n",
       "    </tr>\n",
       "  </thead>\n",
       "  <tbody>\n",
       "    <tr>\n",
       "      <th>RM</th>\n",
       "      <td>3.574162</td>\n",
       "      <td>3.414154</td>\n",
       "      <td>1.918419</td>\n",
       "      <td>0.938789</td>\n",
       "      <td>0.000000</td>\n",
       "    </tr>\n",
       "    <tr>\n",
       "      <th>CHAS</th>\n",
       "      <td>1.330724</td>\n",
       "      <td>0.979706</td>\n",
       "      <td>0.000000</td>\n",
       "      <td>0.000000</td>\n",
       "      <td>0.000000</td>\n",
       "    </tr>\n",
       "    <tr>\n",
       "      <th>RAD</th>\n",
       "      <td>0.278880</td>\n",
       "      <td>0.283443</td>\n",
       "      <td>0.300761</td>\n",
       "      <td>0.289299</td>\n",
       "      <td>0.146846</td>\n",
       "    </tr>\n",
       "    <tr>\n",
       "      <th>ZN</th>\n",
       "      <td>0.050107</td>\n",
       "      <td>0.050617</td>\n",
       "      <td>0.052878</td>\n",
       "      <td>0.052136</td>\n",
       "      <td>0.038268</td>\n",
       "    </tr>\n",
       "    <tr>\n",
       "      <th>B</th>\n",
       "      <td>0.010122</td>\n",
       "      <td>0.010067</td>\n",
       "      <td>0.009114</td>\n",
       "      <td>0.008320</td>\n",
       "      <td>0.007020</td>\n",
       "    </tr>\n",
       "    <tr>\n",
       "      <th>AGE</th>\n",
       "      <td>-0.010116</td>\n",
       "      <td>-0.008276</td>\n",
       "      <td>0.007760</td>\n",
       "      <td>0.020348</td>\n",
       "      <td>0.043446</td>\n",
       "    </tr>\n",
       "    <tr>\n",
       "      <th>TAX</th>\n",
       "      <td>-0.014522</td>\n",
       "      <td>-0.014814</td>\n",
       "      <td>-0.016046</td>\n",
       "      <td>-0.016218</td>\n",
       "      <td>-0.011417</td>\n",
       "    </tr>\n",
       "    <tr>\n",
       "      <th>INDUS</th>\n",
       "      <td>-0.044855</td>\n",
       "      <td>-0.042719</td>\n",
       "      <td>-0.023252</td>\n",
       "      <td>-0.000000</td>\n",
       "      <td>-0.000000</td>\n",
       "    </tr>\n",
       "    <tr>\n",
       "      <th>CRIM</th>\n",
       "      <td>-0.099468</td>\n",
       "      <td>-0.099213</td>\n",
       "      <td>-0.089070</td>\n",
       "      <td>-0.073577</td>\n",
       "      <td>-0.019058</td>\n",
       "    </tr>\n",
       "    <tr>\n",
       "      <th>NOX</th>\n",
       "      <td>-0.175072</td>\n",
       "      <td>-0.000000</td>\n",
       "      <td>-0.000000</td>\n",
       "      <td>-0.000000</td>\n",
       "      <td>-0.000000</td>\n",
       "    </tr>\n",
       "    <tr>\n",
       "      <th>LSTAT</th>\n",
       "      <td>-0.574822</td>\n",
       "      <td>-0.587702</td>\n",
       "      <td>-0.693861</td>\n",
       "      <td>-0.760457</td>\n",
       "      <td>-0.800368</td>\n",
       "    </tr>\n",
       "    <tr>\n",
       "      <th>PTRATIO</th>\n",
       "      <td>-0.779498</td>\n",
       "      <td>-0.784725</td>\n",
       "      <td>-0.790969</td>\n",
       "      <td>-0.738672</td>\n",
       "      <td>-0.423065</td>\n",
       "    </tr>\n",
       "    <tr>\n",
       "      <th>DIS</th>\n",
       "      <td>-1.189438</td>\n",
       "      <td>-1.173647</td>\n",
       "      <td>-0.975902</td>\n",
       "      <td>-0.725174</td>\n",
       "      <td>-0.031208</td>\n",
       "    </tr>\n",
       "  </tbody>\n",
       "</table>\n",
       "</div>"
      ],
      "text/plain": [
       "         alpha : 0.07  alpha : 0.1  alpha : 0.5  alpha : 1  alpha : 3\n",
       "RM           3.574162     3.414154     1.918419   0.938789   0.000000\n",
       "CHAS         1.330724     0.979706     0.000000   0.000000   0.000000\n",
       "RAD          0.278880     0.283443     0.300761   0.289299   0.146846\n",
       "ZN           0.050107     0.050617     0.052878   0.052136   0.038268\n",
       "B            0.010122     0.010067     0.009114   0.008320   0.007020\n",
       "AGE         -0.010116    -0.008276     0.007760   0.020348   0.043446\n",
       "TAX         -0.014522    -0.014814    -0.016046  -0.016218  -0.011417\n",
       "INDUS       -0.044855    -0.042719    -0.023252  -0.000000  -0.000000\n",
       "CRIM        -0.099468    -0.099213    -0.089070  -0.073577  -0.019058\n",
       "NOX         -0.175072    -0.000000    -0.000000  -0.000000  -0.000000\n",
       "LSTAT       -0.574822    -0.587702    -0.693861  -0.760457  -0.800368\n",
       "PTRATIO     -0.779498    -0.784725    -0.790969  -0.738672  -0.423065\n",
       "DIS         -1.189438    -1.173647    -0.975902  -0.725174  -0.031208"
      ]
     },
     "execution_count": 27,
     "metadata": {},
     "output_type": "execute_result"
    }
   ],
   "source": [
    "sort_column = \"alpha : \" + str(elastic_alphas[0])\n",
    "coeff_elastic_df.sort_values(by = sort_column, ascending = False)"
   ]
  },
  {
   "cell_type": "code",
   "execution_count": 29,
   "id": "df53dce0",
   "metadata": {},
   "outputs": [],
   "source": [
    "def get_scaled_data(method = \"None\", p_degree = None, input_data = None):\n",
    "    if method == \"Standard\":\n",
    "        scaled_data = StandardScaler().fit_transform(input_data)\n",
    "    elif method == \"MinMax\":\n",
    "        scaled_data = MinMaxScaler().fit_transform(input_data)\n",
    "    elif method == \"Log\":\n",
    "        scaled_data = np.log1p(input_data)\n",
    "    else :\n",
    "        scaled_data = input_data\n",
    "        \n",
    "    if p_degree != None:\n",
    "        scaled_data = PolynomialFeatures(degree = p_degree,\n",
    "                                        include_bias = False).fit_transform(scaled_data)\n",
    "    return scaled_data"
   ]
  },
  {
   "cell_type": "code",
   "execution_count": 35,
   "id": "d3f22b39",
   "metadata": {},
   "outputs": [
    {
     "name": "stdout",
     "output_type": "stream",
     "text": [
      "\n",
      "변환 유형 : None, Polynomial Degree : None\n",
      "#######  Ridge #######\n",
      "alpha 0.1일 때 5폴드 세트의 평균 RMSE : 5.788\n",
      "alpha 1일 때 5폴드 세트의 평균 RMSE : 5.653\n",
      "alpha 10일 때 5폴드 세트의 평균 RMSE : 5.518\n",
      "alpha 100일 때 5폴드 세트의 평균 RMSE : 5.330\n",
      "\n",
      "변환 유형 : Standard, Polynomial Degree : None\n",
      "#######  Ridge #######\n",
      "alpha 0.1일 때 5폴드 세트의 평균 RMSE : 5.826\n",
      "alpha 1일 때 5폴드 세트의 평균 RMSE : 5.803\n",
      "alpha 10일 때 5폴드 세트의 평균 RMSE : 5.637\n",
      "alpha 100일 때 5폴드 세트의 평균 RMSE : 5.421\n",
      "\n",
      "변환 유형 : Standard, Polynomial Degree : 2\n",
      "#######  Ridge #######\n",
      "alpha 0.1일 때 5폴드 세트의 평균 RMSE : 8.827\n",
      "alpha 1일 때 5폴드 세트의 평균 RMSE : 6.871\n",
      "alpha 10일 때 5폴드 세트의 평균 RMSE : 5.485\n",
      "alpha 100일 때 5폴드 세트의 평균 RMSE : 4.634\n",
      "\n",
      "변환 유형 : MinMax, Polynomial Degree : None\n",
      "#######  Ridge #######\n",
      "alpha 0.1일 때 5폴드 세트의 평균 RMSE : 5.764\n",
      "alpha 1일 때 5폴드 세트의 평균 RMSE : 5.465\n",
      "alpha 10일 때 5폴드 세트의 평균 RMSE : 5.754\n",
      "alpha 100일 때 5폴드 세트의 평균 RMSE : 7.635\n",
      "\n",
      "변환 유형 : MinMax, Polynomial Degree : 2\n",
      "#######  Ridge #######\n",
      "alpha 0.1일 때 5폴드 세트의 평균 RMSE : 5.298\n",
      "alpha 1일 때 5폴드 세트의 평균 RMSE : 4.323\n",
      "alpha 10일 때 5폴드 세트의 평균 RMSE : 5.185\n",
      "alpha 100일 때 5폴드 세트의 평균 RMSE : 6.538\n",
      "\n",
      "변환 유형 : Log, Polynomial Degree : None\n",
      "#######  Ridge #######\n",
      "alpha 0.1일 때 5폴드 세트의 평균 RMSE : 4.770\n",
      "alpha 1일 때 5폴드 세트의 평균 RMSE : 4.676\n",
      "alpha 10일 때 5폴드 세트의 평균 RMSE : 4.836\n",
      "alpha 100일 때 5폴드 세트의 평균 RMSE : 6.241\n"
     ]
    }
   ],
   "source": [
    "from sklearn.preprocessing import StandardScaler, MinMaxScaler\n",
    "alphas = [0.1, 1, 10, 100]\n",
    "\n",
    "scale_methods = [(None, None), (\"Standard\", None), (\"Standard\", 2),\n",
    "                (\"MinMax\", None),(\"MinMax\", 2),(\"Log\", None)]\n",
    "for scale_method in scale_methods:\n",
    "    X_data_scaled = get_scaled_data(method = scale_method[0], p_degree = scale_method[1], input_data = x_data)\n",
    "    \n",
    "    print(f\"\\n변환 유형 : {scale_method[0]}, Polynomial Degree : {scale_method[1]}\")\n",
    "    get_linear_reg_eval(\"Ridge\", params = alphas, X_data_n = X_data_scaled, y_target_n = y_target, verbose = True, return_coeff = False)"
   ]
  },
  {
   "cell_type": "code",
   "execution_count": 39,
   "id": "9daa4733",
   "metadata": {},
   "outputs": [],
   "source": [
    "from sklearn.datasets import load_breast_cancer\n",
    "from sklearn.linear_model import LogisticRegression\n",
    "from sklearn.model_selection import train_test_split\n",
    "from sklearn.metrics import accuracy_score, roc_auc_score"
   ]
  },
  {
   "cell_type": "code",
   "execution_count": 40,
   "id": "4ea878e3",
   "metadata": {},
   "outputs": [],
   "source": [
    "cancer = load_breast_cancer()\n",
    "\n",
    "scaler = StandardScaler()\n",
    "data_scaled = scaler.fit_transform(cancer.data)\n",
    "\n",
    "X_train, X_test, y_train, y_test = train_test_split(data_scaled, cancer.target, test_size = 0.3, random_state = 0)"
   ]
  },
  {
   "cell_type": "code",
   "execution_count": 44,
   "id": "55aebc49",
   "metadata": {},
   "outputs": [
    {
     "name": "stdout",
     "output_type": "stream",
     "text": [
      "accuracy :  0.9766\n",
      "roc_auc :  0.9716\n"
     ]
    }
   ],
   "source": [
    "lr_clf = LogisticRegression()\n",
    "lr_clf.fit(X_train, y_train)\n",
    "lr_preds = lr_clf.predict(X_test)\n",
    "\n",
    "print(\"accuracy : \", round(accuracy_score(y_test, lr_preds), 4))\n",
    "print(\"roc_auc : \", round(roc_auc_score(y_test, lr_preds), 4))"
   ]
  },
  {
   "cell_type": "code",
   "execution_count": 47,
   "id": "201c5819",
   "metadata": {},
   "outputs": [
    {
     "name": "stdout",
     "output_type": "stream",
     "text": [
      "\n",
      "solver :  lbfgs\n",
      "accuracy :  0.9766\n",
      "roc_auc :  0.9716\n",
      "\n",
      "solver :  liblinear\n",
      "accuracy :  0.9825\n",
      "roc_auc :  0.9795\n",
      "\n",
      "solver :  newton-cg\n",
      "accuracy :  0.9766\n",
      "roc_auc :  0.9716\n",
      "\n",
      "solver :  sag\n",
      "accuracy :  0.9825\n",
      "roc_auc :  0.9795\n",
      "\n",
      "solver :  saga\n",
      "accuracy :  0.9825\n",
      "roc_auc :  0.9795\n"
     ]
    }
   ],
   "source": [
    "solvers = [\"lbfgs\", \"liblinear\", \"newton-cg\", \"sag\", \"saga\"]\n",
    "\n",
    "for solver in solvers:\n",
    "    lr_clf = LogisticRegression(solver = solver, max_iter = 600)\n",
    "    lr_clf.fit(X_train, y_train)\n",
    "    lr_preds = lr_clf.predict(X_test)\n",
    "    \n",
    "    print(\"\\nsolver : \", solver)\n",
    "    print(\"accuracy : \", round(accuracy_score(y_test, lr_preds), 4))\n",
    "    print(\"roc_auc : \", round(roc_auc_score(y_test, lr_preds), 4))"
   ]
  },
  {
   "cell_type": "code",
   "execution_count": 49,
   "id": "212febd9",
   "metadata": {},
   "outputs": [
    {
     "name": "stdout",
     "output_type": "stream",
     "text": [
      "최적 하이퍼 파라미터 : {'C': 0.1, 'penalty': 'l2', 'solver': 'liblinear'}, 최적 평균 정확도 : 0.9789\n"
     ]
    }
   ],
   "source": [
    "from sklearn.model_selection import GridSearchCV\n",
    "\n",
    "params = {\"solver\" : [\"liblinear\", \"lbfgs\"],\n",
    "         \"penalty\" : ['l2','l1'],\n",
    "         \"C\" : [0.01, 0.1, 1, 1, 5, 10]}\n",
    "\n",
    "lr_clf = LogisticRegression()\n",
    "\n",
    "grid_clf = GridSearchCV(lr_clf, param_grid = params, scoring = \"accuracy\", cv = 3)\n",
    "grid_clf.fit(data_scaled, cancer.target)\n",
    "\n",
    "print(f\"최적 하이퍼 파라미터 : {grid_clf.best_params_}, 최적 평균 정확도 : {grid_clf.best_score_:.4f}\")"
   ]
  },
  {
   "cell_type": "code",
   "execution_count": null,
   "id": "32546d09",
   "metadata": {},
   "outputs": [],
   "source": []
  },
  {
   "cell_type": "code",
   "execution_count": null,
   "id": "f3f27abf",
   "metadata": {},
   "outputs": [],
   "source": []
  }
 ],
 "metadata": {
  "kernelspec": {
   "display_name": "Python 3 (ipykernel)",
   "language": "python",
   "name": "python3"
  },
  "language_info": {
   "codemirror_mode": {
    "name": "ipython",
    "version": 3
   },
   "file_extension": ".py",
   "mimetype": "text/x-python",
   "name": "python",
   "nbconvert_exporter": "python",
   "pygments_lexer": "ipython3",
   "version": "3.9.13"
  }
 },
 "nbformat": 4,
 "nbformat_minor": 5
}
