{
 "cells": [
  {
   "cell_type": "code",
   "execution_count": 21,
   "id": "95b4c807",
   "metadata": {},
   "outputs": [],
   "source": [
    "import pandas as pd\n",
    "from sklearn.ensemble import VotingClassifier\n",
    "from sklearn.linear_model import LogisticRegression\n",
    "from sklearn.neighbors import KNeighborsClassifier\n",
    "from sklearn.datasets import load_breast_cancer\n",
    "from sklearn.model_selection import train_test_split\n",
    "from sklearn.metrics import accuracy_score, precision_score, recall_score, confusion_matrix, f1_score, roc_auc_score\n",
    "from sklearn.model_selection import GridSearchCV\n",
    "from sklearn.preprocessing import LabelEncoder\n",
    "from sklearn.ensemble import GradientBoostingClassifier\n",
    "import re\n",
    "import numpy as np\n",
    "import time\n",
    "import warnings\n",
    "warnings.filterwarnings(\"ignore\")"
   ]
  },
  {
   "cell_type": "markdown",
   "id": "69cd2844",
   "metadata": {},
   "source": [
    "###  앙상블 학습\n",
    "\n",
    "* 앙상블 학습의 유형은 보팅, 배깅, 부스팅 세가지로 나눌 수 있으며 이외에도 스태깅을 포함한 다양한 앙상블 방법이 있다.\n",
    "* 보팅의 경우 서로 다른 알고리즘을 가진 분류기를 결합하는 것이고 배깅의 경우 각각의 분류기각 모두 같은 유형의 알고리즘 기반이다.\n",
    "* 정형 데이터의 예측 분석 영역에서는 매우 높은 예측 성능. Bagging 과 Boosting\n",
    "* 배깅 방식의 대표인 Random Forest는 뛰어난 예측 성능, 상대적으로 빠른 수행시간, 유연성 등으로 애용.\n",
    "* 부스팅의 효시는 Gradient Boosting, 한 단계 발전시키면서도 시간 단축시킨 XgBoost, LightGBM이 정형 데이터의 분류 영역에서 \n",
    "  활용도 확대\n",
    "* 앙상블의 앙상블이라고 불리는 스태킹 기법\n",
    "* 앙상블의 기본 알고리즘은 결정 트리"
   ]
  },
  {
   "cell_type": "markdown",
   "id": "05a5c279",
   "metadata": {},
   "source": [
    "### Voting Classifier\n",
    "- 하드 보팅 : 다수결 원칙, 다수의 분류기가 결정한 예측값을 최종 보팅 결과값으로 선정\n",
    "- 소프트 보팅 : 분류기들의 레이블 값 결정 확률을 모두 더해서 평균하고 이들 중 가장 높은 레이블 값을 최종 보팅 결과값으로 선정"
   ]
  },
  {
   "cell_type": "code",
   "execution_count": 5,
   "id": "13e0fdbe",
   "metadata": {},
   "outputs": [
    {
     "name": "stdout",
     "output_type": "stream",
     "text": [
      "Voting 분류기 정확도 :  0.9474\n",
      "LogisticRegression 정확도 : 0.9386\n",
      "KNeighborsClassifier 정확도 : 0.9386\n"
     ]
    }
   ],
   "source": [
    "cancer = load_breast_cancer()\n",
    "lr_clf = LogisticRegression()\n",
    "knn_clf = KNeighborsClassifier(n_neighbors = 8)\n",
    "\n",
    "vo_clf = VotingClassifier( estimators = [(\"LR\", lr_clf), (\"KNN\", knn_clf)], voting = \"soft\")\n",
    "\n",
    "X_train, X_test, y_train, y_test = train_test_split(cancer.data, cancer.target,\n",
    "                                                   test_size = 0.2, random_state = 156)\n",
    "\n",
    "vo_clf.fit(X_train, y_train)\n",
    "pred = vo_clf.predict(X_test)\n",
    "print(f\"Voting 분류기 정확도 : {accuracy_score(y_test,pred): .4f}\")\n",
    "\n",
    "classifiers = [lr_clf, knn_clf]\n",
    "\n",
    "for classifier in classifiers:\n",
    "    classifier.fit(X_train, y_train)\n",
    "    pred = classifier.predict(X_test)\n",
    "    class_name = classifier.__class__.__name__\n",
    "    print(f\"{class_name} 정확도 : {accuracy_score(y_test,pred):.4f}\")"
   ]
  },
  {
   "cell_type": "markdown",
   "id": "c04e19cf",
   "metadata": {},
   "source": [
    "### 랜덤 포레스트(Random Forest)\n",
    "- 앙상블 기법 중 하나로, 의사결정나무(Decision Tree)를 기반으로 한 분류 및 회귀 알고리즘입니다. 랜덤 포레스트는 여러 개의 의사결정나무를 조합하여 강력한 예측 모델을 구축하고, 과적합을 방지하며 일반화 성능을 향상시킵니다.\n",
    "\n",
    "- 랜덤 포레스트의 동작 원리\n",
    "\n",
    "    - 데이터 샘플링: 원본 데이터에서 무작위로 중복을 허용하여 샘플을 선택합니다. 이렇게 선택된 샘플들을 사용하여 각각의 의사결정나무를 학습시킵니다. 이러한 방식을 부트스트래핑(bootstrapping)이라고 합니다.\n",
    "\n",
    "    - 특징 선택: 각 의사결정나무의 학습 과정에서 특징 선택 시 무작위로 일부 특징만을 고려합니다. 이는 의사결정나무 간의 다양성을 증가시켜 모델의 예측력을 향상시키는 역할을 합니다.\n",
    "\n",
    "    - 의사결정나무 학습: 선택된 샘플과 특징을 사용하여 의사결정나무를 학습시킵니다. 각 의사결정나무는 주어진 데이터에 대해 분할 기준과 분기를 결정하여 예측 규칙을 생성합니다.\n",
    "\n",
    "    - 예측 결합: 학습된 모든 의사결정나무를 사용하여 새로운 데이터의 예측값을 도출합니다. 분류 문제에서는 다수결 투표를 통해 가장 많은 표를 받은 클래스가 최종 예측값이 됩니다. 회귀 문제에서는 평균값을 사용합니다.\n",
    "\n",
    "- 랜덤 포레스트 장점\n",
    "\n",
    "    - 과적합 방지: 랜덤 포레스트는 의사결정나무의 과적합 문제를 완화시킵니다. 샘플링과 특징 선택의 무작위성을 통해 다양한 의사결정나무를 조합하고, 이들의 예측을 평균화함으로써 일반화 성능을 향상시킵니다.\n",
    "\n",
    "    - 변수 중요도 제공: 랜덤 포레스트는 변수의 중요도를 계산할 수 있습니다. 각 의사결정나무에서 변수의 사용 빈도나 분산 기준에 따라 중요도를 측정하고, 이를 모든 의사결정나무에서 평균화하여 변수의 상대적 중요도를 얻을 수 있습니다. 이를 통해 데이터에서 어떤 변수가 예측에 가장 큰 영향을 미치는지를 알 수 있습니다.\n",
    "\n",
    "    - 안정성과 신뢰성: 랜덤 포레스트는 여러 개의 의사결정나무를 결합한 모델이므로, 개별 의사결정나무의 오류나 노이즈에 덜 민감합니다. 이를 통해 안정적이고 신뢰성 있는 예측을 제공할 수 있습니다.\n",
    "\n",
    "    - 다양한 데이터 타입 처리: 랜덤 포레스트는 범주형 데이터와 연속형 데이터 모두를 처리할 수 있습니다. 범주형 변수의 경우 원-핫 인코딩 등의 전처리 과정이 필요하지 않습니다.\n",
    "\n",
    "    - 비교적 빠른 학습과 예측 속도: 의사결정나무의 학습과 예측이 병렬로 수행되므로, 데이터가 크거나 차원이 높아도 상대적으로 빠른 학습 및 예측 속도를 보장할 수 있습니다.\n",
    "\n",
    "- 랜덤 포레스트는 의사결정나무의 단점인 해석력이 다소 떨어진다는 점을 가지고 있습니다. 여러 개의 의사결정나무를 조합하므로 최종 모델의 해석이 어려울 수 있습니다. 또한, 랜덤 포레스트는 모델 구성을 위해 많은 수의 의사결정나무를 사용해야 하므로, 모델의 복잡성과 메모리 사용량이 증가할 수 있습니다.\n",
    "\n",
    "- 랜덤 포레스트는 다양한 분류 및 회귀 문제에 적용할 수 있는 강력한 알고리즘으로 알려져 있으며, 데이터셋의 특성과 목표에 맞게 사용될 수 있습니다."
   ]
  },
  {
   "cell_type": "markdown",
   "id": "eaf3663b",
   "metadata": {},
   "source": [
    "### 과제1_0518.\n",
    "타이타닉 데이터 셋에 대하여 필요한 전처리를 수행한 후 랜덤포레스트 알고리즘을 적용하여 평가 및 성능 개선을 수행하시오."
   ]
  },
  {
   "cell_type": "code",
   "execution_count": 4,
   "id": "ec160906",
   "metadata": {},
   "outputs": [],
   "source": [
    "def get_category(age):\n",
    "    cat = ''\n",
    "    if age <= -1: cat = 'Unknown'\n",
    "    elif age <= 5: cat = 'Baby'\n",
    "    elif age <= 15: cat = 'Child'\n",
    "    elif age <= 20: cat = 'Teenager'\n",
    "    elif age <= 30: cat = 'Twenties'\n",
    "    elif age <= 35: cat = 'Young Adult'\n",
    "    elif age <= 50: cat = 'Adult'\n",
    "    else : cat = 'Elderly'\n",
    "    \n",
    "    return cat\n",
    "def Fare_Cat(fare):\n",
    "    cat = ''\n",
    "    if fare <= -1: cat = 'Unknown'\n",
    "    elif fare <= 8: cat = 'Very Low'\n",
    "    elif fare <= 11: cat = 'Low'\n",
    "    elif fare <= 25: cat = 'Middle'\n",
    "    elif fare <= 50: cat = 'High'\n",
    "    elif fare <= 100: cat = 'Very High'\n",
    "    else : cat = 'Extra High'\n",
    "    \n",
    "    return cat\n",
    "def transform_features(df):\n",
    "    df.dropna(axis = 1, thresh = len(titanic_df)/2, inplace = True)\n",
    "    \n",
    "    big = df[\"Embarked\"].value_counts().idxmax()\n",
    "    df[\"Embarked\"].fillna(big, inplace = True)\n",
    "    \n",
    "    pattern = r\", (.*?)\\.\"\n",
    "    df[\"Title\"] = df[\"Name\"].apply(lambda x: re.search(pattern, x).group(1))\n",
    "    \n",
    "    df['Age'] = df.groupby('Title')['Age'].transform(lambda x: x.fillna(round(x.mean(),0)))\n",
    "    \n",
    "    df.drop(['Name', \"Ticket\", \"PassengerId\", \"SibSp\", \"Parch\", \"Embarked\"], axis=1, inplace=True)\n",
    "    \n",
    "    df[\"Age_cat\"] = df['Age'].apply(lambda x : get_category(x))\n",
    "    \n",
    "    df[\"Fare_cat\"] = df['Fare'].apply(lambda x : Fare_Cat(x))\n",
    "    \n",
    "    df.drop([\"Age\", \"Fare\", \"Age_cat\"] , axis=1, inplace=True)\n",
    "    \n",
    "    features = [\"Pclass\", \"Sex\", \"Title\" , \"Fare_cat\"]\n",
    "    for feature in features:\n",
    "        le = LabelEncoder()\n",
    "        le = le.fit(df[feature])\n",
    "        df[feature] = le.transform(df[feature])\n",
    "    return df"
   ]
  },
  {
   "cell_type": "code",
   "execution_count": null,
   "id": "2e799d1a",
   "metadata": {},
   "outputs": [],
   "source": [
    "titanic_df = pd.read_csv(\"../dataSet/train.csv\")\n",
    "y_titanic = titanic_df[\"Survived\"]\n",
    "X_titanic= titanic_df.drop('Survived',axis=1)\n",
    "\n",
    "X_titanic = transform_features(X_titanic)"
   ]
  },
  {
   "cell_type": "code",
   "execution_count": null,
   "id": "fa5aa5b4",
   "metadata": {},
   "outputs": [],
   "source": [
    "X_train, X_test, y_train, y_test=train_test_split(X_titanic, y_titanic, \\\n",
    "                                                  test_size=0.2, random_state=11)\n",
    "\n",
    "rf_model = RandomForestClassifier(n_estimators= 100, random_state=11)"
   ]
  },
  {
   "cell_type": "code",
   "execution_count": null,
   "id": "786192fe",
   "metadata": {},
   "outputs": [],
   "source": [
    "X_train, X_test, y_train, y_test=train_test_split(X_titanic, y_titanic, \\\n",
    "                                                  test_size=0.2, random_state=11)\n",
    "\n",
    "rf_model = RandomForestClassifier(n_estimators= 100, random_state=11)"
   ]
  },
  {
   "cell_type": "code",
   "execution_count": null,
   "id": "3d920ac3",
   "metadata": {},
   "outputs": [],
   "source": [
    "def get_clf_eval(y_test = None, pred = None, pred_proba=None):\n",
    "    confusion = confusion_matrix(y_test, pred)\n",
    "    accuracy = round(accuracy_score(y_test, pred),4)\n",
    "    precision = round(precision_score(y_test, pred),4)\n",
    "    recall = round(recall_score(y_test, pred),4)\n",
    "    f1 = round(f1_score(y_test, pred),4)\n",
    "    roc_auc = round(roc_auc_score(y_test, pred_proba[:, 1]),4)\n",
    "    print(\"오차 행렬\")\n",
    "    print(confusion)\n",
    "    print(f\"정확도 : {accuracy}, 정밀도 : {precision}\\n재현율 : {recall}, f1 : {f1}\")\n",
    "    print(f\"AUC : {roc_auc}\")"
   ]
  },
  {
   "cell_type": "code",
   "execution_count": null,
   "id": "c1a290a7",
   "metadata": {},
   "outputs": [],
   "source": [
    "get_clf_eval(y_test, rf_pred, rf_pred_proba)"
   ]
  },
  {
   "cell_type": "code",
   "execution_count": null,
   "id": "2de8b114",
   "metadata": {},
   "outputs": [],
   "source": [
    "params = {\n",
    "    \"n_estimators\" : [50, 100, 200, 300],\n",
    "    \"max_depth\" : [2,4,6,8],\n",
    "    \"min_samples_leaf\" : [2,6,8,10,12,18],\n",
    "    \"min_samples_split\" : [2,4,8,12,16]\n",
    "}\n",
    "\n",
    "rf_clf = RandomForestClassifier(random_state = 0, n_jobs = -1)\n",
    "grid_cv = GridSearchCV(rf_clf, param_grid = params, cv = 5, n_jobs = -1)\n",
    "grid_cv.fit(X_train, y_train)\n",
    "\n",
    "print(\"최적 하이퍼 파라미터 : \\n\", grid_cv.best_params_)\n",
    "print(f\"최고 예측 정확도 : {grid_cv.best_score_ : .4f}\")"
   ]
  },
  {
   "cell_type": "code",
   "execution_count": null,
   "id": "14beef9a",
   "metadata": {},
   "outputs": [],
   "source": [
    "X_train, X_test, y_train, y_test=train_test_split(X_titanic, y_titanic, \\\n",
    "                                                  test_size=0.2, random_state=11)\n",
    "\n",
    "rf_model = RandomForestClassifier(max_depth= 8, min_samples_leaf= 2, min_samples_split= 12, n_estimators= 50, random_state=11)"
   ]
  },
  {
   "cell_type": "code",
   "execution_count": null,
   "id": "80386f65",
   "metadata": {},
   "outputs": [],
   "source": [
    "rf_model.fit(X_train, y_train)\n",
    "rf_pred = rf_model.predict(X_test)\n",
    "rf_pred_proba = rf_model.predict_proba(X_test)"
   ]
  },
  {
   "cell_type": "code",
   "execution_count": null,
   "id": "516bf1e9",
   "metadata": {},
   "outputs": [],
   "source": [
    "get_clf_eval(y_test, rf_pred, rf_pred_proba)"
   ]
  },
  {
   "cell_type": "markdown",
   "id": "04f5f6af",
   "metadata": {},
   "source": [
    "### 과제2_0518\n",
    "과제1로부터 변수 중요도를 도출하고 시각화를 수행하시오."
   ]
  },
  {
   "cell_type": "code",
   "execution_count": null,
   "id": "98b55c4d",
   "metadata": {},
   "outputs": [],
   "source": [
    "importances = rf_model.feature_importances_\n",
    "\n",
    "# 중요도 기준으로 변수 순서 정렬\n",
    "indices = np.argsort(importances)[::-1]\n",
    "\n",
    "# 변수명 배열\n",
    "feature_names = X_titanic.columns\n",
    "\n",
    "# 변수 중요도 시각화\n",
    "plt.figure()\n",
    "plt.title(\"Variable Importance\")\n",
    "plt.bar(range(X_titanic.shape[1]), importances[indices], align=\"center\")\n",
    "plt.xticks(range(X_titanic.shape[1]), feature_names[indices], rotation=45)\n",
    "plt.xlabel(\"Variables\")\n",
    "plt.ylabel(\"Importance\")\n",
    "plt.tight_layout()\n",
    "plt.show()"
   ]
  },
  {
   "cell_type": "markdown",
   "id": "4ef508ae",
   "metadata": {},
   "source": [
    "## GBM(Gradient Boosting Machine)\n",
    "- 부스팅 알고리즘은 여러 개의 약한 학습기(weak learner)를 순차적으로 학습-예측하면서 잘못 예측한 데이터에 가중치 부여를 통해 오류를 개선해 나가면서 학습하는 방식\n",
    "- 가중치 업데이트를 경사 하강법(Gradient Descent)를 이용한다.\n",
    "- 분류는 물론이고 회귀도 가능\n",
    "- 파라미터 : n_estimators, max_depth, max_features\n",
    " - loss : 경사하강법에서 사용할 비용함수 지정. 기본값 deviance 적용\n",
    " - learning_rate : GBM이 학습할 때마다 적용할 학습률.오류값 보정 시 적용하는 계수로 0 ~ 1 사이의 값 지정. 기본값은 0.1. 작게 설정하면 예측성능이 높아지나 수행시간이 오래 걸리고 큰 값을 적용하면 예측 성능이 떨어질 가능성이 높으나 빠른 수행이 가능. n_estimator와 상호 보완적으로 조합해 사용\n",
    " - n_estimator : weak learner의 개수\n",
    " - subsample : weak learner가 학습에 사용하는 데이터의 샘플링 비율. 기본값은 1"
   ]
  },
  {
   "cell_type": "code",
   "execution_count": 11,
   "id": "87e8937c",
   "metadata": {},
   "outputs": [],
   "source": [
    "titanic_df = pd.read_csv(\"dataSet/train.csv\")\n",
    "y_titanic = titanic_df[\"Survived\"]\n",
    "X_titanic= titanic_df.drop('Survived',axis=1)\n",
    "\n",
    "X_titanic = transform_features(X_titanic)\n",
    "\n",
    "X_train, X_test, y_train, y_test=train_test_split(X_titanic, y_titanic, \\\n",
    "                                                  test_size=0.2, random_state=11)\n",
    "\n",
    "gb_clf = GradientBoostingClassifier(random_state = 0)\n",
    "gb_clf.fit(X_train, y_train)\n",
    "gb_pred = gb_clf.predict(X_test)\n",
    "gb_accuracy = accuracy_score(y_test, gb_pred)"
   ]
  },
  {
   "cell_type": "code",
   "execution_count": 16,
   "id": "a286deac",
   "metadata": {},
   "outputs": [
    {
     "name": "stdout",
     "output_type": "stream",
     "text": [
      "Fitting 5 folds for each of 16 candidates, totalling 80 fits\n",
      "최적 하이퍼 파라미터 : \n",
      " {'learning_rate': 0.2, 'n_estimators': 50}\n",
      "최고 예측 정확도 :  0.8287\n"
     ]
    }
   ],
   "source": [
    "params = {\n",
    "    \"n_estimators\" : [50,100,200,300],\n",
    "    \"learning_rate\" : [0.05,0.1,0.15,0.2]\n",
    "}\n",
    "grid_cv = GridSearchCV(gb_clf, param_grid = params, cv = 5, verbose = 1)\n",
    "grid_cv.fit(X_train, y_train)\n",
    "print(\"최적 하이퍼 파라미터 : \\n\", grid_cv.best_params_)\n",
    "print(f\"최고 예측 정확도 : {grid_cv.best_score_: .4f}\")"
   ]
  },
  {
   "cell_type": "code",
   "execution_count": 18,
   "id": "1d7c482c",
   "metadata": {},
   "outputs": [],
   "source": [
    "gb_clf = GradientBoostingClassifier(learning_rate = 0.2, n_estimators = 50,random_state = 0)\n",
    "gb_clf.fit(X_train, y_train)\n",
    "gb_pred = gb_clf.predict(X_test)\n",
    "gb_pred_proba = gb_clf.predict_proba(X_test)"
   ]
  },
  {
   "cell_type": "code",
   "execution_count": 22,
   "id": "a871cbd3",
   "metadata": {},
   "outputs": [
    {
     "name": "stdout",
     "output_type": "stream",
     "text": [
      "오차 행렬\n",
      "[[110   8]\n",
      " [ 15  46]]\n",
      "정확도 : 0.8715, 정밀도 : 0.8519\n",
      "재현율 : 0.7541, f1 : 0.8\n",
      "AUC : 0.8887\n"
     ]
    }
   ],
   "source": [
    "get_clf_eval(y_test, gb_pred, gb_pred_proba)"
   ]
  },
  {
   "cell_type": "code",
   "execution_count": null,
   "id": "9a79302f",
   "metadata": {},
   "outputs": [],
   "source": []
  }
 ],
 "metadata": {
  "kernelspec": {
   "display_name": "Python 3 (ipykernel)",
   "language": "python",
   "name": "python3"
  },
  "language_info": {
   "codemirror_mode": {
    "name": "ipython",
    "version": 3
   },
   "file_extension": ".py",
   "mimetype": "text/x-python",
   "name": "python",
   "nbconvert_exporter": "python",
   "pygments_lexer": "ipython3",
   "version": "3.9.13"
  }
 },
 "nbformat": 4,
 "nbformat_minor": 5
}
