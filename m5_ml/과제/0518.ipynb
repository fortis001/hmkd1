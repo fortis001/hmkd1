{
 "cells": [
  {
   "cell_type": "code",
   "execution_count": 1,
   "id": "9ab8667b",
   "metadata": {},
   "outputs": [],
   "source": [
    "import pandas as pd\n",
    "from sklearn.preprocessing import LabelEncoder\n",
    "from sklearn.preprocessing import OneHotEncoder\n",
    "import numpy as np\n",
    "from sklearn.model_selection import train_test_split\n",
    "from sklearn.metrics import accuracy_score, precision_score, recall_score, confusion_matrix, f1_score, roc_auc_score\n",
    "import re\n",
    "from sklearn.tree import DecisionTreeClassifier\n",
    "from sklearn.linear_model import LogisticRegression\n",
    "from sklearn.preprocessing import Binarizer\n",
    "from sklearn.metrics import precision_recall_curve, roc_curve\n",
    "import matplotlib.pyplot as plt\n",
    "import matplotlib.ticker as ticker\n",
    "from sklearn.ensemble import RandomForestClassifier\n",
    "from sklearn.model_selection import GridSearchCV"
   ]
  },
  {
   "cell_type": "markdown",
   "id": "b3a3970a",
   "metadata": {},
   "source": [
    "### 과제1_0518.\n",
    "타이타닉 데이터 셋에 대하여 필요한 전처리를 수행한 후 랜덤포레스트 알고리즘을 적용하여 평가 및 성능 개선을 수행하시오."
   ]
  },
  {
   "cell_type": "code",
   "execution_count": 43,
   "id": "cdf28656",
   "metadata": {},
   "outputs": [],
   "source": [
    "def get_category(age):\n",
    "    cat = ''\n",
    "    if age <= -1: cat = 'Unknown'\n",
    "    elif age <= 5: cat = 'Baby'\n",
    "    elif age <= 15: cat = 'Child'\n",
    "    elif age <= 20: cat = 'Teenager'\n",
    "    elif age <= 30: cat = 'Twenties'\n",
    "    elif age <= 35: cat = 'Young Adult'\n",
    "    elif age <= 50: cat = 'Adult'\n",
    "    else : cat = 'Elderly'\n",
    "    \n",
    "    return cat\n",
    "def Fare_Cat(fare):\n",
    "    cat = ''\n",
    "    if fare <= -1: cat = 'Unknown'\n",
    "    elif fare <= 8: cat = 'Very Low'\n",
    "    elif fare <= 11: cat = 'Low'\n",
    "    elif fare <= 25: cat = 'Middle'\n",
    "    elif fare <= 50: cat = 'High'\n",
    "    elif fare <= 100: cat = 'Very High'\n",
    "    else : cat = 'Extra High'\n",
    "    \n",
    "    return cat\n",
    "def transform_features(df):\n",
    "    df.dropna(axis = 1, thresh = len(titanic_df)/2, inplace = True)\n",
    "    \n",
    "    big = df[\"Embarked\"].value_counts().idxmax()\n",
    "    df[\"Embarked\"].fillna(big, inplace = True)\n",
    "    \n",
    "    pattern = r\", (.*?)\\.\"\n",
    "    df[\"Title\"] = df[\"Name\"].apply(lambda x: re.search(pattern, x).group(1))\n",
    "    \n",
    "    df['Age'] = df.groupby('Title')['Age'].transform(lambda x: x.fillna(round(x.mean(),0)))\n",
    "    \n",
    "    df.drop(['Name', \"Ticket\", \"PassengerId\", \"SibSp\", \"Parch\", \"Embarked\"], axis=1, inplace=True)\n",
    "    \n",
    "    df[\"Age_cat\"] = df['Age'].apply(lambda x : get_category(x))\n",
    "    \n",
    "    df[\"Fare_cat\"] = df['Fare'].apply(lambda x : Fare_Cat(x))\n",
    "    \n",
    "    df.drop([\"Age\", \"Fare\", \"Age_cat\"] , axis=1, inplace=True)\n",
    "    \n",
    "    features = [\"Pclass\", \"Sex\", \"Title\" , \"Fare_cat\"]\n",
    "    for feature in features:\n",
    "        le = LabelEncoder()\n",
    "        le = le.fit(df[feature])\n",
    "        df[feature] = le.transform(df[feature])\n",
    "    return df"
   ]
  },
  {
   "cell_type": "code",
   "execution_count": 44,
   "id": "ae6e1fc4",
   "metadata": {},
   "outputs": [],
   "source": [
    "titanic_df = pd.read_csv(\"../dataSet/train.csv\")\n",
    "y_titanic = titanic_df[\"Survived\"]\n",
    "X_titanic= titanic_df.drop('Survived',axis=1)\n",
    "\n",
    "X_titanic = transform_features(X_titanic)"
   ]
  },
  {
   "cell_type": "code",
   "execution_count": 45,
   "id": "ac99ece6",
   "metadata": {},
   "outputs": [],
   "source": [
    "X_train, X_test, y_train, y_test=train_test_split(X_titanic, y_titanic, \\\n",
    "                                                  test_size=0.2, random_state=11)\n",
    "\n",
    "rf_model = RandomForestClassifier(n_estimators= 100, random_state=11)"
   ]
  },
  {
   "cell_type": "code",
   "execution_count": 46,
   "id": "599fd7f1",
   "metadata": {},
   "outputs": [],
   "source": [
    "rf_model.fit(X_train, y_train)\n",
    "rf_pred = rf_model.predict(X_test)\n",
    "rf_pred_proba = rf_model.predict_proba(X_test)"
   ]
  },
  {
   "cell_type": "code",
   "execution_count": 6,
   "id": "1082d3c5",
   "metadata": {},
   "outputs": [],
   "source": [
    "def get_clf_eval(y_test = None, pred = None, pred_proba=None):\n",
    "    confusion = confusion_matrix(y_test, pred)\n",
    "    accuracy = round(accuracy_score(y_test, pred),4)\n",
    "    precision = round(precision_score(y_test, pred),4)\n",
    "    recall = round(recall_score(y_test, pred),4)\n",
    "    f1 = round(f1_score(y_test, pred),4)\n",
    "    roc_auc = round(roc_auc_score(y_test, pred_proba[:, 1]),4)\n",
    "    print(\"오차 행렬\")\n",
    "    print(confusion)\n",
    "    print(f\"정확도 : {accuracy}, 정밀도 : {precision}\\n재현율 : {recall}, f1 : {f1}\")\n",
    "    print(f\"AUC : {roc_auc}\")"
   ]
  },
  {
   "cell_type": "code",
   "execution_count": 47,
   "id": "33890d4e",
   "metadata": {},
   "outputs": [
    {
     "name": "stdout",
     "output_type": "stream",
     "text": [
      "오차 행렬\n",
      "[[109   9]\n",
      " [ 17  44]]\n",
      "정확도 : 0.8547, 정밀도 : 0.8302\n",
      "재현율 : 0.7213, f1 : 0.7719\n",
      "AUC : 0.8934\n"
     ]
    }
   ],
   "source": [
    "get_clf_eval(y_test, rf_pred, rf_pred_proba)"
   ]
  },
  {
   "cell_type": "code",
   "execution_count": 52,
   "id": "3eeb1526",
   "metadata": {},
   "outputs": [
    {
     "name": "stdout",
     "output_type": "stream",
     "text": [
      "최적 하이퍼 파라미터 : \n",
      " {'max_depth': 8, 'min_samples_leaf': 2, 'min_samples_split': 12, 'n_estimators': 50}\n",
      "최고 예측 정확도 :  0.8287\n"
     ]
    }
   ],
   "source": [
    "params = {\n",
    "    \"n_estimators\" : [50, 100, 200, 300],\n",
    "    \"max_depth\" : [2,4,6,8],\n",
    "    \"min_samples_leaf\" : [2,6,8,10,12,18],\n",
    "    \"min_samples_split\" : [2,4,8,12,16]\n",
    "}\n",
    "\n",
    "rf_clf = RandomForestClassifier(random_state = 0, n_jobs = -1)\n",
    "grid_cv = GridSearchCV(rf_clf, param_grid = params, cv = 5, n_jobs = -1)\n",
    "grid_cv.fit(X_train, y_train)\n",
    "\n",
    "print(\"최적 하이퍼 파라미터 : \\n\", grid_cv.best_params_)\n",
    "print(f\"최고 예측 정확도 : {grid_cv.best_score_ : .4f}\")"
   ]
  },
  {
   "cell_type": "code",
   "execution_count": 49,
   "id": "710ba811",
   "metadata": {},
   "outputs": [],
   "source": [
    "X_train, X_test, y_train, y_test=train_test_split(X_titanic, y_titanic, \\\n",
    "                                                  test_size=0.2, random_state=11)\n",
    "\n",
    "rf_model = RandomForestClassifier(max_depth= 8, min_samples_leaf= 2, min_samples_split= 12, n_estimators= 50, random_state=11)"
   ]
  },
  {
   "cell_type": "code",
   "execution_count": 50,
   "id": "c01e1c5b",
   "metadata": {},
   "outputs": [],
   "source": [
    "rf_model.fit(X_train, y_train)\n",
    "rf_pred = rf_model.predict(X_test)\n",
    "rf_pred_proba = rf_model.predict_proba(X_test)"
   ]
  },
  {
   "cell_type": "code",
   "execution_count": 51,
   "id": "9f3d90ec",
   "metadata": {},
   "outputs": [
    {
     "name": "stdout",
     "output_type": "stream",
     "text": [
      "오차 행렬\n",
      "[[110   8]\n",
      " [ 15  46]]\n",
      "정확도 : 0.8715, 정밀도 : 0.8519\n",
      "재현율 : 0.7541, f1 : 0.8\n",
      "AUC : 0.9143\n"
     ]
    }
   ],
   "source": [
    "get_clf_eval(y_test, rf_pred, rf_pred_proba)"
   ]
  },
  {
   "cell_type": "markdown",
   "id": "e88094b8",
   "metadata": {},
   "source": [
    "### 과제2_0518\n",
    "과제1로부터 변수 중요도를 도출하고 시각화를 수행하시오."
   ]
  },
  {
   "cell_type": "code",
   "execution_count": 48,
   "id": "c0fbacfb",
   "metadata": {},
   "outputs": [
    {
     "data": {
      "image/png": "[encoded data removed]",
      "text/plain": [
       "<Figure size 640x480 with 1 Axes>"
      ]
     },
     "metadata": {},
     "output_type": "display_data"
    }
   ],
   "source": [
    "importances = rf_model.feature_importances_\n",
    "\n",
    "# 중요도 기준으로 변수 순서 정렬\n",
    "indices = np.argsort(importances)[::-1]\n",
    "\n",
    "# 변수명 배열\n",
    "feature_names = X_titanic.columns\n",
    "\n",
    "# 변수 중요도 시각화\n",
    "plt.figure()\n",
    "plt.title(\"Variable Importance\")\n",
    "plt.bar(range(X_titanic.shape[1]), importances[indices], align=\"center\")\n",
    "plt.xticks(range(X_titanic.shape[1]), feature_names[indices], rotation=45)\n",
    "plt.xlabel(\"Variables\")\n",
    "plt.ylabel(\"Importance\")\n",
    "plt.tight_layout()\n",
    "plt.show()"
   ]
  },
  {
   "cell_type": "code",
   "execution_count": null,
   "id": "2b689eeb",
   "metadata": {},
   "outputs": [],
   "source": []
  }
 ],
 "metadata": {
  "kernelspec": {
   "display_name": "Python 3 (ipykernel)",
   "language": "python",
   "name": "python3"
  },
  "language_info": {
   "codemirror_mode": {
    "name": "ipython",
    "version": 3
   },
   "file_extension": ".py",
   "mimetype": "text/x-python",
   "name": "python",
   "nbconvert_exporter": "python",
   "pygments_lexer": "ipython3",
   "version": "3.9.13"
  }
 },
 "nbformat": 4,
 "nbformat_minor": 5
}
