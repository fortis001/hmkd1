{
 "cells": [
  {
   "cell_type": "code",
   "execution_count": 17,
   "id": "f4aed4f1",
   "metadata": {},
   "outputs": [],
   "source": [
    "import pandas as pd\n",
    "from sklearn.preprocessing import LabelEncoder\n",
    "from sklearn.preprocessing import OneHotEncoder\n",
    "import numpy as np\n",
    "from sklearn.model_selection import train_test_split\n",
    "from sklearn.metrics import accuracy_score, precision_score, recall_score, confusion_matrix, f1_score, roc_auc_score\n",
    "import re\n",
    "from sklearn.tree import DecisionTreeClassifier\n",
    "from sklearn.linear_model import LogisticRegression\n",
    "from sklearn.preprocessing import Binarizer\n",
    "from sklearn.metrics import precision_recall_curve, roc_curve\n",
    "import matplotlib.pyplot as plt\n",
    "import matplotlib.ticker as ticker"
   ]
  },
  {
   "cell_type": "markdown",
   "id": "ae053d28",
   "metadata": {},
   "source": [
    "### 과제 1_0517\n",
    "전처리 사용자 함수 transform_features(df)를 생성하여 적용하고 알고리즘 dt를 사용하여 모델링 및 성능 평가를 수행하시오."
   ]
  },
  {
   "cell_type": "code",
   "execution_count": 2,
   "id": "d952511b",
   "metadata": {},
   "outputs": [],
   "source": [
    "def get_category(age):\n",
    "    cat = ''\n",
    "    if age <= -1: cat = 'Unknown'\n",
    "    elif age <= 5: cat = 'Baby'\n",
    "    elif age <= 15: cat = 'Child'\n",
    "    elif age <= 20: cat = 'Teenager'\n",
    "    elif age <= 30: cat = 'Twenties'\n",
    "    elif age <= 35: cat = 'Young Adult'\n",
    "    elif age <= 50: cat = 'Adult'\n",
    "    else : cat = 'Elderly'\n",
    "    \n",
    "    return cat\n",
    "def Fare_Cat(fare):\n",
    "    cat = ''\n",
    "    if fare <= -1: cat = 'Unknown'\n",
    "    elif fare <= 8: cat = 'Very Low'\n",
    "    elif fare <= 11: cat = 'Low'\n",
    "    elif fare <= 25: cat = 'Middle'\n",
    "    elif fare <= 50: cat = 'High'\n",
    "    elif fare <= 100: cat = 'Very High'\n",
    "    else : cat = 'Extra High'\n",
    "    \n",
    "    return cat\n",
    "def transform_features(df):\n",
    "    df.dropna(axis = 1, thresh = len(titanic_df)/2, inplace = True)\n",
    "    \n",
    "    big = df[\"Embarked\"].value_counts().idxmax()\n",
    "    df[\"Embarked\"].fillna(big, inplace = True)\n",
    "    \n",
    "    pattern = r\", (.*?)\\.\"\n",
    "    df[\"Title\"] = df[\"Name\"].apply(lambda x: re.search(pattern, x).group(1))\n",
    "    \n",
    "    df['Age'] = df.groupby('Title')['Age'].transform(lambda x: x.fillna(round(x.mean(),0)))\n",
    "    \n",
    "    df.drop(['Name', \"Ticket\", \"PassengerId\", \"SibSp\", \"Parch\", \"Embarked\"], axis=1, inplace=True)\n",
    "    \n",
    "    df[\"Age_cat\"] = df['Age'].apply(lambda x : get_category(x))\n",
    "    \n",
    "    df[\"Fare_cat\"] = df['Fare'].apply(lambda x : Fare_Cat(x))\n",
    "    \n",
    "    df.drop([\"Age\", \"Fare\"] , axis=1, inplace=True)\n",
    "    \n",
    "    features = [\"Pclass\", \"Sex\", \"Title\", \"Age_cat\", \"Fare_cat\"]\n",
    "    for feature in features:\n",
    "        le = LabelEncoder()\n",
    "        le = le.fit(df[feature])\n",
    "        df[feature] = le.transform(df[feature])\n",
    "    return df"
   ]
  },
  {
   "cell_type": "code",
   "execution_count": 3,
   "id": "b727c378",
   "metadata": {},
   "outputs": [],
   "source": [
    "titanic_df = pd.read_csv(\"../dataSet/train.csv\")\n",
    "y_titanic = titanic_df[\"Survived\"]\n",
    "X_titanic= titanic_df.drop('Survived',axis=1)\n",
    "\n",
    "X_titanic = transform_features(X_titanic)"
   ]
  },
  {
   "cell_type": "code",
   "execution_count": 4,
   "id": "6a380935",
   "metadata": {},
   "outputs": [],
   "source": [
    "X_train, X_test, y_train, y_test=train_test_split(X_titanic, y_titanic, \\\n",
    "                                                  test_size=0.2, random_state=11)\n",
    "dt_clf = DecisionTreeClassifier(random_state=11)"
   ]
  },
  {
   "cell_type": "code",
   "execution_count": 5,
   "id": "282a2f83",
   "metadata": {},
   "outputs": [
    {
     "name": "stdout",
     "output_type": "stream",
     "text": [
      "DecisionTreeClassifier 정확도: 0.8547\n"
     ]
    }
   ],
   "source": [
    "dt_clf.fit(X_train , y_train)\n",
    "dt_pred = dt_clf.predict(X_test)\n",
    "dt_pred_proba = dt_clf.predict_proba(X_test)\n",
    "print('DecisionTreeClassifier 정확도: {0:.4f}'.format(accuracy_score(y_test, dt_pred)))"
   ]
  },
  {
   "cell_type": "markdown",
   "id": "f13a2644",
   "metadata": {},
   "source": [
    "### 과제2_0517\n",
    "랜덤하게 2차원 배열을 생성한 후, 임계값을 0.5로 지정한 후 임계값보다 크면 1, 작으면 0으로 변환하시오."
   ]
  },
  {
   "cell_type": "code",
   "execution_count": 6,
   "id": "7c3daf33",
   "metadata": {},
   "outputs": [
    {
     "data": {
      "text/plain": [
       "array([[1., 1., 1.],\n",
       "       [0., 1., 0.]])"
      ]
     },
     "execution_count": 6,
     "metadata": {},
     "output_type": "execute_result"
    }
   ],
   "source": [
    "ar = np.random.random(6).reshape(2,3)\n",
    "\n",
    "binarizer = Binarizer(threshold = 0.5)\n",
    "binarizer.fit_transform(ar)"
   ]
  },
  {
   "cell_type": "markdown",
   "id": "59ffabea",
   "metadata": {},
   "source": [
    "### 과제 3_1517\n",
    "타이타닉 데이터셋으로 모델링 한 후 ROC, AUC를 포함한 모든 분류 평가지표를 사용하여 평가를 수행하고 ROC AUC를 시각화하시오."
   ]
  },
  {
   "cell_type": "code",
   "execution_count": 12,
   "id": "bf2b7cc9",
   "metadata": {},
   "outputs": [],
   "source": [
    "def get_clf_eval(y_test = None, pred = None, pred_proba=None):\n",
    "    confusion = confusion_matrix(y_test, pred)\n",
    "    accuracy = round(accuracy_score(y_test, pred),4)\n",
    "    precision = round(precision_score(y_test, pred),4)\n",
    "    recall = round(recall_score(y_test, pred),4)\n",
    "    f1 = round(f1_score(y_test, pred),4)\n",
    "    roc_auc = round(roc_auc_score(y_test, pred_proba[:, 1]),4)\n",
    "    print(\"오차 행렬\")\n",
    "    print(confusion)\n",
    "    print(f\"정확도 : {accuracy}, 정밀도 : {precision}\\n재현율 : {recall}, f1 : {f1}\")\n",
    "    print(f\"AUC : {roc_auc}\")"
   ]
  },
  {
   "cell_type": "code",
   "execution_count": 13,
   "id": "eabe116d",
   "metadata": {},
   "outputs": [
    {
     "name": "stdout",
     "output_type": "stream",
     "text": [
      "오차 행렬\n",
      "[[109   9]\n",
      " [ 17  44]]\n",
      "정확도 : 0.8547, 정밀도 : 0.8302\n",
      "재현율 : 0.7213, f1 : 0.7719\n",
      "AUC : 0.8603\n"
     ]
    }
   ],
   "source": [
    "get_clf_eval(y_test, dt_pred, dt_pred_proba)"
   ]
  },
  {
   "cell_type": "code",
   "execution_count": 18,
   "id": "d7f9bbec",
   "metadata": {},
   "outputs": [],
   "source": [
    "def roc_curve_plot(y_test, pred_proba_c1):\n",
    "    fprs, tprs, thresholds = roc_curve(y_test, pred_proba_c1)\n",
    "    \n",
    "    plt.plot(fprs, tprs, label = \"ROC\")\n",
    "    plt.plot([0,1],[0,1], \"k--\", label = \"Random\")\n",
    "    \n",
    "    start, end = plt.xlim()\n",
    "    plt.xticks(np.round(np.arange(start, end, 0.1),2))\n",
    "    plt.xlim(0,1)\n",
    "    plt.ylim(0,1)\n",
    "    plt.xlabel(\"FPR(1 - Soecificity)\")\n",
    "    plt.ylabel(\"TPR(Recall)\")\n",
    "    plt.legend()"
   ]
  },
  {
   "cell_type": "code",
   "execution_count": 19,
   "id": "6ec628db",
   "metadata": {},
   "outputs": [
    {
     "data": {
      "image/png": "[encoded data removed]",
      "text/plain": [
       "<Figure size 640x480 with 1 Axes>"
      ]
     },
     "metadata": {},
     "output_type": "display_data"
    }
   ],
   "source": [
    "roc_curve_plot(y_test, dt_pred_proba[:,1])"
   ]
  },
  {
   "cell_type": "code",
   "execution_count": 1,
   "id": "2f6b4b1d",
   "metadata": {},
   "outputs": [
    {
     "ename": "NameError",
     "evalue": "name 'dt_pred_proba' is not defined",
     "output_type": "error",
     "traceback": [
      "\u001b[1;31m---------------------------------------------------------------------------\u001b[0m",
      "\u001b[1;31mNameError\u001b[0m                                 Traceback (most recent call last)",
      "\u001b[1;32m~\\AppData\\Local\\Temp\\ipykernel_10304\\1927706936.py\u001b[0m in \u001b[0;36m<module>\u001b[1;34m\u001b[0m\n\u001b[1;32m----> 1\u001b[1;33m \u001b[0mdt_pred_proba\u001b[0m\u001b[1;33m\u001b[0m\u001b[1;33m\u001b[0m\u001b[0m\n\u001b[0m",
      "\u001b[1;31mNameError\u001b[0m: name 'dt_pred_proba' is not defined"
     ]
    }
   ],
   "source": []
  }
 ],
 "metadata": {
  "kernelspec": {
   "display_name": "Python 3 (ipykernel)",
   "language": "python",
   "name": "python3"
  },
  "language_info": {
   "codemirror_mode": {
    "name": "ipython",
    "version": 3
   },
   "file_extension": ".py",
   "mimetype": "text/x-python",
   "name": "python",
   "nbconvert_exporter": "python",
   "pygments_lexer": "ipython3",
   "version": "3.9.13"
  }
 },
 "nbformat": 4,
 "nbformat_minor": 5
}
