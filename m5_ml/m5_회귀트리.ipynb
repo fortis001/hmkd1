{
 "cells": [
  {
   "cell_type": "code",
   "execution_count": 35,
   "id": "49dec197",
   "metadata": {},
   "outputs": [],
   "source": [
    "from sklearn.datasets import load_boston\n",
    "from sklearn.model_selection import cross_val_score\n",
    "from sklearn.ensemble import RandomForestRegressor\n",
    "from sklearn.tree import DecisionTreeRegressor\n",
    "from sklearn.ensemble import GradientBoostingRegressor\n",
    "from xgboost import XGBRegressor\n",
    "from lightgbm import LGBMRegressor\n",
    "from sklearn.linear_model import LinearRegression\n",
    "import pandas as pd\n",
    "import numpy as np\n",
    "import seaborn as sns\n",
    "import matplotlib.pyplot as plt\n",
    "\n",
    "\n",
    "\n",
    "import warnings\n",
    "warnings.filterwarnings(\"ignore\")"
   ]
  },
  {
   "cell_type": "markdown",
   "id": "8d0024be",
   "metadata": {},
   "source": [
    "### 회귀 트리\n",
    "- 회귀 함수를 기반으로 하지 않고 결정 트리와 같이 트리를 기반으로 하는 회귀 방식\n",
    "- 회귀를 위한 트리를 생성하고 이를 기반으로 회귀 예측\n",
    "- 리프 노드에서 예측 결정 값을 만드는 과정에서 분류 트리가 특정 클래스 레이블을 결정하는 것과 달리 회귀 트리는 리프 노드에 속한 데이터 값의 평균값을 구해 회귀 예측값을 계산\n",
    "- 결정트리, 랜덤 포레스트, GBM, XGBOOST, LIGHTGBM 등 트리 기반의 알고리즘은 분류뿐만 아니라 회귀도 가능한데 트리 생성이 CART(Classification And Regression Trees)에 기반하고 있기 때문이며 CART는 분류뿐만 아니라 회귀도 가능하게 해주는 트리 생성 알고리즘임"
   ]
  },
  {
   "cell_type": "code",
   "execution_count": 4,
   "id": "867d4505",
   "metadata": {},
   "outputs": [
    {
     "data": {
      "text/html": [
       "<div>\n",
       "<style scoped>\n",
       "    .dataframe tbody tr th:only-of-type {\n",
       "        vertical-align: middle;\n",
       "    }\n",
       "\n",
       "    .dataframe tbody tr th {\n",
       "        vertical-align: top;\n",
       "    }\n",
       "\n",
       "    .dataframe thead th {\n",
       "        text-align: right;\n",
       "    }\n",
       "</style>\n",
       "<table border=\"1\" class=\"dataframe\">\n",
       "  <thead>\n",
       "    <tr style=\"text-align: right;\">\n",
       "      <th></th>\n",
       "      <th>CRIM</th>\n",
       "      <th>ZN</th>\n",
       "      <th>INDUS</th>\n",
       "      <th>CHAS</th>\n",
       "      <th>NOX</th>\n",
       "      <th>RM</th>\n",
       "      <th>AGE</th>\n",
       "      <th>DIS</th>\n",
       "      <th>RAD</th>\n",
       "      <th>TAX</th>\n",
       "      <th>PTRATIO</th>\n",
       "      <th>B</th>\n",
       "      <th>LSTAT</th>\n",
       "      <th>PRICE</th>\n",
       "    </tr>\n",
       "  </thead>\n",
       "  <tbody>\n",
       "    <tr>\n",
       "      <th>0</th>\n",
       "      <td>0.00632</td>\n",
       "      <td>18.0</td>\n",
       "      <td>2.31</td>\n",
       "      <td>0.0</td>\n",
       "      <td>0.538</td>\n",
       "      <td>6.575</td>\n",
       "      <td>65.2</td>\n",
       "      <td>4.0900</td>\n",
       "      <td>1.0</td>\n",
       "      <td>296.0</td>\n",
       "      <td>15.3</td>\n",
       "      <td>396.90</td>\n",
       "      <td>4.98</td>\n",
       "      <td>24.0</td>\n",
       "    </tr>\n",
       "    <tr>\n",
       "      <th>1</th>\n",
       "      <td>0.02731</td>\n",
       "      <td>0.0</td>\n",
       "      <td>7.07</td>\n",
       "      <td>0.0</td>\n",
       "      <td>0.469</td>\n",
       "      <td>6.421</td>\n",
       "      <td>78.9</td>\n",
       "      <td>4.9671</td>\n",
       "      <td>2.0</td>\n",
       "      <td>242.0</td>\n",
       "      <td>17.8</td>\n",
       "      <td>396.90</td>\n",
       "      <td>9.14</td>\n",
       "      <td>21.6</td>\n",
       "    </tr>\n",
       "    <tr>\n",
       "      <th>2</th>\n",
       "      <td>0.02729</td>\n",
       "      <td>0.0</td>\n",
       "      <td>7.07</td>\n",
       "      <td>0.0</td>\n",
       "      <td>0.469</td>\n",
       "      <td>7.185</td>\n",
       "      <td>61.1</td>\n",
       "      <td>4.9671</td>\n",
       "      <td>2.0</td>\n",
       "      <td>242.0</td>\n",
       "      <td>17.8</td>\n",
       "      <td>392.83</td>\n",
       "      <td>4.03</td>\n",
       "      <td>34.7</td>\n",
       "    </tr>\n",
       "    <tr>\n",
       "      <th>3</th>\n",
       "      <td>0.03237</td>\n",
       "      <td>0.0</td>\n",
       "      <td>2.18</td>\n",
       "      <td>0.0</td>\n",
       "      <td>0.458</td>\n",
       "      <td>6.998</td>\n",
       "      <td>45.8</td>\n",
       "      <td>6.0622</td>\n",
       "      <td>3.0</td>\n",
       "      <td>222.0</td>\n",
       "      <td>18.7</td>\n",
       "      <td>394.63</td>\n",
       "      <td>2.94</td>\n",
       "      <td>33.4</td>\n",
       "    </tr>\n",
       "    <tr>\n",
       "      <th>4</th>\n",
       "      <td>0.06905</td>\n",
       "      <td>0.0</td>\n",
       "      <td>2.18</td>\n",
       "      <td>0.0</td>\n",
       "      <td>0.458</td>\n",
       "      <td>7.147</td>\n",
       "      <td>54.2</td>\n",
       "      <td>6.0622</td>\n",
       "      <td>3.0</td>\n",
       "      <td>222.0</td>\n",
       "      <td>18.7</td>\n",
       "      <td>396.90</td>\n",
       "      <td>5.33</td>\n",
       "      <td>36.2</td>\n",
       "    </tr>\n",
       "  </tbody>\n",
       "</table>\n",
       "</div>"
      ],
      "text/plain": [
       "      CRIM    ZN  INDUS  CHAS    NOX     RM   AGE     DIS  RAD    TAX  \\\n",
       "0  0.00632  18.0   2.31   0.0  0.538  6.575  65.2  4.0900  1.0  296.0   \n",
       "1  0.02731   0.0   7.07   0.0  0.469  6.421  78.9  4.9671  2.0  242.0   \n",
       "2  0.02729   0.0   7.07   0.0  0.469  7.185  61.1  4.9671  2.0  242.0   \n",
       "3  0.03237   0.0   2.18   0.0  0.458  6.998  45.8  6.0622  3.0  222.0   \n",
       "4  0.06905   0.0   2.18   0.0  0.458  7.147  54.2  6.0622  3.0  222.0   \n",
       "\n",
       "   PTRATIO       B  LSTAT  PRICE  \n",
       "0     15.3  396.90   4.98   24.0  \n",
       "1     17.8  396.90   9.14   21.6  \n",
       "2     17.8  392.83   4.03   34.7  \n",
       "3     18.7  394.63   2.94   33.4  \n",
       "4     18.7  396.90   5.33   36.2  "
      ]
     },
     "execution_count": 4,
     "metadata": {},
     "output_type": "execute_result"
    }
   ],
   "source": [
    "boston = load_boston()\n",
    "boston_df = pd.DataFrame(boston.data, columns = boston.feature_names)\n",
    "boston_df[\"PRICE\"] = boston.target\n",
    "boston_df.head()"
   ]
  },
  {
   "cell_type": "code",
   "execution_count": 13,
   "id": "47d14d50",
   "metadata": {},
   "outputs": [
    {
     "name": "stdout",
     "output_type": "stream",
     "text": [
      "5 교차 검증의 개별 Negative MSE :  [ -7.89 -13.06 -20.62 -46.14 -18.81]\n",
      "5 교차 검증의 개별 RMSE :  [2.81 3.61 4.54 6.79 4.34]\n",
      "5 교차 검증의 평균 RMSE :  4.42\n"
     ]
    }
   ],
   "source": [
    "y_target = boston_df.PRICE\n",
    "X_data = boston_df.drop([\"PRICE\"], axis = 1)\n",
    "\n",
    "rf = RandomForestRegressor(random_state = 0, n_estimators = 1000)\n",
    "neg_mse_scores = cross_val_score(rf, X_data, y_target, scoring = \"neg_mean_squared_error\", cv = 5)\n",
    "rmse_scores = np.sqrt(-1 * neg_mse_scores)\n",
    "avg_rmse = np.mean(rmse_scores)\n",
    "\n",
    "print(\"5 교차 검증의 개별 Negative MSE : \", np.round(neg_mse_scores, 2))\n",
    "print(\"5 교차 검증의 개별 RMSE : \", np.round(rmse_scores, 2))\n",
    "print(\"5 교차 검증의 평균 RMSE : \", np.round(avg_rmse, 2))"
   ]
  },
  {
   "cell_type": "code",
   "execution_count": 20,
   "id": "d9b6825e",
   "metadata": {},
   "outputs": [],
   "source": [
    "def get_model_cv_prediction(model, X_data, y_target):\n",
    "    neg_mse_scores = cross_val_score(model, X_data, y_target, scoring = \"neg_mean_squared_error\", cv = 5)\n",
    "    rmse_scores = np.sqrt(-1 * neg_mse_scores)\n",
    "    avg_rmse = np.mean(rmse_scores)\n",
    "\n",
    "    print(\"5 교차 검증의 개별 Negative MSE : \", np.round(neg_mse_scores, 2))\n",
    "    print(\"5 교차 검증의 개별 RMSE : \", np.round(rmse_scores, 2))\n",
    "    print(\"5 교차 검증의 평균 RMSE : \", np.round(avg_rmse, 2))"
   ]
  },
  {
   "cell_type": "code",
   "execution_count": 16,
   "id": "072bf67f",
   "metadata": {},
   "outputs": [],
   "source": [
    "dt = DecisionTreeRegressor()\n",
    "gb = GradientBoostingRegressor()\n",
    "xgb = XGBRegressor()\n",
    "lgb = LGBMRegressor()"
   ]
  },
  {
   "cell_type": "code",
   "execution_count": 21,
   "id": "aa5ffd70",
   "metadata": {},
   "outputs": [
    {
     "name": "stdout",
     "output_type": "stream",
     "text": [
      "5 교차 검증의 개별 Negative MSE :  [-12.51 -52.82 -28.07 -54.05 -75.44]\n",
      "5 교차 검증의 개별 RMSE :  [3.54 7.27 5.3  7.35 8.69]\n",
      "5 교차 검증의 평균 RMSE :  6.43\n"
     ]
    }
   ],
   "source": [
    "get_model_cv_prediction(dt, X_data, y_target)"
   ]
  },
  {
   "cell_type": "code",
   "execution_count": 22,
   "id": "3096670d",
   "metadata": {},
   "outputs": [
    {
     "name": "stdout",
     "output_type": "stream",
     "text": [
      "5 교차 검증의 개별 Negative MSE :  [ -7.46 -12.95 -19.36 -37.77 -15.34]\n",
      "5 교차 검증의 개별 RMSE :  [2.73 3.6  4.4  6.15 3.92]\n",
      "5 교차 검증의 평균 RMSE :  4.16\n"
     ]
    }
   ],
   "source": [
    "get_model_cv_prediction(gb, X_data, y_target)"
   ]
  },
  {
   "cell_type": "code",
   "execution_count": 23,
   "id": "23c46ac0",
   "metadata": {},
   "outputs": [
    {
     "name": "stdout",
     "output_type": "stream",
     "text": [
      "5 교차 검증의 개별 Negative MSE :  [ -9.17 -13.74 -13.95 -41.77 -18.68]\n",
      "5 교차 검증의 개별 RMSE :  [3.03 3.71 3.74 6.46 4.32]\n",
      "5 교차 검증의 평균 RMSE :  4.25\n"
     ]
    }
   ],
   "source": [
    "get_model_cv_prediction(xgb, X_data, y_target)"
   ]
  },
  {
   "cell_type": "code",
   "execution_count": 24,
   "id": "5f3f5741",
   "metadata": {},
   "outputs": [
    {
     "name": "stdout",
     "output_type": "stream",
     "text": [
      "5 교차 검증의 개별 Negative MSE :  [ -9.   -15.73 -18.18 -43.95 -24.96]\n",
      "5 교차 검증의 개별 RMSE :  [3.   3.97 4.26 6.63 5.  ]\n",
      "5 교차 검증의 평균 RMSE :  4.57\n"
     ]
    }
   ],
   "source": [
    "get_model_cv_prediction(lgb, X_data, y_target)"
   ]
  },
  {
   "cell_type": "code",
   "execution_count": 27,
   "id": "29ef52ac",
   "metadata": {},
   "outputs": [
    {
     "data": {
      "text/plain": [
       "<AxesSubplot:>"
      ]
     },
     "execution_count": 27,
     "metadata": {},
     "output_type": "execute_result"
    },
    {
     "data": {
      "image/png": "[encoded data removed]",
      "text/plain": [
       "<Figure size 640x480 with 1 Axes>"
      ]
     },
     "metadata": {},
     "output_type": "display_data"
    }
   ],
   "source": [
    "rf.fit(X_data, y_target)\n",
    "feature_series = pd.Series(data = rf.feature_importances_,index = X_data.columns)\n",
    "feature_series = feature_series.sort_values(ascending = False)\n",
    "sns.barplot(x = feature_series, y = feature_series.index)"
   ]
  },
  {
   "cell_type": "code",
   "execution_count": 32,
   "id": "11730540",
   "metadata": {},
   "outputs": [],
   "source": [
    "boston_df_sample = boston_df[[\"RM\",\"PRICE\"]]\n",
    "boston_df_sample = boston_df_sample.sample(n = 100, random_state = 0)"
   ]
  },
  {
   "cell_type": "code",
   "execution_count": 33,
   "id": "1807b4a2",
   "metadata": {},
   "outputs": [],
   "source": [
    "lr = LinearRegression()\n",
    "dt2 = DecisionTreeRegressor(max_depth = 2)\n",
    "dt7 = DecisionTreeRegressor(max_depth = 7)\n",
    "\n",
    "X_test = np.arange(4.5, 8.5, 0.04).reshape(-1,1)\n",
    "\n",
    "X_feature = boston_df_sample[\"RM\"].values.reshape(-1,1)\n",
    "y_target = boston_df_sample[\"PRICE\"].values.reshape(-1,1)\n",
    "\n",
    "lr.fit(X_feature, y_target)\n",
    "dt2.fit(X_feature, y_target)\n",
    "dt7.fit(X_feature, y_target)\n",
    "\n",
    "pred_lr = lr.predict(X_test)\n",
    "pred_dt2 = dt2.predict(X_test)\n",
    "pred_dt7 = dt7.predict(X_test)"
   ]
  },
  {
   "cell_type": "code",
   "execution_count": 36,
   "id": "c7e4a8a8",
   "metadata": {},
   "outputs": [
    {
     "data": {
      "text/plain": [
       "[<matplotlib.lines.Line2D at 0x224bd886340>]"
      ]
     },
     "execution_count": 36,
     "metadata": {},
     "output_type": "execute_result"
    },
    {
     "data": {
      "image/png": "[encoded data removed]",
      "text/plain": [
       "<Figure size 1400x400 with 3 Axes>"
      ]
     },
     "metadata": {},
     "output_type": "display_data"
    }
   ],
   "source": [
    "fig, (ax1, ax2, ax3) = plt.subplots(figsize = (14,4), ncols = 3)\n",
    "\n",
    "ax1.set_title(\"Linear Regression\")\n",
    "ax1.scatter(boston_df_sample.RM , boston_df_sample.PRICE, c = \"darkorange\")\n",
    "ax1.plot(X_test, pred_lr, label = \"linear\", linewidth = 2)\n",
    "\n",
    "ax2.set_title(\"Decision Tree Regression : \\n max_depth = 2\")\n",
    "ax2.scatter(boston_df_sample.RM , boston_df_sample.PRICE, c = \"darkorange\")\n",
    "ax2.plot(X_test, pred_dt2, label = \"max_depth : 2\", linewidth = 2)\n",
    "\n",
    "ax3.set_title(\"Decision Tree Regression : \\n max_depth = 7\")\n",
    "ax3.scatter(boston_df_sample.RM , boston_df_sample.PRICE, c = \"darkorange\")\n",
    "ax3.plot(X_test, pred_dt7, label = \"max_depth : 7\", linewidth = 2)"
   ]
  },
  {
   "cell_type": "code",
   "execution_count": 37,
   "id": "3fa5c7d0",
   "metadata": {},
   "outputs": [
    {
     "data": {
      "text/html": [
       "<div>\n",
       "<style scoped>\n",
       "    .dataframe tbody tr th:only-of-type {\n",
       "        vertical-align: middle;\n",
       "    }\n",
       "\n",
       "    .dataframe tbody tr th {\n",
       "        vertical-align: top;\n",
       "    }\n",
       "\n",
       "    .dataframe thead th {\n",
       "        text-align: right;\n",
       "    }\n",
       "</style>\n",
       "<table border=\"1\" class=\"dataframe\">\n",
       "  <thead>\n",
       "    <tr style=\"text-align: right;\">\n",
       "      <th></th>\n",
       "      <th>RM</th>\n",
       "      <th>PRICE</th>\n",
       "    </tr>\n",
       "  </thead>\n",
       "  <tbody>\n",
       "    <tr>\n",
       "      <th>329</th>\n",
       "      <td>6.333</td>\n",
       "      <td>22.6</td>\n",
       "    </tr>\n",
       "    <tr>\n",
       "      <th>371</th>\n",
       "      <td>6.216</td>\n",
       "      <td>50.0</td>\n",
       "    </tr>\n",
       "    <tr>\n",
       "      <th>219</th>\n",
       "      <td>6.373</td>\n",
       "      <td>23.0</td>\n",
       "    </tr>\n",
       "    <tr>\n",
       "      <th>403</th>\n",
       "      <td>5.349</td>\n",
       "      <td>8.3</td>\n",
       "    </tr>\n",
       "    <tr>\n",
       "      <th>78</th>\n",
       "      <td>6.232</td>\n",
       "      <td>21.2</td>\n",
       "    </tr>\n",
       "    <tr>\n",
       "      <th>...</th>\n",
       "      <td>...</td>\n",
       "      <td>...</td>\n",
       "    </tr>\n",
       "    <tr>\n",
       "      <th>246</th>\n",
       "      <td>6.108</td>\n",
       "      <td>24.3</td>\n",
       "    </tr>\n",
       "    <tr>\n",
       "      <th>374</th>\n",
       "      <td>4.138</td>\n",
       "      <td>13.8</td>\n",
       "    </tr>\n",
       "    <tr>\n",
       "      <th>56</th>\n",
       "      <td>6.383</td>\n",
       "      <td>24.7</td>\n",
       "    </tr>\n",
       "    <tr>\n",
       "      <th>455</th>\n",
       "      <td>6.525</td>\n",
       "      <td>14.1</td>\n",
       "    </tr>\n",
       "    <tr>\n",
       "      <th>60</th>\n",
       "      <td>5.741</td>\n",
       "      <td>18.7</td>\n",
       "    </tr>\n",
       "  </tbody>\n",
       "</table>\n",
       "<p>100 rows × 2 columns</p>\n",
       "</div>"
      ],
      "text/plain": [
       "        RM  PRICE\n",
       "329  6.333   22.6\n",
       "371  6.216   50.0\n",
       "219  6.373   23.0\n",
       "403  5.349    8.3\n",
       "78   6.232   21.2\n",
       "..     ...    ...\n",
       "246  6.108   24.3\n",
       "374  4.138   13.8\n",
       "56   6.383   24.7\n",
       "455  6.525   14.1\n",
       "60   5.741   18.7\n",
       "\n",
       "[100 rows x 2 columns]"
      ]
     },
     "execution_count": 37,
     "metadata": {},
     "output_type": "execute_result"
    }
   ],
   "source": [
    "boston_df_sample"
   ]
  }
 ],
 "metadata": {
  "kernelspec": {
   "display_name": "Python 3 (ipykernel)",
   "language": "python",
   "name": "python3"
  },
  "language_info": {
   "codemirror_mode": {
    "name": "ipython",
    "version": 3
   },
   "file_extension": ".py",
   "mimetype": "text/x-python",
   "name": "python",
   "nbconvert_exporter": "python",
   "pygments_lexer": "ipython3",
   "version": "3.9.13"
  }
 },
 "nbformat": 4,
 "nbformat_minor": 5
}
