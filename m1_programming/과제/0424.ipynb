{
 "cells": [
  {
   "cell_type": "code",
   "execution_count": 1,
   "id": "60362b5a",
   "metadata": {},
   "outputs": [],
   "source": [
    "import re"
   ]
  },
  {
   "cell_type": "markdown",
   "id": "11e04d77",
   "metadata": {},
   "source": [
    "### 과제1_0424\n",
    "정규표현식을 사용하여 이메일을 추출하시오.\n",
    "\n",
    "text = \"이메일 주소는 abc123@gmail.com입니다.\""
   ]
  },
  {
   "cell_type": "code",
   "execution_count": 2,
   "id": "fe3b8995",
   "metadata": {},
   "outputs": [
    {
     "data": {
      "text/plain": [
       "<re.Match object; span=(8, 24), match='abc123@gmail.com'>"
      ]
     },
     "execution_count": 2,
     "metadata": {},
     "output_type": "execute_result"
    }
   ],
   "source": [
    "text = \"이메일 주소는 abc123@gmail.com입니다.\"\n",
    "\n",
    "pattern = \"\\w+@\\w+.com\"\n",
    "\n",
    "re.search(pattern, text)"
   ]
  },
  {
   "cell_type": "markdown",
   "id": "f11adbbd",
   "metadata": {},
   "source": [
    "### 과제2_0424\n",
    "정규표현식을 사용하여 text에서 전화번호를 추출하시오.\n",
    "\n",
    "text = \"저의 전화번호는 010-1234-5678입니다.\""
   ]
  },
  {
   "cell_type": "code",
   "execution_count": 3,
   "id": "e8ad2de1",
   "metadata": {},
   "outputs": [
    {
     "data": {
      "text/plain": [
       "<re.Match object; span=(9, 22), match='010-1234-5678'>"
      ]
     },
     "execution_count": 3,
     "metadata": {},
     "output_type": "execute_result"
    }
   ],
   "source": [
    "text = \"저의 전화번호는 010-1234-5678입니다.\"\n",
    "\n",
    "pattern = \"\\d{2,3}-\\d{3,4}-\\d{3,4}\"\n",
    "\n",
    "re.search(pattern, text)"
   ]
  },
  {
   "cell_type": "markdown",
   "id": "d7f09856",
   "metadata": {},
   "source": [
    "### 과제4_0424\n",
    "정규표현식을 이용하여 html 태그를 제거하시오.\n",
    "\n",
    "html_string = \"<p>안녕하세요. <b>파이썬<lb>입니다.</p>\""
   ]
  },
  {
   "cell_type": "code",
   "execution_count": 4,
   "id": "b0d319e7",
   "metadata": {},
   "outputs": [
    {
     "data": {
      "text/plain": [
       "'안녕하세요. 파이썬입니다.'"
      ]
     },
     "execution_count": 4,
     "metadata": {},
     "output_type": "execute_result"
    }
   ],
   "source": [
    "html_string = \"<p>안녕하세요. <b>파이썬<lb>입니다.</p>\"\n",
    "\n",
    "pattern = \"[<p>bl/]\"\n",
    "\n",
    "re.sub(pattern, \"\", html_string)"
   ]
  },
  {
   "cell_type": "markdown",
   "id": "f1c37e55",
   "metadata": {},
   "source": [
    "### 과제5_0424\n",
    "text = \" Python3 is very good programming language!\" 에서  다음을 수행하시오.\n",
    "\n",
    "- [\"Python\", \"is\", \"very\", \"good\", \"programming\", \"language\"]를 출력\n",
    "- Python3 출력\n",
    "- Python 출력\n",
    "- 숫자만 출력\n",
    "- Python3를 python으로 대체"
   ]
  },
  {
   "cell_type": "code",
   "execution_count": 5,
   "id": "2b1caecd",
   "metadata": {},
   "outputs": [
    {
     "data": {
      "text/plain": [
       "['Python', 'is', 'very', 'good', 'programming', 'language']"
      ]
     },
     "execution_count": 5,
     "metadata": {},
     "output_type": "execute_result"
    }
   ],
   "source": [
    "text = \" Python3 is very good programming language!\" \n",
    "\n",
    "pattern = \"[a-zA-Z]+\"\n",
    "\n",
    "re.findall(pattern, text)"
   ]
  },
  {
   "cell_type": "code",
   "execution_count": 6,
   "id": "3f77aa18",
   "metadata": {},
   "outputs": [
    {
     "data": {
      "text/plain": [
       "<re.Match object; span=(1, 8), match='Python3'>"
      ]
     },
     "execution_count": 6,
     "metadata": {},
     "output_type": "execute_result"
    }
   ],
   "source": [
    "pattern = \"[\\w]+\"\n",
    "\n",
    "re.search(pattern, text)"
   ]
  },
  {
   "cell_type": "code",
   "execution_count": 7,
   "id": "f070f6af",
   "metadata": {},
   "outputs": [
    {
     "data": {
      "text/plain": [
       "<re.Match object; span=(1, 7), match='Python'>"
      ]
     },
     "execution_count": 7,
     "metadata": {},
     "output_type": "execute_result"
    }
   ],
   "source": [
    "pattern = \"[a-zA-z]+\"\n",
    "\n",
    "re.search(pattern, text)"
   ]
  },
  {
   "cell_type": "code",
   "execution_count": 8,
   "id": "3697ab9c",
   "metadata": {},
   "outputs": [
    {
     "data": {
      "text/plain": [
       "['3']"
      ]
     },
     "execution_count": 8,
     "metadata": {},
     "output_type": "execute_result"
    }
   ],
   "source": [
    "pattern = \"\\d\"\n",
    "\n",
    "re.findall(pattern, text)"
   ]
  },
  {
   "cell_type": "code",
   "execution_count": 9,
   "id": "5ca1b436",
   "metadata": {},
   "outputs": [
    {
     "data": {
      "text/plain": [
       "' python is very good programming language!'"
      ]
     },
     "execution_count": 9,
     "metadata": {},
     "output_type": "execute_result"
    }
   ],
   "source": [
    "pattern = \"[\\w]+\\d\"\n",
    "\n",
    "re.sub(pattern, \"python\", text)"
   ]
  },
  {
   "cell_type": "code",
   "execution_count": null,
   "id": "0d07cb5b",
   "metadata": {},
   "outputs": [],
   "source": []
  }
 ],
 "metadata": {
  "kernelspec": {
   "display_name": "Python 3 (ipykernel)",
   "language": "python",
   "name": "python3"
  },
  "language_info": {
   "codemirror_mode": {
    "name": "ipython",
    "version": 3
   },
   "file_extension": ".py",
   "mimetype": "text/x-python",
   "name": "python",
   "nbconvert_exporter": "python",
   "pygments_lexer": "ipython3",
   "version": "3.9.13"
  }
 },
 "nbformat": 4,
 "nbformat_minor": 5
}
