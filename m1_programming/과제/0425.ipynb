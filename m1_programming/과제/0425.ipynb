{
 "cells": [
  {
   "cell_type": "code",
   "execution_count": 1,
   "id": "dc70588b",
   "metadata": {},
   "outputs": [],
   "source": [
    "import re"
   ]
  },
  {
   "cell_type": "markdown",
   "id": "1e835ad7",
   "metadata": {},
   "source": [
    "### 과제1_0425\n",
    "BC, CC, ABC 모두 C가 출력되는 정규 표현식을 작성하시오."
   ]
  },
  {
   "cell_type": "code",
   "execution_count": 2,
   "id": "8ebf5164",
   "metadata": {},
   "outputs": [
    {
     "data": {
      "text/plain": [
       "<re.Match object; span=(1, 2), match='C'>"
      ]
     },
     "execution_count": 2,
     "metadata": {},
     "output_type": "execute_result"
    }
   ],
   "source": [
    "text1 = \"BC\"\n",
    "text2 = \"CC\"\n",
    "text3 = \"ABC\"\n",
    "\n",
    "pattern = \"[A-Z]$\"\n",
    "re.search(pattern, text1)"
   ]
  },
  {
   "cell_type": "code",
   "execution_count": 3,
   "id": "a2516bc3",
   "metadata": {},
   "outputs": [
    {
     "data": {
      "text/plain": [
       "<re.Match object; span=(1, 2), match='C'>"
      ]
     },
     "execution_count": 3,
     "metadata": {},
     "output_type": "execute_result"
    }
   ],
   "source": [
    "re.search(pattern, text2)"
   ]
  },
  {
   "cell_type": "code",
   "execution_count": 4,
   "id": "ed8596d0",
   "metadata": {},
   "outputs": [
    {
     "data": {
      "text/plain": [
       "<re.Match object; span=(2, 3), match='C'>"
      ]
     },
     "execution_count": 4,
     "metadata": {},
     "output_type": "execute_result"
    }
   ],
   "source": [
    "re.search(pattern, text3)"
   ]
  },
  {
   "cell_type": "markdown",
   "id": "482a9c5d",
   "metadata": {},
   "source": [
    "### 과제2_0425\n",
    "\"1234a1234에서 1,2,3,4를 모두 출력하시오"
   ]
  },
  {
   "cell_type": "code",
   "execution_count": 5,
   "id": "3296bb5d",
   "metadata": {},
   "outputs": [
    {
     "data": {
      "text/plain": [
       "['1', '2', '3', '4', '1', '2', '3', '4']"
      ]
     },
     "execution_count": 5,
     "metadata": {},
     "output_type": "execute_result"
    }
   ],
   "source": [
    "text = \"1234a1234\"\n",
    "\n",
    "pattern = \"\\d\"\n",
    "re.findall(pattern, text)"
   ]
  },
  {
   "cell_type": "markdown",
   "id": "4f4878b1",
   "metadata": {},
   "source": [
    "### 과제3_0425\n",
    "\"99food234, a93456\\n, a9356ba\"에서 \"99food234만 출력하시오."
   ]
  },
  {
   "cell_type": "code",
   "execution_count": 6,
   "id": "fe12f93c",
   "metadata": {},
   "outputs": [
    {
     "data": {
      "text/plain": [
       "<re.Match object; span=(0, 9), match='99food234'>"
      ]
     },
     "execution_count": 6,
     "metadata": {},
     "output_type": "execute_result"
    }
   ],
   "source": [
    "text = \"99food234, a93456\\n, a9356ba\"\n",
    "\n",
    "pattern = \"\\w+\"\n",
    "re.search(pattern, text)"
   ]
  },
  {
   "cell_type": "markdown",
   "id": "071fb47a",
   "metadata": {},
   "source": [
    "### 과제 4_0425\n",
    "text에서 전체문장을 모두 출력하시오."
   ]
  },
  {
   "cell_type": "code",
   "execution_count": 7,
   "id": "ab9ae505",
   "metadata": {},
   "outputs": [
    {
     "name": "stdout",
     "output_type": "stream",
     "text": [
      "what are you doing?\n",
      "it is going to be late for school!\n",
      "we need to hurry up.\n"
     ]
    }
   ],
   "source": [
    "text = \"what are you doing?\\nit is going to be late for school!\\nwe need to hurry up.\"\n",
    "\n",
    "p = re.compile(\".*\", re.DOTALL)\n",
    "print(p.search(text).group())"
   ]
  },
  {
   "cell_type": "markdown",
   "id": "54e3fc0d",
   "metadata": {},
   "source": [
    "### 과제 5_0425\n",
    "아래 text에 내용을 모두 출력하시오.\n",
    "text = [\"pAthon\", \"PATHON\",\"pathon\",\"Pathon\"]"
   ]
  },
  {
   "cell_type": "code",
   "execution_count": 8,
   "id": "748317a4",
   "metadata": {},
   "outputs": [
    {
     "data": {
      "text/plain": [
       "['pAthon', 'PATHON', 'pathon', 'Pathon']"
      ]
     },
     "execution_count": 8,
     "metadata": {},
     "output_type": "execute_result"
    }
   ],
   "source": [
    "text = [\"pAthon\",\"PATHON\",\"pathon\",\"Pathon\"]\n",
    "text1 = \" \".join(text)\n",
    "\n",
    "pattern = \"[a-z]+\"\n",
    "\n",
    "re.findall(pattern, text1, re.I)"
   ]
  },
  {
   "cell_type": "markdown",
   "id": "715f4c4b",
   "metadata": {},
   "source": [
    "### 과제6_0425\n",
    "정규표현식을 작성하여 아래와 같이 출력하시오."
   ]
  },
  {
   "cell_type": "code",
   "execution_count": 9,
   "id": "3d395104",
   "metadata": {},
   "outputs": [
    {
     "ename": "TypeError",
     "evalue": "compile() missing 1 required positional argument: 'pattern'",
     "output_type": "error",
     "traceback": [
      "\u001b[1;31m---------------------------------------------------------------------------\u001b[0m",
      "\u001b[1;31mTypeError\u001b[0m                                 Traceback (most recent call last)",
      "\u001b[1;32m~\\AppData\\Local\\Temp\\ipykernel_3044\\618020659.py\u001b[0m in \u001b[0;36m<module>\u001b[1;34m\u001b[0m\n\u001b[0;32m      1\u001b[0m \u001b[0mli\u001b[0m \u001b[1;33m=\u001b[0m \u001b[1;34m\"1 apple, 5 oranges, 3boys, 4 girls; 10 armyl 11mr\"\u001b[0m\u001b[1;33m\u001b[0m\u001b[1;33m\u001b[0m\u001b[0m\n\u001b[1;32m----> 2\u001b[1;33m \u001b[0mregex\u001b[0m \u001b[1;33m=\u001b[0m \u001b[0mre\u001b[0m\u001b[1;33m.\u001b[0m\u001b[0mcompile\u001b[0m\u001b[1;33m(\u001b[0m\u001b[1;33m)\u001b[0m\u001b[1;33m\u001b[0m\u001b[1;33m\u001b[0m\u001b[0m\n\u001b[0m\u001b[0;32m      3\u001b[0m \u001b[0mresult\u001b[0m \u001b[1;33m=\u001b[0m \u001b[0mregex\u001b[0m\u001b[1;33m.\u001b[0m\u001b[0mfindall\u001b[0m\u001b[1;33m(\u001b[0m\u001b[0mli\u001b[0m\u001b[1;33m)\u001b[0m\u001b[1;33m\u001b[0m\u001b[1;33m\u001b[0m\u001b[0m\n\u001b[0;32m      4\u001b[0m \u001b[0mprint\u001b[0m\u001b[1;33m(\u001b[0m\u001b[0mresult\u001b[0m\u001b[1;33m)\u001b[0m\u001b[1;33m\u001b[0m\u001b[1;33m\u001b[0m\u001b[0m\n",
      "\u001b[1;31mTypeError\u001b[0m: compile() missing 1 required positional argument: 'pattern'"
     ]
    }
   ],
   "source": [
    "li = \"1 apple, 5 oranges, 3boys, 4 girls; 10 armyl 11mr\"\n",
    "regex = re.compile()\n",
    "result = regex.findall(li)\n",
    "print(result)"
   ]
  },
  {
   "cell_type": "markdown",
   "id": "1506a5d5",
   "metadata": {},
   "source": [
    "### 과제7_0425\n",
    "text에서 다음을 수행하시오.\n",
    "- \"H,h\"만 출력하시오.\n",
    "- \"H,h\"가 아닌 모두를 출력하시오"
   ]
  },
  {
   "cell_type": "code",
   "execution_count": 10,
   "id": "87ea1d4d",
   "metadata": {},
   "outputs": [
    {
     "data": {
      "text/plain": [
       "['H', 'h', 'h']"
      ]
     },
     "execution_count": 10,
     "metadata": {},
     "output_type": "execute_result"
    }
   ],
   "source": [
    "text = \"Hello my friend! Life is short you need Python!\"\n",
    "re.findall(\"h\", text, re.I)"
   ]
  },
  {
   "cell_type": "code",
   "execution_count": 11,
   "id": "234ee539",
   "metadata": {},
   "outputs": [
    {
     "data": {
      "text/plain": [
       "'ello my friend! Life is sort you need Pyton!'"
      ]
     },
     "execution_count": 11,
     "metadata": {},
     "output_type": "execute_result"
    }
   ],
   "source": [
    "re.sub('[hH]', \"\", text)"
   ]
  },
  {
   "cell_type": "markdown",
   "id": "a66a8e2d",
   "metadata": {},
   "source": [
    "### 과제8_0425\n",
    "정규표현식을 사용하여 text에서 다음 사항을 수행하시오.\n",
    "- 지역코드만 출력하시오.\n",
    "- 지역코드를 제외한 번호만 출력하시오.\n",
    "\n",
    "text = \"문의사항이 있으면 032-232-3245 으로 연락주시기 바랍니다.\""
   ]
  },
  {
   "cell_type": "code",
   "execution_count": 12,
   "id": "965cdcbd",
   "metadata": {},
   "outputs": [
    {
     "name": "stdout",
     "output_type": "stream",
     "text": [
      "032\n",
      "232 3245\n"
     ]
    }
   ],
   "source": [
    "text = \"문의사항이 있으면 032-232-3245 으로 연락주시기 바랍니다.\"\n",
    "\n",
    "result = re.search(\"((\\d{3})-(\\d{3})-(\\d{4}))\", text)\n",
    "print(result.group(2))\n",
    "print(result.group(3), result.group(4))"
   ]
  },
  {
   "cell_type": "markdown",
   "id": "51225243",
   "metadata": {},
   "source": [
    "### 과제9_0425\n",
    "아래 text에서 정규표현식을 사용하여 \"the the the\"를 출력하시오."
   ]
  },
  {
   "cell_type": "code",
   "execution_count": 13,
   "id": "7cfcce48",
   "metadata": {},
   "outputs": [
    {
     "data": {
      "text/plain": [
       "'the the the'"
      ]
     },
     "execution_count": 13,
     "metadata": {},
     "output_type": "execute_result"
    }
   ],
   "source": [
    "text = \"Paris in the the the spring\"\n",
    "re.search(r'(\\b\\w+)\\s\\1\\s\\1\\b', text).group()"
   ]
  },
  {
   "cell_type": "markdown",
   "id": "0f6fbf8d",
   "metadata": {},
   "source": [
    "### 과제10_0425\n",
    "이름으로 그룹을 참조하여 text에서 Lots를 출력하시오."
   ]
  },
  {
   "cell_type": "code",
   "execution_count": 14,
   "id": "ccd15089",
   "metadata": {},
   "outputs": [
    {
     "data": {
      "text/plain": [
       "'Lots'"
      ]
     },
     "execution_count": 14,
     "metadata": {},
     "output_type": "execute_result"
    }
   ],
   "source": [
    "text = \"Lots of punctuation Lots of punctuation\"\n",
    "\n",
    "pattern = r\"(?P<sample>[A-Z][a-z]+)\"\n",
    "m = re.search(pattern, text)\n",
    "m.group(\"sample\")"
   ]
  },
  {
   "cell_type": "code",
   "execution_count": null,
   "id": "bbdad863",
   "metadata": {},
   "outputs": [],
   "source": []
  }
 ],
 "metadata": {
  "kernelspec": {
   "display_name": "Python 3 (ipykernel)",
   "language": "python",
   "name": "python3"
  },
  "language_info": {
   "codemirror_mode": {
    "name": "ipython",
    "version": 3
   },
   "file_extension": ".py",
   "mimetype": "text/x-python",
   "name": "python",
   "nbconvert_exporter": "python",
   "pygments_lexer": "ipython3",
   "version": "3.9.13"
  }
 },
 "nbformat": 4,
 "nbformat_minor": 5
}
