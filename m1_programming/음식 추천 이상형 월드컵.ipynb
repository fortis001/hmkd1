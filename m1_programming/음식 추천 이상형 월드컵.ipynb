{
 "cells": [
  {
   "cell_type": "code",
   "execution_count": 7,
   "id": "b0bec7f2",
   "metadata": {},
   "outputs": [
    {
     "name": "stdout",
     "output_type": "stream",
     "text": [
      "짬뽕 치킨\n",
      "어느 것이 마음에 드세요?\n",
      ">1\n",
      "피자 라면\n",
      "어느 것이 마음에 드세요?\n",
      ">1\n",
      "햄버거 탕수육\n",
      "어느 것이 마음에 드세요?\n",
      ">1\n",
      "자장면 족발\n",
      "어느 것이 마음에 드세요?\n",
      ">1\n",
      "햄버거 자장면\n",
      "어느 것이 마음에 드세요?\n",
      ">1\n",
      "짬뽕 피자\n",
      "어느 것이 마음에 드세요?\n",
      ">1\n",
      "햄버거 짬뽕\n",
      "어느 것이 마음에 드세요?\n",
      ">1\n",
      "우승은 ['햄버거']입니다!!!\n"
     ]
    }
   ],
   "source": [
    "import random\n",
    "\n",
    "#while not(len(nextList) == 1, len(foodIndex) == 0):\n",
    "    \n",
    "\n",
    "foodIndex = [\"햄버거\",\"탕수육\",\"피자\",\"치킨\",\"자장면\",\"짬뽕\",\"족발\",\"라면\"]\n",
    "\n",
    "while len(foodIndex)+len(nextList) != 1:\n",
    "    while len(foodIndex) != 0:\n",
    "        random.shuffle(foodIndex)\n",
    "        a = foodIndex.pop()\n",
    "        b = foodIndex.pop()\n",
    "        print(a, b)\n",
    "        choose = input(\"어느 것이 마음에 드세요?\\n>\")\n",
    "        if choose == \"1\":\n",
    "            nextList.append(a)\n",
    "        elif choose == \"2\":\n",
    "            nextList.append(b)\n",
    "        else:\n",
    "            print(\"다시 입력해주세요.\")\n",
    "    foodIndex = nextList\n",
    "    nextList = []\n",
    "    \n",
    "print(f\"우승은 {foodIndex}입니다!!!\")"
   ]
  },
  {
   "cell_type": "code",
   "execution_count": null,
   "id": "8b102bff",
   "metadata": {},
   "outputs": [],
   "source": []
  }
 ],
 "metadata": {
  "kernelspec": {
   "display_name": "Python 3 (ipykernel)",
   "language": "python",
   "name": "python3"
  },
  "language_info": {
   "codemirror_mode": {
    "name": "ipython",
    "version": 3
   },
   "file_extension": ".py",
   "mimetype": "text/x-python",
   "name": "python",
   "nbconvert_exporter": "python",
   "pygments_lexer": "ipython3",
   "version": "3.9.13"
  }
 },
 "nbformat": 4,
 "nbformat_minor": 5
}
