{
 "cells": [
  {
   "cell_type": "markdown",
   "id": "78390f53",
   "metadata": {},
   "source": [
    "#### 날짜 처리\n",
    "- time — 시간 액세스와 변환\n",
    "\n",
    "- 현재 timestamp 얻기 : time 모듈의 time() 함수는 현재 Unix timestamp을 소수로 리턴하는데요. 정수부는 초단위이고, 소수부는 마이크로(micro) 초단위 입니다.\n",
    "\n",
    "https://www.daleseo.com/python-time/\n",
    "\n",
    "https://docs.python.org/ko/3/library/time.html\n",
    "\n",
    "포맷 코드 표<BR>\n",
    "포맷코드\t설명\t예<BR>\n",
    "%a\t요일 줄임말\tSun, Mon, ... Sat<BR>\n",
    "%A\t요일\tSunday, Monday, ..., Saturday<BR>\n",
    "%w\t요일을 숫자로 표시, 월요일일요일, 06\t0, 1, ..., 6<BR>\n",
    "%d\t일\t01, 02, ..., 31<BR>\n",
    "%b\t월 줄임말\tJan, Feb, ..., Dec<BR>\n",
    "%B\t월\tJanuary, February, …, December<BR>\n",
    "%m\t숫자 월\t01, 02, ..., 12<BR>\n",
    "%y\t두 자릿수 연도\t01, 02, ..., 99<BR>\n",
    "%Y\t네 자릿수 연도\t0001, 0002, ..., 2017, 2018, 9999<BR>\n",
    "%H\t시간(24시간)\t00, 01, ..., 23<BR>\n",
    "%I\t시간(12시간)\t01, 02, ..., 12<BR>\n",
    "%p\tAM, PM\tAM, PM<BR>\n",
    "%M\t분\t00, 01, ..., 59<BR>\n",
    "%S\t초\t00, 01, ..., 59<BR>\n",
    "%Z\t시간대\t대한민국 표준시<BR>\n",
    "%j\t1월 1일부터 경과한 일수\t001, 002, ..., 366<BR>\n",
    "%U\t1년중 주차, 월요일이 한 주의 시작으로\t00, 01, ..., 53<BR>\n",
    "%W\t1년중 주차, 월요일이 한 주의 시작으로\t00, 01, ..., 53<BR>\n",
    "%c\t날짜, 요일, 시간을 출력, 현재 시간대 기준\tSat May 19 11:14:27 2018<BR>\n",
    "%x\t날짜를 출력, 현재 시간대 기준\t05/19/18<BR>\n",
    "%X\t시간을 출력, 현재 시간대 기준\t'11:44:22'"
   ]
  },
  {
   "cell_type": "code",
   "execution_count": 1,
   "id": "4506a776",
   "metadata": {},
   "outputs": [
    {
     "data": {
      "text/plain": [
       "'Mon Dec 28 22:02:17 2020'"
      ]
     },
     "execution_count": 1,
     "metadata": {},
     "output_type": "execute_result"
    }
   ],
   "source": [
    "#1609160537.371015를 \"Sat jun 26 06:35:03 2021\" 포멧으로 출력하시오\n",
    "import time\n",
    "t = time.localtime(1609160537.371015)\n",
    "time.asctime(t)"
   ]
  },
  {
   "cell_type": "code",
   "execution_count": 4,
   "id": "96e7acae",
   "metadata": {},
   "outputs": [
    {
     "name": "stdout",
     "output_type": "stream",
     "text": [
      "Wed Mar 15 11:13:39 2023\n"
     ]
    }
   ],
   "source": [
    "#현재 날짜와 시간을 \"Sat Jun 26 08:35:03 2021\" 포멧으로 출력하시오\n",
    "import time\n",
    "t = time.localtime()\n",
    "print(time.asctime(t))"
   ]
  },
  {
   "cell_type": "code",
   "execution_count": 6,
   "id": "5f43a84e",
   "metadata": {},
   "outputs": [
    {
     "name": "stdout",
     "output_type": "stream",
     "text": [
      "1678846572.2862866 <class 'float'>\n",
      "1678846572.2862866 <class 'str'>\n"
     ]
    }
   ],
   "source": [
    "# timestamp ->str\n",
    "import time\n",
    "t = time.time()\n",
    "print(t,type(t))\n",
    "s = str(time.time())\n",
    "print(s,type(s))"
   ]
  },
  {
   "cell_type": "code",
   "execution_count": 5,
   "id": "fd3cc74a",
   "metadata": {},
   "outputs": [
    {
     "name": "stdout",
     "output_type": "stream",
     "text": [
      "2023=03-15 11:15:01\n"
     ]
    }
   ],
   "source": [
    "#현재 시간을 년-월-일 시:분:초로 출력하세요.\n",
    "import time\n",
    "from datetime import datetime\n",
    "t = time.time()\n",
    "d = datetime.fromtimestamp(t)\n",
    "s = d.strftime(\"%Y=%m-%d %X\")\n",
    "print(s)"
   ]
  },
  {
   "cell_type": "code",
   "execution_count": 8,
   "id": "c8f7a471",
   "metadata": {},
   "outputs": [
    {
     "name": "stdout",
     "output_type": "stream",
     "text": [
      "오늘은 2023-01-01 이후 74일째 되는 날입니다.\n"
     ]
    }
   ],
   "source": [
    "#올해 경과된 날짜 수를 계산하시오\n",
    "import time\n",
    "t = time.localtime()\n",
    "sDay = \"%d-01-01\" %t.tm_year\n",
    "eDay = t.tm_yday\n",
    "print(f\"오늘은 {sDay} 이후 {eDay}일째 되는 날입니다.\")"
   ]
  },
  {
   "cell_type": "code",
   "execution_count": 15,
   "id": "c1b42e53",
   "metadata": {},
   "outputs": [
    {
     "name": "stdout",
     "output_type": "stream",
     "text": [
      "2023-3-15 오늘은 수요일입니다.\n"
     ]
    }
   ],
   "source": [
    "#현재 요일을 \"2021-06-26 오늘은 토요일입니다.\" 와 같은 형식으로 출력하세요\n",
    "import time\n",
    "t = time.localtime()\n",
    "yoil = [\"월\",\"화\",\"수\",\"목\",\"금\",\"토\",\"일\"]\n",
    "print(f\"{t.tm_year}-{t.tm_mon}-{t.tm_mday} 오늘은 {yoil[t.tm_wday]}요일입니다.\")"
   ]
  },
  {
   "cell_type": "code",
   "execution_count": 16,
   "id": "8f2e3e50",
   "metadata": {},
   "outputs": [
    {
     "name": "stdout",
     "output_type": "stream",
     "text": [
      "1678849310.1321573 <class 'float'>\n",
      "2023-03-15 12:01:50.132157 <class 'datetime.datetime'>\n"
     ]
    }
   ],
   "source": [
    "#timestamp -> datetime\n",
    "import time\n",
    "t = time.time()\n",
    "print(t, type(t))\n",
    "d = datetime.fromtimestamp(t)\n",
    "print(d, type(d))"
   ]
  },
  {
   "cell_type": "code",
   "execution_count": 25,
   "id": "b222cf7b",
   "metadata": {},
   "outputs": [
    {
     "name": "stdout",
     "output_type": "stream",
     "text": [
      "500000500000\n",
      "runtime : 156.24 ms\n"
     ]
    }
   ],
   "source": [
    "import time\n",
    "\n",
    "st = time.time()\n",
    "sum = 0\n",
    "i = 0\n",
    "\n",
    "while i <=1000000:\n",
    "    sum += i\n",
    "    i += 1\n",
    "    \n",
    "print(sum)\n",
    "runtime = (time.time()-st)*1000\n",
    "print(f\"runtime :{runtime : .2f} ms\")\n"
   ]
  },
  {
   "cell_type": "code",
   "execution_count": null,
   "id": "2fe8366f",
   "metadata": {},
   "outputs": [],
   "source": []
  }
 ],
 "metadata": {
  "kernelspec": {
   "display_name": "Python 3 (ipykernel)",
   "language": "python",
   "name": "python3"
  },
  "language_info": {
   "codemirror_mode": {
    "name": "ipython",
    "version": 3
   },
   "file_extension": ".py",
   "mimetype": "text/x-python",
   "name": "python",
   "nbconvert_exporter": "python",
   "pygments_lexer": "ipython3",
   "version": "3.9.13"
  }
 },
 "nbformat": 4,
 "nbformat_minor": 5
}
