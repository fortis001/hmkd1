{
 "cells": [
  {
   "cell_type": "markdown",
   "id": "18a5bfc5",
   "metadata": {},
   "source": [
    "#### 객체(object) 개념 정리 ( 신원/타입/속성/메소드/클래스/OOP)\n",
    "- 파이썬 프로그램에서 모든 데이터는 객체(object)라는 개념을 사용하여 저장됩니다.\n",
    "- 가장 기본이 되는 데이터 타입인 숫자, 문자열, 리스트, 사전은 다 객체입니다.\n",
    "- 클래스를 사용해서 사용자 정의 객체를 생성할 수도 있습니다.\n",
    "- 또한 프로그램의 구조와 인터프리터의 내부 동작과 관련된 객체들도 있습니다\n",
    "- 객체(object) : 프로그램에서 저장되는 모든 데이터는 객체입니다. 각 객체는 신원(identity), 타입(클래스라고도 함)과 값을 가집니다.\n",
    "  - 객체의 신원(identity) : 객체가 메모리에 저장된 위치를 가리키는 포인터\n",
    "  - 객체의 타입(클래스) : 객체의 내부적인 표현 형태와 객체가 지원하는 메서드 및 연산들을 설명, 특정 타입의 객체가 생성되면 그 객체를 그 타입의 인스턴스(instance)라고 부른다.\n",
    "  - 객체의 속성(attribute)와 메서드(method) : 속성(attribute)은 객체에 연결된 값이고 메서드(method)는 호출될 때 객체에 대해 특정 연산을 수행하는 함수\n",
    "  \n",
    "https://happy-obok.tistory.com/22"
   ]
  },
  {
   "cell_type": "markdown",
   "id": "ca27a285",
   "metadata": {},
   "source": [
    "## 클래스\n",
    "\n",
    "클래스(class)란 똑같은 무엇인가를 계속해서 만들어 낼 수 있는 설계 도면이고(과자 틀), \n",
    "객체(object)란 클래스로 만든 피조물(과자 틀을 사용해 만든 과자)을 뜻한다.  \n",
    "과자 틀 → 클래스 (class)  \n",
    "과자 틀에 의해서 만들어진 과자 → 객체 (object)\n",
    "\n",
    "- class : 함수 + 변수 모아놓은 것\n",
    "- 오브젝트(object) : 클래스를 써서 만든 것\n",
    "- 오브젝트(object) == 인스턴스(instance)\n",
    "- 클래스를 정의한 후, 그 클래스를 사용해서 데이터 객체(인스턴스)를 만들 수 있다.\n",
    "- 동일한 클래스에 의해 만들어진 각 객체들은 유사한 특징을 공유한다.\n",
    "- 모든 인스턴스에서 메소드(=코드)는 동일하지만, 속성(데이터)는 다르다.\n",
    "  * 메소드 : 코드 \n",
    "  * 속성 : 데이터 \n",
    "  * 인스턴스 : 클래스에 의해 만들어진 데이터 객체\n",
    "  * a = 클래스() 이렇게 만든 a는 객체이다. 그리고 a 객체는 클래스의 인스턴스이다. 즉 인스턴스라는 말은 특정 객체(a)가 어떤 클래스의 객체인지를 관계 위주로 설명할 때 사용"
   ]
  },
  {
   "cell_type": "code",
   "execution_count": null,
   "id": "e20ae0ee",
   "metadata": {},
   "outputs": [],
   "source": [
    "#생성자(Constructor)란 객체가 생성될 때 자동으로 호출되는 매서드를 의미\n",
    "# 파이썬 메서드 이름으로 _init_을 사용하면 이 메서드는 생성자가 된다.\n",
    "# 클래스 생성자(인자가 없는 경우)\n",
    "class Hmkd:\n",
    "    def __init__(self):\n",
    "        self.var = \"hmkd1\" #인스턴스 멤버\n",
    "        print(\"hmkd1 과정입니다.\")\n",
    "obj = Hmkd()\n",
    "print(obj.var)"
   ]
  },
  {
   "cell_type": "code",
   "execution_count": null,
   "id": "11c648a7",
   "metadata": {},
   "outputs": [],
   "source": [
    "#클래스 생성자(인자가 있는 경우)\n",
    "class Cakd:\n",
    "    def __init__(self,name,age,major):\n",
    "        self.name = name\n",
    "        self.age = age\n",
    "        self.major = major\n",
    "        print(f\"{self.name}은 {self.age}세이며 {self.major}를 전공했습니다.\")\n",
    "              \n",
    "a = Cakd(\"홍길동\",25,\"computer\")\n",
    "b = Cakd(\"홍길순\",27,\"business\")\n",
    "\n",
    "print(a.name)\n",
    "print(b.major)"
   ]
  },
  {
   "cell_type": "code",
   "execution_count": null,
   "id": "cf1b5f3f",
   "metadata": {},
   "outputs": [],
   "source": [
    "# 클래스 소멸자\n",
    "# 클래스 인스턴스 객체가 메모리에서 제거될 때 자동으로 호출되는 클래스 메소드\n",
    "\n",
    "class Cakd:\n",
    "    def __del__(self):\n",
    "        print(\"Cakd 인스턴스 객체가 메모리에서 제거됩니다.\")\n",
    "obj = Cakd()\n",
    "del obj"
   ]
  },
  {
   "cell_type": "markdown",
   "id": "dee4fc11",
   "metadata": {},
   "source": [
    "## 클래스 멤버, 클래스 메소드\n",
    "- 클래스를 구성하는 주요요소는 클래스 멤버(변수)와 클래스 메소드(함수)로 클래스 공간내에서 정의\n",
    "- 클래스 멤버는 클래스 메소드 내에서 정의되는 지역변수나 인스턴스 멤버와는 다름\n",
    "- 클래스 메소드는 첫번째 인자가 반드시 self로 시작\n",
    "- self는 이 클래스의 인스턴스 객체를 가리키는 참조자\n",
    "- 인스턴스 객체에서 클래스 메소드를 호출 시 첫번째 인자인 self 생략"
   ]
  },
  {
   "cell_type": "code",
   "execution_count": null,
   "id": "e7ac1f55",
   "metadata": {},
   "outputs": [],
   "source": [
    "class MyClass:\n",
    "    var = \"안녕하세요.\" #클래스 멤버\n",
    "    def __init__(self):\n",
    "        self.name = \"hmkd1\"\n",
    "        print(f\"{self.name} 과정입니다.\")\n",
    "    def sayHello(self):\n",
    "        return self.var\n",
    "obj = MyClass()\n",
    "print(obj.var)\n",
    "print(obj.sayHello())"
   ]
  },
  {
   "cell_type": "code",
   "execution_count": null,
   "id": "c5d30fad",
   "metadata": {},
   "outputs": [],
   "source": [
    "import random\n",
    "class Testclass:\n",
    "    def __init__(self):\n",
    "        print(\"가위 바위..\")\n",
    "        r = random.randint(0,2)\n",
    "        if r == 0:\n",
    "            self.var = \"가위!\"\n",
    "        elif r == 1:\n",
    "            self.var = \"바위!\"\n",
    "        else:\n",
    "            self.var = \"보!\"\n",
    "        \n",
    "a = Testclass()\n",
    "user = input()\n",
    "print(a.var)"
   ]
  },
  {
   "cell_type": "code",
   "execution_count": null,
   "id": "260f63e1",
   "metadata": {},
   "outputs": [],
   "source": [
    "# 클래스 멤버와 인스턴스 멤버\n",
    "# 클래스 멤버는 클래스 메소드 바깥에서 선언되고 인슽언스 멤버는 클래스 메소드 안에서 self와 함꼐 선언\n",
    "\n",
    "class MyClass:\n",
    "    var = \"안녕하세요\" #클래스 멤버\n",
    "    def sayHello(self):\n",
    "        param1 = \"안녕\"\n",
    "        self.param2 = \"하이\"\n",
    "        print(param1)\n",
    "        print(self.var)\n",
    "        \n",
    "obj = MyClass()\n",
    "\n",
    "#print(obj.var)\n",
    "#obj.sayHello()\n",
    "obj.param1"
   ]
  },
  {
   "cell_type": "code",
   "execution_count": null,
   "id": "44448706",
   "metadata": {},
   "outputs": [],
   "source": [
    "# 메소드 작성, 클래스 변수와 인스턴스 변수를 모두 자유롭게 사용\n",
    "# 업무미팅이 2시임을 알려주는 자동 이메일을 클래스 AutoEmail을 작성하여 아래와 같이 출력하세요.\n",
    "# 안녕하세요, Kevin님, 업무미팅은 2시입니다.\n",
    "\n",
    "class AutoEmail:\n",
    "    def __init__(self, name, time):\n",
    "        self.name = name\n",
    "        self.time = time\n",
    "    def send(self):\n",
    "        print(f\"안녕하세요 {self.name}님, 업무미팅은 {self.time}시입니다.\")\n",
    "        \n",
    "        \n",
    "run = AutoEmail(\"Kevin\",2)\n",
    "\n",
    "run.send()\n"
   ]
  },
  {
   "cell_type": "code",
   "execution_count": null,
   "id": "69fc667f",
   "metadata": {},
   "outputs": [],
   "source": [
    "# 클래스 메소드\n",
    "# 클래스 내에서 정의되는 클래스 메소드는 첫 번째 인자가 반드시 self여야 한다.\n",
    "\n",
    "class MyClass:\n",
    "    def __init__(self):\n",
    "        print(\"생성자를 만들었습니다.\")\n",
    "    def sayHello(self):\n",
    "        print(\"안녕하세요\")\n",
    "    def sayBye(self,name):\n",
    "        print(f\"{name}! 다음에 보자\")\n",
    "        \n",
    "obj = MyClass()\n",
    "obj.sayHello()\n",
    "obj.sayBye(\"kevin\")"
   ]
  },
  {
   "cell_type": "code",
   "execution_count": null,
   "id": "0b1cdf90",
   "metadata": {},
   "outputs": [],
   "source": [
    "# 클래스 MyClass를 작성하고 객체를 생성하여 아래와 같이 출력하세요(생성자 사용)\n",
    "#Kevin, 안녕하세요.\n",
    "#Kevin, 다음에 보자.\n",
    "\n",
    "class MyClass:\n",
    "    def __init__(self, name):\n",
    "        self.name = name\n",
    "        \n",
    "        \n",
    "run = MyClass(\"kevin\")\n",
    "\n",
    "print(f\"{run.name}, 안녕하세요.\")\n",
    "print(f\"{run.name}, 다음에 보자.\")"
   ]
  },
  {
   "cell_type": "code",
   "execution_count": 16,
   "id": "3335961b",
   "metadata": {},
   "outputs": [
    {
     "name": "stdout",
     "output_type": "stream",
     "text": [
      "1 honux\n",
      "2 crong\n",
      "2 2 2\n"
     ]
    }
   ],
   "source": [
    "# 인스턴스 변수\n",
    "class User:\n",
    "    num_users = 0  # class 변수\n",
    "    def __init__(self, name):\n",
    "        self.name = name  # instance 변수\n",
    "        User.num_users += 1\n",
    "        \n",
    "u = User(\"honux\")\n",
    "print(User.num_users, u.name)\n",
    "\n",
    "u2 = User(\"crong\")\n",
    "print(User.num_users, u2.name)\n",
    "\n",
    "print(User.num_users, u.num_users, u2.num_users)"
   ]
  },
  {
   "cell_type": "code",
   "execution_count": 17,
   "id": "2227cac4",
   "metadata": {},
   "outputs": [
    {
     "name": "stdout",
     "output_type": "stream",
     "text": [
      "['__class__', '__delattr__', '__dict__', '__dir__', '__doc__', '__eq__', '__format__', '__ge__', '__getattribute__', '__gt__', '__hash__', '__init__', '__init_subclass__', '__le__', '__lt__', '__module__', '__ne__', '__new__', '__reduce__', '__reduce_ex__', '__repr__', '__setattr__', '__sizeof__', '__str__', '__subclasshook__', '__weakref__', 'name', 'num_users']\n"
     ]
    }
   ],
   "source": [
    "# 파이썬에서는 모든 게 다 객체(Object)\n",
    "# dir()은 어떤 객체를 인자로 넣어주면 해당 객체가 어떤 메서드를 가지고 있는지 반환\n",
    "print(dir(u))"
   ]
  },
  {
   "cell_type": "markdown",
   "id": "e35d9729",
   "metadata": {},
   "source": [
    "## 객체 지향 프로그래밍 (Object-Oriented Programming)\n",
    "- 클래스 인스턴스는 객체(object)라고도 하며, 이렇게 클래스를 정의하고 객체를 만드는 패턴을 객체 지향 프로그래밍(OOP)이라고 함\n",
    "- 인스턴스를 불러온다는 건 클래스를 가져와 객체로 바꿔준다는 건데, type() 함수를 사용하는 건 그 반대\n",
    "- 객체의 type을 확인해보면 해당 객체가 어떤 클래스의 인스턴스인지를 확인\n",
    "- 파이썬에서 __main__은 “현재 실행 중인 파일”을 의미"
   ]
  },
  {
   "cell_type": "code",
   "execution_count": null,
   "id": "ba089316",
   "metadata": {},
   "outputs": [],
   "source": [
    "#임의의 클래스를 작성한 후 인스턴스를 생성하고 그것의 타입을 확인하세요.\n",
    "\n",
    "class Test:\n",
    "    pass\n",
    "test = Test()\n",
    "print(type(test))"
   ]
  },
  {
   "cell_type": "markdown",
   "id": "a07d3832",
   "metadata": {},
   "source": [
    "## 클래스 상속\n",
    "- 어떤 클래스가 가지고 있는 모든 멤버나 메소드를 상속받는 클래스가 모두 사용할 수 있도록 해주는 것. \n",
    "- 상속을 해주는 클래스가 부모클래스(슈퍼), 상속을 받는 클래스가 자식클래스(서브)라 함: class 자식클래스(부모클래스)\n",
    "- 자식클래스는 여러 부모클래스로 부터 상속받을 수 있으며 다중상속이라 함. class 자식클래스(부모클래스1, 부모클래스2,..)"
   ]
  },
  {
   "cell_type": "code",
   "execution_count": null,
   "id": "18935af3",
   "metadata": {},
   "outputs": [],
   "source": [
    "class Sum:\n",
    "    def sum(self,n1,n2):\n",
    "        return n1+n2\n",
    "    \n",
    "class Mul:\n",
    "    def mul(self, n1, n2):\n",
    "        return n1*n2\n",
    "    \n",
    "class Cal(Sum,Mul):\n",
    "    def sub(self, n1, n2):\n",
    "        return n1-n2\n",
    "\n",
    "obj = Cal()\n",
    "print(obj.sum(1,2))\n",
    "print(obj.mul(3,2))"
   ]
  },
  {
   "cell_type": "code",
   "execution_count": 18,
   "id": "59f3384d",
   "metadata": {},
   "outputs": [
    {
     "name": "stdout",
     "output_type": "stream",
     "text": [
      "추가할 가격을 입력해 주세요.500\n",
      "1500\n",
      "추가할 가격을 입력해 주세요.750\n",
      "1750\n"
     ]
    }
   ],
   "source": [
    "# 사용자 함수를 작성하여 기본가격 1000에 입력 받은 값을 추가한 가격을 산출하세요.\n",
    "#지역변수, 전역변수, return 사용, global 변수 사용 두 가지 경우로 수행\n",
    "\n",
    "def tplusr():\n",
    "    plus = input(\"추가할 가격을 입력해 주세요.\")\n",
    "    if plus.isdigit():\n",
    "        price = 1000 + int(plus)\n",
    "        return price\n",
    "    else:\n",
    "        print(\"숫자를 입력해 주세요.\")\n",
    "        \n",
    "tr = tplusr()\n",
    "print(tr)\n",
    "\n",
    "price = 1000\n",
    "plus = input(\"추가할 가격을 입력해 주세요.\")\n",
    "def tplusg():\n",
    "    global price, plus\n",
    "    if plus.isdigit():\n",
    "        price = price + int(plus)\n",
    "        return(price)\n",
    "    else:\n",
    "        print(\"숫자를 입력해 주세요.\")\n",
    "        \n",
    "tg = tplusg()\n",
    "print(tg)"
   ]
  },
  {
   "cell_type": "code",
   "execution_count": 19,
   "id": "c4905674",
   "metadata": {},
   "outputs": [
    {
     "name": "stdout",
     "output_type": "stream",
     "text": [
      "첫 번째 추가 가격 입력\n",
      ">120\n",
      "두 번째 추가 가격 입력\n",
      ">50\n",
      "세 번째 추가 가격 입력\n",
      ">750\n",
      "첫 번째 제품 : 1120\n",
      "두 번째 제품 : 1050\n",
      "세 번째 제품 : 1750\n"
     ]
    }
   ],
   "source": [
    "# 기본가격 1000원인 3개의 상품에 대하여 임의의 추가 가격을 인수로 대입시 더한 가격을 산출하세요.\n",
    "#(클래스를 이용)\n",
    "\n",
    "class PlusPrice:\n",
    "    def __init__(self, fplus, splus, tplus):\n",
    "        self.fplus = fplus+1000\n",
    "        self.splus = splus+1000\n",
    "        self.tplus = tplus+1000\n",
    "        \n",
    "a = int(input(\"첫 번째 추가 가격 입력\\n>\"))\n",
    "b = int(input(\"두 번째 추가 가격 입력\\n>\"))\n",
    "c = int(input(\"세 번째 추가 가격 입력\\n>\"))\n",
    "\n",
    "result = PlusPrice(a, b, c)\n",
    "print(f\"첫 번째 제품 : {result.fplus}\\n두 번째 제품 : {result.splus}\\n세 번째 제품 : {result.tplus}\")"
   ]
  },
  {
   "cell_type": "code",
   "execution_count": 27,
   "id": "661f2ac4",
   "metadata": {},
   "outputs": [
    {
     "name": "stdout",
     "output_type": "stream",
     "text": [
      "추가 가격을 입력\n",
      ">2\n",
      "-price1 : 1002\n",
      "-price2 : 1904\n"
     ]
    }
   ],
   "source": [
    "# 기본가격 1000원인 2개의 상품에 대하여 임의의 추가 가격을 입력 시 아래 2가지 방식으로 산출하세요\n",
    "#(클래스 이용)\n",
    "# - price1 : 기본가격 + 추가가격\n",
    "# - price2 : (기본가격 + 추가가격) * 90% \n",
    "\n",
    "class PlusPrice2:\n",
    "    def __init__(self, plus):\n",
    "        self.price1 = 1000+plus\n",
    "        self.price2 = (1000+plus)*0.9\n",
    "        \n",
    "a = int(input(\"추가 가격을 입력\\n>\"))\n",
    "\n",
    "result = PlusPrice2(a)\n",
    "print(f\"-price1 : {result.price1}\\n-price2 : {result.price2 :.0f}\")"
   ]
  },
  {
   "cell_type": "code",
   "execution_count": 31,
   "id": "9c80dbe5",
   "metadata": {},
   "outputs": [
    {
     "name": "stdout",
     "output_type": "stream",
     "text": [
      "첫 번쨰 숫자를 입력\n",
      ">1000\n",
      "두 번쨰 숫자를 입력\n",
      ">200\n",
      "1000 + 200 = 1200\n",
      "1000 * 200 = 200000\n",
      "1000 - 200 = 800\n",
      "1000 / 200 = 5.0\n"
     ]
    }
   ],
   "source": [
    "#  4칙 연산 기능을 포함한 Cal4 클래스(생성자 이용)를 작성하고 이 클래스를 이용하여 cal 계산기 객체를 \n",
    "# 만든 후 두개의 수  1000, 200에 대한 사칙연산을 수행하세요\n",
    "\n",
    "class Sum:\n",
    "    def sum(self,n1,n2):\n",
    "        return n1+n2\n",
    "    \n",
    "class Mul:\n",
    "    def mul(self, n1, n2):\n",
    "        return n1*n2\n",
    "    \n",
    "class Sub:\n",
    "    def sub(self, n1, n2):\n",
    "        return n1-n2\n",
    "\n",
    "    \n",
    "class Cal(Sum, Mul, Sub):\n",
    "    def div(self, n1, n2):\n",
    "        return n1/n2\n",
    "\n",
    "obj = Cal()\n",
    "\n",
    "a = int(input(\"첫 번쨰 숫자를 입력\\n>\"))\n",
    "while True:\n",
    "    b = int(input(\"두 번쨰 숫자를 입력\\n>\"))\n",
    "    if b == 0:\n",
    "        print(\"0으로 나눌 순 없습니다.\")\n",
    "    else:\n",
    "        break\n",
    "\n",
    "\n",
    "print(f\"{a} + {b} = {obj.sum(a,b)}\")\n",
    "print(f\"{a} * {b} = {obj.mul(a,b)}\")\n",
    "print(f\"{a} - {b} = {obj.sub(a,b)}\")\n",
    "print(f\"{a} / {b} = {obj.div(a,b)}\")"
   ]
  },
  {
   "cell_type": "markdown",
   "id": "4b22d7d3",
   "metadata": {},
   "source": [
    "## 연산자 오버로딩\n",
    "\n",
    "파이썬에서는 연산자 오버로딩(Operator Overloading)을 지원합니다. 이는 사용자 정의 객체에 대해 내장 연산자를 사용할 수 있게 해주는 기능입니다.\n",
    "\n",
    "예를 들어, 두 개의 객체를 더하는 경우 + 연산자를 사용합니다. 이때, 더하기 연산자는 내부적으로 __add__() 메소드를 호출합니다. 따라서, 클래스 내에 __add__() 메소드를 정의하여 객체 간 덧셈을 구현할 수 있습니다.\n",
    "\n",
    "- 연산자를 객체끼리 사용할 수 있게 하는 기법\n",
    "- $+$ 연산자를 객체에 사용하면 __add__ 라는 함수가 호출됨(* __mul__)\n",
    "\n",
    "https://planbs.tistory.com/entry/Python-%EC%97%B0%EC%82%B0%EC%9E%90-%EC%98%A4%EB%B2%84%EB%A1%9C%EB%94%A9"
   ]
  },
  {
   "cell_type": "code",
   "execution_count": 32,
   "id": "da15b223",
   "metadata": {},
   "outputs": [
    {
     "name": "stdout",
     "output_type": "stream",
     "text": [
      "8\n",
      "8\n"
     ]
    }
   ],
   "source": [
    "# 어떤 값에 대해 \"+\", \"-\", \"*=\", \">>\" 등의 연산자를 취하는 것은 내부적으로\n",
    "# \"__add__\", \"__sub__\", \"__imul__\", \"rshift__\" 메소드를 실행하는 것과 동일\n",
    "# 3 + 5 # 내부적으로 (3).__add__ (5)를 실행\n",
    "\n",
    "print(3+5)\n",
    "print((3).__add__(5))"
   ]
  },
  {
   "cell_type": "code",
   "execution_count": 35,
   "id": "d50a81b6",
   "metadata": {},
   "outputs": [
    {
     "name": "stdout",
     "output_type": "stream",
     "text": [
      "이몽룡, 성춘향 사랑에 빠졌네\n",
      "이몽룡, 성춘향 결혼했네\n"
     ]
    }
   ],
   "source": [
    "# 연산자 오버로딩\n",
    "# 연산자를 객체끼리 사용할 수 있게 하는 기법\n",
    "# + 연산자를 객체에 사용하면 __add__ 라는 함수가 호출됨(* __mul__)\n",
    "\n",
    "# 연산자 오버로딩을 이용하여 class houselee: 를 만들고 아래와 같이 출력하세요\n",
    "# 이몽룡, 성춘향 사랑에 빠졌네\n",
    "# 이몽룡, 성춘향 결혼했네\n",
    "\n",
    "class HouseLee:\n",
    "    lastname = '이'\n",
    "    def __init__(self, name):\n",
    "        self.fullname = self.lastname + name\n",
    "    def travel(self, where):\n",
    "        print(f\"{self.fullname}, {where} 여행을 가다.\")\n",
    "    def love(self, other):\n",
    "        print(f\"{self.fullname}, {other.fullname} 사랑에 빠졌네\")\n",
    "    def __add__(self, other):\n",
    "        print(f\"{self.fullname}, {other.fullname} 결혼했네\")\n",
    "        \n",
    "class HouseSung(HouseLee):\n",
    "    lastname = \"성\"\n",
    "    def travel(self, where, day):\n",
    "        print(f\"{self.fullname}, {where}여행 {day}일 가네\")\n",
    "        \n",
    "mr = HouseLee(\"몽룡\")\n",
    "ch = HouseSung(\"춘향\")\n",
    "mr.love(ch)\n",
    "mr + ch"
   ]
  },
  {
   "cell_type": "code",
   "execution_count": 40,
   "id": "53722f2a",
   "metadata": {},
   "outputs": [
    {
     "name": "stdout",
     "output_type": "stream",
     "text": [
      "x : 5, y : 7, z : 9\n"
     ]
    }
   ],
   "source": [
    "# 내장된 특수한 함수와 변수를 나타낸다.\n",
    "# init은 클래스의 생성자 함수이며, add 함수는 연산자 오버로드용으로 사용\n",
    "class vector:\n",
    "    def __init__(self, x,y,z):\n",
    "        self.x = x\n",
    "        self.y = y\n",
    "        self.z = z\n",
    "    def __add__(self,other):\n",
    "        x_ = self.x + other.x\n",
    "        y_ = self.y + other.y\n",
    "        z_ = self.z + other.z\n",
    "        return vector(x_,y_,z_)\n",
    "    def show(self):\n",
    "        print(f\"x : {self.x}, y : {self.y}, z : {self.z}\")\n",
    "        \n",
    "v1 = vector(1,2,3)\n",
    "v2 = vector(4,5,6)\n",
    "v3 = v1 + v2\n",
    "v3.show()"
   ]
  },
  {
   "cell_type": "markdown",
   "id": "43ec66e0",
   "metadata": {},
   "source": [
    "## 메소드 오버라이딩\n",
    "파이썬에서 메소드 오버라이딩(overriding)은 자식 클래스(subclass)에서 부모 클래스(parent class)의 메소드를 재정의하는 것입니다. 자식 클래스에서 부모 클래스와 같은 이름과 파라미터를 가지는 메소드를 정의하면, 그 메소드는 부모 클래스의 메소드를 오버라이드합니다."
   ]
  },
  {
   "cell_type": "code",
   "execution_count": 49,
   "id": "1ea1a8e7",
   "metadata": {},
   "outputs": [
    {
     "name": "stdout",
     "output_type": "stream",
     "text": [
      "1000\n",
      "1000원\n"
     ]
    }
   ],
   "source": [
    "# Order 클래스를 상속받아 extraOrder 클래스에서 메소드 오버라이딩하여 출력가격에 원이 추가되도록 출력\n",
    "\n",
    "class Order:\n",
    "    def __init__(self,name):\n",
    "        self.customer = 0\n",
    "        self.name = name\n",
    "    def order(self, price):\n",
    "        self.customer += price\n",
    "        return str(self.customer)\n",
    "    \n",
    "class extraOrder(Order):\n",
    "    def order(self, price):\n",
    "        self.customer += price\n",
    "        return str(self.customer) + \"원\"\n",
    "    \n",
    "order = Order(\"kevin\")\n",
    "print(order.order(1000))\n",
    "\n",
    "extraCustomer = extraOrder(\"kevin\")\n",
    "print(extraCustomer.order(1000))"
   ]
  },
  {
   "cell_type": "code",
   "execution_count": 52,
   "id": "cb8cd1c2",
   "metadata": {},
   "outputs": [
    {
     "name": "stdout",
     "output_type": "stream",
     "text": [
      "동물이 소리를 냅니다.\n",
      "동물이 멍멍 소리를 냅니다.\n",
      "동물이 야옹 소리를 냅니다.\n"
     ]
    }
   ],
   "source": [
    "class Animal:\n",
    "    def speak(self):\n",
    "        print(\"동물이 소리를 냅니다.\")\n",
    "        \n",
    "class Dog(Animal):\n",
    "    def speak(self):\n",
    "        print(\"동물이 멍멍 소리를 냅니다.\")\n",
    "\n",
    "class Cat(Animal):\n",
    "    def speak(self):\n",
    "        print(\"동물이 야옹 소리를 냅니다.\")\n",
    "        \n",
    "        \n",
    "ani = Animal().speak()\n",
    "dog = Dog().speak()\n",
    "cat = Cat().speak()"
   ]
  },
  {
   "cell_type": "markdown",
   "id": "b0a75561",
   "metadata": {},
   "source": [
    "[과제] Q. HouseLee, HouseSung 두개의 클래스 및 연산자 오버로딩을 사용하여 \"부산발 이몽룡 성춘향 러브 스토리\"를 작성하여 출력하세요.\n",
    "\n",
    "- 이몽룡은 부산 클럽에 놀러 간다.\n",
    "- 성춘향도 우연히 3일 동안 부산 클럽에 놀러 간다.\n",
    "- 둘은 썸을 탄다.\n",
    "- 일정 때문에 각자 서울로 돌아간다.\n",
    "- 1년뒤 강남 클럽에서 둘은 우연히 재회를 한다.\n",
    "- 연인이 된다."
   ]
  },
  {
   "cell_type": "code",
   "execution_count": 54,
   "id": "8052107c",
   "metadata": {},
   "outputs": [
    {
     "name": "stdout",
     "output_type": "stream",
     "text": [
      "이몽룡은 부산 클럽에 놀러 간다. \n",
      "성춘향도 우연히 3일 동안 부산 클럽에 놀러 간다.\n",
      "이몽룡, 성춘향 둘은 썸을 탄다.\n",
      "일정 때문에 각자 서울로 돌아간다.\n",
      "1년 뒤, 강남 클럽에서 둘은 우연히 재회를 한다.\n",
      "이몽룡, 성춘향 둘은 연인이 된다.\n"
     ]
    }
   ],
   "source": [
    "class HouseLee:\n",
    "    lastname = '이'\n",
    "    def __init__(self, name):\n",
    "        self.fullname = self.lastname + name\n",
    "    def travel(self, where):\n",
    "        print(f\"{self.fullname}은 {where}에 놀러 간다. \")\n",
    "    def love(self, other):\n",
    "        print(f\"{self.fullname}, {other.fullname} 둘은 썸을 탄다.\")\n",
    "    def back(self):\n",
    "        print(\"일정 때문에 각자 서울로 돌아간다.\")\n",
    "    def meet(self,when,where):\n",
    "        print(f\"{when}년 뒤, {where}에서 둘은 우연히 재회를 한다.\")\n",
    "    def __add__(self, other):\n",
    "        print(f\"{self.fullname}, {other.fullname} 둘은 연인이 된다.\")\n",
    "        \n",
    "class HouseSung(HouseLee):\n",
    "    lastname = \"성\"\n",
    "    def travel(self, where, day):\n",
    "        print(f\"{self.fullname}도 우연히 {day}일 동안 {where}에 놀러 간다.\")\n",
    "        \n",
    "mr = HouseLee(\"몽룡\")\n",
    "ch = HouseSung(\"춘향\")\n",
    "\n",
    "\n",
    "mr.travel(\"부산 클럽\")\n",
    "ch.travel(\"부산 클럽\",3)\n",
    "mr.love(ch)\n",
    "mr.back()\n",
    "mr.meet(1,\"강남 클럽\")\n",
    "mr + ch"
   ]
  },
  {
   "cell_type": "code",
   "execution_count": 4,
   "id": "e434ac70",
   "metadata": {},
   "outputs": [
    {
     "name": "stdout",
     "output_type": "stream",
     "text": [
      "공부를 합니다.\n",
      "공부를 합니다.\n",
      "학생을 가르칩니다.\n",
      "공부를 합니다.\n",
      "공부를 합니다.\n"
     ]
    }
   ],
   "source": [
    "class Student:\n",
    "    def study(self):\n",
    "        print(\"공부를 합니다.\")\n",
    "\n",
    "class Teacher:\n",
    "    def teach(self):\n",
    "        print(\"학생을 가르칩니다.\")\n",
    "        \n",
    "# 객체 리스트       \n",
    "classroom = [Student(), Student(), Teacher(), Student(), Student()]\n",
    "\n",
    "# 반복을 적용하여 적절한 함수를 호출\n",
    "for person in classroom:\n",
    "    if isinstance(person, Student):\n",
    "        person.study()\n",
    "    elif isinstance(person, Teacher):\n",
    "        person.teach()"
   ]
  },
  {
   "cell_type": "code",
   "execution_count": 43,
   "id": "c1db8b4c",
   "metadata": {},
   "outputs": [],
   "source": [
    "# mymodule.py라는 4칙 연산을 수행하는 모듈을 클래스로 작성한 후 import 해서 4칙 연산을 수행하세요.\n",
    "\n",
    "with open(\"mymodule.py\", \"w\", encoding = \"utf-8\") as f:\n",
    "    f.write(\n",
    "\"\"\"\n",
    "class Calculator:\n",
    "    def __init__(self):\n",
    "        pass\n",
    "    def sum(self,a,b):\n",
    "        return a+b\n",
    "    def sub(self,a,b):\n",
    "        return a-b\n",
    "    def mul(self,a,b):\n",
    "        return a*b\n",
    "    def div(self,a,b):\n",
    "        if a == 0 or b == 0:\n",
    "            return \"나눗셈에 0을 포함시킬 수 없습니다.\"\n",
    "        else:\n",
    "            return a/b   \n",
    "\"\"\")\n",
    "\n",
    "    \n",
    "\n",
    "from mymodule import Calculator\n",
    "\n",
    "calc = Calculator()\n",
    "\n",
    "\n",
    "print(calc.sum(5,2))\n",
    "print(calc.sub(5,2))\n",
    "print(calc.mul(5,2))\n",
    "print(calc.div(5,2))\n",
    "\n",
    "\n",
    "    \n"
   ]
  },
  {
   "cell_type": "code",
   "execution_count": 44,
   "id": "35df5718",
   "metadata": {},
   "outputs": [
    {
     "ename": "ImportError",
     "evalue": "cannot import name 'Calculator' from 'mymodule' (C:\\hmkd1\\m1_programming\\mymodule.py)",
     "output_type": "error",
     "traceback": [
      "\u001b[1;31m---------------------------------------------------------------------------\u001b[0m",
      "\u001b[1;31mImportError\u001b[0m                               Traceback (most recent call last)",
      "\u001b[1;32m~\\AppData\\Local\\Temp\\ipykernel_6972\\3060305340.py\u001b[0m in \u001b[0;36m<module>\u001b[1;34m\u001b[0m\n\u001b[1;32m----> 1\u001b[1;33m \u001b[1;32mfrom\u001b[0m \u001b[0mmymodule\u001b[0m \u001b[1;32mimport\u001b[0m \u001b[0mCalculator\u001b[0m\u001b[1;33m\u001b[0m\u001b[1;33m\u001b[0m\u001b[0m\n\u001b[0m\u001b[0;32m      2\u001b[0m \u001b[1;33m\u001b[0m\u001b[0m\n\u001b[0;32m      3\u001b[0m \u001b[0mcalc\u001b[0m \u001b[1;33m=\u001b[0m \u001b[0mCalculator\u001b[0m\u001b[1;33m(\u001b[0m\u001b[1;33m)\u001b[0m\u001b[1;33m\u001b[0m\u001b[1;33m\u001b[0m\u001b[0m\n\u001b[0;32m      4\u001b[0m \u001b[1;33m\u001b[0m\u001b[0m\n\u001b[0;32m      5\u001b[0m \u001b[1;33m\u001b[0m\u001b[0m\n",
      "\u001b[1;31mImportError\u001b[0m: cannot import name 'Calculator' from 'mymodule' (C:\\hmkd1\\m1_programming\\mymodule.py)"
     ]
    }
   ],
   "source": [
    "from mymodule import Calculator\n",
    "\n",
    "calc = Calculator()\n",
    "\n",
    "\n",
    "print(calc.sum(5,2))\n",
    "print(calc.sub(5,2))\n",
    "print(calc.mul(5,2))\n",
    "print(calc.div(5,2))"
   ]
  },
  {
   "cell_type": "code",
   "execution_count": 38,
   "id": "63927a08",
   "metadata": {},
   "outputs": [],
   "source": [
    "# 두개의 인자를 받아서 덧셈 기능을 수행하는 모듈을 클래스로 생성한 후 모듈을 임포트하여 재활용, 덧셈을 수행하세요.\n",
    "\n",
    "with open(\"plusModule.py\", \"w\",encoding = \"utf-8\") as f:\n",
    "    f.write(\n",
    "\"\"\"\n",
    "class Calculate:\n",
    "    def __init__(self):\n",
    "        self.a = int(input(\"첫 번째 인자 입력\"))\n",
    "        self.b = int(input(\"두 번째 인자 입력\"))\n",
    "    def plus(self):\n",
    "        return self.a+self.b\n",
    "\"\"\")\n",
    "    \n",
    "f.close()\n"
   ]
  },
  {
   "cell_type": "code",
   "execution_count": 39,
   "id": "825c8d5a",
   "metadata": {},
   "outputs": [
    {
     "name": "stdout",
     "output_type": "stream",
     "text": [
      "첫 번째 인자 입력1\n",
      "두 번째 인자 입력2\n",
      "3\n"
     ]
    }
   ],
   "source": [
    "from plusModule import Calculate\n",
    "\n",
    "c = Calculate()\n",
    "\n",
    "print(c.plus())"
   ]
  },
  {
   "cell_type": "code",
   "execution_count": 105,
   "id": "2fc3904b",
   "metadata": {},
   "outputs": [
    {
     "name": "stdout",
     "output_type": "stream",
     "text": [
      "[('강감찬', 87, 98, 88, 95), ('이순신', 92, 98, 96, 98), ('김유신', 76, 96, 94, 90), ('김홍도', 98, 92, 96, 92), ('이태백', 95, 98, 98, 98), ('임꺽정', 64, 88, 92, 92)]\n"
     ]
    }
   ],
   "source": [
    "# 학생별 국어, 수학, 영어, 과학 성적을 딕셔너리 형식으로 리턴하는 함수를 생성한 후 출력하세요.\n",
    "\n",
    "\n",
    "a = \"강감찬\", 87, 98, 88, 95\n",
    "b = \"이순신\", 92, 98, 96, 98\n",
    "c = \"김유신\", 76, 96, 94, 90\n",
    "d = \"김홍도\", 98, 92, 96, 92\n",
    "e = \"이태백\", 95, 98, 98, 98\n",
    "f = \"임꺽정\", 64, 88, 92, 92\n",
    "\n",
    "        \n",
    "studentList = [a,b,c,d,e,f]\n",
    "print(studentList)"
   ]
  },
  {
   "cell_type": "code",
   "execution_count": 112,
   "id": "621834da",
   "metadata": {},
   "outputs": [],
   "source": [
    "with open (\"PracticeData.txt\", \"w\") as f:\n",
    "    f.write(\"\"\"\n",
    "\"강감찬\", 87, 98, 88, 95\n",
    "\"이순신\", 92, 98, 96, 98\n",
    "\"김유신\", 76, 96, 94, 90\n",
    "\"김홍도\", 98, 92, 96, 92\n",
    "\"이태백\", 95, 98, 98, 98\n",
    "\"임꺽정\", 64, 88, 92, 92    \n",
    "\"\"\")\n",
    "\n"
   ]
  },
  {
   "cell_type": "code",
   "execution_count": null,
   "id": "183989e1",
   "metadata": {},
   "outputs": [],
   "source": [
    "\"강감찬\", 87, 98, 88, 95\n",
    "\"이순신\", 92, 98, 96, 98\n",
    "\"김유신\", 76, 96, 94, 90\n",
    "\"김홍도\", 98, 92, 96, 92\n",
    "\"이태백\", 95, 98, 98, 98\n",
    "\"임꺽정\", 64, 88, 92, 92"
   ]
  },
  {
   "cell_type": "code",
   "execution_count": null,
   "id": "a05cbdb9",
   "metadata": {},
   "outputs": [],
   "source": []
  },
  {
   "cell_type": "code",
   "execution_count": 133,
   "id": "a727a061",
   "metadata": {},
   "outputs": [
    {
     "name": "stdout",
     "output_type": "stream",
     "text": [
      "[['강감찬', '87', '98', '88', '95'], ['이순신', '92', '98', '96', '98'], ['김유신', '76', '96', '94', '90'], ['김홍도', '98', '92', '96', '92'], ['이태백', '95', '98', '98', '98'], ['임꺽정', '64', '88', '92', '92']]\n"
     ]
    }
   ],
   "source": [
    "f = open('PracticeData.txt','r')\n",
    "st_List = []\n",
    "while True:\n",
    "    line = f.readline()\n",
    "    line = line.replace(\" \",\"\")\n",
    "    line = line.replace('''\"''',\"\")\n",
    "    if not line: break\n",
    "    dt_List = line.split(\",\")\n",
    "    st_List.append(dt_List)\n",
    "f.close()\n",
    "\n",
    "st_List = [[elem.replace(\"\\n\", \"\") for elem in inner_list] for inner_list in st_List]\n",
    "st_List = [sublist for sublist in st_List if sublist != ['']]\n",
    "print(st_List)"
   ]
  },
  {
   "cell_type": "code",
   "execution_count": 117,
   "id": "597db95b",
   "metadata": {},
   "outputs": [],
   "source": [
    "\n",
    "\n",
    "def Dic(data):\n",
    "    i = 0\n",
    "    while i < len(data):\n",
    "        name = data[i][0]\n",
    "        kor = data[i][1]\n",
    "        mat = data[i][2]\n",
    "        eng = data[i][3]\n",
    "        sci = data[i][4]\n",
    "        dic = {\"name\" : name, \"korean\" : kor, \"math\" : mat, \"english\" : eng, \"science\" : sci}\n",
    "        print(dic)\n",
    "        i += 1\n",
    "\n",
    "def vList(data):\n",
    "    print(\"이름\\t총점\\t평균\")\n",
    "    i = 0\n",
    "    while i < len(data):\n",
    "        j = 1\n",
    "        sum = 0\n",
    "        while j < len(data[i]):\n",
    "            sum += data[i][j]\n",
    "            j += 1\n",
    "        avr = round(sum / (len(data[i])-1), 2)\n",
    "        print(f\"{data[i][0]}\\t{sum}\\t{avr}\")\n",
    "        i += 1\n",
    "    "
   ]
  },
  {
   "cell_type": "code",
   "execution_count": 110,
   "id": "41fcbe98",
   "metadata": {},
   "outputs": [
    {
     "name": "stdout",
     "output_type": "stream",
     "text": [
      "{'name': '강감찬', 'korean': 87, 'math': 98, 'english': 88, 'science': 95}\n",
      "{'name': '이순신', 'korean': 92, 'math': 98, 'english': 96, 'science': 98}\n",
      "{'name': '김유신', 'korean': 76, 'math': 96, 'english': 94, 'science': 90}\n",
      "{'name': '김홍도', 'korean': 98, 'math': 92, 'english': 96, 'science': 92}\n",
      "{'name': '이태백', 'korean': 95, 'math': 98, 'english': 98, 'science': 98}\n",
      "{'name': '임꺽정', 'korean': 64, 'math': 88, 'english': 92, 'science': 92}\n"
     ]
    }
   ],
   "source": [
    "Dic(studentList)"
   ]
  },
  {
   "cell_type": "code",
   "execution_count": 118,
   "id": "68f6eb53",
   "metadata": {},
   "outputs": [
    {
     "name": "stdout",
     "output_type": "stream",
     "text": [
      "이름\t총점\t평균\n",
      "강감찬\t368\t92.0\n",
      "이순신\t384\t96.0\n",
      "김유신\t356\t89.0\n",
      "김홍도\t378\t94.5\n",
      "이태백\t389\t97.25\n",
      "임꺽정\t336\t84.0\n"
     ]
    }
   ],
   "source": [
    "vList(studentList)"
   ]
  },
  {
   "cell_type": "code",
   "execution_count": 135,
   "id": "a59ff115",
   "metadata": {},
   "outputs": [],
   "source": [
    "class Student:\n",
    "    def __init__(self,data):\n",
    "        with open (\"PracticeData.txt\", \"w\") as f:\n",
    "            f.write(f\"\"\"{data}\n",
    "\"\"\")\n",
    "        f = open('PracticeData.txt','r')\n",
    "        st_List = []\n",
    "        while True:\n",
    "            line = f.readline()\n",
    "            line = line.replace(\" \",\"\")\n",
    "            line = line.replace('''\"''',\"\")\n",
    "            if not line: break\n",
    "            dt_List = line.split(\",\")\n",
    "            st_List.append(dt_List)\n",
    "        f.close()\n",
    "\n",
    "        st_List = [[elem.replace(\"\\n\", \"\") for elem in inner_list] for inner_list in st_List]\n",
    "        st_List = [sublist for sublist in st_List if sublist != ['']]\n",
    "        self.studentList = st_List\n",
    "        \n",
    "    def Dic(self):\n",
    "        i = 0\n",
    "        while i < len(self.data):\n",
    "            name = self.data[i][0]\n",
    "            kor = self.data[i][1]\n",
    "            mat = self.data[i][2]\n",
    "            eng = self.data[i][3]\n",
    "            sci = self.data[i][4]\n",
    "            dic = {\"name\" : name, \"korean\" : kor, \"math\" : mat, \"english\" : eng, \"science\" : sci}\n",
    "            print(dic)\n",
    "            i += 1\n",
    "            \n",
    "    def vList(self):\n",
    "        print(\"이름\\t총점\\t평균\")\n",
    "        i = 0\n",
    "        while i < len(self.data):\n",
    "            j = 1\n",
    "            sum = 0\n",
    "            while j < len(self.data[i]):\n",
    "                sum += self.data[i][j]\n",
    "                j += 1\n",
    "            avr = round(sum / (len(self.data[i])-1), 2)\n",
    "            print(f\"{self.data[i][0]}\\t{sum}\\t{avr}\")\n",
    "            i += 1"
   ]
  },
  {
   "cell_type": "code",
   "execution_count": 136,
   "id": "d5d64b7e",
   "metadata": {},
   "outputs": [
    {
     "ename": "SyntaxError",
     "evalue": "invalid syntax (603380169.py, line 2)",
     "output_type": "error",
     "traceback": [
      "\u001b[1;36m  File \u001b[1;32m\"C:\\Users\\h\\AppData\\Local\\Temp\\ipykernel_6972\\603380169.py\"\u001b[1;36m, line \u001b[1;32m2\u001b[0m\n\u001b[1;33m    \"이순신\", 92, 98, 96, 98\u001b[0m\n\u001b[1;37m    ^\u001b[0m\n\u001b[1;31mSyntaxError\u001b[0m\u001b[1;31m:\u001b[0m invalid syntax\n"
     ]
    }
   ],
   "source": [
    "c = Student(\"강감찬\", 87, 98, 88, 95\n",
    "\"이순신\", 92, 98, 96, 98\n",
    "\"김유신\", 76, 96, 94, 90\n",
    "\"김홍도\", 98, 92, 96, 92\n",
    "\"이태백\", 95, 98, 98, 98\n",
    "\"임꺽정\", 64, 88, 92, 92)\n",
    "\n",
    "c.Dic()"
   ]
  },
  {
   "cell_type": "code",
   "execution_count": null,
   "id": "a1685b14",
   "metadata": {},
   "outputs": [],
   "source": [
    "# 사용자 함수 5개 이상을 사용하는 프로그램 작성 후 이 프로그램을 클래스를 이용하여 개선하세요. \n",
    "# 클래스 작성 시 두가지로 진행(생성자 사용 및 미사용)"
   ]
  },
  {
   "cell_type": "code",
   "execution_count": null,
   "id": "0f5e44d5",
   "metadata": {},
   "outputs": [],
   "source": []
  }
 ],
 "metadata": {
  "kernelspec": {
   "display_name": "Python 3 (ipykernel)",
   "language": "python",
   "name": "python3"
  },
  "language_info": {
   "codemirror_mode": {
    "name": "ipython",
    "version": 3
   },
   "file_extension": ".py",
   "mimetype": "text/x-python",
   "name": "python",
   "nbconvert_exporter": "python",
   "pygments_lexer": "ipython3",
   "version": "3.9.13"
  }
 },
 "nbformat": 4,
 "nbformat_minor": 5
}
