{
 "cells": [
  {
   "cell_type": "code",
   "execution_count": 1,
   "id": "87a033a3",
   "metadata": {},
   "outputs": [],
   "source": [
    "import re"
   ]
  },
  {
   "cell_type": "markdown",
   "id": "25598486",
   "metadata": {},
   "source": [
    "# 정규표현식 기본 개념\n",
    "\n",
    "한 영화관에서는 예매 시 사용자의 휴대폰 번호를 입력받아야 합니다. 예매 정보는 해당 번호와 함께 저장됩니다. 그러나 종종 잘못된 번호가 입력되어 예매 정보가 유실되는 문제가 발생했습니다.\n",
    "\n",
    "이런 문제를 해결하기 위해, 영화관은 **정규표현식**을 사용해 휴대폰 번호를 검증하기로 결정했습니다. 이제 사용자가 휴대폰 번호를 입력할 때, 정확한 형식으로 입력되었는지 확인하고, 유효한 번호만 저장할 수 있습니다."
   ]
  },
  {
   "cell_type": "markdown",
   "id": "97433707",
   "metadata": {},
   "source": [
    "## 정규표현식이란?\n",
    "\n",
    "정규표현식(Regular Expression)은 문자열에서 특정한 패턴을 찾거나, 대체하거나, 추출하는데 사용되는 문자열입니다. 즉, 문자열에서 원하는 문자를 찾거나 바꾸기 위한 일종의 패턴이라고 생각할 수 있습니다.\n",
    "\n",
    "\n",
    "예를 들어, 정규표현식에서 '.'은 어떤 문자 하나를 의미하고, '*'는 바로 앞의 문자가 0번 이상 반복됨을 의미합니다. 또한, '|'는 OR 조건을 의미하고, '^'는 문자열의 시작을 의미합니다.\n",
    "\n",
    "파이썬에서는 정규표현식을 처리하기 위해 're' 모듈을 제공합니다. 're' 모듈을 사용하면 문자열에서 패턴을 찾거나, 추출하거나, 대체할 수 있습니다."
   ]
  },
  {
   "cell_type": "code",
   "execution_count": 2,
   "id": "3a553023",
   "metadata": {},
   "outputs": [
    {
     "data": {
      "text/plain": [
       "['12345']"
      ]
     },
     "execution_count": 2,
     "metadata": {},
     "output_type": "execute_result"
    }
   ],
   "source": [
    "text = \"Hello, my number is 12345.\"\n",
    "\n",
    "numbers = re.findall(\"\\d+\", text)\n",
    "numbers"
   ]
  },
  {
   "cell_type": "markdown",
   "id": "4217a4cf",
   "metadata": {},
   "source": [
    "## 정규표현식의 장단점\n",
    "\n",
    "[장점]\n",
    "1.\t유연성: 정규표현식을 사용하면 다양한 패턴을 표현할 수 있습니다. 예를 들어, 특정 문자열이 특정 패턴을 따르는지 여부를 확인하거나, 특정 패턴을 가진 문자열을 찾아내는 등 다양한 용도로 사용할 수 있습니다.\n",
    "2.\t간결성: 문자열에서 원하는 정보를 추출하는 데에는 정규표현식이 다른 방법에 비해 더 간단하고 직관적입니다.\n",
    "3.\t속도: 정규표현식은 문자열을 일일이 검색하는 것보다 더 빠른 속도로 패턴을 찾아낼 수 있습니다.\n",
    "\n",
    "[단점]\n",
    "1.\t복잡성: 정규표현식은 다양한 패턴을 표현할 수 있지만, 그만큼 문법이 복잡합니다. 특히 초보자에게는 익숙해지기까지 시간이 걸릴 수 있습니다.\n",
    "2.\t이식성: 언어나 툴마다 문법이 조금씩 다르기 때문에, 한 번 익힌 정규표현식이 다른 환경에서는 작동하지 않을 수도 있습니다.\n",
    "3.\t가독성: 정규표현식을 사용하면 코드의 가독성이 떨어질 수 있습니다. 특히, 매우 복잡한 정규표현식을 작성하면 코드가 길어지고 가독성이 나빠질 수 있습니다.\n",
    "위와 같이, 정규표현식은 다양한 장단점을 가지고 있습니다. 그러나 정규표현식은 파이썬을 비롯한 다양한 프로그래밍 언어에서 사용되는 유용한 도구입니다. 아래는 파이썬 코드로 정규표현식을 사용한 문자열 패턴 매칭 예시입니다."
   ]
  },
  {
   "cell_type": "code",
   "execution_count": 3,
   "id": "e82e42e0",
   "metadata": {},
   "outputs": [
    {
     "data": {
      "text/plain": [
       "['010-1234-5678']"
      ]
     },
     "execution_count": 3,
     "metadata": {},
     "output_type": "execute_result"
    }
   ],
   "source": [
    "# 정규표현식을 이용하여 전화번호를 추출하는 예시\n",
    "\n",
    "# 패턴 설정\n",
    "pattern = r\"\\d{3}-\\d{4}-\\d{4}\"\n",
    "\n",
    "# 패턴 매칭\n",
    "phone_numbers = [\"010-1234-5678\", \"02-555-1234\", \"031-222-3333\"]\n",
    "\n",
    "matched_numbers = []\n",
    "for number in phone_numbers:\n",
    "    if re.match(pattern, number):\n",
    "        matched_numbers.append(number)\n",
    "        \n",
    "matched_numbers"
   ]
  },
  {
   "cell_type": "markdown",
   "id": "c890e2e4",
   "metadata": {},
   "source": [
    "## 정규표현식의 구성 요소\n",
    "\n",
    "정규표현식은 다음과 같은 구성 요소를 가집니다.\n",
    "\n",
    "- 문자: 특정 문자를 표현합니다. 예를 들어, 'a'는 문자 'a'를 의미합니다.\n",
    "- 메타 문자: 특별한 의미를 가지는 문자입니다. 예를 들어, '.'은 어떤 문자에도 매치되는 문자입니다.\n",
    "- 문자 클래스: 여러 개의 문자 중 하나를 선택합니다. 대괄호([])로 표현합니다. 예를 들어, '[abc]'는 'a', 'b', 'c' 중 하나에 매치됩니다.\n",
    "- 반복: 문자 또는 메타 문자가 반복되는 횟수를 지정합니다. '','*','+', '?', '{m}', '{m,n}' 등으로 표현합니다. 예를 들어, 'a'는 'a'가 0번 이상 반복되는 문자열에 매치됩니다.\n",
    "- 그룹: 하나의 문자 또는 메타 문자의 집합을 그룹화합니다. 괄호()로 표현합니다. 예를 들어, '(abc)+'는 'abc'가 1번 이상 반복되는 문자열에 매치됩니다."
   ]
  },
  {
   "cell_type": "code",
   "execution_count": 4,
   "id": "8be1d27d",
   "metadata": {},
   "outputs": [
    {
     "name": "stdout",
     "output_type": "stream",
     "text": [
      "C:\\Users\\Desktop\\file.txt\n",
      "C:\\Users\\Desktop\\file.txt\n"
     ]
    }
   ],
   "source": [
    "str1 = \"C:\\\\Users\\\\Desktop\\\\file.txt\"\n",
    "str2 = r\"C:\\Users\\Desktop\\file.txt\"\n",
    "\n",
    "print(str1)\n",
    "print(str2)"
   ]
  },
  {
   "cell_type": "code",
   "execution_count": 5,
   "id": "461bff42",
   "metadata": {},
   "outputs": [
    {
     "name": "stdout",
     "output_type": "stream",
     "text": [
      "['a']\n",
      "['a', 'p', 'p', 'l', 'e']\n",
      "['a', 'e']\n",
      "['bana']\n",
      "['ba', '']\n"
     ]
    }
   ],
   "source": [
    "pattern1 = r\"a\"\n",
    "text1 = \"apple\"\n",
    "print(re.findall(pattern1, text1))\n",
    "\n",
    "pattern2 = \".\"\n",
    "text2 = \"apple\"\n",
    "print(re.findall(pattern2, text2))\n",
    "\n",
    "pattern3 = \"[aeiou]\"\n",
    "text3 = \"apple\"\n",
    "print(re.findall(pattern3, text3))\n",
    "\n",
    "pattern4 = \"ba*na\"\n",
    "text4 = \"banana\"\n",
    "print(re.findall(pattern4, text4))\n",
    "\n",
    "pattern5 = \"(ba)*na\"\n",
    "text5 = \"banana\"\n",
    "print(re.findall(pattern5, text5))"
   ]
  },
  {
   "cell_type": "markdown",
   "id": "f474b316",
   "metadata": {},
   "source": [
    "# 정규표현식의 문법\n",
    "\n",
    "\n",
    "정규표현식의 문법에는 다양한 메타문자(meta-character)가 사용됩니다. 메타문자란 일반적으로 사용되는 문자가 아니라, 특별한 의미를 가지는 문자를 말합니다. 메타문자는 다양한 용도로 사용되며, 각각의 기능은 다음과 같습니다."
   ]
  },
  {
   "cell_type": "markdown",
   "id": "ec0a9c82",
   "metadata": {},
   "source": [
    "## 메타문자의 종류와 사용 방법\n",
    "\n",
    "\n",
    "\n",
    "[메타문자/클래스]\n",
    " - \\d 숫자와 매치, [0-9]와 동일한 표현식\n",
    " - \\D 숫자가 아닌 것과 매치, [^0-9]와 동일한 표현식\n",
    " - \\s whitespace 문자와 매치, [ \\t\\n\\r\\f\\v]와 동일한 표현식\n",
    " - \\S whitespace 문자가 아닌 것과 매치, [^ \\t\\n\\r\\f\\v]와 동일한 표현식\n",
    " - \\w 문자 + 숫자와 매치, [a-zA-Z0-9]와 동일한 표현식\n",
    " - \\W 문자 + 숫자가 아닌 문자와 매치, [^a-zA-Z0-9]와 동일한 표현식\n",
    "\n",
    "[whitespace]\n",
    " -  스페이스 바 (아스키코드 32)\n",
    " -  ＼b  뒤로 한 칸 이동 (Backspace) (아스키코드 8)\n",
    " -  ＼t  수평탭 간격 띄우기 (아스키코드 9)\n",
    " -  ＼n  줄바꿈 (Linefeed) (아스키코드 10)\n",
    " -  ＼v  수직탭 간격 띄우기 (아스키코드 11)\n",
    " -  ＼f  프린트 출력 용지를 한 페이지 넘김 (Form feed) (아스키코드 12)\n",
    " -  ＼r  동일한 줄의 맨 앞으로 커서 이동 (Carriage Return) (아스키코드 13)\n",
    " - Dot(.) 메타 문자는 줄바꿈 문자인 \\n를 제외한 모든 문자와 매치됨을 의미\n",
    "\n",
    "[문자열의 반복과 선택을 나타내는 메타문자]\n",
    "- ^ : 문자열의 시작을 나타냄. 예를 들어, '^a'는 문자열의 시작이 'a'인 경우와 매치됨.\n",
    "- \\\\$ : 문자열의 끝을 나타냄. 예를 들어, 'a\\$'는 문자열의 끝이 'a'인 경우와 매치됨.\n",
    "\n",
    "\n",
    "\n",
    "[문자열의 반복과 선택을 나타내는 메타문자]\n",
    "- 반복(\\*) ca*t 0부터 무한대로 반복\n",
    "- 반복(\\+) ca+t 최소 1번 이상 반복\n",
    "- ca{m,n} a 반복 횟수가 m부터 n까지인 것을 매치\n",
    "- ca{2}t는 c+a(2번 반복)+t의 의미\n",
    "- 반복횟수가 {1,}은 1 이상, {0,}은 0 이상인 경우로 각각 +, *와 동일하며 {,1}은 반복횟수가 1 이하를 의미.\n",
    "- ab?c b가 0~1번 사용되면 매치되는 것으로 ?은 앞의 b가 있어도 되고 없어도 된다"
   ]
  },
  {
   "cell_type": "markdown",
   "id": "b1397632",
   "metadata": {},
   "source": [
    "## re 모듈\n",
    "\n",
    "정규표현식을 파이썬에서 사용하기 위해서는 re 모듈을 import하여 사용합니다. 이를 이용하여 정규식을 컴파일하고 정규식을 이용한 문자열 검색 등 다양한 작업을 수행할 수 있습니다.\n",
    "\n",
    "re 모듈을 이용하여 문자열 검색을 수행하는 함수는 다음과 같습니다.\n",
    "\n",
    "- compile(): 정규식을 컴파일합니다.\n",
    "- match(): 문자열의 처음부터 정규식과 매치되는지 조사합니다.\n",
    "- search(): 문자열의 전체를 검색하여 정규식과 매치되는지 조사합니다.\n",
    "- findall(): 정규식과 매치되는 모든 문자열을 리스트로 리턴합니다.\n",
    "- finditer(): 정규식과 매치되는 모든 문자열을 반복 가능한 객체로 리턴합니다."
   ]
  },
  {
   "cell_type": "code",
   "execution_count": 6,
   "id": "e423697a",
   "metadata": {},
   "outputs": [
    {
     "name": "stdout",
     "output_type": "stream",
     "text": [
      "match found\n"
     ]
    }
   ],
   "source": [
    "pattern = re.compile(\"ab+c\")\n",
    "match = pattern.search(\"abcc\")\n",
    "if match:\n",
    "    print(\"match found\")\n",
    "else:\n",
    "    print(\"mismatch\")"
   ]
  },
  {
   "cell_type": "code",
   "execution_count": 7,
   "id": "44e07001",
   "metadata": {},
   "outputs": [
    {
     "data": {
      "text/plain": [
       "<re.Match object; span=(3, 8), match='abbbc'>"
      ]
     },
     "execution_count": 7,
     "metadata": {},
     "output_type": "execute_result"
    }
   ],
   "source": [
    "re.search(pattern, \"eeeabbbc\")"
   ]
  },
  {
   "cell_type": "code",
   "execution_count": 8,
   "id": "3657dfc9",
   "metadata": {},
   "outputs": [],
   "source": [
    "re.match(pattern, \"eeeabbbc\")"
   ]
  },
  {
   "cell_type": "code",
   "execution_count": 9,
   "id": "b0923eb8",
   "metadata": {},
   "outputs": [
    {
     "data": {
      "text/plain": [
       "['abbbc', 'abc']"
      ]
     },
     "execution_count": 9,
     "metadata": {},
     "output_type": "execute_result"
    }
   ],
   "source": [
    "re.findall(pattern, \"abbbceeabce\")"
   ]
  },
  {
   "cell_type": "code",
   "execution_count": 10,
   "id": "1af0135e",
   "metadata": {},
   "outputs": [
    {
     "name": "stdout",
     "output_type": "stream",
     "text": [
      "<re.Match object; span=(0, 5), match='abbbc'>\n",
      "<re.Match object; span=(7, 10), match='abc'>\n"
     ]
    }
   ],
   "source": [
    "m = re.finditer(pattern, \"abbbceeabce\")\n",
    "for i in m:\n",
    "    print(i)"
   ]
  },
  {
   "cell_type": "markdown",
   "id": "d37b6bb5",
   "metadata": {},
   "source": [
    "### 과제1_0424\n",
    "정규표현식을 사용하여 이메일을 추출하시오.\n",
    "\n",
    "text = \"이메일 주소는 abc-123@gmail.com입니다.\""
   ]
  },
  {
   "cell_type": "code",
   "execution_count": 11,
   "id": "dd7d744d",
   "metadata": {},
   "outputs": [
    {
     "data": {
      "text/plain": [
       "'abc-123@gmail.com'"
      ]
     },
     "execution_count": 11,
     "metadata": {},
     "output_type": "execute_result"
    }
   ],
   "source": [
    "text = \"이메일 주소는 abc-123@gmail.com입니다.\"\n",
    "\n",
    "pattern = \"[\\w-]+@\\w+.com\"\n",
    "\n",
    "re.search(pattern, text).group()"
   ]
  },
  {
   "cell_type": "markdown",
   "id": "6c372897",
   "metadata": {},
   "source": [
    "### 과제2_0424\n",
    "정규표현식을 사용하여 text에서 전화번호를 추출하시오.\n",
    "\n",
    "text = \"저의 전화번호는 010-1234-5678입니다.\"\n"
   ]
  },
  {
   "cell_type": "code",
   "execution_count": 12,
   "id": "042b0b89",
   "metadata": {},
   "outputs": [
    {
     "data": {
      "text/plain": [
       "<re.Match object; span=(9, 22), match='010-1234-5678'>"
      ]
     },
     "execution_count": 12,
     "metadata": {},
     "output_type": "execute_result"
    }
   ],
   "source": [
    "text = \"저의 전화번호는 010-1234-5678입니다.\"\n",
    "\n",
    "pattern = \"\\d{2,3}-\\d{3,4}-\\d{3,4}\"\n",
    "\n",
    "re.search(pattern, text)"
   ]
  },
  {
   "cell_type": "markdown",
   "id": "573bb7b1",
   "metadata": {},
   "source": [
    "### 과제3_0424\n",
    "정규표현식을 사용하여 text에서 url을 추출하시오.\n",
    "\n",
    "text = \"저의 블로그 주소는 http://www.example.com 입니다.\""
   ]
  },
  {
   "cell_type": "code",
   "execution_count": 13,
   "id": "0358986b",
   "metadata": {},
   "outputs": [
    {
     "data": {
      "text/plain": [
       "<re.Match object; span=(11, 33), match='http://www.example.com'>"
      ]
     },
     "execution_count": 13,
     "metadata": {},
     "output_type": "execute_result"
    }
   ],
   "source": [
    "text = \"저의 블로그 주소는 http://www.example.com 입니다.\"\n",
    "\n",
    "pattern = \"http[s]?://[\\w.]+\\/?\"\n",
    "\n",
    "re.search(pattern, text)"
   ]
  },
  {
   "cell_type": "markdown",
   "id": "22943fa2",
   "metadata": {},
   "source": [
    "### 과제4_0424\n",
    "정규표현식을 이용하여 html 태그를 제거하시오.\n",
    "\n",
    "html_string = \"<p>안녕하세요. <b>파이썬<lb>입니다.</p>\""
   ]
  },
  {
   "cell_type": "code",
   "execution_count": 14,
   "id": "3f7b009c",
   "metadata": {},
   "outputs": [
    {
     "data": {
      "text/plain": [
       "'안녕하세요. 파이썬입니다.'"
      ]
     },
     "execution_count": 14,
     "metadata": {},
     "output_type": "execute_result"
    }
   ],
   "source": [
    "html_string = \"<p>안녕하세요. <b>파이썬<lb>입니다.</p>\"\n",
    "\n",
    "pattern = \"[<p>bl/]\"\n",
    "\n",
    "re.sub(pattern, \"\", html_string)"
   ]
  },
  {
   "cell_type": "markdown",
   "id": "b3e5d271",
   "metadata": {},
   "source": [
    "### 과제5_0424\n",
    "text = \" Python3 is very good programming language!\" 에서  다음을 수행하시오.\n",
    "\n",
    "- [\"Python\", \"is\", \"very\", \"good\", \"programming\", \"language\"]를 출력\n",
    "- Python3 출력\n",
    "- Python 출력\n",
    "- 숫자만 출력\n",
    "- Python3를 python으로 대체"
   ]
  },
  {
   "cell_type": "code",
   "execution_count": 15,
   "id": "c40500ea",
   "metadata": {},
   "outputs": [
    {
     "data": {
      "text/plain": [
       "['Python', 'is', 'very', 'good', 'programming', 'language']"
      ]
     },
     "execution_count": 15,
     "metadata": {},
     "output_type": "execute_result"
    }
   ],
   "source": [
    "text = \" Python3 is very good programming language!\" \n",
    "\n",
    "pattern = \"[a-zA-Z]+\"\n",
    "\n",
    "re.findall(pattern, text)"
   ]
  },
  {
   "cell_type": "code",
   "execution_count": 16,
   "id": "243bd452",
   "metadata": {},
   "outputs": [
    {
     "data": {
      "text/plain": [
       "<re.Match object; span=(1, 8), match='Python3'>"
      ]
     },
     "execution_count": 16,
     "metadata": {},
     "output_type": "execute_result"
    }
   ],
   "source": [
    "pattern = \"[\\w]+\"\n",
    "\n",
    "re.search(pattern, text)"
   ]
  },
  {
   "cell_type": "code",
   "execution_count": 17,
   "id": "a77f95de",
   "metadata": {},
   "outputs": [
    {
     "data": {
      "text/plain": [
       "<re.Match object; span=(1, 7), match='Python'>"
      ]
     },
     "execution_count": 17,
     "metadata": {},
     "output_type": "execute_result"
    }
   ],
   "source": [
    "pattern = \"[a-zA-z]+\"\n",
    "\n",
    "re.search(pattern, text)"
   ]
  },
  {
   "cell_type": "code",
   "execution_count": 18,
   "id": "390d5813",
   "metadata": {},
   "outputs": [
    {
     "data": {
      "text/plain": [
       "['3']"
      ]
     },
     "execution_count": 18,
     "metadata": {},
     "output_type": "execute_result"
    }
   ],
   "source": [
    "pattern = \"\\d\"\n",
    "\n",
    "re.findall(pattern, text)"
   ]
  },
  {
   "cell_type": "code",
   "execution_count": 19,
   "id": "4eaa3d7b",
   "metadata": {},
   "outputs": [
    {
     "data": {
      "text/plain": [
       "' python is very good programming language!'"
      ]
     },
     "execution_count": 19,
     "metadata": {},
     "output_type": "execute_result"
    }
   ],
   "source": [
    "pattern = \"[\\w]+\\d\"\n",
    "\n",
    "re.sub(pattern, \"python\", text)"
   ]
  },
  {
   "cell_type": "markdown",
   "id": "2ce9dd8c",
   "metadata": {},
   "source": [
    "## 연습\n",
    "\n",
    "- text1 = \"python python\"\n",
    "- text2 = \"python Python\"\n",
    "- text3 = \"3python\""
   ]
  },
  {
   "cell_type": "code",
   "execution_count": 20,
   "id": "39da4174",
   "metadata": {},
   "outputs": [
    {
     "data": {
      "text/plain": [
       "<re.Match object; span=(0, 6), match='python'>"
      ]
     },
     "execution_count": 20,
     "metadata": {},
     "output_type": "execute_result"
    }
   ],
   "source": [
    "text1 = \"python python\"\n",
    "text2 = \"python Python\"\n",
    "text3 = \"3python\"\n",
    "\n",
    "pattern1 = \"[a-z]+\"\n",
    "re.search(pattern1, text1)"
   ]
  },
  {
   "cell_type": "code",
   "execution_count": 21,
   "id": "4772d008",
   "metadata": {},
   "outputs": [
    {
     "data": {
      "text/plain": [
       "<re.Match object; span=(0, 6), match='python'>"
      ]
     },
     "execution_count": 21,
     "metadata": {},
     "output_type": "execute_result"
    }
   ],
   "source": [
    "re.search(pattern1, text2)"
   ]
  },
  {
   "cell_type": "code",
   "execution_count": 22,
   "id": "ef3a74be",
   "metadata": {},
   "outputs": [
    {
     "data": {
      "text/plain": [
       "<re.Match object; span=(1, 7), match='python'>"
      ]
     },
     "execution_count": 22,
     "metadata": {},
     "output_type": "execute_result"
    }
   ],
   "source": [
    "re.search(pattern1, text3)"
   ]
  },
  {
   "cell_type": "code",
   "execution_count": 23,
   "id": "a00609dc",
   "metadata": {},
   "outputs": [
    {
     "name": "stdout",
     "output_type": "stream",
     "text": [
      "<re.Match object; span=(1, 6), match='anker'>\n",
      "<re.Match object; span=(0, 6), match='banker'>\n"
     ]
    }
   ],
   "source": [
    "# 문자 클래스 : []\n",
    "p = re.compile(\"[a-z]+\")\n",
    "p1 = p.search(\"Banker\")\n",
    "p2 = p.search(\"banker\")\n",
    "\n",
    "print(p1)\n",
    "print(p2)"
   ]
  },
  {
   "cell_type": "code",
   "execution_count": 24,
   "id": "e145f181",
   "metadata": {},
   "outputs": [
    {
     "data": {
      "text/plain": [
       "<re.Match object; span=(5, 6), match='a'>"
      ]
     },
     "execution_count": 24,
     "metadata": {},
     "output_type": "execute_result"
    }
   ],
   "source": [
    "# Q. \"a\"만 출력하시오.\n",
    "text = \"12345abc\"\n",
    "\n",
    "pattern = \"[a-z]\"\n",
    "re.search(pattern, text)"
   ]
  },
  {
   "cell_type": "code",
   "execution_count": 25,
   "id": "c90dab45",
   "metadata": {},
   "outputs": [
    {
     "data": {
      "text/plain": [
       "<re.Match object; span=(8, 9), match='A'>"
      ]
     },
     "execution_count": 25,
     "metadata": {},
     "output_type": "execute_result"
    }
   ],
   "source": [
    "# Q. \"A\"만 출력하시오.\n",
    "text = \"abc12345Abc\"\n",
    "\n",
    "pattern = \"[A-Z]\"\n",
    "re.search(pattern, text)"
   ]
  },
  {
   "cell_type": "code",
   "execution_count": 26,
   "id": "90c00fe1",
   "metadata": {},
   "outputs": [
    {
     "data": {
      "text/plain": [
       "<re.Match object; span=(7, 8), match='대'>"
      ]
     },
     "execution_count": 26,
     "metadata": {},
     "output_type": "execute_result"
    }
   ],
   "source": [
    "# Q. \"대\"만 출력하시오.\n",
    "text = \"KOREA 아대한민국\"\n",
    "\n",
    "pattern = \"대\"\n",
    "re.search(pattern, text)"
   ]
  },
  {
   "cell_type": "code",
   "execution_count": 27,
   "id": "104ba8bb",
   "metadata": {},
   "outputs": [
    {
     "data": {
      "text/plain": [
       "'대'"
      ]
     },
     "execution_count": 27,
     "metadata": {},
     "output_type": "execute_result"
    }
   ],
   "source": [
    "pattern = \"[가-힣]\"\n",
    "re.findall(pattern, text)[1]"
   ]
  },
  {
   "cell_type": "code",
   "execution_count": 28,
   "id": "38d8c475",
   "metadata": {},
   "outputs": [
    {
     "data": {
      "text/plain": [
       "<re.Match object; span=(0, 7), match='122333c'>"
      ]
     },
     "execution_count": 28,
     "metadata": {},
     "output_type": "execute_result"
    }
   ],
   "source": [
    "# Q. 모두 출력하시오.\n",
    "text = \"122333c\"\n",
    "\n",
    "pattern = \"[\\da-z]+\"\n",
    "re.search(pattern, text)"
   ]
  },
  {
   "cell_type": "code",
   "execution_count": 29,
   "id": "3a9aa2e2",
   "metadata": {},
   "outputs": [
    {
     "data": {
      "text/plain": [
       "<re.Match object; span=(0, 16), match='aaaaBBBcccDDDeee'>"
      ]
     },
     "execution_count": 29,
     "metadata": {},
     "output_type": "execute_result"
    }
   ],
   "source": [
    "# Q. 모두 출력하시오.\n",
    "text = \"aaaaBBBcccDDDeee\"\n",
    "\n",
    "pattern = \"[a-zA-Z]+\"\n",
    "re.search(pattern, text)"
   ]
  },
  {
   "cell_type": "markdown",
   "id": "729db7d1",
   "metadata": {},
   "source": [
    "### 과제1_0425\n",
    "BC, CC, ABC 모두 C가 출력되는 정규 표현식을 작성하시오."
   ]
  },
  {
   "cell_type": "code",
   "execution_count": 30,
   "id": "5e74487b",
   "metadata": {},
   "outputs": [
    {
     "data": {
      "text/plain": [
       "<re.Match object; span=(2, 3), match='C'>"
      ]
     },
     "execution_count": 30,
     "metadata": {},
     "output_type": "execute_result"
    }
   ],
   "source": [
    "text1 = \"BC\"\n",
    "text2 = \"CC\"\n",
    "text3 = \"ABC\"\n",
    "\n",
    "pattern = \"[A-Z]$\"\n",
    "re.search(pattern, text3)"
   ]
  },
  {
   "cell_type": "markdown",
   "id": "f1b03039",
   "metadata": {},
   "source": [
    "### 과제2_0425\n",
    "\"1234a1234에서 1,2,3,4를 모두 출력하시오"
   ]
  },
  {
   "cell_type": "code",
   "execution_count": 31,
   "id": "75940ad0",
   "metadata": {},
   "outputs": [
    {
     "data": {
      "text/plain": [
       "['1', '2', '3', '4', '1', '2', '3', '4']"
      ]
     },
     "execution_count": 31,
     "metadata": {},
     "output_type": "execute_result"
    }
   ],
   "source": [
    "text = \"1234a1234\"\n",
    "\n",
    "pattern = \"\\d\"\n",
    "re.findall(pattern, text)"
   ]
  },
  {
   "cell_type": "markdown",
   "id": "fa9401f0",
   "metadata": {},
   "source": [
    "### 과제3_0425\n",
    "\"99food234, a93456\\n, a9356ba\"에서 \"99food234만 출력하시오."
   ]
  },
  {
   "cell_type": "code",
   "execution_count": 32,
   "id": "2c8946a5",
   "metadata": {},
   "outputs": [
    {
     "data": {
      "text/plain": [
       "<re.Match object; span=(0, 9), match='99food234'>"
      ]
     },
     "execution_count": 32,
     "metadata": {},
     "output_type": "execute_result"
    }
   ],
   "source": [
    "text = \"99food234, a93456\\n, a9356ba\"\n",
    "\n",
    "pattern = \"\\w+\"\n",
    "re.search(pattern, text)"
   ]
  },
  {
   "cell_type": "code",
   "execution_count": 33,
   "id": "0e1e1166",
   "metadata": {},
   "outputs": [
    {
     "data": {
      "text/plain": [
       "<re.Match object; span=(0, 4), match='life'>"
      ]
     },
     "execution_count": 33,
     "metadata": {},
     "output_type": "execute_result"
    }
   ],
   "source": [
    "text = \"life is too short\"\n",
    "\n",
    "p = re.compile(\"[a-z]+\")\n",
    "result = p.search(text)\n",
    "result"
   ]
  },
  {
   "cell_type": "code",
   "execution_count": 34,
   "id": "003e3295",
   "metadata": {},
   "outputs": [
    {
     "name": "stdout",
     "output_type": "stream",
     "text": [
      "<re.Match object; span=(0, 4), match='life'>\n",
      "<re.Match object; span=(5, 7), match='is'>\n",
      "<re.Match object; span=(8, 11), match='too'>\n",
      "<re.Match object; span=(12, 17), match='short'>\n"
     ]
    }
   ],
   "source": [
    "result = p.finditer(text)\n",
    "for i in result:\n",
    "    print(i)"
   ]
  },
  {
   "cell_type": "code",
   "execution_count": 35,
   "id": "7fdb350b",
   "metadata": {},
   "outputs": [
    {
     "data": {
      "text/plain": [
       "['Python', 'is', 'very', 'good', 'programming', 'language']"
      ]
     },
     "execution_count": 35,
     "metadata": {},
     "output_type": "execute_result"
    }
   ],
   "source": [
    "text = \"Python3 is very good programming language!\"\n",
    "re.findall(\"[a-zA-Z]+\", text)"
   ]
  },
  {
   "cell_type": "code",
   "execution_count": 36,
   "id": "e8b5e905",
   "metadata": {},
   "outputs": [
    {
     "name": "stdout",
     "output_type": "stream",
     "text": [
      "Python\n",
      "is\n",
      "very\n",
      "good\n",
      "programming\n",
      "language\n"
     ]
    }
   ],
   "source": [
    "result = re.finditer(\"[a-zA-Z]+\", text)\n",
    "for i in result:\n",
    "    print(i.group())"
   ]
  },
  {
   "cell_type": "code",
   "execution_count": 37,
   "id": "471de8ce",
   "metadata": {},
   "outputs": [
    {
     "name": "stdout",
     "output_type": "stream",
     "text": [
      "<re.Match object; span=(0, 4), match='life'>\n",
      "None\n",
      "None\n"
     ]
    }
   ],
   "source": [
    "# match\n",
    "text1 = \"life\"\n",
    "text2 = \"!!!oh my life\"\n",
    "text3 = \"7 is lucky number\"\n",
    "print(re.match(\"[a-z]+\", text1))\n",
    "print(re.match(\"[a-z]+\", text2))\n",
    "print(re.match(\"[a-z]+\", text3))"
   ]
  },
  {
   "cell_type": "code",
   "execution_count": 38,
   "id": "c1e0fa5b",
   "metadata": {},
   "outputs": [
    {
     "name": "stdout",
     "output_type": "stream",
     "text": [
      "<re.Match object; span=(0, 6), match='python'>\n",
      "python\n",
      "0\n",
      "6\n",
      "(0, 6)\n"
     ]
    }
   ],
   "source": [
    "# match 객체의 메서드\n",
    "m = re.match(\"[a-z]+\",\"python\")\n",
    "print(m)\n",
    "print(m.group())\n",
    "print(m.start())\n",
    "print(m.end())\n",
    "print(m.span())"
   ]
  },
  {
   "cell_type": "code",
   "execution_count": 39,
   "id": "3b40ff9d",
   "metadata": {},
   "outputs": [
    {
     "name": "stdout",
     "output_type": "stream",
     "text": [
      "<re.Match object; span=(0, 6), match='python'>\n",
      "python\n",
      "0\n",
      "6\n",
      "(0, 6)\n"
     ]
    }
   ],
   "source": [
    "# search 객체의 메서드\n",
    "m = re.search(\"[a-z]+\",\"python\")\n",
    "print(m)\n",
    "print(m.group())\n",
    "print(m.start())\n",
    "print(m.end())\n",
    "print(m.span())"
   ]
  },
  {
   "cell_type": "code",
   "execution_count": 40,
   "id": "63dd3d30",
   "metadata": {},
   "outputs": [
    {
     "name": "stdout",
     "output_type": "stream",
     "text": [
      "m0 None\n",
      "m1 None\n",
      "m2 <re.Match object; span=(0, 3), match='acb'>\n",
      "m3 <re.Match object; span=(0, 6), match='a12?Ab'>\n"
     ]
    }
   ],
   "source": [
    "# Dot(.) 메타 문자는 줄바꿈 문자(\\n)룰 제외한 모든 문자와 매치\n",
    "text = [\"a\\nb\", \"a\\nb\", \"acb\", \"a12?Ab\"]\n",
    "for i, t in enumerate(text):\n",
    "    r = re.match(\"a.+b\",t)\n",
    "    print(f\"m{i}\",r)"
   ]
  },
  {
   "cell_type": "code",
   "execution_count": 41,
   "id": "2f193a20",
   "metadata": {},
   "outputs": [
    {
     "name": "stdout",
     "output_type": "stream",
     "text": [
      "<re.Match object; span=(0, 3), match='a\\nb'>\n"
     ]
    }
   ],
   "source": [
    "# re.DOTALL 옵션은 여러 줄로 이루어진 문자열에서 \\n과 상관없이 검색시 사용\n",
    "p = re.compile(\"a.b\",re.DOTALL)\n",
    "m = p.match(\"a\\nb\")\n",
    "print(m)"
   ]
  },
  {
   "cell_type": "code",
   "execution_count": 42,
   "id": "77c7d8f0",
   "metadata": {},
   "outputs": [
    {
     "name": "stdout",
     "output_type": "stream",
     "text": [
      "what are you doing?\n",
      "it is going to be late for school!\n"
     ]
    }
   ],
   "source": [
    "text = \"what are you doing?\\nit is going to be late for school!\"\n",
    "\n",
    "p = re.compile(\".*\", re.DOTALL)\n",
    "print(p.search(text).group())"
   ]
  },
  {
   "cell_type": "markdown",
   "id": "34cbbeaf",
   "metadata": {},
   "source": [
    "### 과제 4_0425\n",
    "text에서 전체문장을 모두 출력하시오."
   ]
  },
  {
   "cell_type": "code",
   "execution_count": 43,
   "id": "e5d6b96f",
   "metadata": {},
   "outputs": [
    {
     "name": "stdout",
     "output_type": "stream",
     "text": [
      "what are you doing?\n",
      "it is going to be late for school!\n",
      "we need to hurry up.\n"
     ]
    }
   ],
   "source": [
    "text = \"what are you doing?\\nit is going to be late for school!\\nwe need to hurry up.\"\n",
    "\n",
    "p = re.compile(\".*\", re.DOTALL)\n",
    "print(p.search(text).group())"
   ]
  },
  {
   "cell_type": "code",
   "execution_count": 44,
   "id": "4be3333b",
   "metadata": {},
   "outputs": [
    {
     "data": {
      "text/plain": [
       "'pYthon'"
      ]
     },
     "execution_count": 44,
     "metadata": {},
     "output_type": "execute_result"
    }
   ],
   "source": [
    "# re.IGNORECASE 또는 re.I 옵션은 대소문자 구분 없이 매치를 수행\n",
    "re.match(\"[a-z]+\", \"pYthon\", re.I).group()"
   ]
  },
  {
   "cell_type": "markdown",
   "id": "1de43d43",
   "metadata": {},
   "source": [
    "### 과제 5_0425\n",
    "아래 text에 내용을 모두 출력하시오.\n",
    "text = [\"pAthon\", \"PATHON\",\"pathon\",\"Pathon\"]"
   ]
  },
  {
   "cell_type": "code",
   "execution_count": 45,
   "id": "39d430bd",
   "metadata": {},
   "outputs": [
    {
     "data": {
      "text/plain": [
       "['pAthon', 'PATHON', 'pathon', 'Pathon']"
      ]
     },
     "execution_count": 45,
     "metadata": {},
     "output_type": "execute_result"
    }
   ],
   "source": [
    "text = [\"pAthon\",\"PATHON\",\"pathon\",\"Pathon\"]\n",
    "text1 = \" \".join(text)\n",
    "\n",
    "pattern = \"[a-z]+\"\n",
    "\n",
    "re.findall(pattern, text1, re.I)"
   ]
  },
  {
   "cell_type": "code",
   "execution_count": 46,
   "id": "5c307439",
   "metadata": {},
   "outputs": [
    {
     "name": "stdout",
     "output_type": "stream",
     "text": [
      "Friend\n",
      "fRiend\n",
      "friEnd\n",
      "FRIEND\n"
     ]
    }
   ],
   "source": [
    "# Q. text에서 대소문자 구분 없이 전체문장 모두 출력하시오.\n",
    "text = \"Friend fRiend friEnd FRIEND\"\n",
    "pattern = \"[a-z]+\"\n",
    "\n",
    "m = re.finditer(pattern, text, re.I)\n",
    "\n",
    "for i in m:\n",
    "    print(i.group())"
   ]
  },
  {
   "cell_type": "code",
   "execution_count": 47,
   "id": "eaa69bee",
   "metadata": {},
   "outputs": [],
   "source": [
    "data = \"\"\"python one\n",
    "life is too short\n",
    "python two\n",
    "you need python\n",
    "python three\"\"\""
   ]
  },
  {
   "cell_type": "code",
   "execution_count": 48,
   "id": "fe0ebd36",
   "metadata": {},
   "outputs": [
    {
     "data": {
      "text/plain": [
       "['python one']"
      ]
     },
     "execution_count": 48,
     "metadata": {},
     "output_type": "execute_result"
    }
   ],
   "source": [
    "# python이라는 문자열로 시작하고 그 뒤에 whitespace, 그 뒤에 단어가 오는 경우\n",
    "re.findall(\"^python\\s\\w+\",data)"
   ]
  },
  {
   "cell_type": "code",
   "execution_count": 49,
   "id": "56a4d731",
   "metadata": {},
   "outputs": [
    {
     "data": {
      "text/plain": [
       "['python one', 'python two', 'python three']"
      ]
     },
     "execution_count": 49,
     "metadata": {},
     "output_type": "execute_result"
    }
   ],
   "source": [
    "# re.MULTILINE 또는 re.M옵션으로 ^메타 문자를 각 라인의 처음으로 인식시킴\n",
    "re.findall(\"^python\\s\\w+\", data, re.M)"
   ]
  },
  {
   "cell_type": "code",
   "execution_count": 50,
   "id": "0130b5a7",
   "metadata": {},
   "outputs": [],
   "source": [
    "# re.VERBOSE 또는 re.X : 이해하기 어려운 정규식을 주석 또는 라인 단위로 구분\n",
    "# charref = re.compile(r'&[#](0[0-7]+|[0-9]+|x[0-9a-fA-F]+);')\n",
    "charref = re.compile(r\"\"\"\n",
    "&[#]               # Start of a numeric entity reference\n",
    "(\n",
    "    0[0-7]+        # Octal form\n",
    "  | [0-9]+         # Decimal form \n",
    "  | x[0-9a-fA-F]+  # Hexadecimal form\n",
    ")\n",
    ";                  # Trailing semicolon \n",
    "\"\"\",re.VERBOSE)"
   ]
  },
  {
   "cell_type": "code",
   "execution_count": 51,
   "id": "eb59a3e5",
   "metadata": {},
   "outputs": [
    {
     "data": {
      "text/plain": [
       "[]"
      ]
     },
     "execution_count": 51,
     "metadata": {},
     "output_type": "execute_result"
    }
   ],
   "source": [
    "# 파이선 문자열 리터럴 규칙에 의해 \\\\이 \\으로 변경되어 \\section이 전달됨\n",
    "# 정규식 문자열 앞에 r문자를 삽입하면 Raw String 규칙에 의하여 백슬래시 2개 대신 1개를 사용해도 된다.\n",
    "p = re.compile(\"\\\\section\")\n",
    "\n",
    "p.findall(\"\\section\")"
   ]
  },
  {
   "cell_type": "code",
   "execution_count": 52,
   "id": "977293b5",
   "metadata": {},
   "outputs": [
    {
     "data": {
      "text/plain": [
       "'Crow'"
      ]
     },
     "execution_count": 52,
     "metadata": {},
     "output_type": "execute_result"
    }
   ],
   "source": [
    "# |(or이랑 동일한 의미)\n",
    "re.match(\"Crow|Servo\",\"CrowHello\").group()"
   ]
  },
  {
   "cell_type": "code",
   "execution_count": 53,
   "id": "c398f20b",
   "metadata": {},
   "outputs": [
    {
     "data": {
      "text/plain": [
       "'Life'"
      ]
     },
     "execution_count": 53,
     "metadata": {},
     "output_type": "execute_result"
    }
   ],
   "source": [
    "#  ^(문자열의 맨 처음)\n",
    "re.search(\"^Life\", \"Life is too short\").group()"
   ]
  },
  {
   "cell_type": "code",
   "execution_count": 54,
   "id": "678207b4",
   "metadata": {},
   "outputs": [
    {
     "data": {
      "text/plain": [
       "'Life'"
      ]
     },
     "execution_count": 54,
     "metadata": {},
     "output_type": "execute_result"
    }
   ],
   "source": [
    "# $(문자열의 끝)\n",
    "re.search(\"Life$\", \"Life is too short madLife\").group()"
   ]
  },
  {
   "cell_type": "code",
   "execution_count": 55,
   "id": "7feaed72",
   "metadata": {},
   "outputs": [
    {
     "data": {
      "text/plain": [
       "['Life']"
      ]
     },
     "execution_count": 55,
     "metadata": {},
     "output_type": "execute_result"
    }
   ],
   "source": [
    "# \\A : 문자열의 처음, 하지만 re.M에는 대응하지 않는다.\n",
    "# \\Z : 문자열의 끝, 하지만 re.M에는 대응하지 않는다.\n",
    "data = \"\"\"Life is too short\n",
    "Life is good\n",
    "Life is valuable\"\"\"\n",
    "re.findall(\"\\ALife\",data,re.M)"
   ]
  },
  {
   "cell_type": "code",
   "execution_count": 56,
   "id": "455d32e9",
   "metadata": {},
   "outputs": [
    {
     "data": {
      "text/plain": [
       "'home'"
      ]
     },
     "execution_count": 56,
     "metadata": {},
     "output_type": "execute_result"
    }
   ],
   "source": [
    "# Q. home만 출력하시오.\n",
    "text = \"we are going home\"\n",
    "re.search(\"\\w+me$\", text).group()"
   ]
  },
  {
   "cell_type": "code",
   "execution_count": 57,
   "id": "0391ffcd",
   "metadata": {},
   "outputs": [
    {
     "data": {
      "text/plain": [
       "'home'"
      ]
     },
     "execution_count": 57,
     "metadata": {},
     "output_type": "execute_result"
    }
   ],
   "source": [
    "# Q. home만 출력하시오.\n",
    "text = \"home sweet\"\n",
    "re.search(\"[a-z]+\", text).group()"
   ]
  },
  {
   "cell_type": "code",
   "execution_count": 58,
   "id": "7ad04f16",
   "metadata": {},
   "outputs": [
    {
     "data": {
      "text/plain": [
       "'199305,'"
      ]
     },
     "execution_count": 58,
     "metadata": {},
     "output_type": "execute_result"
    }
   ],
   "source": [
    "# Q. 199305만 출력하시오.\n",
    "text = \"1923A, 199305, a93247\"\n",
    "re.search(\"(\\d+),\", text).group()"
   ]
  },
  {
   "cell_type": "code",
   "execution_count": 59,
   "id": "a42001d1",
   "metadata": {},
   "outputs": [
    {
     "data": {
      "text/plain": [
       "'class'"
      ]
     },
     "execution_count": 59,
     "metadata": {},
     "output_type": "execute_result"
    }
   ],
   "source": [
    "# \\b : whitespace에 의해 구분\n",
    "text = \"no class at all\"\n",
    "re.search(r\"\\bclass\\b\", text).group()"
   ]
  },
  {
   "cell_type": "code",
   "execution_count": 60,
   "id": "214ce108",
   "metadata": {},
   "outputs": [
    {
     "data": {
      "text/plain": [
       "'class'"
      ]
     },
     "execution_count": 60,
     "metadata": {},
     "output_type": "execute_result"
    }
   ],
   "source": [
    "# \\B : whitespace로 구분된 단어가 아닌 경우에만 매치\n",
    "text = \"the declassified algorithim\"\n",
    "re.search(r\"\\Bclass\\B\", text).group()"
   ]
  },
  {
   "cell_type": "code",
   "execution_count": 61,
   "id": "a0b8f09d",
   "metadata": {},
   "outputs": [
    {
     "data": {
      "text/plain": [
       "['에러 1122', '에러 1033', '에러 xxx']"
      ]
     },
     "execution_count": 61,
     "metadata": {},
     "output_type": "execute_result"
    }
   ],
   "source": [
    "# Q. 정규표현식을 사용하여 text에서 에러가 들어간 부분만 포함하는 리스트를 출력하시오.\n",
    "text = \"에러 1122, 레퍼런스 오류, 에러 1033, 아규먼트 오류, 에러 xxx\"\n",
    "re.findall(\"에러[\\da-z ]+\",text)"
   ]
  },
  {
   "cell_type": "markdown",
   "id": "3350e446",
   "metadata": {},
   "source": [
    "### 과제6_0425\n",
    "정규표현식을 작성하여 아래와 같이 출력하시오."
   ]
  },
  {
   "cell_type": "code",
   "execution_count": 62,
   "id": "b4330ebe",
   "metadata": {},
   "outputs": [
    {
     "name": "stdout",
     "output_type": "stream",
     "text": [
      "['1 apple', '5 oranges', '3boys', '4 girls', '10 armyl', '11mr']\n"
     ]
    }
   ],
   "source": [
    "li = \"1 apple, 5 oranges, 3boys, 4 girls; 10 armyl 11mr\"\n",
    "regex = re.compile(\"\\d+\\s?\\w+\")\n",
    "result = regex.findall(li)\n",
    "print(result)"
   ]
  },
  {
   "cell_type": "markdown",
   "id": "406ce221",
   "metadata": {},
   "source": [
    "### 과제7_0425\n",
    "text에서 다음을 수행하시오.\n",
    "- \"H,h\"만 출력하시오.\n",
    "- \"H,h\"가 아닌 모두를 출력하시오"
   ]
  },
  {
   "cell_type": "code",
   "execution_count": 63,
   "id": "97e951a3",
   "metadata": {},
   "outputs": [
    {
     "data": {
      "text/plain": [
       "['H', 'h', 'h']"
      ]
     },
     "execution_count": 63,
     "metadata": {},
     "output_type": "execute_result"
    }
   ],
   "source": [
    "text = \"Hello my friend! Life is short you need Python!\"\n",
    "re.findall(\"h\", text, re.I)"
   ]
  },
  {
   "cell_type": "code",
   "execution_count": 64,
   "id": "ef547ac9",
   "metadata": {},
   "outputs": [
    {
     "data": {
      "text/plain": [
       "'ello my friend! Life is sort you need Pyton!'"
      ]
     },
     "execution_count": 64,
     "metadata": {},
     "output_type": "execute_result"
    }
   ],
   "source": [
    "re.sub('[hH]', \"\", text)"
   ]
  },
  {
   "cell_type": "code",
   "execution_count": 65,
   "id": "989300a2",
   "metadata": {},
   "outputs": [
    {
     "name": "stdout",
     "output_type": "stream",
     "text": [
      "<re.Match object; span=(0, 9), match='ABCABCABC'>\n",
      "ABCABCABC\n",
      "ABC\n"
     ]
    }
   ],
   "source": [
    "# 그루핑\n",
    "text = \"ABCABCABC OK?\"\n",
    "m = re.search(\"(ABC)+\", text)\n",
    "print(m)\n",
    "print(m.group(0))\n",
    "print(m.group(1))"
   ]
  },
  {
   "cell_type": "markdown",
   "id": "c6904906",
   "metadata": {},
   "source": [
    "### Q. text에서 그루핑을 사용하여 아래와 같이 출력하시오.\n",
    "ABCDEF\n",
    "ABCDEF\n",
    "AB\n",
    "CD\n",
    "EF"
   ]
  },
  {
   "cell_type": "code",
   "execution_count": 66,
   "id": "81fb8aff",
   "metadata": {},
   "outputs": [
    {
     "name": "stdout",
     "output_type": "stream",
     "text": [
      "ABCDEF\n",
      "ABCDEF\n",
      "AB\n",
      "CD\n",
      "EF\n"
     ]
    }
   ],
   "source": [
    "text = 'DEFABCDEFDEF OK?'\n",
    "\n",
    "m = re.search('((AB)(CD)(EF))', text)\n",
    "print(m.group(0))\n",
    "print(m.group(1))\n",
    "print(m.group(2))\n",
    "print(m.group(3))\n",
    "print(m.group(4))"
   ]
  },
  {
   "cell_type": "markdown",
   "id": "67eb301f",
   "metadata": {},
   "source": [
    "### 과제8_0425\n",
    "정규표현식을 사용하여 text에서 다음 사항을 수행하시오.\n",
    "- 지역코드만 출력하시오.\n",
    "- 지역코드를 제외한 번호만 출력하시오.\n",
    "\n",
    "text = \"문의사항이 있으면 032-232-3245 으로 연락주시기 바랍니다.\""
   ]
  },
  {
   "cell_type": "code",
   "execution_count": 67,
   "id": "a682648f",
   "metadata": {},
   "outputs": [
    {
     "name": "stdout",
     "output_type": "stream",
     "text": [
      "032\n",
      "232 3245\n"
     ]
    }
   ],
   "source": [
    "text = \"문의사항이 있으면 032-232-3245 으로 연락주시기 바랍니다.\"\n",
    "\n",
    "result = re.search(\"((\\d{3})-(\\d{3})-(\\d{4}))\", text)\n",
    "print(result.group(2))\n",
    "print(result.group(3), result.group(4))"
   ]
  },
  {
   "cell_type": "code",
   "execution_count": 68,
   "id": "a48d9d8b",
   "metadata": {},
   "outputs": [
    {
     "name": "stdout",
     "output_type": "stream",
     "text": [
      "<re.Match object; span=(0, 18), match='park 010-1234-1234'>\n",
      "park\n",
      "010-1234-1234\n",
      "010\n",
      "park 010-1234-1234\n"
     ]
    }
   ],
   "source": [
    "text = \"park 010-1234-1234\"\n",
    "m = re.search(r\"(\\w+)\\s+((\\d+)[-]\\d+[-]\\d+)\", text)\n",
    "print(m)\n",
    "print(m.group(1))\n",
    "print(m.group(2))\n",
    "print(m.group(3))\n",
    "print(m.group())"
   ]
  },
  {
   "cell_type": "code",
   "execution_count": 69,
   "id": "d8a456a4",
   "metadata": {},
   "outputs": [
    {
     "data": {
      "text/plain": [
       "'very very'"
      ]
     },
     "execution_count": 69,
     "metadata": {},
     "output_type": "execute_result"
    }
   ],
   "source": [
    "# Q. \"Paris is very very beautiful.\"에서 \"very very\"를 출력하시오.\n",
    "text = \"Paris is very very beautiful\"\n",
    "re.search(r'(\\b\\w+)\\s\\1\\b', text).group()"
   ]
  },
  {
   "cell_type": "markdown",
   "id": "fef7f847",
   "metadata": {},
   "source": [
    "### 과제9_0425\n",
    "아래 text에서 정규표현식을 사용하여 \"the the the\"를 출력하시오."
   ]
  },
  {
   "cell_type": "code",
   "execution_count": 70,
   "id": "d5336aee",
   "metadata": {},
   "outputs": [
    {
     "data": {
      "text/plain": [
       "'the the the'"
      ]
     },
     "execution_count": 70,
     "metadata": {},
     "output_type": "execute_result"
    }
   ],
   "source": [
    "text = \"Paris in the the the spring\"\n",
    "re.search(r'(\\b\\w+)\\s\\1\\s\\1\\b', text).group()"
   ]
  },
  {
   "cell_type": "code",
   "execution_count": 71,
   "id": "2fe6bcc6",
   "metadata": {},
   "outputs": [
    {
     "name": "stdout",
     "output_type": "stream",
     "text": [
      "abcdefghi\n",
      "e\n"
     ]
    }
   ],
   "source": [
    "# Q. \"abcdefghij\"에 대하여 중첩을 적용한 서브그룹 5개로 컴파일하여 group()함수를 이용하여\n",
    "# \"abcdefghi\"와 e를 출력하시오.\n",
    "\n",
    "text = \"abcdefghij\"\n",
    "result = re.search(\"((abcd)(e)(fghi))(j)\", text)\n",
    "\n",
    "print(result.group(1))\n",
    "print(result.group(3))"
   ]
  },
  {
   "cell_type": "markdown",
   "id": "a912dcca",
   "metadata": {},
   "source": [
    "#### 그루핑된 문자열에 이름 붙이기\n",
    "- 정규표현식에서 그루핑된 문자열에 이름을 붙이는 방법은 (?P$<name>$pattern) 을 사용하면 된다.\n",
    "    \n",
    "- 이 떄, name은 그룹에 붙일 이름이고, pattern은 그룹화할 정규식 패턴이다."
   ]
  },
  {
   "cell_type": "code",
   "execution_count": 72,
   "id": "a2e37a9e",
   "metadata": {},
   "outputs": [
    {
     "data": {
      "text/plain": [
       "'123-456-7890'"
      ]
     },
     "execution_count": 72,
     "metadata": {},
     "output_type": "execute_result"
    }
   ],
   "source": [
    "text = \"John's phone number is 123-456-7890\"\n",
    "\n",
    "p = r\"(?P<phone>\\d{3}-\\d{3}-\\d{4})\"\n",
    "m = re.search(p, text)\n",
    "m.group(\"phone\")"
   ]
  },
  {
   "cell_type": "markdown",
   "id": "42a24940",
   "metadata": {},
   "source": [
    "### 과제10_0425\n",
    "이름으로 그룹을 참조하여 text에서 Lots를 출력하시오."
   ]
  },
  {
   "cell_type": "code",
   "execution_count": 73,
   "id": "aae7e0b5",
   "metadata": {},
   "outputs": [
    {
     "data": {
      "text/plain": [
       "'Lots'"
      ]
     },
     "execution_count": 73,
     "metadata": {},
     "output_type": "execute_result"
    }
   ],
   "source": [
    "text = \"Lots of punctuation Lots of punctuation\"\n",
    "\n",
    "pattern = r\"(?P<sample>[A-Z][a-z]+)\"\n",
    "m = re.search(pattern, text)\n",
    "m.group(\"sample\")"
   ]
  },
  {
   "cell_type": "code",
   "execution_count": 74,
   "id": "bc2e9081",
   "metadata": {},
   "outputs": [
    {
     "data": {
      "text/plain": [
       "'the the'"
      ]
     },
     "execution_count": 74,
     "metadata": {},
     "output_type": "execute_result"
    }
   ],
   "source": [
    "text = 'Paris in the the spring'\n",
    "p = re.compile('(?P<t>\\w+)\\s(?P=t)')\n",
    "re.search(p,text).group()"
   ]
  },
  {
   "cell_type": "markdown",
   "id": "2a714fa8",
   "metadata": {},
   "source": [
    "#### 전방탐색\n",
    "- 전방탐색(Positive Lookahead)은 정규식에서 매치할 문자열의 앞쪽을 일치시키는 것입니다. 하지만 일치시킨 문자열은 검색 대상에서 제외됩니다. 이를 사용하면 특정 문자열 패턴 뒤에 오는 문자열을 매치할 때 유용합니다."
   ]
  },
  {
   "cell_type": "markdown",
   "id": "ec1cd97c",
   "metadata": {},
   "source": [
    "#### 긍정탐색\n",
    "\n",
    "긍정 탐색은 조건을 충족하는 부분을 찾을 때 사용됩니다. 이것은 일치하는 부분을 포함하고 일치하지 않는 부분을 탐색 결과에서 제외합니다. 긍정 탐색은 (?=...) 구문을 사용하여 정규식 안에서 표현됩니다. \n",
    "\n",
    "#### 부정탐색\n",
    "\n",
    "부정 탐색은 일치하지 않는 부분을 찾을 때 사용됩니다. 이것은 일치하지 않는 부분을 포함하지만, 탐색 결과에서 일치하는 부분을 제외합니다. 부정 탐색은 (?!...) 구문을 사용하여 정규식 안에서 표현됩니다."
   ]
  },
  {
   "cell_type": "code",
   "execution_count": 75,
   "id": "38fbb57d",
   "metadata": {},
   "outputs": [
    {
     "name": "stdout",
     "output_type": "stream",
     "text": [
      "http:\n",
      "\n",
      "http\n"
     ]
    }
   ],
   "source": [
    "# ?=\n",
    "text = \"http://google.com\"\n",
    "p = re.compile(r\".+:\")\n",
    "m = p.search(text)\n",
    "print(m.group())\n",
    "print()\n",
    "p = re.compile(r\".+(?=:)\") # :에 해당되는 문자열이 정규식 엔진에 의해 소모되지 않음.(검색에는 포함되나 결과에는 제외된다.)\n",
    "m1 = p.search(text)\n",
    "print(m1.group())"
   ]
  },
  {
   "cell_type": "code",
   "execution_count": 76,
   "id": "9a9858e2",
   "metadata": {},
   "outputs": [
    {
     "data": {
      "text/plain": [
       "[', ', ', ']"
      ]
     },
     "execution_count": 76,
     "metadata": {},
     "output_type": "execute_result"
    }
   ],
   "source": [
    "# text에서 쉼표(,) 다음에 공백이 오는 부분만 매치\n",
    "# re.findall() 메서드를 사용하여 전체 문자열에서 정규식 패턴과 일치하는 모든 부분 탐사\n",
    "# 일치하는 문자열은 전방탐색 패턴에 해당하는 단어를 제외한 부분만 추출\n",
    "\n",
    "text = \"I love Python, Java, and JavaScript.\"\n",
    "\n",
    "pattern = r\",\\s(?=\\w+)\"\n",
    "\n",
    "re.findall(pattern,text)\n"
   ]
  },
  {
   "cell_type": "code",
   "execution_count": 77,
   "id": "adf19e4d",
   "metadata": {},
   "outputs": [
    {
     "name": "stdout",
     "output_type": "stream",
     "text": [
      "foo.exe\n",
      "autoexec.bat\n",
      "sendmail.cf\n"
     ]
    }
   ],
   "source": [
    "list1 = ['foo.exe', 'autoexec.bat', 'sendmail.cf']\n",
    "p = re.compile(\".*[.].*$\")\n",
    "for i in list1:\n",
    "    if p.match(i):\n",
    "        print(i)\n",
    "        \n"
   ]
  },
  {
   "cell_type": "code",
   "execution_count": 78,
   "id": "973f5ae5",
   "metadata": {},
   "outputs": [
    {
     "name": "stdout",
     "output_type": "stream",
     "text": [
      "sendmail.cf\n"
     ]
    }
   ],
   "source": [
    "# 상기 매칭에서 부정탐색을 사용하여 sendmail.cf'만 출력하시오.\n",
    "p = re.compile(\".*[.](?!bat$|exe$)\")\n",
    "for i in list1:\n",
    "    if p.match(i):\n",
    "        print(i)"
   ]
  },
  {
   "cell_type": "markdown",
   "id": "30052f80",
   "metadata": {},
   "source": [
    "### 과제1_0426\n",
    "아래 text에서 [\"file2.pdf\", \"file3.docx\", \"file4.xlsx\"]만 출력하시오"
   ]
  },
  {
   "cell_type": "code",
   "execution_count": 79,
   "id": "b230a554",
   "metadata": {},
   "outputs": [
    {
     "data": {
      "text/plain": [
       "['file2.pdf', 'file3.docx', 'file4.xlsx']"
      ]
     },
     "execution_count": 79,
     "metadata": {},
     "output_type": "execute_result"
    }
   ],
   "source": [
    "text = \"file1.txt file2.pdf file3.docx file4.xlsx\"\n",
    "pattern = r\"\\b\\w+\\.(?!txt\\b)\\w+\\b\"\n",
    "re.findall(pattern,text)"
   ]
  },
  {
   "cell_type": "code",
   "execution_count": 80,
   "id": "9de87655",
   "metadata": {},
   "outputs": [
    {
     "data": {
      "text/plain": [
       "'gmail.com'"
      ]
     },
     "execution_count": 80,
     "metadata": {},
     "output_type": "execute_result"
    }
   ],
   "source": [
    "# (?<=@)는 전방탐색으로, @ 기호 이후에 오는 문자열을 찾음\n",
    "# [\\w.]+는 도메인 이름을 나타내는 패턴으로, 알파벳 대소문자, 숫자, 밑줄, 마침표를 포함\n",
    "# \n",
    "email = \"example@gmail.com\"\n",
    "p = r\"(?<=@)[\\w.]+(?!\\d+)\"\n",
    "re.search(p,email).group()"
   ]
  },
  {
   "cell_type": "markdown",
   "id": "05ad6d35",
   "metadata": {},
   "source": [
    "### 과제2_0426\n",
    "아래 email에서 example만 출력하시오"
   ]
  },
  {
   "cell_type": "code",
   "execution_count": 81,
   "id": "e7a2a7b9",
   "metadata": {},
   "outputs": [
    {
     "data": {
      "text/plain": [
       "'example'"
      ]
     },
     "execution_count": 81,
     "metadata": {},
     "output_type": "execute_result"
    }
   ],
   "source": [
    "email = \"john.doe@example.com\"\n",
    "pattern = r\"(?<=@)\\w+\"\n",
    "re.search(pattern,email).group()"
   ]
  },
  {
   "cell_type": "code",
   "execution_count": 82,
   "id": "4131522c",
   "metadata": {},
   "outputs": [
    {
     "name": "stdout",
     "output_type": "stream",
     "text": [
      "color socks and color shoes\n",
      "color socks and red shoes\n",
      "('color socks and color shoes', 2)\n"
     ]
    }
   ],
   "source": [
    "# sub 메서드를 사용하면 정규식과 매치되는 부분을 다른 문자로 바꿀 수 있음\n",
    "text = \"blue socks and red shoes\"\n",
    "p = re.compile(\"(blue|white|red)\")\n",
    "print(p.sub(\"color\",text))\n",
    "print(p.sub(\"color\",text, count = 1)) # 1번만 적용\n",
    "print(p.subn(\"color\",text)) # 결과를 튜플로 주고, 몇 번 적용했는지 횟수도 표현함."
   ]
  },
  {
   "cell_type": "code",
   "execution_count": 83,
   "id": "26981e1a",
   "metadata": {},
   "outputs": [
    {
     "data": {
      "text/plain": [
       "'abc'"
      ]
     },
     "execution_count": 83,
     "metadata": {},
     "output_type": "execute_result"
    }
   ],
   "source": [
    "# Q. sub를 사용해서 \"abc\"만 출력하시오\n",
    "string = \"12345abc\"\n",
    "pattern = \"\\d+\"\n",
    "re.sub(pattern, \"\", string)"
   ]
  },
  {
   "cell_type": "code",
   "execution_count": 84,
   "id": "5cd901b1",
   "metadata": {},
   "outputs": [
    {
     "data": {
      "text/plain": [
       "'12345'"
      ]
     },
     "execution_count": 84,
     "metadata": {},
     "output_type": "execute_result"
    }
   ],
   "source": [
    "# Q. sub를 사용해서 \"12345\"만 출력하시오.\n",
    "string = \"12345abc\"\n",
    "pattern = \"[a-z]+\"\n",
    "re.sub(pattern, \"\", string)"
   ]
  },
  {
   "cell_type": "code",
   "execution_count": 85,
   "id": "62d00186",
   "metadata": {},
   "outputs": [
    {
     "name": "stdout",
     "output_type": "stream",
     "text": [
      "010-1234-1234 park\n",
      "010-1234-1234 park\n"
     ]
    }
   ],
   "source": [
    "# 이름 + 전화번호의 문자열을 전화번호 + 이름으로 바꾸는 예\n",
    "text = \"park 010-1234-1234\"\n",
    "p = re.compile(r\"(?P<name>\\w+)\\s+(?P<phone>\\d+-\\d+-\\d+)\")\n",
    "print(p.sub(\"\\g<phone> \\g<name>\", text))\n",
    "# 그룹 번호를 사용할 수도 있음\n",
    "print(p.sub(\"\\g<2> \\g<1>\", text))"
   ]
  },
  {
   "cell_type": "code",
   "execution_count": 86,
   "id": "b8f8f708",
   "metadata": {},
   "outputs": [
    {
     "data": {
      "text/plain": [
       "'Call 0xffd2 for printing, 0xc000 for user code.'"
      ]
     },
     "execution_count": 86,
     "metadata": {},
     "output_type": "execute_result"
    }
   ],
   "source": [
    "# sub 메서드의 매개변수로 함수 넣기\n",
    "def hexrepl(match):\n",
    "    value = int(match.group())\n",
    "    return hex(value)\n",
    "\n",
    "text = \"Call 65490 for printing, 49152 for user code.\"\n",
    "p = re.compile(r\"\\d+\")\n",
    "p.sub(hexrepl, text)"
   ]
  },
  {
   "cell_type": "markdown",
   "id": "15780ebd",
   "metadata": {},
   "source": [
    "### 과제3_0426\n",
    "창의적인 사용자 함수를 생성하여 sub 메서드의 매개변수로 적용하는 사례를 작성하시오."
   ]
  },
  {
   "cell_type": "code",
   "execution_count": 87,
   "id": "09539623",
   "metadata": {},
   "outputs": [
    {
     "data": {
      "text/plain": [
       "\"I'll choose red one.\""
      ]
     },
     "execution_count": 87,
     "metadata": {},
     "output_type": "execute_result"
    }
   ],
   "source": [
    "def samplef(match):\n",
    "    match = \"red\"\n",
    "    return match\n",
    "\n",
    "text = \"I'll choose green one.\"\n",
    "p = re.compile(\"green\")\n",
    "p.sub(samplef, text)"
   ]
  },
  {
   "cell_type": "markdown",
   "id": "1a9921d0",
   "metadata": {},
   "source": [
    "정규표현식에서 greedy와 nongreedy는 매칭(matching) 과정에서 사용되는 용어입니다.\n",
    "\n",
    "- Greedy: 가능한 가장 긴 문자열을 매칭하는 방식입니다. 즉, 매칭할 수 있는 최대한의 문자열을 선택합니다. 예를 들어, .*는 0개 이상의 어떤 문자든지 가능한 최대한의 문자열을 매칭합니다.\n",
    "\n",
    "- Nongreedy (또는 Lazy): 가능한 가장 짧은 문자열을 매칭하는 방식입니다. 즉, 매칭할 수 있는 최소한의 문자열만 선택합니다. 예를 들어, .*?는 0개 이상의 어떤 문자든지 가능한 최소한의 문자열을 매칭합니다."
   ]
  },
  {
   "cell_type": "code",
   "execution_count": 88,
   "id": "3f33a598",
   "metadata": {},
   "outputs": [
    {
     "name": "stdout",
     "output_type": "stream",
     "text": [
      "123\n",
      "1\n"
     ]
    }
   ],
   "source": [
    "text = \"There are 123 apples and 456 bananas.\"\n",
    "p_greedy = re.compile(r\"\\d+\")\n",
    "p_nongreedy = re.compile(r\"\\d+?\")\n",
    "mg = p_greedy.search(text)\n",
    "mng = p_nongreedy.search(text)\n",
    "print(mg.group())\n",
    "print(mng.group())"
   ]
  },
  {
   "cell_type": "code",
   "execution_count": 89,
   "id": "91da4bee",
   "metadata": {},
   "outputs": [
    {
     "name": "stdout",
     "output_type": "stream",
     "text": [
      "<html><head><title>Title</title>\n",
      "<html>\n"
     ]
    }
   ],
   "source": [
    "# Q. s에서 \"<html><head><title>Title</title>\"과 <html>을 각각 출력하시오.\n",
    "s = \"<html><head><title>Title</title>\"\n",
    "\n",
    "pattern = \"<.+>\"\n",
    "pattern2 =\"<.+?>\"\n",
    "\n",
    "\n",
    "print(re.search(pattern, s).group())\n",
    "print(re.search(pattern2, s).group())"
   ]
  },
  {
   "cell_type": "code",
   "execution_count": null,
   "id": "668e165d",
   "metadata": {},
   "outputs": [],
   "source": []
  }
 ],
 "metadata": {
  "kernelspec": {
   "display_name": "Python 3 (ipykernel)",
   "language": "python",
   "name": "python3"
  },
  "language_info": {
   "codemirror_mode": {
    "name": "ipython",
    "version": 3
   },
   "file_extension": ".py",
   "mimetype": "text/x-python",
   "name": "python",
   "nbconvert_exporter": "python",
   "pygments_lexer": "ipython3",
   "version": "3.9.13"
  }
 },
 "nbformat": 4,
 "nbformat_minor": 5
}
