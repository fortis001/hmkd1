{
 "cells": [
  {
   "cell_type": "code",
   "execution_count": 2,
   "id": "9f61f651",
   "metadata": {},
   "outputs": [
    {
     "ename": "SyntaxError",
     "evalue": "EOL while scanning string literal (4062817684.py, line 4)",
     "output_type": "error",
     "traceback": [
      "\u001b[1;36m  File \u001b[1;32m\"C:\\Users\\h\\AppData\\Local\\Temp\\ipykernel_7104\\4062817684.py\"\u001b[1;36m, line \u001b[1;32m4\u001b[0m\n\u001b[1;33m    print(\"구문오류 예시: 아예 실행이 되지 않는다.)\u001b[0m\n\u001b[1;37m                                   ^\u001b[0m\n\u001b[1;31mSyntaxError\u001b[0m\u001b[1;31m:\u001b[0m EOL while scanning string literal\n"
     ]
    }
   ],
   "source": [
    "#구문 오류: 프로그램 실행전에 발생하는 오류\n",
    "#예외 또는 런타임 오류 : 프로그램 실행 전에 발생하는 오류\n",
    "\n",
    "print(\"구문오류 예시: 아예 실행이 되지 않는다.)"
   ]
  },
  {
   "cell_type": "code",
   "execution_count": 3,
   "id": "5c17a9c4",
   "metadata": {},
   "outputs": [
    {
     "name": "stdout",
     "output_type": "stream",
     "text": [
      "정수 입력>3.14\n"
     ]
    },
    {
     "ename": "ValueError",
     "evalue": "invalid literal for int() with base 10: '3.14'",
     "output_type": "error",
     "traceback": [
      "\u001b[1;31m---------------------------------------------------------------------------\u001b[0m",
      "\u001b[1;31mValueError\u001b[0m                                Traceback (most recent call last)",
      "\u001b[1;32m~\\AppData\\Local\\Temp\\ipykernel_7104\\484911723.py\u001b[0m in \u001b[0;36m<module>\u001b[1;34m\u001b[0m\n\u001b[0;32m      1\u001b[0m \u001b[1;31m#정수를 입력하지 ㅇ낳을 경우 예외 발생\u001b[0m\u001b[1;33m\u001b[0m\u001b[1;33m\u001b[0m\u001b[0m\n\u001b[1;32m----> 2\u001b[1;33m \u001b[0mnum_input\u001b[0m \u001b[1;33m=\u001b[0m \u001b[0mint\u001b[0m\u001b[1;33m(\u001b[0m\u001b[0minput\u001b[0m\u001b[1;33m(\u001b[0m\u001b[1;34m\"정수 입력>\"\u001b[0m\u001b[1;33m)\u001b[0m\u001b[1;33m)\u001b[0m\u001b[1;33m\u001b[0m\u001b[1;33m\u001b[0m\u001b[0m\n\u001b[0m\u001b[0;32m      3\u001b[0m \u001b[0mprint\u001b[0m\u001b[1;33m(\u001b[0m\u001b[1;34m\"원의 반지름:\"\u001b[0m\u001b[1;33m,\u001b[0m \u001b[0mnum_input\u001b[0m\u001b[1;33m)\u001b[0m\u001b[1;33m\u001b[0m\u001b[1;33m\u001b[0m\u001b[0m\n",
      "\u001b[1;31mValueError\u001b[0m: invalid literal for int() with base 10: '3.14'"
     ]
    }
   ],
   "source": [
    "#정수를 입력하지 ㅇ낳을 경우 예외 발생\n",
    "num_input = int(input(\"정수 입력>\"))\n",
    "print(\"원의 반지름:\", num_input)"
   ]
  },
  {
   "cell_type": "code",
   "execution_count": 4,
   "id": "f738adee",
   "metadata": {},
   "outputs": [
    {
     "name": "stdout",
     "output_type": "stream",
     "text": [
      "정수 입력>3.65\n",
      "정수를 입력해 주세요\n"
     ]
    }
   ],
   "source": [
    "#조건문으로 예외 처리\n",
    "user_input = input(\"정수 입력>\")\n",
    "if user_input.isdigit():\n",
    "    num_input = int(user_input)\n",
    "    print(\"원의 반지름: \",num_input)\n",
    "else:\n",
    "    print(\"정수를 입력해 주세요\")"
   ]
  },
  {
   "cell_type": "code",
   "execution_count": 5,
   "id": "75f6ecd4",
   "metadata": {},
   "outputs": [
    {
     "name": "stdout",
     "output_type": "stream",
     "text": [
      "안녕하세요\n"
     ]
    },
    {
     "ename": "NameError",
     "evalue": "name 'param' is not defined",
     "output_type": "error",
     "traceback": [
      "\u001b[1;31m---------------------------------------------------------------------------\u001b[0m",
      "\u001b[1;31mNameError\u001b[0m                                 Traceback (most recent call last)",
      "\u001b[1;32m~\\AppData\\Local\\Temp\\ipykernel_7104\\1011423854.py\u001b[0m in \u001b[0;36m<module>\u001b[1;34m\u001b[0m\n\u001b[0;32m      1\u001b[0m \u001b[0mprint\u001b[0m\u001b[1;33m(\u001b[0m\u001b[1;34m\"안녕하세요\"\u001b[0m\u001b[1;33m)\u001b[0m\u001b[1;33m\u001b[0m\u001b[1;33m\u001b[0m\u001b[0m\n\u001b[1;32m----> 2\u001b[1;33m \u001b[0mprint\u001b[0m\u001b[1;33m(\u001b[0m\u001b[0mparam\u001b[0m\u001b[1;33m)\u001b[0m\u001b[1;33m\u001b[0m\u001b[1;33m\u001b[0m\u001b[0m\n\u001b[0m",
      "\u001b[1;31mNameError\u001b[0m: name 'param' is not defined"
     ]
    }
   ],
   "source": [
    "print(\"안녕하세요\")\n",
    "print(param) #변수로 지정하거나, 문자열이 아니라서 오류"
   ]
  },
  {
   "cell_type": "markdown",
   "id": "1524e0fc",
   "metadata": {},
   "source": [
    " - 프로그램이 실행되는 동안 오류가 발생하면 프로그램이 더 이상 진행될 수 없는 상태가 되는데 이를 예외라고 함\n",
    " - 예외가 발생해도 프로그램을 중단하지 않고 예외에 대한 적절한 처리를 하여 프로그램이 계속 진행하도록 하는 구문이 try~except"
   ]
  },
  {
   "cell_type": "code",
   "execution_count": 6,
   "id": "d0607d05",
   "metadata": {},
   "outputs": [
    {
     "name": "stdout",
     "output_type": "stream",
     "text": [
      "안녕하세요\n",
      "예외가 발생했습니다.\n"
     ]
    }
   ],
   "source": [
    "try:\n",
    "    print(\"안녕하세요\")\n",
    "    print(param)\n",
    "except:\n",
    "    print(\"예외가 발생했습니다.\")"
   ]
  },
  {
   "cell_type": "code",
   "execution_count": null,
   "id": "b2ef3740",
   "metadata": {},
   "outputs": [],
   "source": [
    "try:\n",
    "    print(\"안녕하세요\")\n",
    "    print(param)\n",
    "except:\n",
    "    print(\"예외가 발생했습니다.\")\n",
    "else:\n",
    "    print(\"예외가 발생하지 않았습니다.\")"
   ]
  },
  {
   "cell_type": "code",
   "execution_count": null,
   "id": "5b9d357c",
   "metadata": {},
   "outputs": [],
   "source": [
    "try:\n",
    "    print(\"안녕하세요\")\n",
    "except:\n",
    "    print(\"예외가 발생했습니다.\")\n",
    "finally:\n",
    "    print(\"무조건 실행하는 코드\")"
   ]
  },
  {
   "cell_type": "code",
   "execution_count": 8,
   "id": "5adf7cfd",
   "metadata": {},
   "outputs": [
    {
     "name": "stdout",
     "output_type": "stream",
     "text": [
      "name 'param' is not defined\n"
     ]
    }
   ],
   "source": [
    "#코드에서 예외 발생 내용을 확인하고자 하는 경우 처리 방법\n",
    "\n",
    "try:\n",
    "    print(param)\n",
    "except Exception as e:\n",
    "    print(e)"
   ]
  },
  {
   "cell_type": "code",
   "execution_count": 11,
   "id": "5f3ae665",
   "metadata": {},
   "outputs": [
    {
     "name": "stdout",
     "output_type": "stream",
     "text": [
      "1\n",
      "2\n",
      "3\n",
      "4\n",
      "5\n",
      "사용자에 의해 프로그램이 중단되었습니다.\n"
     ]
    }
   ],
   "source": [
    "import time\n",
    "count = 1\n",
    "try:\n",
    "    while True:\n",
    "        print(count)\n",
    "        count += 1\n",
    "        time.sleep(0.5)\n",
    "except KeyboardInterrupt:\n",
    "    print(\"사용자에 의해 프로그램이 중단되었습니다.\")"
   ]
  },
  {
   "cell_type": "code",
   "execution_count": 13,
   "id": "6abbacd6",
   "metadata": {},
   "outputs": [
    {
     "name": "stdout",
     "output_type": "stream",
     "text": [
      "['52', '273', '32', '103']\n"
     ]
    }
   ],
   "source": [
    "# 리스트 [\"52\",\"273\",\"32\",\"문자\",\"103\"]에서 숫자 부분만 출력하세요(예외 처리 수행)\n",
    "\n",
    "list_input = [\"52\",\"273\",\"32\",\"문자\",\"103\"]\n",
    "list_num = []\n",
    "for i in list_input:\n",
    "    try:\n",
    "        int(i)\n",
    "        list_num.append(i)\n",
    "    except:\n",
    "        pass\n",
    "print(list_num)"
   ]
  },
  {
   "cell_type": "code",
   "execution_count": null,
   "id": "510fbfe9",
   "metadata": {},
   "outputs": [],
   "source": [
    "# 정수를 입력하면 \"정수\", 정수가 아니면 \"정수 아님\"을 출력하세요.\n",
    "\n",
    "try:\n",
    "    num_input = int(input(\"정수 입력>\"))\n",
    "except:\n",
    "    print(\"정수가 아닙니다. 정수를 입력해 주세요.\")\n",
    "else:\n",
    "    print(\"정수가 맞습니다.\")"
   ]
  },
  {
   "cell_type": "code",
   "execution_count": 16,
   "id": "f6831c64",
   "metadata": {},
   "outputs": [
    {
     "name": "stdout",
     "output_type": "stream",
     "text": [
      "정수 입력f\n",
      "정수 아님\n",
      "프로그램 종료\n"
     ]
    }
   ],
   "source": [
    "# 정수를 입력하면 \"입력 정수\" > \"예외 발생하지 않음\" > \"프로그램 종료\"\n",
    "# 정수가 아니면 \"입력 값\" > \"정수 아님\" > \"프로그램 종료\" 순서대로 출력하세요\n",
    "\n",
    "try:\n",
    "    num_input = int(input(\"정수 입력\"))\n",
    "except:\n",
    "    print(\"정수 아님\")\n",
    "else:\n",
    "    print(num_input)\n",
    "    print(\"예외 발생하지 않음\")\n",
    "finally:\n",
    "    print(\"프로그램 종료\")\n",
    "    "
   ]
  },
  {
   "cell_type": "code",
   "execution_count": null,
   "id": "f309746b",
   "metadata": {},
   "outputs": [],
   "source": []
  }
 ],
 "metadata": {
  "kernelspec": {
   "display_name": "Python 3 (ipykernel)",
   "language": "python",
   "name": "python3"
  },
  "language_info": {
   "codemirror_mode": {
    "name": "ipython",
    "version": 3
   },
   "file_extension": ".py",
   "mimetype": "text/x-python",
   "name": "python",
   "nbconvert_exporter": "python",
   "pygments_lexer": "ipython3",
   "version": "3.9.13"
  }
 },
 "nbformat": 4,
 "nbformat_minor": 5
}
