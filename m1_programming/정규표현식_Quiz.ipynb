{
 "cells": [
  {
   "cell_type": "code",
   "execution_count": null,
   "id": "dce56264",
   "metadata": {},
   "outputs": [],
   "source": []
  },
  {
   "cell_type": "code",
   "execution_count": 1,
   "id": "58593786",
   "metadata": {},
   "outputs": [
    {
     "data": {
      "text/plain": [
       "<re.Match object; span=(10, 22), match='032-232-3245'>"
      ]
     },
     "execution_count": 1,
     "metadata": {},
     "output_type": "execute_result"
    }
   ],
   "source": [
    "# Q. 정규표현식을 사용하여 test에서 전화번호만  출력하세요\n",
    "# text = \"문의사항이 있으면 032-232-3245 으로 연락주시기 바랍니다.\"\n",
    "import re\n",
    " \n",
    "text = \"문의사항이 있으면 032-232-3245 으로 연락주시기 바랍니다.\"\n",
    " \n",
    "pattern = \"\\d{3}-\\d{3}-\\d{4}\"\n",
    "\n",
    "re.search(pattern, text)"
   ]
  },
  {
   "cell_type": "code",
   "execution_count": 2,
   "id": "0fca457e",
   "metadata": {},
   "outputs": [
    {
     "data": {
      "text/plain": [
       "['에러 1122', '에러 1033', '에러 xxx']"
      ]
     },
     "execution_count": 2,
     "metadata": {},
     "output_type": "execute_result"
    }
   ],
   "source": [
    "# Q. 정규표현식을 사용하여 text에서 에러가 들어간 부분만 포함하는 리스트를 출력하세요. \n",
    "# text = \"에러 1122, 레퍼런스 오류, 에러 1033, 아규먼트 오류, 에러 xxx\"\n",
    "\n",
    "text = \"에러 1122, 레퍼런스 오류, 에러 1033, 아규먼트 오류, 에러 xxx\"\n",
    "\n",
    "pattern = \"에러\\s\\w+\"\n",
    "\n",
    "re.findall(pattern, text)\n"
   ]
  },
  {
   "cell_type": "code",
   "execution_count": 3,
   "id": "3b6bfa43",
   "metadata": {},
   "outputs": [
    {
     "data": {
      "text/plain": [
       "'032'"
      ]
     },
     "execution_count": 3,
     "metadata": {},
     "output_type": "execute_result"
    }
   ],
   "source": [
    "# Q. 정규표현식을 사용하여 text에서 지역코드만 출력하세요.\n",
    " \n",
    "text = \"문의사항이 있으면 032-232-3245 으로 연락주시기 바랍니다.\" \n",
    "\n",
    "pattern = \"(\\d{3})-\\d{3}-\\d{4}\"\n",
    "\n",
    "re.search(pattern, text).group(1)\n"
   ]
  },
  {
   "cell_type": "code",
   "execution_count": 4,
   "id": "eeb3f060",
   "metadata": {},
   "outputs": [
    {
     "name": "stdout",
     "output_type": "stream",
     "text": [
      "232 3245\n"
     ]
    }
   ],
   "source": [
    "# Q. 정규표현식을 사용하여 text에서 지역코드 제외한 번호만 출력하세요.\n",
    "\n",
    "text = \"문의사항이 있으면 032-232-3245 으로 연락주시기 바랍니다.\" \n",
    "\n",
    "pattern = \"\\d{3}-(\\d{3})-(\\d{4})\"\n",
    "\n",
    "result = re.search(pattern, text)\n",
    "\n",
    "print(result.group(1),result.group(2))\n"
   ]
  },
  {
   "cell_type": "code",
   "execution_count": 5,
   "id": "18e7122b",
   "metadata": {},
   "outputs": [
    {
     "name": "stdout",
     "output_type": "stream",
     "text": [
      "abcdefghi\n",
      "e\n"
     ]
    }
   ],
   "source": [
    "# Q.'abcdefghij' 에 대하여 중첩을 적용한 서브그룹 5개로 컴파일하여 group()함수를 이용하여 \n",
    "# 'abcdefghi'와 e'를 출력하세요\n",
    "\n",
    "text = 'abcdefghij'\n",
    "\n",
    "pattern = \"((abcd)(e)(fghi))(j)\"\n",
    "\n",
    "print(re.search(pattern, text).group(1))\n",
    "\n",
    "print(re.search(pattern, text).group(3))"
   ]
  },
  {
   "cell_type": "code",
   "execution_count": 6,
   "id": "c4959700",
   "metadata": {},
   "outputs": [
    {
     "data": {
      "text/plain": [
       "[('abcdefghi', 'abcd', 'e', 'fghi', 'j')]"
      ]
     },
     "execution_count": 6,
     "metadata": {},
     "output_type": "execute_result"
    }
   ],
   "source": [
    "# Q. 위 문제에서 모든 서브 그룹에 대한 문자열을 포함하는 튜플을 출력하세요.\n",
    "\n",
    "re.findall(pattern,text)"
   ]
  },
  {
   "cell_type": "code",
   "execution_count": 7,
   "id": "10b4e5b8",
   "metadata": {},
   "outputs": [
    {
     "data": {
      "text/plain": [
       "'Lots'"
      ]
     },
     "execution_count": 7,
     "metadata": {},
     "output_type": "execute_result"
    }
   ],
   "source": [
    "# Q. 이름으로 그룹을 참조하여 'Lots of punctuation 에서 Lots를 출력하세요.\n",
    "\n",
    "text = \"Lots of punctuation\" \n",
    "\n",
    "pattern = \"(?P<sample>[A-Z][a-z]+)\"\n",
    "\n",
    "re.search(pattern, text).group(\"sample\")\n"
   ]
  },
  {
   "cell_type": "code",
   "execution_count": 8,
   "id": "99fa5956",
   "metadata": {},
   "outputs": [
    {
     "data": {
      "text/plain": [
       "<re.Match object; span=(9, 18), match='very very'>"
      ]
     },
     "execution_count": 8,
     "metadata": {},
     "output_type": "execute_result"
    }
   ],
   "source": [
    "# Q. 'Paris is very very beautiful.'에서 'very very'를 출력하세요.\n",
    "text = \"Paris is very very beautiful.\"\n",
    "\n",
    "pattern = r\"\\b(\\w+)\\s\\1\\b\"\n",
    "\n",
    "re.search(pattern, text)\n"
   ]
  },
  {
   "cell_type": "code",
   "execution_count": 9,
   "id": "3cb03179",
   "metadata": {},
   "outputs": [
    {
     "name": "stdout",
     "output_type": "stream",
     "text": [
      "['1 apple', '5 oranges', '3 boys', '4 girls', '10 army', '11 mr']\n"
     ]
    }
   ],
   "source": [
    "# Q. 정규표현식을 작성하여 아래와 같이 출력하세요.\n",
    "\n",
    "li = '1 apple, 5 oranges, 3 boys, 4 girls; 10 army| 11 mr'\n",
    "regex = re.compile(\"\\d+\\s\\w+\")\n",
    "list = regex.findall(li)\n",
    "print(list)"
   ]
  },
  {
   "cell_type": "code",
   "execution_count": 10,
   "id": "8e4cba83",
   "metadata": {},
   "outputs": [
    {
     "data": {
      "text/plain": [
       "['H', 'h', 'h']"
      ]
     },
     "execution_count": 10,
     "metadata": {},
     "output_type": "execute_result"
    }
   ],
   "source": [
    "# Q. text에서 'H,h'만 출력하세요.\n",
    "text = 'Hello my friend! Life is short you need Python!'\n",
    "\n",
    "pattern = \"[h]\"\n",
    "\n",
    "re.findall(pattern, text, re.I)"
   ]
  },
  {
   "cell_type": "code",
   "execution_count": 11,
   "id": "ad33a1a5",
   "metadata": {},
   "outputs": [
    {
     "data": {
      "text/plain": [
       "'ello my friend! Life is sort you need Pyton!'"
      ]
     },
     "execution_count": 11,
     "metadata": {},
     "output_type": "execute_result"
    }
   ],
   "source": [
    "# Q. text에서 'H,h'가 아닌 것 모두를 출력하세요.\n",
    "\n",
    "pattern = \"[Hh]\"\n",
    "\n",
    "re.sub(pattern, \"\", text)"
   ]
  },
  {
   "cell_type": "code",
   "execution_count": 12,
   "id": "af269622",
   "metadata": {},
   "outputs": [
    {
     "data": {
      "text/plain": [
       "<re.Match object; span=(13, 17), match='home'>"
      ]
     },
     "execution_count": 12,
     "metadata": {},
     "output_type": "execute_result"
    }
   ],
   "source": [
    "# Q. 'we are going home'에서 home만 출력하세요.\n",
    "\n",
    "text = \"we are going home\"\n",
    "\n",
    "pattern = \"\\w+(me)$\"\n",
    "\n",
    "re.search(pattern, text)"
   ]
  },
  {
   "cell_type": "code",
   "execution_count": 13,
   "id": "1d2f9f99",
   "metadata": {},
   "outputs": [
    {
     "data": {
      "text/plain": [
       "<re.Match object; span=(0, 4), match='home'>"
      ]
     },
     "execution_count": 13,
     "metadata": {},
     "output_type": "execute_result"
    }
   ],
   "source": [
    "# Q. 'home sweet'에서 home만 출력하세요.\n",
    "\n",
    "text = \"home sweet\"\n",
    "\n",
    "pattern = \"\\w+\"\n",
    "\n",
    "re.search(pattern, text)"
   ]
  },
  {
   "cell_type": "code",
   "execution_count": 14,
   "id": "77d38ad7",
   "metadata": {},
   "outputs": [
    {
     "data": {
      "text/plain": [
       "<re.Match object; span=(0, 6), match='199305'>"
      ]
     },
     "execution_count": 14,
     "metadata": {},
     "output_type": "execute_result"
    }
   ],
   "source": [
    "# Q. '199305, 1923A, a93247'에서 '199305'만 출력하세요.\n",
    "\n",
    "text = '199305, 1923A, a93247'\n",
    "\n",
    "pattern = \"\\d+\"\n",
    "\n",
    "re.search(pattern, text)"
   ]
  },
  {
   "cell_type": "code",
   "execution_count": 15,
   "id": "7faa4361",
   "metadata": {},
   "outputs": [
    {
     "data": {
      "text/plain": [
       "<re.Match object; span=(0, 9), match='99food234'>"
      ]
     },
     "execution_count": 15,
     "metadata": {},
     "output_type": "execute_result"
    }
   ],
   "source": [
    "# Q. '99food234, a93456\\n, a9356ba '에서 '99food234'만 출력하세요.\n",
    "\n",
    "text = '99food234, a93456\\n, a9356ba '\n",
    "\n",
    "pattern = \"\\w+\"\n",
    "\n",
    "re.search(pattern, text)\n"
   ]
  },
  {
   "cell_type": "code",
   "execution_count": 16,
   "id": "8c5aaaf4",
   "metadata": {},
   "outputs": [
    {
     "data": {
      "text/plain": [
       "<re.Match object; span=(5, 8), match='abc'>"
      ]
     },
     "execution_count": 16,
     "metadata": {},
     "output_type": "execute_result"
    }
   ],
   "source": [
    "# Q. '12345abc'에서 'abc'만 출력하세요.\n",
    "\n",
    "text = \"12345abc\"\n",
    "\n",
    "pattern = \"[a-z]+\"\n",
    "\n",
    "re.search(pattern, text)"
   ]
  },
  {
   "cell_type": "code",
   "execution_count": 17,
   "id": "d94faea3",
   "metadata": {},
   "outputs": [
    {
     "data": {
      "text/plain": [
       "<re.Match object; span=(0, 5), match='12345'>"
      ]
     },
     "execution_count": 17,
     "metadata": {},
     "output_type": "execute_result"
    }
   ],
   "source": [
    "# Q. '12345abc'에서 '12345'만 출력하세요.\n",
    "\n",
    "text = '12345abc'\n",
    "\n",
    "pattern = \"\\d+\"\n",
    "\n",
    "re.search(pattern, text)\n"
   ]
  },
  {
   "cell_type": "code",
   "execution_count": 18,
   "id": "7282e3eb",
   "metadata": {},
   "outputs": [
    {
     "data": {
      "text/plain": [
       "<re.Match object; span=(5, 6), match='a'>"
      ]
     },
     "execution_count": 18,
     "metadata": {},
     "output_type": "execute_result"
    }
   ],
   "source": [
    "# Q. '12345abc'에서 'a'만 출력하세요.\n",
    "\n",
    "text = \"12345abc\"\n",
    "\n",
    "pattern = \"[a-z]\"\n",
    "\n",
    "re.search(pattern, text)"
   ]
  },
  {
   "cell_type": "code",
   "execution_count": 19,
   "id": "cf100797",
   "metadata": {},
   "outputs": [
    {
     "data": {
      "text/plain": [
       "<re.Match object; span=(0, 7), match='122333c'>"
      ]
     },
     "execution_count": 19,
     "metadata": {},
     "output_type": "execute_result"
    }
   ],
   "source": [
    "# search는 문자열 전체를 검색하여 정규식과 매칭되는 패턴을 찾는다.\n",
    "# Q. '122333c'를 모두 출력하세요.\n",
    "\n",
    "text = '122333c1233c'\n",
    "\n",
    "pattern = \"\\d+[a-z]\"\n",
    "\n",
    "re.search(pattern, text)"
   ]
  },
  {
   "cell_type": "code",
   "execution_count": 20,
   "id": "f6e9beaf",
   "metadata": {},
   "outputs": [
    {
     "data": {
      "text/plain": [
       "<re.Match object; span=(8, 9), match='A'>"
      ]
     },
     "execution_count": 20,
     "metadata": {},
     "output_type": "execute_result"
    }
   ],
   "source": [
    "# Q. 'abc12345Abc'에서 'A'만 출력하세요.\n",
    "\n",
    "text = 'abc12345Abc'\n",
    "\n",
    "pattern = \"[A-Z]\"\n",
    "\n",
    "re.search(pattern, text)\n"
   ]
  },
  {
   "cell_type": "code",
   "execution_count": 21,
   "id": "f296b6de",
   "metadata": {},
   "outputs": [
    {
     "data": {
      "text/plain": [
       "<re.Match object; span=(6, 7), match='대'>"
      ]
     },
     "execution_count": 21,
     "metadata": {},
     "output_type": "execute_result"
    }
   ],
   "source": [
    "# Q. 'KOREA 대한민국'에서 '대'만 출력하세요.\n",
    "\n",
    "text = \"KOREA 대한민국\"\n",
    "\n",
    "pattern = \"[가-힣]\"\n",
    "\n",
    "re.search(pattern, text)"
   ]
  },
  {
   "cell_type": "code",
   "execution_count": 22,
   "id": "c9549497",
   "metadata": {},
   "outputs": [
    {
     "data": {
      "text/plain": [
       "<re.Match object; span=(0, 16), match='aaaaBBBcccDDDeee'>"
      ]
     },
     "execution_count": 22,
     "metadata": {},
     "output_type": "execute_result"
    }
   ],
   "source": [
    "# Q. 'aaaaBBBcccDDDeee'을 모두 출력하세요.\n",
    "\n",
    "text = 'aaaaBBBcccDDDeeeaaaBBBcccDDeee'\n",
    "\n",
    "pattern = \"a{4}.+D{3}e{3}\"\n",
    "\n",
    "re.search(pattern, text)\n"
   ]
  },
  {
   "cell_type": "code",
   "execution_count": 23,
   "id": "be4024eb",
   "metadata": {},
   "outputs": [
    {
     "data": {
      "text/plain": [
       "['1', '2', '3', '4', '1', '2', '3', '4']"
      ]
     },
     "execution_count": 23,
     "metadata": {},
     "output_type": "execute_result"
    }
   ],
   "source": [
    "# Q. '1234a1234'에서  '1', '2', '3', '4'를 모두 출력하세요.\n",
    "\n",
    "text = '1234a1234'\n",
    "\n",
    "pattern = \"\\d\"\n",
    "\n",
    "re.findall(pattern, text)"
   ]
  },
  {
   "cell_type": "code",
   "execution_count": 24,
   "id": "3b3400fb",
   "metadata": {},
   "outputs": [
    {
     "data": {
      "text/plain": [
       "<re.Match object; span=(0, 19), match='what are you doing?'>"
      ]
     },
     "execution_count": 24,
     "metadata": {},
     "output_type": "execute_result"
    }
   ],
   "source": [
    "# Q. text에서 what are you doing?만 출력하세요 \n",
    "text = 'what are you doing?\\nit is going to be late for school\\nwe need to hurry up'\n",
    "\n",
    "pattern = \".+\"\n",
    "\n",
    "re.search(pattern, text)\n"
   ]
  },
  {
   "cell_type": "code",
   "execution_count": 25,
   "id": "ad15ff2d",
   "metadata": {},
   "outputs": [
    {
     "data": {
      "text/plain": [
       "'what are you doing?\\nit is going to be late for school\\nwe need to hurry up'"
      ]
     },
     "execution_count": 25,
     "metadata": {},
     "output_type": "execute_result"
    }
   ],
   "source": [
    "# Q. text에서 전체문장 모두 출력하세요 \n",
    "\n",
    "pattern = re.compile(\".+\", re.DOTALL)\n",
    "\n",
    "re.search(pattern, text).group()\n"
   ]
  },
  {
   "cell_type": "code",
   "execution_count": 26,
   "id": "d7296e42",
   "metadata": {},
   "outputs": [
    {
     "data": {
      "text/plain": [
       "['Friend', 'fRiend', 'friEnd', 'FRIEND']"
      ]
     },
     "execution_count": 26,
     "metadata": {},
     "output_type": "execute_result"
    }
   ],
   "source": [
    "# Q. text에서 대소문자 구분없이 전체문장 모두 출력하세요 \n",
    "\n",
    "text = 'Friend fRiend friEnd FRIEND'\n",
    "\n",
    "pattern = \"[a-zA-Z]+\"\n",
    "\n",
    "re.findall(pattern, text)\n"
   ]
  }
 ],
 "metadata": {
  "kernelspec": {
   "display_name": "Python 3 (ipykernel)",
   "language": "python",
   "name": "python3"
  },
  "language_info": {
   "codemirror_mode": {
    "name": "ipython",
    "version": 3
   },
   "file_extension": ".py",
   "mimetype": "text/x-python",
   "name": "python",
   "nbconvert_exporter": "python",
   "pygments_lexer": "ipython3",
   "version": "3.9.13"
  }
 },
 "nbformat": 4,
 "nbformat_minor": 5
}
