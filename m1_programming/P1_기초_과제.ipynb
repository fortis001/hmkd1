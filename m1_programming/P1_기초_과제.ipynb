{
 "cells": [
  {
   "cell_type": "code",
   "execution_count": 1,
   "id": "d5e7043f",
   "metadata": {},
   "outputs": [
    {
     "name": "stdout",
     "output_type": "stream",
     "text": [
      "2500\n"
     ]
    }
   ],
   "source": [
    "#1부터 100까지, 1*99, 2*98 ... 99*1의 값 중에서 가장 큰 수를 구하시오\n",
    "i = 1\n",
    "cal = i*(100-i)\n",
    "result = cal\n",
    "while i <= 98:\n",
    "    i += 1\n",
    "    cal = i*(100-i)\n",
    "    if cal > result:\n",
    "        result = cal\n",
    "\n",
    "print(result)"
   ]
  },
  {
   "cell_type": "code",
   "execution_count": 52,
   "id": "60d8fe31",
   "metadata": {},
   "outputs": [
    {
     "name": "stdout",
     "output_type": "stream",
     "text": [
      "[[1, 4, 7], [2, 5, 8], [3, 6, 9]]\n"
     ]
    }
   ],
   "source": [
    "#[   ]를 채워서 아래의 출력과 같이 출력하세요\n",
    "#[[1,4,7],[2,5,8],[3,6,9]]\n",
    "\n",
    "numbers = [1,2,3,4,5,6,7,8,9]\n",
    "output = [[],[],[]]\n",
    "\n",
    "i = 0\n",
    "while i < len(numbers):\n",
    "    a = numbers[i] % 3\n",
    "    if a == 1:\n",
    "        output[0].append(numbers[i])\n",
    "    elif a == 2:\n",
    "        output[1].append(numbers[i])\n",
    "    else:\n",
    "        output[2].append(numbers[i])\n",
    "    i += 1\n",
    "        \n",
    "print(output)"
   ]
  },
  {
   "cell_type": "code",
   "execution_count": 2,
   "id": "2daa1d72",
   "metadata": {},
   "outputs": [
    {
     "name": "stdout",
     "output_type": "stream",
     "text": [
      "[0, 2, 4, 6, 8]\n",
      "[1, 3, 5, 7, 9]\n",
      "[2, 1, 0]\n"
     ]
    }
   ],
   "source": [
    "list1 = [0,1,2,3,4,5,6,7,8,9]\n",
    "#[0,2,4,6,8]\n",
    "print(list1[0::2])\n",
    "#[1,3,5,7,9]\n",
    "print(list1[1::2])\n",
    "#[2,1,0]\n",
    "del list1[3:]\n",
    "list1.reverse()\n",
    "print(list1)"
   ]
  },
  {
   "cell_type": "code",
   "execution_count": 3,
   "id": "e13f4694",
   "metadata": {},
   "outputs": [
    {
     "name": "stdout",
     "output_type": "stream",
     "text": [
      "[0, 2, 4, 6, 8]\n",
      "[1, 3, 5, 7, 9]\n",
      "[2, 1, 0]\n"
     ]
    }
   ],
   "source": [
    "#풀이\n",
    "list1 = [0,1,2,3,4,5,6,7,8,9]\n",
    "print(list1[0::2])\n",
    "print(list1[1::2])\n",
    "print(list1[2::-1])"
   ]
  },
  {
   "cell_type": "code",
   "execution_count": 4,
   "id": "64d52525",
   "metadata": {},
   "outputs": [
    {
     "name": "stdout",
     "output_type": "stream",
     "text": [
      "[58, 45, 69, 19, 4, 87, 29, 13, 39, 15, 54, [8, 33, 11], 27, 49, 63, 98, 22, 82]\n",
      "33\n",
      "[58, 45, 69, 19, 4, 87, 29, 13, 39, 15, 54, [8, 33, 11], 27, 49, 63, 98, 22, 82, 82]\n",
      "2\n",
      "5\n",
      "[87, 54, 39, 29, 19, 15, 13, 4]\n",
      "[58, 45, 69, 19, 4, 87, 29, 13, 11, 15, 54, [8, 33, 11], 27, 49, 63, 98, 22, 82, 82]\n",
      "[69, 45, 58]\n",
      "[58, 69, 4, 29, 11, 54, 27, 63, 22, 82]\n",
      "[58, 45, 69, 19, 4, 87, 29, 13, 11, 15, 54, [8, 33, 11], 27, 49, 63, 98, 22, 82]\n",
      "106 -68 1653 0.21839080459770116\n"
     ]
    }
   ],
   "source": [
    "list1 = [58,45,69,19,4,87,29,13,39,15,54,[8,33,11],27,49,63,98,22,82]\n",
    "print(list1)\n",
    "#1. 33을 출력\n",
    "print(list1[11][1])\n",
    "\n",
    "#2. 82를 리스트에 추가\n",
    "list1.append(82)\n",
    "print(list1)\n",
    "\n",
    "#3. 82의 갯수를 구하기\n",
    "print(list1.count(82))\n",
    "\n",
    "#4. 87의 인덱스 구하기\n",
    "print(list1.index(87))\n",
    "\n",
    "#5. 인덱스 3에서 10까지의 값을 출력하고 list2에 저장한 후 내림차순 정렬하기\n",
    "list2 = list1[3:11]\n",
    "list2.sort()\n",
    "list2.reverse()\n",
    "print(list2)\n",
    "\n",
    "#6. 39를 11로 변경\n",
    "a = list1.index(39)\n",
    "list1[a] = 11\n",
    "print(list1)\n",
    "\n",
    "#7. [69,45,58]을 출력\n",
    "print(list1[2::-1])\n",
    "\n",
    "#8. 짝수 인덱스의 값으로 구성된 리스트 출력하기\n",
    "print(list1[::2])\n",
    "\n",
    "#9. 인덱스가 가장 큰 수를 삭제하기\n",
    "del list1[-1]\n",
    "print(list1)\n",
    "\n",
    "#10. 인덱스 3,5인 값으로 4칙연산하기\n",
    "a = list1[3]\n",
    "b = list1[5]\n",
    "\n",
    "print(a+b, a-b, a*b, a/b)"
   ]
  },
  {
   "cell_type": "code",
   "execution_count": 5,
   "id": "e131dfd1",
   "metadata": {},
   "outputs": [
    {
     "name": "stdout",
     "output_type": "stream",
     "text": [
      "태어난 년도를 입력하시오. \n",
      "1998\n",
      "당신은 호랑이띠입니다.\n"
     ]
    }
   ],
   "source": [
    "year = int(input(\"태어난 년도를 입력하시오. \\n\"))\n",
    "cal = year%12\n",
    "if cal == 0:\n",
    "    print(\"당신은 원숭이띠입니다.\")\n",
    "elif cal == 1:\n",
    "    print(\"당신은 닭띠입니다.\")\n",
    "elif cal == 2:\n",
    "    print(\"당신은 개띠입니다.\")\n",
    "elif cal == 3:\n",
    "    print(\"당신은 돼지띠입니다.\")\n",
    "elif cal == 4:\n",
    "    print(\"당신은 쥐띠입니다.\")\n",
    "elif cal == 5:\n",
    "    print(\"당신은 소띠입니다.\")\n",
    "elif cal == 6:\n",
    "    print(\"당신은 호랑이띠입니다.\")\n",
    "elif cal == 7:\n",
    "    print(\"당신은 토끼띠입니다.\")\n",
    "elif cal == 8:\n",
    "    print(\"당신은 용띠입니다.\")\n",
    "elif cal == 9:\n",
    "    print(\"당신은 뱀띠입니다.\")\n",
    "elif cal == 10:\n",
    "    print(\"당신은 말띠입니다.\")\n",
    "else:\n",
    "    print(\"당신은 양띠입니다.\")"
   ]
  },
  {
   "cell_type": "code",
   "execution_count": 6,
   "id": "5bcde5dd",
   "metadata": {},
   "outputs": [
    {
     "name": "stdout",
     "output_type": "stream",
     "text": [
      "태어난 년도를 입력하시오. \n",
      "1998\n",
      "1998년도생, 호랑이띠입니다.\n"
     ]
    }
   ],
   "source": [
    "#정답예시\n",
    "\n",
    "year = int(input(\"태어난 년도를 입력하시오. \\n\"))\n",
    "cal = year%12\n",
    "ti = [\"원숭이\",\"닭\",\"개\",\"돼지\",\"쥐\",\"소\",\"호랑이\",\"토끼\",\"용\",\"뱀\",\"말\",\"양\"]\n",
    "print(f\"{year}년도생, {ti[cal]}띠입니다.\")"
   ]
  },
  {
   "cell_type": "code",
   "execution_count": 7,
   "id": "69844b3b",
   "metadata": {},
   "outputs": [
    {
     "name": "stdout",
     "output_type": "stream",
     "text": [
      "n값은 45, 총합계는 1035입니다.\n"
     ]
    }
   ],
   "source": [
    "# 정수 1부터 n까지 더할 때 그 합이 1000보다 커지게 되는 n과 합을 구하시오\n",
    "\n",
    "i = 0\n",
    "sum = 0\n",
    "while sum < 1000:\n",
    "    i += 1\n",
    "    sum = sum + i\n",
    "\n",
    "print(\"n값은 %s, 총합계는 %s입니다.\"%(i,sum))"
   ]
  },
  {
   "cell_type": "code",
   "execution_count": 8,
   "id": "2e00c300",
   "metadata": {},
   "outputs": [
    {
     "name": "stdout",
     "output_type": "stream",
     "text": [
      "166833\n"
     ]
    }
   ],
   "source": [
    "# while문을 사용해 1부터 1000까지의 정수 중 3의 배수의 합을 구해 보세요\n",
    "\n",
    "i = 1\n",
    "sum = 0\n",
    "while i < 1001:\n",
    "    if i%3 ==0:\n",
    "        sum = sum+i\n",
    "    i += 1\n",
    "print(sum)"
   ]
  },
  {
   "cell_type": "code",
   "execution_count": 9,
   "id": "6e7db175",
   "metadata": {},
   "outputs": [
    {
     "name": "stdout",
     "output_type": "stream",
     "text": [
      "4550\n"
     ]
    }
   ],
   "source": [
    "#1부터 100까지의 정수 중 5에서 95까지의 합을 구하세요\n",
    "\n",
    "i = 0\n",
    "sum = 0\n",
    "while i < 101:\n",
    "    i += 1\n",
    "    if i > 4:\n",
    "        if i < 96:\n",
    "            sum = sum + i\n",
    "print(sum)\n",
    "            "
   ]
  },
  {
   "cell_type": "code",
   "execution_count": 10,
   "id": "1fa70a51",
   "metadata": {},
   "outputs": [
    {
     "name": "stdout",
     "output_type": "stream",
     "text": [
      "5를 2로 나누었을 때의 몫은 2, 나머지는 1입니다.\n"
     ]
    }
   ],
   "source": [
    "#5를 2로 나누었을 때의 몫과 나머지를 구하세요\n",
    "a = 5//2\n",
    "b = 5%2\n",
    "\n",
    "print(\"5를 2로 나누었을 때의 몫은 %s, 나머지는 %s입니다.\"%(a,b))"
   ]
  },
  {
   "cell_type": "code",
   "execution_count": 11,
   "id": "df1449e3",
   "metadata": {},
   "outputs": [
    {
     "name": "stdout",
     "output_type": "stream",
     "text": [
      "2\n"
     ]
    }
   ],
   "source": [
    "#5의 3승을 3으로 나누었을 때의 나머지를 복합 대입 연산자를 이용해서 구하세요\n",
    "\n",
    "print(5**3%3)"
   ]
  },
  {
   "cell_type": "code",
   "execution_count": 12,
   "id": "5120fab4",
   "metadata": {},
   "outputs": [
    {
     "name": "stdout",
     "output_type": "stream",
     "text": [
      "어떤 수를 나눌까요?\n",
      "8\n",
      "몇 승으로 할까요?\n",
      "2\n",
      "몇으로 나눌까요?\n",
      "3\n",
      "계산 결과 몫은 21, 나머지는 1입니다.\n"
     ]
    }
   ],
   "source": [
    "#숫자 3개를 입력해서 첫 번째 숫자 승한 뒤에 세 번째 숫자로 나누었을 때의 몫을 구하시오\n",
    "a = int(input(\"어떤 수를 나눌까요?\\n\"))\n",
    "b = int(input(\"몇 승으로 할까요?\\n\"))\n",
    "c = int(input(\"몇으로 나눌까요?\\n\"))\n",
    "mok = 0\n",
    "na = 0\n",
    "cal = a**b\n",
    "while cal >= c:\n",
    "    mok += 1\n",
    "    cal = cal-c\n",
    "na = cal\n",
    "print(\"계산 결과 몫은 %s, 나머지는 %s입니다.\"%(mok,na))"
   ]
  },
  {
   "cell_type": "code",
   "execution_count": 13,
   "id": "1f7e206e",
   "metadata": {},
   "outputs": [
    {
     "name": "stdout",
     "output_type": "stream",
     "text": [
      "어떤 수를 나눌까요?\n",
      "8\n",
      "몇 승으로 할까요?\n",
      "2\n",
      "몇으로 나눌까요?\n",
      "3\n",
      "계산 결과 몫은 21, 나머지는 1입니다.\n"
     ]
    }
   ],
   "source": [
    "a = int(input(\"어떤 수를 나눌까요?\\n\"))\n",
    "b = int(input(\"몇 승으로 할까요?\\n\"))\n",
    "c = int(input(\"몇으로 나눌까요?\\n\"))\n",
    "ans = a**b//c\n",
    "na = a**b%c\n",
    "\n",
    "print(f\"계산 결과 몫은 {ans}, 나머지는 {na}입니다.\")"
   ]
  },
  {
   "cell_type": "code",
   "execution_count": 14,
   "id": "776a86fd",
   "metadata": {},
   "outputs": [
    {
     "name": "stdout",
     "output_type": "stream",
     "text": [
      "33165\n"
     ]
    }
   ],
   "source": [
    "#while문을 사용해 1부터 1000까지의 정수 중 3과 5의 공배수의 합을 구해 보세요\n",
    "i = 0\n",
    "sum = 0\n",
    "while i <=1000:\n",
    "    if i%3 ==0:\n",
    "        if i%5 ==0:\n",
    "            sum = sum+i\n",
    "    i += 1\n",
    "print(sum)\n"
   ]
  },
  {
   "cell_type": "code",
   "execution_count": 15,
   "id": "c32e239f",
   "metadata": {},
   "outputs": [
    {
     "name": "stdout",
     "output_type": "stream",
     "text": [
      "1부터 5까지 입력해 주세요.\n",
      "1\n",
      "2\n",
      "3\n",
      "4\n",
      "5\n",
      "12345\n"
     ]
    }
   ],
   "source": [
    "#1부터 5까지 입력해서 12345를 출력하세요\n",
    "\n",
    "print(\"1부터 5까지 입력해 주세요.\")\n",
    "a = input()\n",
    "b = input()\n",
    "c = input()\n",
    "d = input()\n",
    "e = input()\n",
    "print(a+b+c+d+e)\n"
   ]
  },
  {
   "cell_type": "code",
   "execution_count": 16,
   "id": "13faa31d",
   "metadata": {},
   "outputs": [
    {
     "name": "stdout",
     "output_type": "stream",
     "text": [
      "[0, 1, 2, 3, 4, 5, 6, 7, 8, 'a', 'c']\n"
     ]
    }
   ],
   "source": [
    "#[0,1,2,3,4,5,6,7,8,9,\"a\",\"b\",\"c\"]에서 9와 'a'를 삭제 후 리스트로 출력하세요\n",
    "\n",
    "list1 = [0,1,2,3,4,5,6,7,8,9,\"a\",\"b\",\"c\"]\n",
    "one = list1.index(9)\n",
    "two = list1.index(\"a\")\n",
    "del list1[one]\n",
    "del list1[two]\n",
    "\n",
    "print(list1)"
   ]
  },
  {
   "cell_type": "code",
   "execution_count": 17,
   "id": "971177ac",
   "metadata": {},
   "outputs": [
    {
     "name": "stdout",
     "output_type": "stream",
     "text": [
      "[0, 1, 2, 3, 4, 5, 6, 7, 8, 'b', 'c']\n"
     ]
    }
   ],
   "source": [
    "#remove 사용\n",
    "list1 = [0,1,2,3,4,5,6,7,8,9,'a','b','c'] \n",
    "list1.remove (9)\n",
    "list1.remove ('a')\n",
    "print(list1)"
   ]
  },
  {
   "cell_type": "code",
   "execution_count": 18,
   "id": "5bef1fe7",
   "metadata": {},
   "outputs": [
    {
     "name": "stdout",
     "output_type": "stream",
     "text": [
      "[0, 1, 2, 3, 4, 5, 6, 7, 8, 'b']\n"
     ]
    }
   ],
   "source": [
    "#[0,1,2,3,4,5,6,7,8,\"b\",\"c\"]에서 'c'를 삭제 후 출력하세요\n",
    "\n",
    "list1 = [0,1,2,3,4,5,6,7,8,\"b\",\"c\"]\n",
    "target = list1.index(\"c\")\n",
    "del list1[target]\n",
    "\n",
    "print(list1)"
   ]
  },
  {
   "cell_type": "code",
   "execution_count": 19,
   "id": "e972d6ef",
   "metadata": {},
   "outputs": [
    {
     "name": "stdout",
     "output_type": "stream",
     "text": [
      "[9, 9, 8, 8, 5, 4, 4, 4, 3, 1]\n"
     ]
    }
   ],
   "source": [
    "#[4,8,5,4,8,4,3,9,1,9]를 내림차순으로 정렬하세요\n",
    "\n",
    "list1 = [4,8,5,4,8,4,3,9,1,9]\n",
    "list1.sort()\n",
    "list1.reverse()\n",
    "\n",
    "print(list1)"
   ]
  },
  {
   "cell_type": "code",
   "execution_count": 20,
   "id": "0efd42f3",
   "metadata": {},
   "outputs": [
    {
     "name": "stdout",
     "output_type": "stream",
     "text": [
      "2023년 03월 10일 11시 53분 25초\n"
     ]
    }
   ],
   "source": [
    "#format 함수를 이용해서 다음과 같은 형식으로 현재 날짜/시간을 출력하세요 ex)2021년 12월 29일 15시 47분 30초\n",
    "\n",
    "import datetime as dt\n",
    "x = dt.datetime.now()\n",
    "print(x.strftime(\"%Y년 %m월 %d일 %H시 %M분 %S초\"))\n"
   ]
  },
  {
   "cell_type": "code",
   "execution_count": 21,
   "id": "5c5f54ba",
   "metadata": {},
   "outputs": [
    {
     "name": "stdout",
     "output_type": "stream",
     "text": [
      "현재는 오전 11시입니다.\n"
     ]
    }
   ],
   "source": [
    "#현재 시각을 오전과 오후로 구분하는 프로그램을 작성하세요\n",
    "\n",
    "import datetime as dt\n",
    "x = dt.datetime.now()\n",
    "\n",
    "if x.hour>12:\n",
    "    time = x.hour - 12\n",
    "    print(f\"현재는 오후 {time}시입니다.\")\n",
    "else:\n",
    "    print(f\"현재는 오전 {x.hour}시입니다.\")"
   ]
  },
  {
   "cell_type": "markdown",
   "id": "7c130e8f",
   "metadata": {},
   "source": [
    "[과제] 계절 구분 프로그램\n",
    " - 각 계절별 출력 멘트는 계절에 맞게 창작\n",
    " - if 조건문으로 datetime 모듈을 import해서 datetime.now 함수를 사용해서 작성"
   ]
  },
  {
   "cell_type": "code",
   "execution_count": 22,
   "id": "224cd9b7",
   "metadata": {},
   "outputs": [
    {
     "name": "stdout",
     "output_type": "stream",
     "text": [
      "봄입니다.\n"
     ]
    }
   ],
   "source": [
    "import datetime as dt\n",
    "x = dt.datetime.now()\n",
    "\n",
    "if x.month < 4:\n",
    "    print(\"봄입니다.\")\n",
    "elif x.month < 7:\n",
    "    print(\"여름입니다.\")\n",
    "elif x.month < 10:\n",
    "    print(\"가을입니다.\")\n",
    "else:\n",
    "    print(\"겨울입니다.\")"
   ]
  },
  {
   "cell_type": "markdown",
   "id": "ceb2ab39",
   "metadata": {},
   "source": [
    "[과제] 커피 자판기 프로그램\n",
    " - 시나리오 ; 자판기 커피 재고 5잔, 커피 1잔 가격 300원, 재고 범위내에서 300원 이상 돈을 넣으면 거스름돈과 커피를 주고 그렇지 않으면 반환하여 재고가 소진되면 안내멘트 출력\n",
    "  - 각 Case별 멘트 출력은 상황에 맞게 창작"
   ]
  },
  {
   "cell_type": "code",
   "execution_count": 23,
   "id": "30fbfd88",
   "metadata": {},
   "outputs": [
    {
     "name": "stdout",
     "output_type": "stream",
     "text": [
      "커피 1잔에 300원입니다.\n",
      "커피 구입을 위해 동전을 투입하여 주십시오. 현재 재고:5, 현재 투입액:0\n",
      "300\n",
      "커피 몇 잔이 필요하십니까? 최대:1잔\n",
      "1\n",
      "커피 1잔 드리겠습니다.\n",
      "거스름돈 0원을 드리겠습니다.\n",
      "커피 구입을 위해 동전을 투입하여 주십시오. 현재 재고:4, 현재 투입액:0\n",
      "1200\n",
      "커피 몇 잔이 필요하십니까? 최대:4잔\n",
      "4\n",
      "커피 4잔 드리겠습니다.\n",
      "거스름돈 0원을 드리겠습니다.\n",
      "==========재고 소진==========\n"
     ]
    }
   ],
   "source": [
    "stock = 5 #재고 수\n",
    "insCoin = 0 #코인 투입량\n",
    "num = 0 #커피 잔수 변수 선언\n",
    "print(\"커피 1잔에 300원입니다.\")\n",
    "while stock !=0:\n",
    "    while insCoin < 300:\n",
    "        print(f\"커피 구입을 위해 동전을 투입하여 주십시오. 현재 재고:{stock:0.0f}, 현재 투입액:{insCoin:0.0f}\")\n",
    "        insCoin = insCoin + float(input())\n",
    "        if 0< insCoin%1 < 1:\n",
    "            print(\"잘못된 입력입니다.\")\n",
    "            insCoin = 0 #소수점 입력시 예외처리\n",
    "        if insCoin < 0:\n",
    "            print(\"잘못된 입력입니다.\")\n",
    "            insCoin = 0 #음수 입력시 예외처리\n",
    "    if insCoin//300 > stock:\n",
    "        maxi = stock\n",
    "    else:\n",
    "        maxi = insCoin//300\n",
    "    print(f\"커피 몇 잔이 필요하십니까? 최대:{maxi:0.0f}잔\")\n",
    "    num = float(input())\n",
    "    if 0 < num%1 < 1:\n",
    "        print(\"잘못된 입력입니다.\")\n",
    "        num = 0\n",
    "        continue #소수점 입력시 예외처리\n",
    "    if num < 0:\n",
    "        print(\"잘못된 입력입니다.\")\n",
    "        num = 0\n",
    "        continue #음수 입력시 예외처리\n",
    "    if num*300 > insCoin:\n",
    "        print(\"투입 금액이 부족합니다.\")\n",
    "        num = 0\n",
    "        continue\n",
    "    if num > stock:\n",
    "        print(\"재고가 부족합니다.\")\n",
    "        num = 0\n",
    "        continue\n",
    "    print(f\"커피 {num:0.0f}잔 드리겠습니다.\")\n",
    "    insCoin = insCoin - num*300\n",
    "    print(f\"거스름돈 {insCoin:0.0f}원을 드리겠습니다.\")\n",
    "    insCoin = 0\n",
    "    stock = stock - num\n",
    "    num = 0\n",
    "print(\"==========재고 소진==========\")\n",
    "    "
   ]
  },
  {
   "cell_type": "code",
   "execution_count": 24,
   "id": "66aa1157",
   "metadata": {},
   "outputs": [
    {
     "name": "stdout",
     "output_type": "stream",
     "text": [
      "몇 개의 숫자를 뽑을까요?\n",
      "6\n",
      "1 19 36 11 12 9 "
     ]
    }
   ],
   "source": [
    "#사용자가 입력한 게임 회수만큼 로또 번호를 출력하는 프로그램을 작성하세요\n",
    "import random\n",
    "source = []\n",
    "j = 0\n",
    "for i in range(46):\n",
    "    source.append(i)\n",
    "    \n",
    "del source[0]\n",
    "\n",
    "\n",
    "    \n",
    "print(\"몇 개의 숫자를 뽑을까요?\")\n",
    "maxi = int(input())\n",
    "while j < maxi:\n",
    "    num = random.choice(source)\n",
    "    print(num, end=\" \")\n",
    "    target = source.index(num)\n",
    "    del source[target]\n",
    "    j += 1\n"
   ]
  },
  {
   "cell_type": "code",
   "execution_count": 25,
   "id": "e5d54fdf",
   "metadata": {},
   "outputs": [
    {
     "name": "stdout",
     "output_type": "stream",
     "text": [
      "발표자는 남동연님 입니다.\n"
     ]
    }
   ],
   "source": [
    "#우리반의 발표자를 무작위로 선정하는 프로그램을 작성하세요\n",
    "from random import randrange\n",
    "hmkd1 = [\"김나영\", \"김동완\",\"김예슬\",\"김용훈\",\"김태현\",\"남동연\",\"박서진\",\"박주경\",\"성호\",\"손아\",\"옥유리\",\"옥주리\",\"윤예은\",\n",
    "        \"윤정현\",\"이승주\",\"임수현\",\"장인혁\",\"정슬기\",\"한나영\",\"조차선\",\"박주경\"]\n",
    "long = len(hmkd1)\n",
    "num = randrange(long)\n",
    "print(f\"발표자는 {hmkd1[num]}님 입니다.\")"
   ]
  },
  {
   "cell_type": "code",
   "execution_count": 26,
   "id": "2069c3da",
   "metadata": {},
   "outputs": [
    {
     "data": {
      "text/plain": [
       "'Mon Dec 28 22:02:17 2020'"
      ]
     },
     "execution_count": 26,
     "metadata": {},
     "output_type": "execute_result"
    }
   ],
   "source": [
    "# 1609160537.371015를 \"Sat Jun 26 08:35:03 2021\" 포멧으로 출력하세요\n",
    "\n",
    "import time\n",
    "t = time.localtime(1609160537.371015)\n",
    "time.asctime(t)"
   ]
  },
  {
   "cell_type": "code",
   "execution_count": 27,
   "id": "b2272ae0",
   "metadata": {},
   "outputs": [
    {
     "name": "stdout",
     "output_type": "stream",
     "text": [
      "2023-03-10 11:53:30\n"
     ]
    }
   ],
   "source": [
    "#현재 시간을 년-월-일 시:분:초로 출력하세요\n",
    "\n",
    "import time\n",
    "from datetime import datetime\n",
    "t = time.time()\n",
    "d = datetime.fromtimestamp(t)\n",
    "s = d.strftime('%Y-%m-%d %X')\n",
    "print(s)"
   ]
  },
  {
   "cell_type": "code",
   "execution_count": 28,
   "id": "1af196d0",
   "metadata": {},
   "outputs": [
    {
     "name": "stdout",
     "output_type": "stream",
     "text": [
      "오늘은 2023-01-01 이후 69일이 지났습니다.\n"
     ]
    }
   ],
   "source": [
    "#올해 경과된 날짜수를 계산하세요\n",
    "\n",
    "import time\n",
    "t = time.localtime()\n",
    "start_day = \"%d-01-01\"%t.tm_year\n",
    "elabsed_day = t.tm_yday\n",
    "print(f\"오늘은 {start_day} 이후 {elabsed_day}일이 지났습니다.\")"
   ]
  },
  {
   "cell_type": "code",
   "execution_count": 29,
   "id": "346a7fb2",
   "metadata": {},
   "outputs": [
    {
     "name": "stdout",
     "output_type": "stream",
     "text": [
      "2023-3-10 오늘은 금요일입니다.\n"
     ]
    }
   ],
   "source": [
    "#현재 요일을 \"2021-6-26 오늘은 토요일입니다.\"와 같은 형식으로 출력하세요\n",
    "\n",
    "import time\n",
    "t = time.localtime()\n",
    "source = [\"월\",\"화\",\"수\",\"목\",\"금\",\"토\",\"일\"]\n",
    "a = t.tm_wday\n",
    "yo = source[a]\n",
    "print(f\"{t.tm_year}-{t.tm_mon}-{t.tm_mday} 오늘은 {yo}요일입니다.\")"
   ]
  },
  {
   "cell_type": "code",
   "execution_count": 30,
   "id": "38f416fc",
   "metadata": {},
   "outputs": [
    {
     "name": "stdout",
     "output_type": "stream",
     "text": [
      "합계:500000500000\n",
      "runtime: 171.8626 ms\n"
     ]
    }
   ],
   "source": [
    "#1에서 백만까지 더하는 데 걸리는 프로그램 실행 시간을 밀리초(ms)단위로 구하시오\n",
    "\n",
    "import time\n",
    "start = time.time()\n",
    "i=0\n",
    "sum=0\n",
    "while i < 1000000:\n",
    "    i +=1\n",
    "    sum += i\n",
    "print(f\"합계:{sum}\")\n",
    "runtime = (time.time() - start)*1000\n",
    "print(f\"runtime:{runtime : .4f} ms\")"
   ]
  },
  {
   "cell_type": "code",
   "execution_count": 31,
   "id": "7d8e9f3e",
   "metadata": {},
   "outputs": [
    {
     "name": "stdout",
     "output_type": "stream",
     "text": [
      "값을 입력해 주세요\n",
      "1\n",
      "2\n",
      "3\n",
      "4\n",
      "5\n"
     ]
    },
    {
     "data": {
      "text/plain": [
       "(15, 120)"
      ]
     },
     "execution_count": 31,
     "metadata": {},
     "output_type": "execute_result"
    }
   ],
   "source": [
    "#add_mul() 함수를 정의하여 1,2,3,4,5를 입력 값으로 적용하여 덧셈,곱셈 연산을 수행하세요\n",
    "\n",
    "def add_and_mul(a,b,c,d,e):\n",
    "    return a+b+c+d+e, a*b*c*d*e\n",
    "\n",
    "print(\"값을 입력해 주세요\")\n",
    "a = int(input())\n",
    "b = int(input())\n",
    "c = int(input())\n",
    "d = int(input())\n",
    "e = int(input())\n",
    "add_and_mul(a,b,c,d,e)"
   ]
  },
  {
   "cell_type": "code",
   "execution_count": 32,
   "id": "3056ad68",
   "metadata": {},
   "outputs": [
    {
     "name": "stdout",
     "output_type": "stream",
     "text": [
      "몇 쌍을 뽑을까요?\n",
      "5\n",
      "c ㅁ\n",
      "e ㄷ\n",
      "a ㄱ\n",
      "d ㄹ\n",
      "b ㄴ\n"
     ]
    }
   ],
   "source": [
    "#남녀 파트너 정해주기 프로그램을 작성하세요(5개 커플)\n",
    "\n",
    "import random\n",
    "\n",
    "male = [\"a\",\"b\",\"c\",\"d\",\"e\"]\n",
    "female = [\"ㄱ\",\"ㄴ\",\"ㄷ\",\"ㄹ\",\"ㅁ\"] #각 리스트 선언\n",
    "\n",
    "print(\"몇 쌍을 뽑을까요?\")\n",
    "num = int(input()) #뽑을 수(num) 입력\n",
    "\n",
    "mnum = random.sample(range(0,len(male)),num) \n",
    "fnum = random.sample(range(0,len(female)),num) #각 리스트에 적용될 랜덤 수를 중복 없이 num만큼 생성\n",
    "\n",
    "i=0\n",
    "while i < num: #생성된 랜덤 수를 인덱스값으로 각 리스트에서 이름을 뽑아 파트너를 결정\n",
    "    print(male[mnum[i]],female[fnum[i]])\n",
    "    i += 1"
   ]
  },
  {
   "cell_type": "code",
   "execution_count": 33,
   "id": "0d125515",
   "metadata": {},
   "outputs": [
    {
     "name": "stdout",
     "output_type": "stream",
     "text": [
      "문자열을 입력하세요.\n",
      "asdfa\n",
      "btegb\n"
     ]
    }
   ],
   "source": [
    "#입력받은 문자열의 각 문자를 그 다음 문자로 변경하여 출력하세요. ex) abcde -> bcdef\n",
    "\n",
    "print(\"문자열을 입력하세요.\")\n",
    "\n",
    "user = input()\n",
    "\n",
    "userList = list(user) #문자열을 리스트로 전환 ex)['a','b','c','d','e']\n",
    "\n",
    "i = 0\n",
    "while i <len(userList): #전환된 리스트를 아스키 코드로 전환 ex)[97,98,99,100,101]\n",
    "    userList[i] = ord(str(userList[i]))\n",
    "    i += 1\n",
    "\n",
    "userCode = []\n",
    "for j in userList: #아스키 코드값에 +1을 함 ex)[98,99,100,101,102]\n",
    "    userCode.append(j+1)\n",
    "\n",
    "i = 0\n",
    "while i <len(userCode): #아스키 코드로 이루어진 리스트를 다시 문자열로 전환 ex)['b','c','d','e','f']\n",
    "    userCode[i] = chr((userCode[i]))\n",
    "    i += 1\n",
    "    \n",
    "i = 1\n",
    "result = userCode[0] #문자열로 이루어진 리스트의 요소들을 합연산 ex)'b'+'c'+'d'+'e'+'f' = bcdef\n",
    "while i < len(userCode):\n",
    "    result = result + userCode[i]\n",
    "    i += 1 # result = '',join(userCode)로 하면 더 간단\n",
    "    \n",
    "print(result)"
   ]
  },
  {
   "cell_type": "code",
   "execution_count": 1,
   "id": "74ed6e16",
   "metadata": {},
   "outputs": [
    {
     "name": "stdout",
     "output_type": "stream",
     "text": [
      "메뉴를 선택하세요. '주문완료'를 입력하면 종료됩니다.\n",
      "['와퍼', '치즈와퍼', '불고기와퍼', '스태커2와퍼', '스태커3와퍼', '갈릭불고기와퍼']\n",
      "와퍼\n",
      "6900원 입니다.\n",
      "치즈와퍼\n",
      "7500원 입니다.\n",
      "콜라\n",
      "선택한 메뉴가 존재하지 않습니다.\n",
      "불고기와퍼\n",
      "6900원 입니다.\n",
      "주문완료\n",
      "주문이 완료되었습니다. 총합 21300원입니다.\n"
     ]
    }
   ],
   "source": [
    "#음식점의 음식 주문가격 산출 프로그램을 자유롭게 작성하세요\n",
    "\n",
    "c1 = {\"와퍼\":3900,\"치즈와퍼\":7500,\"불고기와퍼\":6900,\"스태커2와퍼\":9500,\"스태커3와퍼\":11500,\"갈릭불고기와퍼\":7300} #딕셔너리 선언\n",
    "c1[\"와퍼\"]=6900 #딕셔너리 값은 수정 가능\n",
    "a=list(c1.keys()) #사용자가 볼 수 있게 키값 선언\n",
    "print(\"메뉴를 선택하세요. '주문완료'를 입력하면 종료됩니다.\")\n",
    "print(\"%s\" %a) #키값 출력\n",
    "menu = input()\n",
    "\n",
    "sum = 0\n",
    "while menu !=\"주문완료\":\n",
    "    if menu in c1:\n",
    "        print(c1.get(menu), end=\"\");print(\"원 입니다.\") #사용자가 입력한 키값에 해당하는 가격을 출력\n",
    "        sum += c1.get(menu) #가격 합계\n",
    "        menu = input()\n",
    "    else:\n",
    "        print(\"선택한 메뉴가 존재하지 않습니다.\") #키값에 해당하지 않을 경우 예외처리\n",
    "        menu = input()\n",
    "print(f\"주문이 완료되었습니다. 총합 {sum}원입니다.\")"
   ]
  },
  {
   "cell_type": "code",
   "execution_count": 35,
   "id": "82274fbc",
   "metadata": {},
   "outputs": [
    {
     "name": "stdout",
     "output_type": "stream",
     "text": [
      "가위바위보 5판 3선승을 시작할까요? '예'를 입력하시면 시작합니다.\n",
      "예\n",
      "가위...바위... 보\n",
      "컴퓨터: 보!\n",
      "비겼습니다!\n",
      "가위...바위... 보\n",
      "컴퓨터: 가위!\n",
      "제가 이겼네요.\n",
      "가위...바위... 보\n",
      "컴퓨터: 가위!\n",
      "제가 이겼네요.\n",
      "가위...바위... 보\n",
      "컴퓨터: 보!\n",
      "비겼습니다!\n",
      "가위...바위... 보\n",
      "컴퓨터: 보!\n",
      "비겼습니다!\n",
      "가위...바위... 보\n",
      "컴퓨터: 바위!\n",
      "플레이어님이 이기셨습니다!\n",
      "가위...바위... 보\n",
      "컴퓨터: 가위!\n",
      "제가 이겼네요.\n",
      "이번엔 제가 이겼네요!\n",
      "다시 한 번 도전하시겠어요?\n"
     ]
    }
   ],
   "source": [
    "#Player가 3승할때까지 계속 진행되는 가위바위보 게임 프로그램을 작성하세요.\n",
    "\n",
    "from random import randrange\n",
    "#0 가위 1 바위 2 보\n",
    "\n",
    "victory = 0\n",
    "lose = 0\n",
    "source = {0 :\"가위\",1:\"바위\",2:\"보\"} #가위 바위 보에 해당하는 키값을 설정\n",
    "print(\"가위바위보 5판 3선승을 시작할까요? '예'를 입력하시면 시작합니다.\")\n",
    "gameStart = (input())\n",
    "if gameStart == \"예\": #예일 경우 게임 시작\n",
    "    while victory != 3 and lose != 3: #승수 혹은 패배 수가 3이 될때까지\n",
    "        print(\"가위...바위...\", end =\" \")\n",
    "        com = randrange(3) #컴퓨터가 낼 것을 랜덤 생성(숫자)\n",
    "        comt = source.get(com) #랜덤 생성된 숫자를 한글로 변환하기 위한 변수 선언\n",
    "        gamer = input()\n",
    "        if gamer != \"가위\" and gamer !=\"바위\" and gamer !=\"보\": #가위 바위 보 외의 것을 입력했을 때의 예외처리\n",
    "            print(\"잘못된 입력입니다.\")\n",
    "            continue\n",
    "        if gamer == comt: #비겼을 때\n",
    "            print(f\"컴퓨터: {comt}!\")\n",
    "            print(\"비겼습니다!\")\n",
    "        elif gamer == \"가위\" and com == 1:\n",
    "            print(f\"컴퓨터: {comt}!\")\n",
    "            print(\"제가 이겼네요.\")\n",
    "            lose += 1\n",
    "        elif gamer == \"가위\" and com == 2:\n",
    "            print(f\"컴퓨터: {comt}!\")\n",
    "            print(\"플레이어님이 이기셨습니다!\")\n",
    "            victory += 1\n",
    "        elif gamer == \"바위\" and com == 0:\n",
    "            print(f\"컴퓨터: {comt}!\")\n",
    "            print(\"플레이어님이 이기셨습니다!\")\n",
    "            victory += 1\n",
    "        elif gamer == \"바위\" and com == 2:\n",
    "            print(f\"컴퓨터: {comt}!\")\n",
    "            print(\"제가 이겼네요.\")\n",
    "            lose += 1\n",
    "        elif gamer == \"보\" and com == 0:\n",
    "            print(f\"컴퓨터: {comt}!\")\n",
    "            print(\"제가 이겼네요.\")\n",
    "            lose += 1\n",
    "        elif gamer == \"보\" and com == 1:\n",
    "            print(f\"컴퓨터: {comt}!\")\n",
    "            print(\"플레이어님이 이기셨습니다!\") #가위바위보 결과에 따른 승수 패배 수 누적\n",
    "            victory += 1\n",
    "    if victory == 3:\n",
    "        print(\"플레이어님이 승리하셨습니다! 축하드려요!\")\n",
    "        \n",
    "    else:\n",
    "        print(\"이번엔 제가 이겼네요!\\n다시 한 번 도전하시겠어요?\") #승패 결과에 따라 결과 출력"
   ]
  },
  {
   "cell_type": "code",
   "execution_count": 36,
   "id": "0ad73dd4",
   "metadata": {},
   "outputs": [
    {
     "name": "stdout",
     "output_type": "stream",
     "text": [
      "숫자 맞추기 게임 한 번 하시겠어요?\n",
      "1부터 99까지, 생각하신 숫자를 말씀해주세요.\n",
      "50\n",
      "더 높은 숫자에요!\n",
      "75\n",
      "더 낮은 숫자에요!\n",
      "65\n",
      "더 낮은 숫자에요!\n",
      "60\n",
      "더 낮은 숫자에요!\n",
      "58\n",
      "더 낮은 숫자에요!\n",
      "55\n",
      "플레이어님은 5번 만에 정답을 맞추셨어요! 대단해요!\n"
     ]
    }
   ],
   "source": [
    "#컴퓨터가 랜덤하게 생성하는 숫자 맞추기 게임 프로그램을 작성하세요\n",
    "\n",
    "from random import randrange\n",
    "\n",
    "com = randrange(100) #숫자 랜덤생성\n",
    "print(\"숫자 맞추기 게임 한 번 하시겠어요?\\n1부터 99까지, 생각하신 숫자를 말씀해주세요.\")\n",
    "user = int(input())\n",
    "\n",
    "\n",
    "gamePlay = 0 #게임 횟수를 위한 변수 생성\n",
    "while user != com: #입력한 수가 같아질 때 까지 반복\n",
    "    if user > com:\n",
    "        print(\"더 낮은 숫자에요!\")\n",
    "        gamePlay += 1\n",
    "        user = int(input())\n",
    "    elif user < com: #입력한 수가 같아질 수 있게 힌트 제공\n",
    "        print(\"더 높은 숫자에요!\")\n",
    "        gamePlay += 1\n",
    "        user = int(input())\n",
    "\n",
    "print(f\"플레이어님은 {gamePlay}번 만에 정답을 맞추셨어요! 대단해요!\") #게임 횟수와 결과 출력\n"
   ]
  },
  {
   "cell_type": "code",
   "execution_count": 37,
   "id": "283b86e6",
   "metadata": {},
   "outputs": [
    {
     "name": "stdout",
     "output_type": "stream",
     "text": [
      "[0, 1, 3, 4, 5, 6, 7, 8, 9]\n",
      "[0, 1, 3, 4, 5, 6, 7, 8, 9]\n",
      "[0, 1, 3, 4, 5, 6, 7, 8, 9]\n"
     ]
    }
   ],
   "source": [
    "#내장함수를 이용해서 list = [0,1,2,3,4,5,6,7,8,9]에서 2를 삭제 후 출력하세요 (3가지 방법)\n",
    "\n",
    "list1 = [0,1,2,3,4,5,6,7,8,9]\n",
    "\n",
    "del list1[2]\n",
    "\n",
    "print(list1)\n",
    "\n",
    "list1 = [0,1,2,3,4,5,6,7,8,9]\n",
    "\n",
    "list1.remove(2)\n",
    "\n",
    "print(list1)\n",
    "\n",
    "list1 = [0,1,2,3,4,5,6,7,8,9]\n",
    "\n",
    "list1.pop(2)\n",
    "\n",
    "print(list1)\n"
   ]
  },
  {
   "cell_type": "code",
   "execution_count": 38,
   "id": "611887d6",
   "metadata": {},
   "outputs": [
    {
     "name": "stdout",
     "output_type": "stream",
     "text": [
      "[]\n"
     ]
    }
   ],
   "source": [
    "#내장함수를 이용해서 list = [0,1,2,3,4,5,6,7,8,9] 에서 모든 원소를 삭제 후 출력하세요\n",
    "\n",
    "list1 = [0,1,2,3,4,5,6,7,8,9]\n",
    "\n",
    "i = 0\n",
    "long = len(list1)\n",
    "while i <long:\n",
    "    del list1[0]\n",
    "    i += 1\n",
    "    \n",
    "print(list1)"
   ]
  },
  {
   "cell_type": "code",
   "execution_count": 39,
   "id": "7287cc4c",
   "metadata": {},
   "outputs": [
    {
     "name": "stdout",
     "output_type": "stream",
     "text": [
      "[]\n"
     ]
    }
   ],
   "source": [
    "#정답예시\n",
    "\n",
    "list1 = [0,1,2,3,4,5,6]\n",
    "del list1[:]\n",
    "print(list1)"
   ]
  },
  {
   "cell_type": "code",
   "execution_count": 40,
   "id": "8c2b7fb5",
   "metadata": {},
   "outputs": [
    {
     "name": "stdout",
     "output_type": "stream",
     "text": [
      "[1, 4, 9, 16, 25]\n",
      "[1, 2]\n"
     ]
    }
   ],
   "source": [
    "# 람다합수와 적합한 내장함수를 사용해서 다음과 같이 출력하세요 ex) [1,2,3,4,5] -> [1,4,9,16,25], [1,2,3,4,5] -> [1,2]\n",
    "\n",
    "list0 = [1,2,3,4,5]\n",
    "\n",
    "list1 = []\n",
    "\n",
    "funtion = lambda x: x**2\n",
    "\n",
    "for i in list0:\n",
    "    list1.append(funtion((i)))\n",
    "    \n",
    "    \n",
    "list2 = list0\n",
    "\n",
    "del(list2[2:])\n",
    "\n",
    "print(list1)\n",
    "print(list2)"
   ]
  },
  {
   "cell_type": "code",
   "execution_count": 41,
   "id": "9bd9c0f3",
   "metadata": {},
   "outputs": [
    {
     "name": "stdout",
     "output_type": "stream",
     "text": [
      "[1, 4, 9, 16, 25] [1, 2]\n"
     ]
    }
   ],
   "source": [
    "#정답예시\n",
    "\n",
    "list1=[1,2,3,4,5]\n",
    "list_n=[]\n",
    "x=lambda a:a**2  \n",
    "\n",
    "for i in list1:          # [1,2,3,4,5] -> [1,4,9,16,25]\n",
    "    list_n.append(x(i))\n",
    "    \n",
    "del(list1[2:])           # [1,2,3,4,5] -> [1,2]\n",
    "\n",
    "print(list_n,list1)         #함수호출"
   ]
  },
  {
   "cell_type": "code",
   "execution_count": 42,
   "id": "97cbe1d1",
   "metadata": {},
   "outputs": [
    {
     "name": "stdout",
     "output_type": "stream",
     "text": [
      "1\n",
      "2\n",
      "6\n",
      "[1, 2, 6]\n"
     ]
    }
   ],
   "source": [
    "#[1,-3,2,0,-5,6]에서 양수만 필터링해서 출력하세요(내장함수, 사용자함수 각각 이용)\n",
    "\n",
    "list1 = [1,-3,2,0,-5,6]\n",
    "\n",
    "\n",
    "for i in list1:\n",
    "    if i > 0:\n",
    "        print(i)\n",
    "        \n",
    "        \n",
    "print(list(filter(lambda x: x > 0, list1)))\n",
    "        "
   ]
  },
  {
   "cell_type": "code",
   "execution_count": 43,
   "id": "5b96304c",
   "metadata": {},
   "outputs": [
    {
     "name": "stdout",
     "output_type": "stream",
     "text": [
      "[(1, 4), (2, 5), (3, 6)]\n",
      "[(1, 4, 7), (2, 5, 8), (3, 6, 9)]\n",
      "[('a', 'd'), ('b', 'e'), ('c', 'f')]\n"
     ]
    }
   ],
   "source": [
    "#내장함수를 이용하여 동일한 개수로 이루어진 자료형을 화살표 좌측에서 우측으로 변환하세요\n",
    "#[1,2,3],[4,5,6] -> [(1,4),(2,5),(3,6)]\n",
    "#[1,2,3],[4,5,6],[7,8,9] -> [{1,4,7},{2,5,8},{3,6,9}]\n",
    "#(\"abc\",\"def\") -> [(\"a\",\"d\"),(\"b\",\"e\"),(\"c\",\"f\")]\n",
    "\n",
    "list1 = [1,2,3]+[4,5,6]\n",
    "form1 = [[],[],[]]\n",
    "\n",
    "i = 0\n",
    "while i < len(list1):\n",
    "    a = list1[i] % 3\n",
    "    if a == 1:\n",
    "        form1[0].append(list1[i])\n",
    "        i += 1\n",
    "    elif a == 2:\n",
    "        form1[1].append(list1[i])\n",
    "        i += 1\n",
    "    else:\n",
    "        form1[2].append(list1[i])\n",
    "        i += 1\n",
    "        \n",
    "form1[0] = tuple(form1[0])\n",
    "form1[1] = tuple(form1[1])\n",
    "form1[2] = tuple(form1[2])\n",
    "\n",
    "print(form1)\n",
    "\n",
    "\n",
    "list2 = [1,2,3]+[4,5,6]+[7,8,9]\n",
    "form2 = [[],[],[]]\n",
    "\n",
    "i = 0\n",
    "while i < len(list2):\n",
    "    a = list2[i] % 3\n",
    "    if a == 1:\n",
    "        form2[0].append(list2[i])\n",
    "        i += 1\n",
    "    elif a == 2:\n",
    "        form2[1].append(list2[i])\n",
    "        i += 1\n",
    "    else:\n",
    "        form2[2].append(list2[i])\n",
    "        i += 1\n",
    "        \n",
    "form2[0] = tuple(form2[0])\n",
    "form2[1] = tuple(form2[1])\n",
    "form2[2] = tuple(form2[2])\n",
    "\n",
    "print(form2)\n",
    "\n",
    "tuple3 = (\"abc\")+(\"def\")\n",
    "list3 = list(tuple3)\n",
    "form3 = [[],[],[]]\n",
    "\n",
    "i = 0\n",
    "while i < len(list3):\n",
    "    a = i % 3\n",
    "    if a == 0:\n",
    "        form3[0].append(list3[i])\n",
    "        i += 1\n",
    "    elif a == 1:\n",
    "        form3[1].append(list3[i])\n",
    "        i += 1\n",
    "    else:\n",
    "        form3[2].append(list3[i])\n",
    "        i += 1\n",
    "        \n",
    "form3[0] = tuple(form3[0])\n",
    "form3[1] = tuple(form3[1])\n",
    "form3[2] = tuple(form3[2])\n",
    "    \n",
    "print(form3)"
   ]
  },
  {
   "cell_type": "code",
   "execution_count": 44,
   "id": "84bdea5e",
   "metadata": {},
   "outputs": [
    {
     "name": "stdout",
     "output_type": "stream",
     "text": [
      "[(1, 4), (2, 5), (3, 6)]\n",
      "[(1, 4, 7), (2, 5, 8), (3, 6, 9)]\n"
     ]
    }
   ],
   "source": [
    "#정답예시\n",
    "\n",
    "a = [1,2,3]\n",
    "b = [4,5,6]\n",
    "c = [7,8,9]\n",
    "\n",
    "ab = list(zip([1,2,3],[4,5,6]))\n",
    "print(ab)\n",
    "\n",
    "abc = list(zip([1,2,3],[4,5,6],[7,8,9]))\n",
    "print(abc)"
   ]
  },
  {
   "cell_type": "code",
   "execution_count": 1,
   "id": "9c7e080c",
   "metadata": {},
   "outputs": [
    {
     "name": "stdout",
     "output_type": "stream",
     "text": [
      "수를 입력해 주세요. done을 입력하면 평균값을 계산합니다.\n",
      "1\n",
      "2\n",
      "3\n",
      "done\n",
      "2.0\n"
     ]
    }
   ],
   "source": [
    "#입력으로 들어오는 모든 수의 평균값을 계산해 주는 함수를 작정한 후 1,2,3을 입력한 결과를 출력하세요\n",
    "\n",
    "\n",
    "print(\"수를 입력해 주세요. done을 입력하면 평균값을 계산합니다.\")\n",
    "user = input()\n",
    "num = 0\n",
    "sum = 0\n",
    "while user != \"done\":\n",
    "    sum = sum +int(user)\n",
    "    num += 1\n",
    "    user = input()\n",
    "    \n",
    "print(sum/num)"
   ]
  },
  {
   "cell_type": "code",
   "execution_count": 46,
   "id": "15792683",
   "metadata": {},
   "outputs": [
    {
     "name": "stdout",
     "output_type": "stream",
     "text": [
      "[1, 2, 3, 1, 2]\n",
      "['bar', 'ca', 'ababa', 'a', 'aaaa']\n"
     ]
    }
   ],
   "source": [
    "#strings를 다양한 문자가 포함된 순서로 정렬하세요.\n",
    "strings = [\"a\",\"ca\",\"bar\",\"aaaa\",\"ababa\"]\n",
    "list1 = []\n",
    "i = 0\n",
    "\n",
    "while i < len(strings):\n",
    "    a = strings[i]\n",
    "    aset = set(a)\n",
    "    along = len(aset)\n",
    "    list1.append(along)\n",
    "    i += 1\n",
    "    \n",
    "print(list1)\n",
    "    \n",
    "long = len(list1)\n",
    "list2 = []\n",
    "while len(list2) != long:\n",
    "    m = max(list1)\n",
    "    n = list1.index(m)\n",
    "    list2.append(strings[n])\n",
    "    list1[n] = 0\n",
    "    \n",
    "print(list2)\n",
    "            "
   ]
  },
  {
   "cell_type": "markdown",
   "id": "17ce74b2",
   "metadata": {},
   "source": [
    "#### sort, sorted 모두 key, reverse 매개변수를 갖고 있다.\n",
    "- reverse : 기본값은 reverse=False(오름차순), reverse=True를 매개변수로 입력하면 내림차순으로 정렬\n",
    "- key : 정렬을 목적으로 하는 함수를 값으로 넣는다. lambda를 이용할 수 있고 key 값을 기준으로 정렬되고 기본값은 오름차순"
   ]
  },
  {
   "cell_type": "code",
   "execution_count": 47,
   "id": "95afd4d6",
   "metadata": {},
   "outputs": [
    {
     "data": {
      "text/plain": [
       "['bar', 'ababa', 'ca', 'aaaa', 'a']"
      ]
     },
     "execution_count": 47,
     "metadata": {},
     "output_type": "execute_result"
    }
   ],
   "source": [
    "#정답예시\n",
    "strings = [\"a\",\"ca\",\"bar\",\"aaaa\",\"ababa\"]\n",
    "strings.sort(key = lambda x:len(set(x)))\n",
    "strings[::-1]"
   ]
  },
  {
   "cell_type": "code",
   "execution_count": 48,
   "id": "53905e61",
   "metadata": {},
   "outputs": [
    {
     "name": "stdout",
     "output_type": "stream",
     "text": [
      "('bar', 'ca', 'ababa', 'a', 'aaaa')\n"
     ]
    }
   ],
   "source": [
    "#튜플 형태인 strings를 다양한 문자가 포함된 순서로 정렬하세요.\n",
    "strings = (\"a\",\"ca\",\"bar\",\"aaaa\",\"ababa\")\n",
    "list1 = []\n",
    "i = 0\n",
    "\n",
    "while i < len(strings):\n",
    "    a = strings[i]\n",
    "    aset = set(a)\n",
    "    along = len(aset)\n",
    "    list1.append(along)\n",
    "    i += 1\n",
    "    \n",
    "long = len(list1)\n",
    "list2 = []\n",
    "while len(list2) != long:\n",
    "    m = max(list1)\n",
    "    n = list1.index(m)\n",
    "    list2.append(strings[n])\n",
    "    list1[n] = 0\n",
    "    \n",
    "print(tuple(list2))"
   ]
  },
  {
   "cell_type": "code",
   "execution_count": 49,
   "id": "20b32fff",
   "metadata": {},
   "outputs": [
    {
     "name": "stdout",
     "output_type": "stream",
     "text": [
      "['bar', 'ababa', 'ca', 'aaaa', 'a']\n"
     ]
    }
   ],
   "source": [
    "#정답예시\n",
    "strings = (\"a\",\"ca\",\"bar\",\"aaaa\",\"ababa\")\n",
    "lstrings = list(strings)\n",
    "lstrings.sort(key = lambda x:len(set(x)))\n",
    "print(lstrings[::-1])"
   ]
  },
  {
   "cell_type": "code",
   "execution_count": 50,
   "id": "d88c7566",
   "metadata": {},
   "outputs": [
    {
     "name": "stdout",
     "output_type": "stream",
     "text": [
      "news.naver.com\n"
     ]
    }
   ],
   "source": [
    "# url에서 호스트 도메인을 추출하여 출력하세요\n",
    "url = 'http://news.naver.com/main/read.nhn?mode=LSD&mid=shm&sid1=105&oid=028&aid=0002334601'\n",
    "\n",
    "x = url.split('/')\n",
    "print(x[2])"
   ]
  },
  {
   "cell_type": "code",
   "execution_count": 2,
   "id": "00497317",
   "metadata": {},
   "outputs": [
    {
     "name": "stdout",
     "output_type": "stream",
     "text": [
      "['mode=LSD', 'mid=shm', 'sid1=105', 'oid=028', 'aid=0002334601']\n"
     ]
    }
   ],
   "source": [
    "# url에서 쿼리문을 추출하여 출력하세요\n",
    "# url에서 '?'뒤에 표시되는 문자열을 쿼리 문자열이라고 하며 변수=값 사이 &로 구분되어 나열된다.\n",
    "url = 'http://news.naver.com/main/read.nhn?mode=LSD&mid=shm&sid1=105&oid=028&aid=0002334601'\n",
    "\n",
    "hal = url.split(\"?\")\n",
    "que = hal[1].split(\"&\")\n",
    "print(que)"
   ]
  },
  {
   "cell_type": "code",
   "execution_count": 7,
   "id": "c0d140a1",
   "metadata": {},
   "outputs": [
    {
     "name": "stdout",
     "output_type": "stream",
     "text": [
      "5050\n",
      "25250\n"
     ]
    }
   ],
   "source": [
    "#동일한 사용자 함수를 사용해서 1~100, 200~300의 합계를 구하시오.\n",
    "\n",
    "def getsum(startnum, endnum):\n",
    "    i = startnum\n",
    "    sum = 0\n",
    "    while i <= endnum:\n",
    "        sum += i\n",
    "        i += 1\n",
    "    return sum\n",
    "        \n",
    "print(getsum(1,100))\n",
    "print(getsum(200,300))"
   ]
  },
  {
   "cell_type": "code",
   "execution_count": null,
   "id": "0ff19068",
   "metadata": {},
   "outputs": [],
   "source": []
  }
 ],
 "metadata": {
  "kernelspec": {
   "display_name": "Python 3 (ipykernel)",
   "language": "python",
   "name": "python3"
  },
  "language_info": {
   "codemirror_mode": {
    "name": "ipython",
    "version": 3
   },
   "file_extension": ".py",
   "mimetype": "text/x-python",
   "name": "python",
   "nbconvert_exporter": "python",
   "pygments_lexer": "ipython3",
   "version": "3.9.13"
  }
 },
 "nbformat": 4,
 "nbformat_minor": 5
}
