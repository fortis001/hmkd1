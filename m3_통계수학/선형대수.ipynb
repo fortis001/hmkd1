{
 "cells": [
  {
   "cell_type": "code",
   "execution_count": 1,
   "id": "62ffbcc2",
   "metadata": {},
   "outputs": [],
   "source": [
    "import numpy as np\n",
    "import pandas as pd\n",
    "import seaborn as sns\n",
    "import matplotlib.pyplot as plt"
   ]
  },
  {
   "cell_type": "markdown",
   "id": "6a7cb1e3",
   "metadata": {},
   "source": [
    "## 데이터와 행렬\n",
    "- 스칼라 : 숫자 하나만으로 이루어진 데이터\n",
    "- 벡터 : 여러 숫자가 특정한 순서대로 모여 있는 것을 의미. 하나의 벡터를 이루는 데이터 수가 n개이면 n-차원 벡터라고 함\n",
    "- 열벡터는 열의 수가 1인 행렬\n",
    "- 하나의 데이터 레코드를 단독으로 벡터로 나타낼 때는 하나의 열로 나타내고 복수의 데이터 레코드 집합을 행렬로 나타낼 때는 하나의 데이터 레코드가 하나의 행으로 표기하는 것은 데이터 분석에서 일반적인 관례\n",
    "- 스칼라와 벡터도 수학적으로는 행렬에 속한다.\n",
    "- 스칼라는 열과 행의 수가 각각 1인 행렬이고 벡터는 열의 수가 1인 행렬이다."
   ]
  },
  {
   "cell_type": "code",
   "execution_count": 2,
   "id": "9a43f125",
   "metadata": {},
   "outputs": [
    {
     "name": "stdout",
     "output_type": "stream",
     "text": [
      "5.1\n",
      "[5.1 3.5 1.4 0.2]\n",
      "[5.1 4.9 4.7 4.6 5. ]\n"
     ]
    }
   ],
   "source": [
    "from sklearn.datasets import load_iris\n",
    "\n",
    "iris = load_iris()\n",
    "\n",
    "x0 = iris.data[0,0]\n",
    "x1 = iris.data[0,:]\n",
    "x2 = iris.data[:,0]\n",
    "print(x0) # 스칼라\n",
    "print(x1) # 행벡터\n",
    "print(x2[:5]) # 열벡터"
   ]
  },
  {
   "cell_type": "code",
   "execution_count": 3,
   "id": "0fd60f96",
   "metadata": {},
   "outputs": [
    {
     "data": {
      "text/plain": [
       "dict_keys(['data', 'target', 'frame', 'target_names', 'DESCR', 'feature_names', 'filename', 'data_module'])"
      ]
     },
     "execution_count": 3,
     "metadata": {},
     "output_type": "execute_result"
    }
   ],
   "source": [
    "iris.keys()"
   ]
  },
  {
   "cell_type": "code",
   "execution_count": 4,
   "id": "39a89d26",
   "metadata": {},
   "outputs": [
    {
     "data": {
      "text/html": [
       "<div>\n",
       "<style scoped>\n",
       "    .dataframe tbody tr th:only-of-type {\n",
       "        vertical-align: middle;\n",
       "    }\n",
       "\n",
       "    .dataframe tbody tr th {\n",
       "        vertical-align: top;\n",
       "    }\n",
       "\n",
       "    .dataframe thead th {\n",
       "        text-align: right;\n",
       "    }\n",
       "</style>\n",
       "<table border=\"1\" class=\"dataframe\">\n",
       "  <thead>\n",
       "    <tr style=\"text-align: right;\">\n",
       "      <th></th>\n",
       "      <th>sepal length (cm)</th>\n",
       "      <th>sepal width (cm)</th>\n",
       "      <th>petal length (cm)</th>\n",
       "      <th>petal width (cm)</th>\n",
       "    </tr>\n",
       "  </thead>\n",
       "  <tbody>\n",
       "    <tr>\n",
       "      <th>0</th>\n",
       "      <td>5.1</td>\n",
       "      <td>3.5</td>\n",
       "      <td>1.4</td>\n",
       "      <td>0.2</td>\n",
       "    </tr>\n",
       "    <tr>\n",
       "      <th>1</th>\n",
       "      <td>4.9</td>\n",
       "      <td>3.0</td>\n",
       "      <td>1.4</td>\n",
       "      <td>0.2</td>\n",
       "    </tr>\n",
       "    <tr>\n",
       "      <th>2</th>\n",
       "      <td>4.7</td>\n",
       "      <td>3.2</td>\n",
       "      <td>1.3</td>\n",
       "      <td>0.2</td>\n",
       "    </tr>\n",
       "    <tr>\n",
       "      <th>3</th>\n",
       "      <td>4.6</td>\n",
       "      <td>3.1</td>\n",
       "      <td>1.5</td>\n",
       "      <td>0.2</td>\n",
       "    </tr>\n",
       "    <tr>\n",
       "      <th>4</th>\n",
       "      <td>5.0</td>\n",
       "      <td>3.6</td>\n",
       "      <td>1.4</td>\n",
       "      <td>0.2</td>\n",
       "    </tr>\n",
       "    <tr>\n",
       "      <th>...</th>\n",
       "      <td>...</td>\n",
       "      <td>...</td>\n",
       "      <td>...</td>\n",
       "      <td>...</td>\n",
       "    </tr>\n",
       "    <tr>\n",
       "      <th>145</th>\n",
       "      <td>6.7</td>\n",
       "      <td>3.0</td>\n",
       "      <td>5.2</td>\n",
       "      <td>2.3</td>\n",
       "    </tr>\n",
       "    <tr>\n",
       "      <th>146</th>\n",
       "      <td>6.3</td>\n",
       "      <td>2.5</td>\n",
       "      <td>5.0</td>\n",
       "      <td>1.9</td>\n",
       "    </tr>\n",
       "    <tr>\n",
       "      <th>147</th>\n",
       "      <td>6.5</td>\n",
       "      <td>3.0</td>\n",
       "      <td>5.2</td>\n",
       "      <td>2.0</td>\n",
       "    </tr>\n",
       "    <tr>\n",
       "      <th>148</th>\n",
       "      <td>6.2</td>\n",
       "      <td>3.4</td>\n",
       "      <td>5.4</td>\n",
       "      <td>2.3</td>\n",
       "    </tr>\n",
       "    <tr>\n",
       "      <th>149</th>\n",
       "      <td>5.9</td>\n",
       "      <td>3.0</td>\n",
       "      <td>5.1</td>\n",
       "      <td>1.8</td>\n",
       "    </tr>\n",
       "  </tbody>\n",
       "</table>\n",
       "<p>150 rows × 4 columns</p>\n",
       "</div>"
      ],
      "text/plain": [
       "     sepal length (cm)  sepal width (cm)  petal length (cm)  petal width (cm)\n",
       "0                  5.1               3.5                1.4               0.2\n",
       "1                  4.9               3.0                1.4               0.2\n",
       "2                  4.7               3.2                1.3               0.2\n",
       "3                  4.6               3.1                1.5               0.2\n",
       "4                  5.0               3.6                1.4               0.2\n",
       "..                 ...               ...                ...               ...\n",
       "145                6.7               3.0                5.2               2.3\n",
       "146                6.3               2.5                5.0               1.9\n",
       "147                6.5               3.0                5.2               2.0\n",
       "148                6.2               3.4                5.4               2.3\n",
       "149                5.9               3.0                5.1               1.8\n",
       "\n",
       "[150 rows x 4 columns]"
      ]
     },
     "execution_count": 4,
     "metadata": {},
     "output_type": "execute_result"
    }
   ],
   "source": [
    "df = pd.DataFrame(iris.data, columns = iris.feature_names)\n",
    "df"
   ]
  },
  {
   "cell_type": "code",
   "execution_count": 5,
   "id": "35391845",
   "metadata": {},
   "outputs": [
    {
     "data": {
      "text/plain": [
       "array([[5.1],\n",
       "       [3.5],\n",
       "       [1.4],\n",
       "       [0.2]])"
      ]
     },
     "execution_count": 5,
     "metadata": {},
     "output_type": "execute_result"
    }
   ],
   "source": [
    "# 넘파이를 사용한 벡터 표현 : 벡터를 열 개수가 하나인 2차원 배열로 표현\n",
    "# 4차원 벡터, 2차원 배열 : 배열의 차원은 벡터의 차원과 다른 의미\n",
    "x1 = np.array([[5.1],[3.5],[1.4],[0.2]])\n",
    "x1"
   ]
  },
  {
   "cell_type": "code",
   "execution_count": 6,
   "id": "ab63d448",
   "metadata": {},
   "outputs": [
    {
     "data": {
      "text/plain": [
       "array([5.1, 3.5, 1.4, 0.2])"
      ]
     },
     "execution_count": 6,
     "metadata": {},
     "output_type": "execute_result"
    }
   ],
   "source": [
    "# 넘파이는 1차원 배열 객체도 벡터로 인정\n",
    "x1 = np.array([5.1, 3.5, 1.4, 0.2])\n",
    "x1"
   ]
  },
  {
   "cell_type": "markdown",
   "id": "bfd10014",
   "metadata": {},
   "source": [
    "- 행렬 : 복수의 차원을 가지는 데이터 레코드가 다시 여러 개 있는 경우의 데이터를 합쳐서 표기한 것\n",
    "- 붓꽃 예에서 붓꽃 6 송이에 대해 꽃잎과 꽃받침 크기를 측정했다면 4차원 붓꽃 데이터가 6개. 4 x 6 = 24개의 실수 숫자가 있은 것이며 이 숫자 집합을 행렬로 나타낼 수 있다.\n",
    "- 벡터는 열의 수가 1인 행렬이라고 볼 수 있으므로 열벡터라고도 한다.\n",
    "- 데이터를 행렬로 묶어서 표시할 때는 붓꽃 하나에 대한 데이터 레코드, 즉 하나의 벡터가 열이 아닌 행으로 표시한다.\n",
    "- 하나의 데이터 레코드를 단독으로 벡터로 나타낼 때는 하나의 열로 나타내고 복수의 데이터 레코드 집합을 행렬로 나타낼 때는 하나의 데이터 레코드가 하나의 행으로 표기하는 것은 일관성이 없어 보이지만 다른 연산 시 필요하여 데이터 분석에서 쓰는 일반적인 관례임을 유의해야 함"
   ]
  },
  {
   "cell_type": "code",
   "execution_count": 7,
   "id": "ca401e95",
   "metadata": {},
   "outputs": [
    {
     "data": {
      "text/html": [
       "<div>\n",
       "<style scoped>\n",
       "    .dataframe tbody tr th:only-of-type {\n",
       "        vertical-align: middle;\n",
       "    }\n",
       "\n",
       "    .dataframe tbody tr th {\n",
       "        vertical-align: top;\n",
       "    }\n",
       "\n",
       "    .dataframe thead th {\n",
       "        text-align: right;\n",
       "    }\n",
       "</style>\n",
       "<table border=\"1\" class=\"dataframe\">\n",
       "  <thead>\n",
       "    <tr style=\"text-align: right;\">\n",
       "      <th></th>\n",
       "      <th>sepal length (cm)</th>\n",
       "      <th>sepal width (cm)</th>\n",
       "      <th>petal length (cm)</th>\n",
       "      <th>petal width (cm)</th>\n",
       "    </tr>\n",
       "  </thead>\n",
       "  <tbody>\n",
       "    <tr>\n",
       "      <th>0</th>\n",
       "      <td>5.1</td>\n",
       "      <td>3.5</td>\n",
       "      <td>1.4</td>\n",
       "      <td>0.2</td>\n",
       "    </tr>\n",
       "    <tr>\n",
       "      <th>1</th>\n",
       "      <td>4.9</td>\n",
       "      <td>3.0</td>\n",
       "      <td>1.4</td>\n",
       "      <td>0.2</td>\n",
       "    </tr>\n",
       "    <tr>\n",
       "      <th>2</th>\n",
       "      <td>4.7</td>\n",
       "      <td>3.2</td>\n",
       "      <td>1.3</td>\n",
       "      <td>0.2</td>\n",
       "    </tr>\n",
       "    <tr>\n",
       "      <th>3</th>\n",
       "      <td>4.6</td>\n",
       "      <td>3.1</td>\n",
       "      <td>1.5</td>\n",
       "      <td>0.2</td>\n",
       "    </tr>\n",
       "    <tr>\n",
       "      <th>4</th>\n",
       "      <td>5.0</td>\n",
       "      <td>3.6</td>\n",
       "      <td>1.4</td>\n",
       "      <td>0.2</td>\n",
       "    </tr>\n",
       "    <tr>\n",
       "      <th>5</th>\n",
       "      <td>5.4</td>\n",
       "      <td>3.9</td>\n",
       "      <td>1.7</td>\n",
       "      <td>0.4</td>\n",
       "    </tr>\n",
       "  </tbody>\n",
       "</table>\n",
       "</div>"
      ],
      "text/plain": [
       "   sepal length (cm)  sepal width (cm)  petal length (cm)  petal width (cm)\n",
       "0                5.1               3.5                1.4               0.2\n",
       "1                4.9               3.0                1.4               0.2\n",
       "2                4.7               3.2                1.3               0.2\n",
       "3                4.6               3.1                1.5               0.2\n",
       "4                5.0               3.6                1.4               0.2\n",
       "5                5.4               3.9                1.7               0.4"
      ]
     },
     "execution_count": 7,
     "metadata": {},
     "output_type": "execute_result"
    }
   ],
   "source": [
    "df.head(6)"
   ]
  },
  {
   "cell_type": "code",
   "execution_count": 8,
   "id": "ee4228de",
   "metadata": {},
   "outputs": [
    {
     "data": {
      "text/plain": [
       "sepal length (cm)    5.1\n",
       "sepal width (cm)     3.5\n",
       "petal length (cm)    1.4\n",
       "petal width (cm)     0.2\n",
       "Name: 0, dtype: float64"
      ]
     },
     "execution_count": 8,
     "metadata": {},
     "output_type": "execute_result"
    }
   ],
   "source": [
    "df.iloc[0,:]"
   ]
  },
  {
   "cell_type": "code",
   "execution_count": 9,
   "id": "c2841d94",
   "metadata": {},
   "outputs": [
    {
     "data": {
      "text/plain": [
       "array([[11, 12, 13],\n",
       "       [21, 22, 23]])"
      ]
     },
     "execution_count": 9,
     "metadata": {},
     "output_type": "execute_result"
    }
   ],
   "source": [
    "a = np.array([[11,12,13],[21,22,23]])\n",
    "a"
   ]
  },
  {
   "cell_type": "code",
   "execution_count": 10,
   "id": "148bcda4",
   "metadata": {},
   "outputs": [
    {
     "data": {
      "text/plain": [
       "array([[11, 21],\n",
       "       [12, 22],\n",
       "       [13, 23]])"
      ]
     },
     "execution_count": 10,
     "metadata": {},
     "output_type": "execute_result"
    }
   ],
   "source": [
    "a.T"
   ]
  },
  {
   "cell_type": "code",
   "execution_count": 11,
   "id": "5d341980",
   "metadata": {},
   "outputs": [
    {
     "data": {
      "text/plain": [
       "array([[0.],\n",
       "       [0.],\n",
       "       [0.]])"
      ]
     },
     "execution_count": 11,
     "metadata": {},
     "output_type": "execute_result"
    }
   ],
   "source": [
    "# 영벡터\n",
    "np.zeros((3,1))"
   ]
  },
  {
   "cell_type": "code",
   "execution_count": 12,
   "id": "6399cc3e",
   "metadata": {},
   "outputs": [
    {
     "data": {
      "text/plain": [
       "array([[1.],\n",
       "       [1.],\n",
       "       [1.]])"
      ]
     },
     "execution_count": 12,
     "metadata": {},
     "output_type": "execute_result"
    }
   ],
   "source": [
    "# 일벡터\n",
    "np.ones((3,1))"
   ]
  },
  {
   "cell_type": "code",
   "execution_count": 13,
   "id": "9ad6b474",
   "metadata": {},
   "outputs": [
    {
     "data": {
      "text/plain": [
       "array([[0., 0., 0.],\n",
       "       [0., 0., 0.],\n",
       "       [0., 0., 0.]])"
      ]
     },
     "execution_count": 13,
     "metadata": {},
     "output_type": "execute_result"
    }
   ],
   "source": [
    "# 정방 행렬(3x3)\n",
    "np.zeros((3,3))"
   ]
  },
  {
   "cell_type": "code",
   "execution_count": 14,
   "id": "76d8aadf",
   "metadata": {},
   "outputs": [
    {
     "data": {
      "text/plain": [
       "array([[1, 0, 0],\n",
       "       [0, 2, 0],\n",
       "       [0, 0, 3]])"
      ]
     },
     "execution_count": 14,
     "metadata": {},
     "output_type": "execute_result"
    }
   ],
   "source": [
    "# 대각 정방행렬 - 주대각선 1,2,3\n",
    "np.diag([1,2,3])"
   ]
  },
  {
   "cell_type": "code",
   "execution_count": 15,
   "id": "0b9f8c17",
   "metadata": {},
   "outputs": [
    {
     "data": {
      "text/plain": [
       "array([[1., 0., 0., 0.],\n",
       "       [0., 1., 0., 0.],\n",
       "       [0., 0., 1., 0.],\n",
       "       [0., 0., 0., 1.]])"
      ]
     },
     "execution_count": 15,
     "metadata": {},
     "output_type": "execute_result"
    }
   ],
   "source": [
    "# 항등행렬\n",
    "np.eye(4)"
   ]
  },
  {
   "cell_type": "code",
   "execution_count": 16,
   "id": "d73aa681",
   "metadata": {},
   "outputs": [],
   "source": [
    "# 벡터와 벡터의 곱셈 (내적)\n",
    "from PIL import Image\n",
    "image = Image.open(\"내적.jpg\")\n",
    "image.show()"
   ]
  },
  {
   "cell_type": "markdown",
   "id": "81db8a83",
   "metadata": {},
   "source": [
    "<img src = \"행렬곱.jpg\" STYLE = \"width 800px: \">"
   ]
  },
  {
   "cell_type": "markdown",
   "id": "e76262d5",
   "metadata": {},
   "source": [
    "<img src = \"내적.jpg\" STYLE = \"width 800px: \">"
   ]
  },
  {
   "cell_type": "code",
   "execution_count": 17,
   "id": "00fed30c",
   "metadata": {},
   "outputs": [
    {
     "name": "stdout",
     "output_type": "stream",
     "text": [
      "[10 12 14 16 18]\n",
      "[10 10 10 10 10]\n"
     ]
    }
   ],
   "source": [
    "x = np.array([10, 11, 12, 13, 14])\n",
    "y = np.array([0, 1, 2, 3, 4])\n",
    "\n",
    "print(x+y)\n",
    "print(x-y)"
   ]
  },
  {
   "cell_type": "code",
   "execution_count": 18,
   "id": "e54247e2",
   "metadata": {},
   "outputs": [
    {
     "data": {
      "text/plain": [
       "array([[46, 49],\n",
       "       [43, 46]])"
      ]
     },
     "execution_count": 18,
     "metadata": {},
     "output_type": "execute_result"
    }
   ],
   "source": [
    "x1 = np.random.randint(30,50,(2,2))\n",
    "x2 = np.random.randint(20,30,(2,2))\n",
    "x3 = np.random.randint(10,20,(2,2))\n",
    "\n",
    "x1+x2-x3"
   ]
  },
  {
   "cell_type": "code",
   "execution_count": 19,
   "id": "f2bdb56a",
   "metadata": {},
   "outputs": [
    {
     "data": {
      "text/plain": [
       "array([0, 1, 2])"
      ]
     },
     "execution_count": 19,
     "metadata": {},
     "output_type": "execute_result"
    }
   ],
   "source": [
    "# 브로드캐스팅\n",
    "x1 = np.array([10,11,12])\n",
    "x1 - 10"
   ]
  },
  {
   "cell_type": "code",
   "execution_count": 20,
   "id": "3b477a13",
   "metadata": {},
   "outputs": [
    {
     "data": {
      "text/plain": [
       "array([30, 33, 36])"
      ]
     },
     "execution_count": 20,
     "metadata": {},
     "output_type": "execute_result"
    }
   ],
   "source": [
    "np.dot(3, x1)"
   ]
  },
  {
   "cell_type": "code",
   "execution_count": 21,
   "id": "869f801f",
   "metadata": {},
   "outputs": [],
   "source": [
    "x = np.array([[1],[2],[3]])\n",
    "y = np.array([[4],[5],[6]])"
   ]
  },
  {
   "cell_type": "code",
   "execution_count": 22,
   "id": "4229f0b7",
   "metadata": {},
   "outputs": [
    {
     "name": "stdout",
     "output_type": "stream",
     "text": [
      "[[1]\n",
      " [2]\n",
      " [3]]\n",
      "[[4 5 6]]\n",
      "[[ 4  5  6]\n",
      " [ 8 10 12]\n",
      " [12 15 18]]\n"
     ]
    }
   ],
   "source": [
    "print(x)\n",
    "print(y.T)\n",
    "print(x@y.T)"
   ]
  },
  {
   "cell_type": "code",
   "execution_count": 23,
   "id": "2db683f6",
   "metadata": {},
   "outputs": [
    {
     "name": "stdout",
     "output_type": "stream",
     "text": [
      "[[1 2 3]]\n",
      "[[4]\n",
      " [5]\n",
      " [6]]\n",
      "[[32]]\n"
     ]
    }
   ],
   "source": [
    "print(x.T)\n",
    "print(y)\n",
    "print(x.T@y)"
   ]
  },
  {
   "cell_type": "code",
   "execution_count": 24,
   "id": "c5e65f0f",
   "metadata": {},
   "outputs": [
    {
     "name": "stdout",
     "output_type": "stream",
     "text": [
      "[[1 2 3]\n",
      " [4 5 6]]\n",
      "[[1 2]\n",
      " [2 3]\n",
      " [3 4]]\n",
      "[[14 20]\n",
      " [32 47]]\n"
     ]
    }
   ],
   "source": [
    "x = np.array([[1,2,3],[4,5,6]])\n",
    "y = np.array([[1,2],[2,3],[3,4]])\n",
    "\n",
    "\n",
    "print(x)\n",
    "print(y)\n",
    "print(x@y)\n",
    "\n",
    "# 1*1 + 2*2 + 3*3 = 14\n",
    "# 1*2 + 2*3 + 3*4 = 20\n",
    "# 4*1 + 5*2 + 6*3 = 32\n",
    "# 4*2 + 5*3 + 6*4 = 47"
   ]
  },
  {
   "cell_type": "markdown",
   "id": "ccd6014c",
   "metadata": {},
   "source": [
    "## 행렬곱\n",
    "- 앞 행렬의 열의 수가 뒤 행렬의 행의 수와 일치해야 한다.\n",
    "- 교환 법칙이 성립하지 않음 : (A @ B) =/= ( B @ A )\n",
    "- 분배법칙은 성립함 : A @ ( B + C ) = A @ B + A @ C\n",
    "- 전치 연산도 덛셈, 뺄셈에 대한 분배 법칙 성립 : ( A + B ). T = A.T + B.T\n",
    "- 전치 연산과 곱셈의 경우에는 분배 법칙이 성립하지만 전치 연산이 분배되면서 곱셈의 순서가 바뀜 : ( A @ B ).T = B.T @ A.T"
   ]
  },
  {
   "cell_type": "markdown",
   "id": "bedcd6d1",
   "metadata": {},
   "source": [
    "### 과제1_0420\n",
    "앞에 언급한 사항들의 사례를 작성해서 의미를 확인하고 설명하시오"
   ]
  },
  {
   "cell_type": "code",
   "execution_count": 25,
   "id": "4b0af20a",
   "metadata": {},
   "outputs": [
    {
     "name": "stdout",
     "output_type": "stream",
     "text": [
      "[[1 2 3]\n",
      " [4 5 6]]\n",
      "[[1 2]\n",
      " [2 3]\n",
      " [3 4]]\n",
      "[[14 20]\n",
      " [32 47]]\n"
     ]
    }
   ],
   "source": [
    "x = np.array([[1,2,3],[4,5,6]])\n",
    "y = np.array([[1,2],[2,3],[3,4]])\n",
    "z = np.array([[1,1],[2,2],[3,3]])\n",
    "\n",
    "\n",
    "print(x)\n",
    "print(y)\n",
    "print(x@y)"
   ]
  },
  {
   "cell_type": "code",
   "execution_count": 26,
   "id": "41537704",
   "metadata": {},
   "outputs": [
    {
     "name": "stdout",
     "output_type": "stream",
     "text": [
      "[[1 4]\n",
      " [2 5]\n",
      " [3 6]]\n",
      "[[1 2]\n",
      " [2 3]\n",
      " [3 4]]\n"
     ]
    },
    {
     "ename": "ValueError",
     "evalue": "matmul: Input operand 1 has a mismatch in its core dimension 0, with gufunc signature (n?,k),(k,m?)->(n?,m?) (size 3 is different from 2)",
     "output_type": "error",
     "traceback": [
      "\u001b[1;31m---------------------------------------------------------------------------\u001b[0m",
      "\u001b[1;31mValueError\u001b[0m                                Traceback (most recent call last)",
      "\u001b[1;32m~\\AppData\\Local\\Temp\\ipykernel_6784\\3882974308.py\u001b[0m in \u001b[0;36m<module>\u001b[1;34m\u001b[0m\n\u001b[0;32m      1\u001b[0m \u001b[0mprint\u001b[0m\u001b[1;33m(\u001b[0m\u001b[0mx\u001b[0m\u001b[1;33m.\u001b[0m\u001b[0mT\u001b[0m\u001b[1;33m)\u001b[0m\u001b[1;33m\u001b[0m\u001b[1;33m\u001b[0m\u001b[0m\n\u001b[0;32m      2\u001b[0m \u001b[0mprint\u001b[0m\u001b[1;33m(\u001b[0m\u001b[0my\u001b[0m\u001b[1;33m)\u001b[0m\u001b[1;33m\u001b[0m\u001b[1;33m\u001b[0m\u001b[0m\n\u001b[1;32m----> 3\u001b[1;33m \u001b[0mprint\u001b[0m\u001b[1;33m(\u001b[0m\u001b[0mx\u001b[0m\u001b[1;33m.\u001b[0m\u001b[0mT\u001b[0m\u001b[1;33m@\u001b[0m\u001b[0my\u001b[0m\u001b[1;33m)\u001b[0m\u001b[1;33m\u001b[0m\u001b[1;33m\u001b[0m\u001b[0m\n\u001b[0m",
      "\u001b[1;31mValueError\u001b[0m: matmul: Input operand 1 has a mismatch in its core dimension 0, with gufunc signature (n?,k),(k,m?)->(n?,m?) (size 3 is different from 2)"
     ]
    }
   ],
   "source": [
    "print(x.T)\n",
    "print(y)\n",
    "print(x.T@y)"
   ]
  },
  {
   "cell_type": "code",
   "execution_count": 27,
   "id": "8ba15068",
   "metadata": {},
   "outputs": [
    {
     "name": "stdout",
     "output_type": "stream",
     "text": [
      "[[14 20]\n",
      " [32 47]]\n",
      "[[ 9 12 15]\n",
      " [14 19 24]\n",
      " [19 26 33]]\n"
     ]
    }
   ],
   "source": [
    "print(x@y)\n",
    "print(y@x)"
   ]
  },
  {
   "cell_type": "code",
   "execution_count": 28,
   "id": "64a75253",
   "metadata": {},
   "outputs": [
    {
     "name": "stdout",
     "output_type": "stream",
     "text": [
      "[[28 34]\n",
      " [64 79]]\n",
      "[[28 34]\n",
      " [64 79]]\n"
     ]
    }
   ],
   "source": [
    "print(x@(y+z))\n",
    "print(x@y + x@z)"
   ]
  },
  {
   "cell_type": "code",
   "execution_count": 29,
   "id": "3f148509",
   "metadata": {},
   "outputs": [
    {
     "name": "stdout",
     "output_type": "stream",
     "text": [
      "[[2 4 6]\n",
      " [3 5 7]]\n",
      "[[2 4 6]\n",
      " [3 5 7]]\n"
     ]
    }
   ],
   "source": [
    "print((z+y).T)\n",
    "print(z.T + y.T)"
   ]
  },
  {
   "cell_type": "code",
   "execution_count": 30,
   "id": "a0f9bf44",
   "metadata": {},
   "outputs": [
    {
     "name": "stdout",
     "output_type": "stream",
     "text": [
      "[[14 32]\n",
      " [20 47]]\n",
      "[[14 32]\n",
      " [20 47]]\n"
     ]
    }
   ],
   "source": [
    "print((x@y).T)\n",
    "print(y.T@x.T)"
   ]
  },
  {
   "cell_type": "code",
   "execution_count": 31,
   "id": "902ebb76",
   "metadata": {},
   "outputs": [
    {
     "name": "stdout",
     "output_type": "stream",
     "text": [
      "[[1 2]\n",
      " [3 4]]\n",
      "[[1. 0.]\n",
      " [0. 1.]]\n",
      "[[1. 2.]\n",
      " [3. 4.]]\n",
      "[[1. 2.]\n",
      " [3. 4.]]\n"
     ]
    }
   ],
   "source": [
    "# 항등행렬의 곱셈\n",
    "a = np.array([[1,2],[3,4]])\n",
    "i = np.eye(2)\n",
    "print(a)\n",
    "print(i)\n",
    "print(a@i)\n",
    "print(i@a)"
   ]
  },
  {
   "cell_type": "code",
   "execution_count": 32,
   "id": "d3c85767",
   "metadata": {},
   "outputs": [
    {
     "name": "stdout",
     "output_type": "stream",
     "text": [
      "[[0.3305785  0.30578512 0.3305785  ... 0.3966942  0.37190083 0.28512397]\n",
      " [0.32231405 0.32231405 0.29752067 ... 0.41322315 0.338843   0.2603306 ]\n",
      " [0.3264463  0.30991736 0.30578512 ... 0.40495867 0.36363637 0.27272728]\n",
      " ...\n",
      " [0.16115703 0.16528925 0.1570248  ... 0.14049587 0.1570248  0.16115703]\n",
      " [0.1570248  0.17768595 0.16115703 ... 0.14049587 0.1570248  0.1570248 ]\n",
      " [0.17768595 0.1694215  0.16528925 ... 0.1446281  0.15289256 0.15289256]] \n",
      "\n"
     ]
    },
    {
     "data": {
      "text/plain": [
       "Text(0.5, 1.0, 'image 1 : $x_1$')"
      ]
     },
     "execution_count": 32,
     "metadata": {},
     "output_type": "execute_result"
    },
    {
     "data": {
      "image/png": "[encoded data removed]",
      "text/plain": [
       "<Figure size 640x480 with 1 Axes>"
      ]
     },
     "metadata": {},
     "output_type": "display_data"
    }
   ],
   "source": [
    "from sklearn.datasets import fetch_olivetti_faces\n",
    "faces = fetch_olivetti_faces()\n",
    "print(faces.images[6],\"\\n\")\n",
    "f, ax = plt.subplots(1,1)\n",
    "ax.imshow(faces.images[6], cmap = plt.cm.bone)\n",
    "ax.grid(False)\n",
    "ax.set_xticks([])\n",
    "ax.set_yticks([])\n",
    "ax.set_title(\"image 1 : $x_1$\")"
   ]
  },
  {
   "cell_type": "code",
   "execution_count": 33,
   "id": "7abb35f5",
   "metadata": {},
   "outputs": [
    {
     "name": "stdout",
     "output_type": "stream",
     "text": [
      "[[0.5413223  0.58677685 0.6404959  ... 0.54545456 0.553719   0.55785125]\n",
      " [0.553719   0.61570245 0.6570248  ... 0.57438016 0.58264464 0.5785124 ]\n",
      " [0.5785124  0.6528926  0.677686   ... 0.57024795 0.60330576 0.59917355]\n",
      " ...\n",
      " [0.12809917 0.13636364 0.13636364 ... 0.09090909 0.11570248 0.10743801]\n",
      " [0.1322314  0.13636364 0.1322314  ... 0.09504132 0.11157025 0.10743801]\n",
      " [0.13636364 0.1322314  0.13636364 ... 0.09504132 0.11157025 0.11157025]] \n",
      "\n"
     ]
    },
    {
     "data": {
      "text/plain": [
       "Text(0.5, 1.0, 'image 2 : $x_2$')"
      ]
     },
     "execution_count": 33,
     "metadata": {},
     "output_type": "execute_result"
    },
    {
     "data": {
      "image/png": "[encoded data removed]",
      "text/plain": [
       "<Figure size 640x480 with 1 Axes>"
      ]
     },
     "metadata": {},
     "output_type": "display_data"
    }
   ],
   "source": [
    "faces = fetch_olivetti_faces()\n",
    "print(faces.images[10],\"\\n\")\n",
    "f, ax = plt.subplots(1,1)\n",
    "ax.imshow(faces.images[10], cmap = plt.cm.bone)\n",
    "ax.grid(False)\n",
    "ax.set_xticks([])\n",
    "ax.set_yticks([])\n",
    "ax.set_title(\"image 2 : $x_2$\")"
   ]
  },
  {
   "cell_type": "code",
   "execution_count": 34,
   "id": "0db05865",
   "metadata": {},
   "outputs": [
    {
     "data": {
      "text/plain": [
       "Text(0.5, 1.0, 'image 3 : $0.7xx_1 + 0.3xx_2$')"
      ]
     },
     "execution_count": 34,
     "metadata": {},
     "output_type": "execute_result"
    },
    {
     "data": {
      "image/png": "[encoded data removed]",
      "text/plain": [
       "<Figure size 640x480 with 3 Axes>"
      ]
     },
     "metadata": {},
     "output_type": "display_data"
    }
   ],
   "source": [
    "faces = fetch_olivetti_faces()\n",
    "\n",
    "f, ax = plt.subplots(1,3)\n",
    "ax[0].imshow(faces.images[6], cmap = plt.cm.bone)\n",
    "ax[0].grid(False)\n",
    "ax[0].set_xticks([])\n",
    "ax[0].set_yticks([])\n",
    "ax[0].set_title(\"image 1 : $x_1$\")\n",
    "\n",
    "ax[1].imshow(faces.images[10], cmap = plt.cm.bone)\n",
    "ax[1].grid(False)\n",
    "ax[1].set_xticks([])\n",
    "ax[1].set_yticks([])\n",
    "ax[1].set_title(\"image 2 : $x_2$\")\n",
    "\n",
    "new_face = 0.7 * faces.images[6] + 0.3 * faces.images[10]\n",
    "ax[2].imshow(new_face, cmap = plt.cm.bone)\n",
    "ax[2].grid(False)\n",
    "ax[2].set_xticks([])\n",
    "ax[2].set_yticks([])\n",
    "ax[2].set_title(\"image 3 : $0.7xx_1 + 0.3xx_2$\")"
   ]
  },
  {
   "cell_type": "markdown",
   "id": "0f01b71f",
   "metadata": {},
   "source": [
    "#### 벡터의 norm이란 \n",
    "- 벡터의 크기를 측정하는 방법 중 하나입니다. 벡터의 norm은 일반적으로 벡터의 길이 또는 크기를 의미합니다. 벡터의 norm은 벡터의 요소에 대한 제곱 합의 제곱근으로 계산됩니다.\n",
    "\n",
    "만약, 벡터 $x = (x_1, x_2, ..., x_n)$ 이 있다면, $x$의 norm은 다음과 같이 정의됩니다.\n",
    "\n",
    "$$||x|| = \\sqrt{x_1^2 + x_2^2 + \\cdots + x_n^2}$$\n",
    "\n",
    "여기서 $||x||$는 벡터 $x$의 norm을 나타냅니다.\n",
    "\n",
    "- 벡터의 norm은 다음과 같은 성질을 가지고 있습니다.\n",
    "\n",
    "  - $||x|| \\geq 0$ (벡터의 norm은 항상 0 이상입니다.)\n",
    "  - $||x|| = 0$ if and only if $x = \\mathbf{0}$ (벡터의 norm이 0일 경우, 해당 벡터는 영 벡터입니다.)\n",
    "  - $||ax|| = |a| \\cdot ||x||$ (스칼라 $a$에 대해 벡터 $x$의 norm은 $a$의 절댓값과 $x$의 norm의 곱과 같습니다.)\n",
    "  - $||x+y|| \\leq ||x|| + ||y||$ (두 벡터의 합의 norm은 각 벡터의 norm의 합보다 작거나 같습니다. 이를 삼각 부등식이라고 합니다.)\n",
    "  - 벡터의 norm은 선형 대수학에서 매우 중요한 개념이며, 벡터 공간에서 거리와 관련된 개념을 다룰 때 자주 사용됩니다.\n",
    "\n",
    "- 위 4가지 성질을 만족하기만 하면 놈이라고 할 수 있는데, 많이 사용되는 놈은 다음 세 가지이다. 놈을 구별하기 위하여 아래 첨자를 사용하고, $||x||_1을 1-놈, ||x||_2 를 2-놈, ||x||_\\infty를 3-놈$이라고 한다.\n",
    "- 1-놈은 벡터 x의 성분의 절대값을 모두 더한 것으로, 2-놈은 벡터의 기하학적 길이로, $\\infty-놈$은 벡터 성분 중에서 크기가 제일 큰 값으로 정의한다.\n",
    "- p = 2인 경우가 가장 많이 쓰이므로 p값 표기가 없는 경우 p=2인 프로베니우스 놈을 사용한다.\n",
    "\n",
    "https://bskyvision.com/825  \n",
    "https://pasus.tistory.com/34"
   ]
  },
  {
   "cell_type": "code",
   "execution_count": 35,
   "id": "8beea1c6",
   "metadata": {},
   "outputs": [
    {
     "data": {
      "text/plain": [
       "array([[-4, -3, -2],\n",
       "       [-1,  0,  1],\n",
       "       [ 2,  3,  4]])"
      ]
     },
     "execution_count": 35,
     "metadata": {},
     "output_type": "execute_result"
    }
   ],
   "source": [
    "a = (np.arange(9) - 4).reshape(3,3)\n",
    "a"
   ]
  },
  {
   "cell_type": "code",
   "execution_count": 36,
   "id": "25c0a0fd",
   "metadata": {},
   "outputs": [
    {
     "data": {
      "text/plain": [
       "7.745966692414834"
      ]
     },
     "execution_count": 36,
     "metadata": {},
     "output_type": "execute_result"
    }
   ],
   "source": [
    "np.linalg.norm(a) # linalg = Linear algebra(선형 대수학)"
   ]
  },
  {
   "cell_type": "code",
   "execution_count": 37,
   "id": "1c118fe1",
   "metadata": {},
   "outputs": [
    {
     "data": {
      "text/plain": [
       "5.0"
      ]
     },
     "execution_count": 37,
     "metadata": {},
     "output_type": "execute_result"
    }
   ],
   "source": [
    "# L1 norm = 벡터 성분의 절대값을 합산\n",
    "x = [2,3]\n",
    "np.linalg.norm(x,1)"
   ]
  },
  {
   "cell_type": "code",
   "execution_count": 38,
   "id": "1ea2ac8d",
   "metadata": {},
   "outputs": [
    {
     "data": {
      "text/plain": [
       "3.605551275463989"
      ]
     },
     "execution_count": 38,
     "metadata": {},
     "output_type": "execute_result"
    }
   ],
   "source": [
    "# L2 norm = 벡터의 스칼라값 계산\n",
    "np.linalg.norm(x,2)"
   ]
  },
  {
   "cell_type": "code",
   "execution_count": 39,
   "id": "a3389cf8",
   "metadata": {},
   "outputs": [
    {
     "data": {
      "text/plain": [
       "3.0"
      ]
     },
     "execution_count": 39,
     "metadata": {},
     "output_type": "execute_result"
    }
   ],
   "source": [
    "# L inf norm = 벡터 성분의 절대값 중 가장 높은 값\n",
    "np.linalg.norm(x, np.inf)"
   ]
  },
  {
   "cell_type": "markdown",
   "id": "71641c98",
   "metadata": {},
   "source": [
    "#### 행렬식(determinant)은\n",
    "행렬식은 정방행렬에 대해서만 정의되는 값으로, 행렬의 성질을 나타내는 중요한 값 중 하나입니다. \n",
    "\n",
    "- 행렬식은 행렬의 크기에 상관없이 항상 하나의 스칼라값으로 계산됩니다.\n",
    "행렬 A의 행렬식은 $|A|$ 또는 det(A)로 표기합니다. 2x2 행렬의 경우, 다음과 같이 행렬식을 계산할 수 있습니다.$$det(A) = a11*a22 - a12*a21$$\n",
    "- 행렬식이 0이면, 해당 행렬은 역행렬을 가지지 않습니다. 반대로, 행렬식이 0이 아니면, 해당 행렬은 역행렬을 가지며, 선형 변환의 크기와 방향을 보존하는 역행렬을 사용하여 역변환을 수행할 수 있습니다.\n",
    "- 행렬식의 절댓값이 1인 행렬은 크기를 보존하는 선형 변환을 나타내며, 이러한 행렬은 회전 또는 반사와 같은 변환이 될 수 있습니다. 반면에, 행렬식의 절댓값이 1보다 작은 행렬은 크기를 축소하는 선형 변환이며, 이러한 행렬은 변환 중심을 기준으로 축소가 됩니다. 마지막으로, 행렬식의 절댓값이 1보다 큰 행렬은 크기를 확대하는 선형 변환을 나타내며, 이러한 행렬은 변환 중심을 기준으로 확대됩니다.\n",
    "- 행렬식은 선형 방정식의 해를 구하는 데에도 사용됩니다 $Ax = b$에서 A는 n x n 행렬이며, x와 b는 n 차원 벡터입니다. 만약 A의 행렬식이 0이 아니면, 이 방정식은 유일한 해를 가집니다. 그러나, A의 행렬식이 0이면, 이 방정식은 무수히 많은 해를 가질 수 있습니다.\n",
    "- 행렬식은 행렬식이 0이 아닌 행렬에 대한 Cramer의 법칙을 사용하여 역행렬을 구하는 데에도 사용됩니다. 역행렬은 선형 방정식의 해를 구하는 데 사용될 수 있으며, 행렬식이 0이 아닌 경우에만 존재합니다."
   ]
  },
  {
   "cell_type": "markdown",
   "id": "7ec2c130",
   "metadata": {},
   "source": [
    "#### 역행렬\n",
    "Ax = b : 계수행렬, 미지수벡터, 상수벡터\n",
    "- A, x, b가 스칼라 실수인 경우 : x = b/A \n",
    "- 행렬에서는  나눗셈 대신 역행렬 사용 : x = $A^{-1}$b"
   ]
  },
  {
   "cell_type": "code",
   "execution_count": 40,
   "id": "dec480dc",
   "metadata": {},
   "outputs": [
    {
     "name": "stdout",
     "output_type": "stream",
     "text": [
      "[[-2.   1. ]\n",
      " [ 1.5 -0.5]]\n"
     ]
    }
   ],
   "source": [
    "# 역행렬은 특정한 행렬과 곱했을 때 항등행렬이 나오는 행렬\n",
    "\n",
    "A = np.array([[1,2],[3,4]])\n",
    "A_inv = np.linalg.inv(A) # A의 역행렬 계산\n",
    "\n",
    "print(A_inv)"
   ]
  },
  {
   "cell_type": "code",
   "execution_count": 41,
   "id": "d9fbe449",
   "metadata": {},
   "outputs": [
    {
     "data": {
      "text/plain": [
       "array([[1.00000000e+00, 1.11022302e-16],\n",
       "       [0.00000000e+00, 1.00000000e+00]])"
      ]
     },
     "execution_count": 41,
     "metadata": {},
     "output_type": "execute_result"
    }
   ],
   "source": [
    "A@A_inv"
   ]
  },
  {
   "cell_type": "code",
   "execution_count": 42,
   "id": "6196093f",
   "metadata": {
    "scrolled": true
   },
   "outputs": [
    {
     "name": "stdout",
     "output_type": "stream",
     "text": [
      "[[1. 0. 0.]\n",
      " [0. 1. 0.]\n",
      " [0. 0. 1.]]\n"
     ]
    }
   ],
   "source": [
    "np.random.seed(0)\n",
    "mt1 = np.random.randint(1,4,(3,3))\n",
    "mt2 = np.linalg.inv(mt1)\n",
    "\n",
    "print(mt1@mt2)"
   ]
  },
  {
   "cell_type": "code",
   "execution_count": 43,
   "id": "0afa6e1d",
   "metadata": {},
   "outputs": [
    {
     "name": "stdout",
     "output_type": "stream",
     "text": [
      "[[1 2]\n",
      " [2 4]]\n",
      "0.0\n"
     ]
    }
   ],
   "source": [
    "# 역행렬이 존재하지 않는 경우는 행렬식 값이 0이 출력\n",
    "nt1 = np.array([[1,2],[2,4]])\n",
    "print(nt1)\n",
    "nt2 = np.linalg.det(nt1)\n",
    "print(nt2)"
   ]
  },
  {
   "cell_type": "code",
   "execution_count": 44,
   "id": "21337359",
   "metadata": {},
   "outputs": [
    {
     "ename": "LinAlgError",
     "evalue": "Singular matrix",
     "output_type": "error",
     "traceback": [
      "\u001b[1;31m---------------------------------------------------------------------------\u001b[0m",
      "\u001b[1;31mLinAlgError\u001b[0m                               Traceback (most recent call last)",
      "\u001b[1;32m~\\AppData\\Local\\Temp\\ipykernel_6784\\1950137975.py\u001b[0m in \u001b[0;36m<module>\u001b[1;34m\u001b[0m\n\u001b[1;32m----> 1\u001b[1;33m \u001b[0mnp\u001b[0m\u001b[1;33m.\u001b[0m\u001b[0mlinalg\u001b[0m\u001b[1;33m.\u001b[0m\u001b[0minv\u001b[0m\u001b[1;33m(\u001b[0m\u001b[0mnt1\u001b[0m\u001b[1;33m)\u001b[0m\u001b[1;33m\u001b[0m\u001b[1;33m\u001b[0m\u001b[0m\n\u001b[0m",
      "\u001b[1;32m<__array_function__ internals>\u001b[0m in \u001b[0;36minv\u001b[1;34m(*args, **kwargs)\u001b[0m\n",
      "\u001b[1;32m~\\Anaconda3\\lib\\site-packages\\numpy\\linalg\\linalg.py\u001b[0m in \u001b[0;36minv\u001b[1;34m(a)\u001b[0m\n\u001b[0;32m    543\u001b[0m     \u001b[0msignature\u001b[0m \u001b[1;33m=\u001b[0m \u001b[1;34m'D->D'\u001b[0m \u001b[1;32mif\u001b[0m \u001b[0misComplexType\u001b[0m\u001b[1;33m(\u001b[0m\u001b[0mt\u001b[0m\u001b[1;33m)\u001b[0m \u001b[1;32melse\u001b[0m \u001b[1;34m'd->d'\u001b[0m\u001b[1;33m\u001b[0m\u001b[1;33m\u001b[0m\u001b[0m\n\u001b[0;32m    544\u001b[0m     \u001b[0mextobj\u001b[0m \u001b[1;33m=\u001b[0m \u001b[0mget_linalg_error_extobj\u001b[0m\u001b[1;33m(\u001b[0m\u001b[0m_raise_linalgerror_singular\u001b[0m\u001b[1;33m)\u001b[0m\u001b[1;33m\u001b[0m\u001b[1;33m\u001b[0m\u001b[0m\n\u001b[1;32m--> 545\u001b[1;33m     \u001b[0mainv\u001b[0m \u001b[1;33m=\u001b[0m \u001b[0m_umath_linalg\u001b[0m\u001b[1;33m.\u001b[0m\u001b[0minv\u001b[0m\u001b[1;33m(\u001b[0m\u001b[0ma\u001b[0m\u001b[1;33m,\u001b[0m \u001b[0msignature\u001b[0m\u001b[1;33m=\u001b[0m\u001b[0msignature\u001b[0m\u001b[1;33m,\u001b[0m \u001b[0mextobj\u001b[0m\u001b[1;33m=\u001b[0m\u001b[0mextobj\u001b[0m\u001b[1;33m)\u001b[0m\u001b[1;33m\u001b[0m\u001b[1;33m\u001b[0m\u001b[0m\n\u001b[0m\u001b[0;32m    546\u001b[0m     \u001b[1;32mreturn\u001b[0m \u001b[0mwrap\u001b[0m\u001b[1;33m(\u001b[0m\u001b[0mainv\u001b[0m\u001b[1;33m.\u001b[0m\u001b[0mastype\u001b[0m\u001b[1;33m(\u001b[0m\u001b[0mresult_t\u001b[0m\u001b[1;33m,\u001b[0m \u001b[0mcopy\u001b[0m\u001b[1;33m=\u001b[0m\u001b[1;32mFalse\u001b[0m\u001b[1;33m)\u001b[0m\u001b[1;33m)\u001b[0m\u001b[1;33m\u001b[0m\u001b[1;33m\u001b[0m\u001b[0m\n\u001b[0;32m    547\u001b[0m \u001b[1;33m\u001b[0m\u001b[0m\n",
      "\u001b[1;32m~\\Anaconda3\\lib\\site-packages\\numpy\\linalg\\linalg.py\u001b[0m in \u001b[0;36m_raise_linalgerror_singular\u001b[1;34m(err, flag)\u001b[0m\n\u001b[0;32m     86\u001b[0m \u001b[1;33m\u001b[0m\u001b[0m\n\u001b[0;32m     87\u001b[0m \u001b[1;32mdef\u001b[0m \u001b[0m_raise_linalgerror_singular\u001b[0m\u001b[1;33m(\u001b[0m\u001b[0merr\u001b[0m\u001b[1;33m,\u001b[0m \u001b[0mflag\u001b[0m\u001b[1;33m)\u001b[0m\u001b[1;33m:\u001b[0m\u001b[1;33m\u001b[0m\u001b[1;33m\u001b[0m\u001b[0m\n\u001b[1;32m---> 88\u001b[1;33m     \u001b[1;32mraise\u001b[0m \u001b[0mLinAlgError\u001b[0m\u001b[1;33m(\u001b[0m\u001b[1;34m\"Singular matrix\"\u001b[0m\u001b[1;33m)\u001b[0m\u001b[1;33m\u001b[0m\u001b[1;33m\u001b[0m\u001b[0m\n\u001b[0m\u001b[0;32m     89\u001b[0m \u001b[1;33m\u001b[0m\u001b[0m\n\u001b[0;32m     90\u001b[0m \u001b[1;32mdef\u001b[0m \u001b[0m_raise_linalgerror_nonposdef\u001b[0m\u001b[1;33m(\u001b[0m\u001b[0merr\u001b[0m\u001b[1;33m,\u001b[0m \u001b[0mflag\u001b[0m\u001b[1;33m)\u001b[0m\u001b[1;33m:\u001b[0m\u001b[1;33m\u001b[0m\u001b[1;33m\u001b[0m\u001b[0m\n",
      "\u001b[1;31mLinAlgError\u001b[0m: Singular matrix"
     ]
    }
   ],
   "source": [
    "np.linalg.inv(nt1)"
   ]
  },
  {
   "cell_type": "markdown",
   "id": "7c537f6c",
   "metadata": {},
   "source": [
    "<img src = \"행렬식계산.png\" STYLE = \"width 800px: \">"
   ]
  },
  {
   "cell_type": "code",
   "execution_count": 45,
   "id": "16a1ab71",
   "metadata": {},
   "outputs": [
    {
     "data": {
      "text/plain": [
       "array([[1, 2, 3],\n",
       "       [4, 5, 6],\n",
       "       [7, 8, 9]])"
      ]
     },
     "execution_count": 45,
     "metadata": {},
     "output_type": "execute_result"
    }
   ],
   "source": [
    "a = np.array([[1,2,3],[4,5,6],[7,8,9]])\n",
    "a"
   ]
  },
  {
   "cell_type": "code",
   "execution_count": 46,
   "id": "5305650a",
   "metadata": {},
   "outputs": [
    {
     "data": {
      "text/plain": [
       "0"
      ]
     },
     "execution_count": 46,
     "metadata": {},
     "output_type": "execute_result"
    }
   ],
   "source": [
    "# det 수작업 계산\n",
    "1*(9*5-6*8) - 2*(4*9-6*7) + 3*(4*8-7*5)"
   ]
  },
  {
   "cell_type": "code",
   "execution_count": 47,
   "id": "a32c8872",
   "metadata": {},
   "outputs": [
    {
     "data": {
      "text/plain": [
       "-9.51619735392994e-16"
      ]
     },
     "execution_count": 47,
     "metadata": {},
     "output_type": "execute_result"
    }
   ],
   "source": [
    "# det 함수 이용\n",
    "np.linalg.det(a)"
   ]
  },
  {
   "cell_type": "markdown",
   "id": "90a5d630",
   "metadata": {},
   "source": [
    "#### 과제2_0420\n",
    "배열 e의 행렬식을 구하면 에러가 발생됩니다. 행렬식의 의미를 감안하여 e행렬을 수정하여 행렬식을 계산하시오.\n",
    "- 행렬식을 계산하시오.\n",
    "- 역행렬을 구하시오.\n",
    "- 역행렬이 맞는지 검증하시오."
   ]
  },
  {
   "cell_type": "code",
   "execution_count": 48,
   "id": "29ff0eb9",
   "metadata": {},
   "outputs": [
    {
     "name": "stdout",
     "output_type": "stream",
     "text": [
      "[[1 0 0]\n",
      " [0 0 1]\n",
      " [0 1 0]]\n",
      "-1.0\n",
      "[[1. 0. 0.]\n",
      " [0. 0. 1.]\n",
      " [0. 1. 0.]]\n",
      "[[1. 0. 0.]\n",
      " [0. 1. 0.]\n",
      " [0. 0. 1.]]\n"
     ]
    }
   ],
   "source": [
    "e = np.array([[1,0,0],[0,1,0]])\n",
    "\n",
    "e = np.array([[1,0,0],[0,0,1],[0,1,0]])\n",
    "print(e)\n",
    "print(np.linalg.det(e))\n",
    "a = np.linalg.inv(e)\n",
    "print(a)\n",
    "print(e@a)"
   ]
  },
  {
   "cell_type": "markdown",
   "id": "0c018a70",
   "metadata": {},
   "source": [
    "### 과제3_0420\n",
    "아래 두 행렬을 생성해서 각각 a1, b1으로 저장하고 행렬 내적을 계산한 결과를 출력하시오.\n",
    "\n",
    "[[1,2,3],[4,5,6]]\n",
    "\n",
    "[[10,11],[12,13],[14,15]]"
   ]
  },
  {
   "cell_type": "code",
   "execution_count": 49,
   "id": "9a896569",
   "metadata": {},
   "outputs": [
    {
     "data": {
      "text/plain": [
       "array([[ 76,  82],\n",
       "       [184, 199]])"
      ]
     },
     "execution_count": 49,
     "metadata": {},
     "output_type": "execute_result"
    }
   ],
   "source": [
    "a1 = np.array([[1,2,3],[4,5,6]])\n",
    "b1 = np.array([[10,11],[12,13],[14,15]])\n",
    "\n",
    "a1@b1"
   ]
  },
  {
   "cell_type": "markdown",
   "id": "e13fefb8",
   "metadata": {},
   "source": [
    "- 선형예측모형은 입력 데이터 벡터와 가중치 벡터의 내적으로 계산된 예측값이 실제 출력 데이터와 유사한 값을 출력하도록 하는 모형"
   ]
  },
  {
   "cell_type": "markdown",
   "id": "b64a0aa7",
   "metadata": {},
   "source": [
    "<img src = \"인공신경망행렬곱.png\" STYLE = \"width 800px: \">"
   ]
  },
  {
   "cell_type": "markdown",
   "id": "f096eb4c",
   "metadata": {},
   "source": [
    "행렬식은 선형 변환의 기하학적 특성을 나타내는 중요한 개념 중 하나\n",
    "\n",
    "- 우선, 선형 변환은 벡터 공간에서 하나의 벡터를 다른 벡터로 옮기는 함수입니다. 이 때, 선형 변환은 벡터 공간의 모양을 변경시키지 않습니다.\n",
    "\n",
    "- 행렬식은 이러한 선형 변환의 기하학적 특성 중 하나인 스케일링 및 회전을 나타냅니다. 스케일링은 벡터를 크기만 변경시키는 변환을 의미하며, 회전은 벡터를 방향을 변경시키는 변환을 의미합니다.\n",
    "\n",
    "- 행렬식은 선형 변환을 수행하는 행렬의 크기 변화를 나타내며, 변환 후의 공간의 부피를 결정합니다. 행렬식이 1보다 크면 공간이 확대되고, 1보다 작으면 공간이 축소됩니다. 또한, 행렬식이 0이면 선형 변환은 벡터 공간의 모양을 변경시키지 않습니다.\n",
    "\n",
    "- 2차원 평면에서 2배 확대하는 선형 변환을 수행하는 행렬의 행렬식은 2이며, 90도 회전하는 선형 변환을 수행하는 행렬의 행렬식은 -1입니다. 이러한 기하학적 의미는 컴퓨터 그래픽스, 물리학, 공학 등 다양한 분야에서 활용됩니다.\n",
    "    - 90도 회전하는 선형 변환을 수행하는 행렬의 행렬식이 -1이라는 것은, 이 변환이 공간의 부피를 음수로 변경시킨다는 의미\n",
    "    - 이러한 회전 변환이 적용되면, 양의 방향과 반대 방향으로 공간이 뒤집히게 되어 음수의 부피가 생기는 것\n",
    "    -  정사각형을 90도 회전하는 선형 변환을 적용하면, 정사각형은 기존과는 반대 방향으로 뒤집히게 됩니다. 이렇게 뒤집힌 정사각형은 양의 방향으로는 측정할 수 없는 음수의 부피를 가지게 됩니다.\n",
    "    \n",
    " 행렬식의 기하학적 의미 : https://angeloyeo.github.io/2019/08/06/determinant.html"
   ]
  },
  {
   "cell_type": "code",
   "execution_count": 53,
   "id": "92c009f9",
   "metadata": {},
   "outputs": [
    {
     "data": {
      "image/png": "[encoded data removed]",
      "text/plain": [
       "<Figure size 640x480 with 1 Axes>"
      ]
     },
     "metadata": {},
     "output_type": "display_data"
    }
   ],
   "source": [
    "v = np.array([1,0])\n",
    "\n",
    "A = np.array([[2,0],[0,1]])\n",
    "\n",
    "Av = A@v\n",
    "\n",
    "fig, ax = plt.subplots()\n",
    "# 변환 전 벡터 그리기\n",
    "ax.quiver([0], [0], v[0], v[1], color='b', angles='xy', scale_units='xy', scale=1)\n",
    "\n",
    "# 변환 후 벡터 그리기\n",
    "ax.quiver([0], [0], Av[0], Av[1], color='r', angles='xy', scale_units='xy', scale=1)\n",
    "\n",
    "ax.set_xlim([-2,2])\n",
    "ax.set_ylim([-2,2])\n",
    "ax.set_xlabel(\"x\")\n",
    "ax.set_ylabel(\"y\")\n",
    "ax.grid()"
   ]
  },
  {
   "cell_type": "code",
   "execution_count": 56,
   "id": "2d0e7a10",
   "metadata": {},
   "outputs": [
    {
     "data": {
      "image/png": "[encoded data removed]",
      "text/plain": [
       "<Figure size 640x480 with 1 Axes>"
      ]
     },
     "metadata": {},
     "output_type": "display_data"
    }
   ],
   "source": [
    "v = np.array([1,1])\n",
    "A = np.array([[2,0],[0,1]])\n",
    "\n",
    "Av = A@v\n",
    "\n",
    "fig, ax = plt.subplots()\n",
    "# 변환 전 벡터 그리기\n",
    "ax.quiver([0], [0], v[0], v[1], color='b', angles='xy', scale_units='xy', scale=1)\n",
    "\n",
    "# 변환 후 벡터 그리기\n",
    "ax.quiver([0], [0], Av[0], Av[1], color='r', angles='xy', scale_units='xy', scale=1)\n",
    "\n",
    "ax.set_xlim([-2,2])\n",
    "ax.set_ylim([-2,2])\n",
    "ax.set_xlabel(\"x\")\n",
    "ax.set_ylabel(\"y\")\n",
    "ax.grid()"
   ]
  },
  {
   "cell_type": "markdown",
   "id": "1b73d9e9",
   "metadata": {},
   "source": [
    "np.dot과 np.matmul의 차이\n",
    "\n",
    "- np.dot() 함수는 두 개의 배열을 인수로 받아서 내적(dot product)을 반환합니다. 내적은 두 배열의 대응하는 요소끼리 곱한 값을 모두 더한 것입니다. 즉, 두 배열이 1D 배열인 경우에는 벡터의 내적을 계산하고, 두 배열이 2D 배열인 경우에는 행렬 곱셈을 계산합니다. 이때 두 배열의 차원 수가 다르면 np.dot() 함수는 인수를 전치(transpose)하여 계산\n",
    "\n",
    "- np.matmul() 함수도 두 개의 배열을 인수로 받아서 행렬 곱셈을 반환합니다. 그러나 np.matmul() 함수는 3D 이상의 배열에 대해서도 계산이 가능합니다. 이때 np.matmul() 함수는 마지막 두 차원에 대해서만 행렬 곱셈을 수행\n",
    "\n",
    "- np.matmul() 함수는 첫 번째 배열의 마지막 차원(4)과 두 번째 배열의 두 번째 차원(4)을 곱하여 (2, 3, 3) 크기의 배열을 반환합니다.\n",
    "따라서, np.dot() 함수는 두 배열이 1D 배열이거나 2D 배열인 경우에 사용하고, np.matmul() 함수는 두 배열이 2D 이상인 경우에 사용\n",
    "\n",
    "https://m.blog.naver.com/PostView.naver?isHttpsRedirect=true&blogId=cjh226&logNo=221356884894"
   ]
  },
  {
   "cell_type": "code",
   "execution_count": 57,
   "id": "4eec33d2",
   "metadata": {},
   "outputs": [
    {
     "name": "stdout",
     "output_type": "stream",
     "text": [
      "[[ 58  64]\n",
      " [139 154]]\n",
      "[[ 58  64]\n",
      " [139 154]]\n"
     ]
    }
   ],
   "source": [
    "a = np.array([[1,2,3],[4,5,6]])\n",
    "b = np.array([[7,8],[9,10],[11,12]])\n",
    "print(np.dot(a,b))\n",
    "print(np.matmul(a,b))"
   ]
  },
  {
   "cell_type": "code",
   "execution_count": 58,
   "id": "7b09c6f8",
   "metadata": {},
   "outputs": [
    {
     "name": "stdout",
     "output_type": "stream",
     "text": [
      "[[[[1.65473514 1.69126934 0.57114949]\n",
      "   [1.19738399 1.22494272 1.21003575]]\n",
      "\n",
      "  [[0.93591349 0.9986675  0.6124909 ]\n",
      "   [0.54748258 0.72226742 0.5404211 ]]\n",
      "\n",
      "  [[1.63808525 1.65864655 0.84620178]\n",
      "   [0.65331024 0.79921717 1.21653742]]]\n",
      "\n",
      "\n",
      " [[[1.71662223 1.90460893 0.72432934]\n",
      "   [1.09832569 1.27381574 1.07856772]]\n",
      "\n",
      "  [[0.99732875 1.21569581 0.50544116]\n",
      "   [0.33950224 0.54136289 0.55169977]]\n",
      "\n",
      "  [[1.08218993 1.27095806 0.4073629 ]\n",
      "   [0.63126721 0.75852129 0.64697591]]]]\n",
      "[[[1.65473514 1.69126934 0.57114949]\n",
      "  [0.93591349 0.9986675  0.6124909 ]\n",
      "  [1.63808525 1.65864655 0.84620178]]\n",
      "\n",
      " [[1.09832569 1.27381574 1.07856772]\n",
      "  [0.33950224 0.54136289 0.55169977]\n",
      "  [0.63126721 0.75852129 0.64697591]]]\n"
     ]
    }
   ],
   "source": [
    "a = np.random.rand(2,3,4)\n",
    "b = np.random.rand(2,4,3)\n",
    "\n",
    "print(np.dot(a,b))\n",
    "print(np.matmul(a,b))"
   ]
  },
  {
   "cell_type": "markdown",
   "id": "40a9760a",
   "metadata": {},
   "source": [
    "### 과제1_0421\n",
    "5차원 배열 2개를 생성하여 행렬곱을 계산하시오."
   ]
  },
  {
   "cell_type": "code",
   "execution_count": 64,
   "id": "e6898538",
   "metadata": {},
   "outputs": [
    {
     "data": {
      "text/plain": [
       "array([[[[[1.45351366, 1.80027837, 1.73688669, 1.32161119, 2.14197157,\n",
       "           1.38178935, 1.31747674],\n",
       "          [1.11334712, 1.09755366, 0.96997758, 0.98806154, 1.31984325,\n",
       "           1.31400041, 1.1308811 ],\n",
       "          [0.95464635, 1.04341566, 0.95084789, 1.13224545, 1.35846952,\n",
       "           1.12887341, 0.99264112],\n",
       "          [1.63401101, 2.00098056, 1.85011734, 1.4555084 , 2.34286546,\n",
       "           1.7542404 , 1.55707523],\n",
       "          [0.98127309, 1.3194497 , 1.14208698, 1.09244682, 1.32861293,\n",
       "           0.60812837, 0.63460231]],\n",
       "\n",
       "         [[1.04267998, 1.4182528 , 2.18650081, 1.39102295, 1.26903765,\n",
       "           1.98843782, 1.39090234],\n",
       "          [1.06916995, 1.58137016, 2.11643338, 1.50349269, 1.374499  ,\n",
       "           1.79819018, 1.36530293],\n",
       "          [0.88287659, 1.68688323, 2.65485247, 1.52926337, 1.22608521,\n",
       "           2.14357799, 1.5567354 ],\n",
       "          [1.40438594, 1.63251866, 2.64328806, 1.24751705, 1.21057913,\n",
       "           1.86976249, 1.23873997],\n",
       "          [1.32225964, 1.9316292 , 2.382706  , 1.75331228, 1.4931094 ,\n",
       "           1.37363824, 1.3564678 ]],\n",
       "\n",
       "         [[1.61985859, 1.31383902, 1.42934742, 1.5934256 , 1.09109808,\n",
       "           1.25747871, 0.91895474],\n",
       "          [1.94878848, 2.3982886 , 2.61281839, 2.65511373, 1.88908794,\n",
       "           1.62858081, 1.23408625],\n",
       "          [1.66677405, 1.44509975, 1.73526121, 1.17707866, 1.363462  ,\n",
       "           0.69961392, 0.64486686],\n",
       "          [1.61412909, 1.42488598, 1.86595225, 1.48761635, 1.30927864,\n",
       "           1.06012063, 0.75459854],\n",
       "          [1.89265798, 2.72800056, 2.9184172 , 2.64818483, 2.12045424,\n",
       "           1.26232654, 0.90196239]],\n",
       "\n",
       "         [[1.26260803, 0.99611558, 1.42004371, 0.61782589, 0.95718709,\n",
       "           0.75160887, 1.37086307],\n",
       "          [1.04176016, 0.77272544, 0.98055848, 0.33756723, 0.44513498,\n",
       "           0.57638383, 1.0732124 ],\n",
       "          [0.84675465, 0.63823894, 0.61173905, 0.31155581, 0.37971715,\n",
       "           0.5294625 , 0.85168113],\n",
       "          [1.98560407, 1.68923931, 2.080974  , 0.92404498, 1.3286797 ,\n",
       "           1.27189143, 2.13074924],\n",
       "          [1.60119762, 1.63991879, 1.79308555, 1.06274323, 1.18238018,\n",
       "           1.05653126, 1.87568157]]],\n",
       "\n",
       "\n",
       "        [[[2.99799946, 1.41568066, 1.38799212, 1.81420301, 1.9051441 ,\n",
       "           2.98602448, 1.38421322],\n",
       "          [3.66099689, 1.57210407, 1.85096902, 1.49304634, 1.77132079,\n",
       "           3.2078094 , 1.48435098],\n",
       "          [2.61632115, 0.89917201, 1.37207923, 0.89255524, 1.95363596,\n",
       "           2.17288126, 1.61434617],\n",
       "          [3.27728629, 1.21592615, 1.69661576, 1.22483011, 2.16841802,\n",
       "           2.80168863, 1.75450423],\n",
       "          [1.57085415, 0.70638009, 0.8579041 , 1.19384619, 1.68046811,\n",
       "           1.85961026, 1.2875235 ]],\n",
       "\n",
       "         [[0.72974273, 0.92642585, 1.08540032, 1.46246164, 1.12796335,\n",
       "           1.41913487, 1.7168384 ],\n",
       "          [0.91017452, 0.97705289, 1.59500434, 1.49267242, 1.15796231,\n",
       "           1.67032248, 1.98749321],\n",
       "          [1.38422132, 1.06282073, 2.36657883, 2.27289058, 1.91260784,\n",
       "           2.24982478, 2.732809  ],\n",
       "          [1.33936877, 0.96254387, 2.34255352, 2.41562778, 2.15736649,\n",
       "           2.77895401, 2.86106965],\n",
       "          [1.07027597, 0.90509351, 1.84976783, 1.72876266, 1.51455871,\n",
       "           1.9470401 , 1.92672246]],\n",
       "\n",
       "         [[1.73287923, 1.54799541, 2.44701336, 1.62446978, 2.20900045,\n",
       "           2.19255398, 1.70871671],\n",
       "          [1.25624886, 0.91996782, 1.91589146, 1.37623347, 1.98643467,\n",
       "           1.82158345, 0.85593184],\n",
       "          [1.61816368, 1.28890978, 1.85654657, 1.28226973, 1.81649906,\n",
       "           1.94774218, 0.92290178],\n",
       "          [1.00425673, 1.12612455, 1.65949492, 1.13430953, 1.28533276,\n",
       "           1.63911425, 1.37892333],\n",
       "          [1.62518933, 1.52529937, 2.37744611, 1.79933026, 2.08603729,\n",
       "           2.36324159, 1.43647864]],\n",
       "\n",
       "         [[1.43268369, 1.26964664, 1.33131456, 0.62116102, 1.43763341,\n",
       "           1.3661687 , 1.05512019],\n",
       "          [1.33768476, 1.33161731, 0.80561998, 1.0179984 , 1.45355241,\n",
       "           1.28778344, 1.20131186],\n",
       "          [2.39154147, 2.33584862, 1.89654942, 1.50513039, 2.14313274,\n",
       "           2.04998798, 1.8390796 ],\n",
       "          [2.7530495 , 2.66017554, 1.91148611, 1.49291879, 2.46871351,\n",
       "           2.13814444, 2.12127195],\n",
       "          [2.08094529, 2.10516116, 1.11312039, 1.56754743, 2.02785865,\n",
       "           1.87809545, 1.60808834]]],\n",
       "\n",
       "\n",
       "        [[[0.85538352, 0.83223922, 0.700743  , 1.15458394, 1.25823371,\n",
       "           0.63703125, 0.68407895],\n",
       "          [2.03325707, 2.25397275, 1.7249507 , 1.93382193, 1.86369207,\n",
       "           1.47845256, 1.43832166],\n",
       "          [1.22348247, 1.73517984, 1.36850125, 1.35718026, 1.0932188 ,\n",
       "           0.8274518 , 1.59936856],\n",
       "          [2.81261559, 3.29795667, 2.43381498, 2.77287966, 2.56408547,\n",
       "           1.98473718, 2.35807518],\n",
       "          [1.81068994, 2.16238584, 1.53536957, 2.09264034, 1.85781924,\n",
       "           1.1600655 , 1.58708166]],\n",
       "\n",
       "         [[1.23414886, 1.07048046, 1.788931  , 1.84151537, 0.99232477,\n",
       "           0.8099934 , 1.16341315],\n",
       "          [0.73861315, 0.43618662, 0.57331843, 0.72816639, 0.4196178 ,\n",
       "           0.68431227, 0.96117401],\n",
       "          [0.84475911, 0.30435622, 0.38595946, 0.7377199 , 0.45160229,\n",
       "           0.89742854, 1.13331688],\n",
       "          [2.14966106, 1.36437863, 2.27569439, 2.66569651, 1.35588924,\n",
       "           1.70152574, 2.00525045],\n",
       "          [1.22047534, 0.87395916, 1.19731255, 1.61985663, 0.77251171,\n",
       "           1.11409021, 1.28141629]],\n",
       "\n",
       "         [[1.5671689 , 1.43062539, 2.11614888, 2.42727586, 2.54108967,\n",
       "           2.04458451, 2.26141211],\n",
       "          [1.43566677, 1.40195467, 1.80976713, 2.13212606, 2.05024432,\n",
       "           1.61979374, 2.04526223],\n",
       "          [2.16819235, 1.94753243, 2.43777296, 3.23541352, 2.83612695,\n",
       "           2.70294097, 2.78149366],\n",
       "          [1.26667718, 1.46693728, 1.95604831, 2.04700147, 2.29804885,\n",
       "           1.78479615, 1.95654165],\n",
       "          [2.08726052, 2.21326959, 2.74062095, 3.31360593, 3.03639154,\n",
       "           2.5906097 , 2.96787578]],\n",
       "\n",
       "         [[1.37939539, 0.90099089, 1.34957001, 1.714188  , 2.01563718,\n",
       "           1.43414437, 1.40530355],\n",
       "          [1.23339555, 0.72314606, 1.43277922, 1.45034799, 1.389359  ,\n",
       "           1.43274752, 1.28821266],\n",
       "          [1.21951826, 1.29588056, 1.36340089, 1.91055285, 2.09346647,\n",
       "           1.70721356, 1.10519129],\n",
       "          [1.76608268, 1.01510665, 1.89940743, 2.05604625, 2.18600508,\n",
       "           2.01513116, 1.7881733 ],\n",
       "          [1.53255942, 0.70685459, 1.53837113, 1.41875306, 1.47803058,\n",
       "           1.67548173, 1.81034458]]]],\n",
       "\n",
       "\n",
       "\n",
       "       [[[[0.47483879, 0.6014386 , 0.90296637, 1.15999782, 0.98426113,\n",
       "           1.14233101, 1.43010315],\n",
       "          [1.08028165, 1.2522704 , 2.11205449, 2.09245053, 1.76669855,\n",
       "           2.00069928, 2.25893626],\n",
       "          [0.74708801, 1.3140591 , 1.10248673, 1.42119801, 1.24405718,\n",
       "           1.53626207, 2.39241036],\n",
       "          [1.16611974, 1.43713377, 1.85898807, 2.05424717, 1.81748113,\n",
       "           2.40549654, 2.94211935],\n",
       "          [1.27717087, 1.64531346, 2.12856641, 2.37482538, 2.01174774,\n",
       "           2.43282921, 3.3364067 ]],\n",
       "\n",
       "         [[1.46839708, 0.76191853, 2.06379211, 0.88948279, 1.08061498,\n",
       "           1.49115438, 1.79269037],\n",
       "          [1.86755972, 0.87918416, 2.5288422 , 1.70758691, 1.19529828,\n",
       "           2.26159803, 1.9001438 ],\n",
       "          [1.00399628, 0.88413894, 1.62743315, 1.33501195, 0.63478463,\n",
       "           1.29319941, 1.12226488],\n",
       "          [1.44804166, 0.81549376, 2.04006477, 1.31707613, 1.06753326,\n",
       "           2.10691702, 1.69119865],\n",
       "          [1.12486069, 1.36826907, 2.43181375, 1.98385368, 0.92917976,\n",
       "           2.34158167, 1.57182647]],\n",
       "\n",
       "         [[1.81834928, 1.40813045, 1.29629773, 2.4666577 , 1.58367884,\n",
       "           1.69774084, 2.01374906],\n",
       "          [0.65208913, 0.9341557 , 0.67561991, 1.13498438, 0.69077209,\n",
       "           1.13385932, 0.94704594],\n",
       "          [1.20773123, 1.27762195, 1.10241805, 1.87142784, 1.2500001 ,\n",
       "           1.26362013, 1.48682429],\n",
       "          [1.53803895, 0.60501976, 0.85902032, 1.69394863, 1.32165485,\n",
       "           0.79040965, 1.26861958],\n",
       "          [2.30625206, 2.36952709, 1.83868962, 3.16374708, 2.21054632,\n",
       "           2.00153838, 2.44916842]],\n",
       "\n",
       "         [[2.20537442, 1.95385751, 2.28184935, 1.85697217, 1.98664475,\n",
       "           1.30319415, 1.17571974],\n",
       "          [1.23804864, 1.56734849, 1.78266417, 1.53022578, 1.38783932,\n",
       "           1.04130072, 1.3900507 ],\n",
       "          [2.11754838, 2.25506138, 2.43321244, 2.12625169, 2.32851322,\n",
       "           1.36893076, 1.63202538],\n",
       "          [2.18310056, 2.29646838, 2.18174526, 1.93792022, 2.01926661,\n",
       "           1.23812087, 1.50607232],\n",
       "          [1.84658222, 2.1940558 , 2.18461514, 1.93815563, 1.89786644,\n",
       "           1.2909282 , 1.60322582]]],\n",
       "\n",
       "\n",
       "        [[[0.99155845, 0.5831621 , 0.49031988, 0.85068876, 1.15834079,\n",
       "           0.96487907, 1.1301214 ],\n",
       "          [2.94921802, 2.38760751, 2.02580524, 2.1420949 , 2.78581668,\n",
       "           2.43471947, 2.03888294],\n",
       "          [2.05487129, 1.2715909 , 1.5085959 , 2.12333812, 1.7011051 ,\n",
       "           1.52736275, 1.84756959],\n",
       "          [1.7239677 , 1.78059853, 0.95795144, 1.11525866, 1.69350724,\n",
       "           1.62169616, 1.12022227],\n",
       "          [2.06895339, 1.89457216, 1.29438274, 1.27528458, 1.9796675 ,\n",
       "           1.75327994, 1.36620157]],\n",
       "\n",
       "         [[1.13026055, 1.73898175, 1.29800324, 0.65426195, 1.37802599,\n",
       "           0.80010392, 0.7162564 ],\n",
       "          [1.69624461, 1.82863482, 1.56183223, 1.24253452, 1.95258093,\n",
       "           1.77958277, 1.02053267],\n",
       "          [1.78771335, 2.29171995, 2.4115859 , 1.29367722, 2.47623625,\n",
       "           1.92245515, 1.73309708],\n",
       "          [1.08242591, 1.26875206, 1.73931692, 0.57939618, 1.44991873,\n",
       "           0.93928655, 0.96519665],\n",
       "          [2.14599613, 2.62323116, 2.64395855, 1.56848548, 2.76699618,\n",
       "           2.35126011, 1.98365099]],\n",
       "\n",
       "         [[1.3843251 , 1.76650823, 1.76039148, 1.82624083, 1.28519207,\n",
       "           0.85696172, 1.17851073],\n",
       "          [1.21307385, 1.40105505, 1.5027353 , 1.63012719, 1.00803329,\n",
       "           0.6738343 , 1.09949615],\n",
       "          [2.17980578, 1.79046399, 2.40165933, 2.12368158, 1.95107543,\n",
       "           1.06599613, 2.40245469],\n",
       "          [1.25437782, 1.43111588, 1.5842143 , 2.01910199, 1.49429749,\n",
       "           0.92000628, 1.1425214 ],\n",
       "          [1.92321271, 1.4306771 , 2.13995217, 2.43380566, 1.95951262,\n",
       "           1.07765093, 2.32359073]],\n",
       "\n",
       "         [[1.77648643, 1.43442765, 1.26985211, 1.37504362, 1.55208111,\n",
       "           1.5270317 , 1.81455026],\n",
       "          [1.15113726, 0.98714109, 1.4216103 , 1.21296888, 1.10081648,\n",
       "           0.99516045, 1.20997771],\n",
       "          [2.16110253, 1.64705143, 1.55663803, 1.7455895 , 1.54249946,\n",
       "           2.1304988 , 2.10709522],\n",
       "          [1.43239473, 0.76360999, 0.99857226, 0.92224595, 1.37017451,\n",
       "           1.10333056, 1.17203217],\n",
       "          [0.78914986, 0.48109704, 0.86888179, 0.86237449, 0.52382501,\n",
       "           0.93338633, 0.86779372]]],\n",
       "\n",
       "\n",
       "        [[[1.75849173, 2.63117712, 1.3262455 , 1.53415302, 1.30491605,\n",
       "           1.65062407, 1.8389015 ],\n",
       "          [1.59146682, 1.94252711, 1.13243051, 0.67277026, 1.0863741 ,\n",
       "           1.53592618, 1.60040901],\n",
       "          [1.39418096, 1.43495392, 0.95352433, 1.19564593, 0.77533711,\n",
       "           1.19580584, 1.31755991],\n",
       "          [1.60885628, 2.08603726, 1.03183488, 1.49840895, 1.21567186,\n",
       "           1.63934304, 1.49362712],\n",
       "          [1.35611778, 2.09978534, 1.12411271, 1.46598143, 1.45026643,\n",
       "           1.65810514, 1.30296013]],\n",
       "\n",
       "         [[1.26687773, 2.00372298, 1.40893163, 1.24395964, 2.29482044,\n",
       "           1.20959236, 1.38474246],\n",
       "          [0.71125392, 1.40797508, 0.72266422, 0.73929391, 1.68747169,\n",
       "           0.76126846, 0.70564691],\n",
       "          [1.03014065, 1.74949261, 1.58842117, 0.8437948 , 1.97006865,\n",
       "           0.86945981, 1.31750421],\n",
       "          [0.88704114, 1.38209861, 0.88124252, 0.73648517, 1.72600075,\n",
       "           0.88340383, 0.89878692],\n",
       "          [1.36061437, 1.86845381, 1.1793192 , 1.65727157, 2.38011056,\n",
       "           1.44150116, 1.25081991]],\n",
       "\n",
       "         [[1.0908907 , 1.5238257 , 0.98164686, 2.24093173, 2.39570963,\n",
       "           1.74426125, 1.32360937],\n",
       "          [0.55815646, 0.7048744 , 1.02385247, 1.32746184, 1.56409576,\n",
       "           0.97601008, 0.84535591],\n",
       "          [1.69939384, 1.8258863 , 1.22861932, 3.38359715, 3.16351777,\n",
       "           2.62811844, 2.22356482],\n",
       "          [1.20529297, 1.43791753, 1.27777851, 2.22559792, 2.090917  ,\n",
       "           2.18338984, 1.31986612],\n",
       "          [1.18636386, 1.01649855, 1.39602386, 2.64273956, 2.41622564,\n",
       "           2.02896489, 1.9740831 ]],\n",
       "\n",
       "         [[1.72169846, 1.5772216 , 1.67396586, 1.39005465, 1.39653493,\n",
       "           1.16245491, 1.89753762],\n",
       "          [2.42904906, 1.71875074, 1.34935507, 1.36360474, 1.39980695,\n",
       "           1.58442324, 2.29352263],\n",
       "          [2.11919235, 1.35063106, 1.89296636, 1.5423171 , 1.48058745,\n",
       "           1.8270007 , 2.07513751],\n",
       "          [2.28426759, 1.55620208, 1.67536037, 1.62989643, 1.4623784 ,\n",
       "           1.48011022, 2.17632877],\n",
       "          [1.37726662, 1.40939663, 0.99834601, 0.88987139, 0.8895062 ,\n",
       "           1.11320051, 1.49771852]]]]])"
      ]
     },
     "execution_count": 64,
     "metadata": {},
     "output_type": "execute_result"
    }
   ],
   "source": [
    "a = np.random.rand(2,3,4,5,6)\n",
    "b = np.random.rand(2,3,4,6,7)\n",
    "np.matmul(a,b)"
   ]
  }
 ],
 "metadata": {
  "kernelspec": {
   "display_name": "Python 3 (ipykernel)",
   "language": "python",
   "name": "python3"
  },
  "language_info": {
   "codemirror_mode": {
    "name": "ipython",
    "version": 3
   },
   "file_extension": ".py",
   "mimetype": "text/x-python",
   "name": "python",
   "nbconvert_exporter": "python",
   "pygments_lexer": "ipython3",
   "version": "3.9.13"
  }
 },
 "nbformat": 4,
 "nbformat_minor": 5
}
