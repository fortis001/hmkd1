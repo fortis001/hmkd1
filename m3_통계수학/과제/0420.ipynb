{
 "cells": [
  {
   "cell_type": "code",
   "execution_count": 1,
   "id": "dafbd3f7",
   "metadata": {},
   "outputs": [],
   "source": [
    "import numpy as np\n",
    "import pandas as pd\n",
    "import seaborn as sns\n",
    "import matplotlib.pyplot as plt"
   ]
  },
  {
   "cell_type": "markdown",
   "id": "b416ffd7",
   "metadata": {},
   "source": [
    "### 과제1_0420\n",
    "앞에 언급한 사항들의 사례를 작성해서 의미를 확인하고 설명하시오"
   ]
  },
  {
   "cell_type": "code",
   "execution_count": 2,
   "id": "d4b1f185",
   "metadata": {},
   "outputs": [
    {
     "name": "stdout",
     "output_type": "stream",
     "text": [
      "[[1 2 3]\n",
      " [4 5 6]]\n",
      "[[1 2]\n",
      " [2 3]\n",
      " [3 4]]\n",
      "[[14 20]\n",
      " [32 47]]\n"
     ]
    }
   ],
   "source": [
    "x = np.array([[1,2,3],[4,5,6]])\n",
    "y = np.array([[1,2],[2,3],[3,4]])\n",
    "z = np.array([[1,1],[2,2],[3,3]])\n",
    "\n",
    "\n",
    "print(x)\n",
    "print(y)\n",
    "print(x@y)"
   ]
  },
  {
   "cell_type": "code",
   "execution_count": 3,
   "id": "42709486",
   "metadata": {},
   "outputs": [
    {
     "name": "stdout",
     "output_type": "stream",
     "text": [
      "[[1 4]\n",
      " [2 5]\n",
      " [3 6]]\n",
      "[[1 2]\n",
      " [2 3]\n",
      " [3 4]]\n"
     ]
    },
    {
     "ename": "ValueError",
     "evalue": "matmul: Input operand 1 has a mismatch in its core dimension 0, with gufunc signature (n?,k),(k,m?)->(n?,m?) (size 3 is different from 2)",
     "output_type": "error",
     "traceback": [
      "\u001b[1;31m---------------------------------------------------------------------------\u001b[0m",
      "\u001b[1;31mValueError\u001b[0m                                Traceback (most recent call last)",
      "\u001b[1;32m~\\AppData\\Local\\Temp\\ipykernel_4600\\3882974308.py\u001b[0m in \u001b[0;36m<module>\u001b[1;34m\u001b[0m\n\u001b[0;32m      1\u001b[0m \u001b[0mprint\u001b[0m\u001b[1;33m(\u001b[0m\u001b[0mx\u001b[0m\u001b[1;33m.\u001b[0m\u001b[0mT\u001b[0m\u001b[1;33m)\u001b[0m\u001b[1;33m\u001b[0m\u001b[1;33m\u001b[0m\u001b[0m\n\u001b[0;32m      2\u001b[0m \u001b[0mprint\u001b[0m\u001b[1;33m(\u001b[0m\u001b[0my\u001b[0m\u001b[1;33m)\u001b[0m\u001b[1;33m\u001b[0m\u001b[1;33m\u001b[0m\u001b[0m\n\u001b[1;32m----> 3\u001b[1;33m \u001b[0mprint\u001b[0m\u001b[1;33m(\u001b[0m\u001b[0mx\u001b[0m\u001b[1;33m.\u001b[0m\u001b[0mT\u001b[0m\u001b[1;33m@\u001b[0m\u001b[0my\u001b[0m\u001b[1;33m)\u001b[0m\u001b[1;33m\u001b[0m\u001b[1;33m\u001b[0m\u001b[0m\n\u001b[0m",
      "\u001b[1;31mValueError\u001b[0m: matmul: Input operand 1 has a mismatch in its core dimension 0, with gufunc signature (n?,k),(k,m?)->(n?,m?) (size 3 is different from 2)"
     ]
    }
   ],
   "source": [
    "print(x.T)\n",
    "print(y)\n",
    "print(x.T@y)"
   ]
  },
  {
   "cell_type": "code",
   "execution_count": 4,
   "id": "3ee9aeff",
   "metadata": {},
   "outputs": [
    {
     "name": "stdout",
     "output_type": "stream",
     "text": [
      "[[14 20]\n",
      " [32 47]]\n",
      "[[ 9 12 15]\n",
      " [14 19 24]\n",
      " [19 26 33]]\n"
     ]
    }
   ],
   "source": [
    "print(x@y)\n",
    "print(y@x)"
   ]
  },
  {
   "cell_type": "code",
   "execution_count": 5,
   "id": "c20cf52f",
   "metadata": {},
   "outputs": [
    {
     "name": "stdout",
     "output_type": "stream",
     "text": [
      "[[28 34]\n",
      " [64 79]]\n",
      "[[28 34]\n",
      " [64 79]]\n"
     ]
    }
   ],
   "source": [
    "print(x@(y+z))\n",
    "print(x@y + x@z)"
   ]
  },
  {
   "cell_type": "code",
   "execution_count": 6,
   "id": "36740ce2",
   "metadata": {},
   "outputs": [
    {
     "name": "stdout",
     "output_type": "stream",
     "text": [
      "[[2 4 6]\n",
      " [3 5 7]]\n",
      "[[2 4 6]\n",
      " [3 5 7]]\n"
     ]
    }
   ],
   "source": [
    "print((z+y).T)\n",
    "print(z.T + y.T)"
   ]
  },
  {
   "cell_type": "code",
   "execution_count": 7,
   "id": "d61c3f3c",
   "metadata": {},
   "outputs": [
    {
     "name": "stdout",
     "output_type": "stream",
     "text": [
      "[[14 32]\n",
      " [20 47]]\n",
      "[[14 32]\n",
      " [20 47]]\n"
     ]
    }
   ],
   "source": [
    "print((x@y).T)\n",
    "print(y.T@x.T)"
   ]
  },
  {
   "cell_type": "markdown",
   "id": "8a1e1723",
   "metadata": {},
   "source": [
    "#### 과제2_0420\n",
    "배열 e의 행렬식을 구하면 에러가 발생됩니다. 행렬식의 의미를 감안하여 e행렬을 수정하여 행렬식을 계산하시오.\n",
    "- 행렬식을 계산하시오.\n",
    "- 역행렬을 구하시오.\n",
    "- 역행렬이 맞는지 검증하시오."
   ]
  },
  {
   "cell_type": "code",
   "execution_count": 8,
   "id": "0f3006a9",
   "metadata": {},
   "outputs": [
    {
     "name": "stdout",
     "output_type": "stream",
     "text": [
      "[[1 0 0]\n",
      " [0 0 1]\n",
      " [0 1 0]]\n",
      "-1.0\n",
      "[[1. 0. 0.]\n",
      " [0. 0. 1.]\n",
      " [0. 1. 0.]]\n",
      "[[1. 0. 0.]\n",
      " [0. 1. 0.]\n",
      " [0. 0. 1.]]\n"
     ]
    }
   ],
   "source": [
    "e = np.array([[1,0,0],[0,1,0]])\n",
    "\n",
    "e = np.array([[1,0,0],[0,0,1],[0,1,0]])\n",
    "print(e)\n",
    "print(np.linalg.det(e))\n",
    "a = np.linalg.inv(e)\n",
    "print(a)\n",
    "print(e@a)"
   ]
  },
  {
   "cell_type": "markdown",
   "id": "14615524",
   "metadata": {},
   "source": [
    "### 과제3_0420\n",
    "아래 두 행렬을 생성해서 각각 a1, b1으로 저장하고 행렬 내적을 계산한 결과를 출력하시오.\n",
    "\n",
    "[[1,2,3],[4,5,6]]\n",
    "\n",
    "[[10,11],[12,13],[14,15]]"
   ]
  },
  {
   "cell_type": "code",
   "execution_count": 9,
   "id": "d1722bd1",
   "metadata": {},
   "outputs": [
    {
     "data": {
      "text/plain": [
       "array([[ 76,  82],\n",
       "       [184, 199]])"
      ]
     },
     "execution_count": 9,
     "metadata": {},
     "output_type": "execute_result"
    }
   ],
   "source": [
    "a1 = np.array([[1,2,3],[4,5,6]])\n",
    "b1 = np.array([[10,11],[12,13],[14,15]])\n",
    "\n",
    "a1@b1"
   ]
  },
  {
   "cell_type": "code",
   "execution_count": null,
   "id": "043ab614",
   "metadata": {},
   "outputs": [],
   "source": []
  }
 ],
 "metadata": {
  "kernelspec": {
   "display_name": "Python 3 (ipykernel)",
   "language": "python",
   "name": "python3"
  },
  "language_info": {
   "codemirror_mode": {
    "name": "ipython",
    "version": 3
   },
   "file_extension": ".py",
   "mimetype": "text/x-python",
   "name": "python",
   "nbconvert_exporter": "python",
   "pygments_lexer": "ipython3",
   "version": "3.9.13"
  }
 },
 "nbformat": 4,
 "nbformat_minor": 5
}
