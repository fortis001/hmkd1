{
 "cells": [
  {
   "cell_type": "markdown",
   "metadata": {
    "id": "MUBRVgz6E8wA"
   },
   "source": [
    "## AI데이터플랫폼을 활용한 빅데이터 분석 전문가 과정\n",
    "\n",
    "#### 교과목명 : 프로그래밍 언어 활용\n",
    "\n",
    "- 평가일 : 23.03.24\n",
    "- 성명 : 임수현\n",
    "- 점수 : 87.5\n",
    "\n",
    "※ 문제당 5점으로 채점"
   ]
  },
  {
   "cell_type": "markdown",
   "metadata": {
    "id": "8RQjyavpE8wE"
   },
   "source": [
    "#### 1. numbers 리스트에서 15, 20, 25를 출력하세요.(for문과 if 조건 사용 필수)  \n",
    "numbers = [5, 15, 6, 20, 7, 25]"
   ]
  },
  {
   "cell_type": "code",
   "execution_count": 2,
   "metadata": {},
   "outputs": [
    {
     "name": "stdout",
     "output_type": "stream",
     "text": [
      "15\n",
      "20\n",
      "25\n"
     ]
    }
   ],
   "source": [
    "numbers = [5, 15, 6, 20, 7, 25]\n",
    "for i in numbers:\n",
    "    if i % 5 == 0 and i > 5:\n",
    "        print(i)"
   ]
  },
  {
   "cell_type": "markdown",
   "metadata": {
    "id": "meykYdToE8wH"
   },
   "source": [
    "#### 2. 아래 사용자 함수, 변수 리스트 및 2개의 내장함수를 각각 이용해서  [1, 4, 9, 16, 25], [1, 2]를 출력하세요.(내장함수 2개 사용 필수) "
   ]
  },
  {
   "cell_type": "code",
   "execution_count": 3,
   "metadata": {
    "id": "2wpOoN4AE8wI"
   },
   "outputs": [],
   "source": [
    "# 함수를 선언합니다.\n",
    "def power(item):\n",
    "    return item * item\n",
    "def under_3(item):\n",
    "    return item < 3\n",
    "\n",
    "# 변수를 선언합니다.\n",
    "list_input_a = [1, 2, 3, 4, 5]"
   ]
  },
  {
   "cell_type": "code",
   "execution_count": 5,
   "metadata": {},
   "outputs": [
    {
     "name": "stdout",
     "output_type": "stream",
     "text": [
      "[1, 4, 9, 16, 25]\n",
      "[1, 2]\n"
     ]
    }
   ],
   "source": [
    "list1 = []\n",
    "for i in list_input_a:\n",
    "    list1.append(power(i))\n",
    "    \n",
    "print(list1)\n",
    "\n",
    "list2 = []\n",
    "for i in list_input_a:\n",
    "    if under_3(i):\n",
    "        list2.append(i)\n",
    "print(list2)"
   ]
  },
  {
   "cell_type": "markdown",
   "metadata": {
    "id": "WOZSeJdeE8wJ"
   },
   "source": [
    "#### 3. 정수를 입력하면 짝수 홀수 여부를 반환해주는 프로그램을 작성하세요.(정수 입력 후 '짝수', '홀수'가 일치하게 출력) "
   ]
  },
  {
   "cell_type": "code",
   "execution_count": 9,
   "metadata": {},
   "outputs": [
    {
     "name": "stdout",
     "output_type": "stream",
     "text": [
      "정수를 입력하시오 \n",
      ">아\n",
      "정수가 아닙니다.\n"
     ]
    }
   ],
   "source": [
    "a = input(\"정수를 입력하시오 \\n>\")\n",
    "\n",
    "if a.isdigit():\n",
    "    if int(a)%2 == 0:\n",
    "        print(\"짝수입니다.\")\n",
    "    elif int(a)%2 == 1:\n",
    "        print(\"홀수입니다.\")\n",
    "    else:\n",
    "        print(\"정수가 아닙니다.\")\n",
    "else:\n",
    "    print(\"정수가 아닙니다.\")"
   ]
  },
  {
   "cell_type": "markdown",
   "metadata": {
    "id": "RW2qbdFcE8wK"
   },
   "source": [
    "#### 4. 람다 함수를 이용해서 a의 b제곱에서 a x b를 뺀 수를 구하는 식을 만들고 그 식을 이용해서  a, b가 아래와 같이 주어졌을 때 각각의 값을 구하세요. \n",
    "a = 2, b = 5 \\\n",
    "a= 5, b = 2"
   ]
  },
  {
   "cell_type": "code",
   "execution_count": null,
   "metadata": {},
   "outputs": [],
   "source": [
    "x = lambda "
   ]
  },
  {
   "cell_type": "markdown",
   "metadata": {
    "id": "ZDKM_x4WE8wL"
   },
   "source": [
    "#### 5. 123456789를 입력하면 천 단위로 콤마로 구분하여 출력하세요."
   ]
  },
  {
   "cell_type": "code",
   "execution_count": 149,
   "metadata": {},
   "outputs": [
    {
     "name": "stdout",
     "output_type": "stream",
     "text": [
      "123,456,789\n"
     ]
    }
   ],
   "source": [
    "a = \"123456789\"\n",
    "\n",
    "list1 = list(a)\n",
    "list1.reverse()\n",
    "result = []\n",
    "i = 0\n",
    "\n",
    "while i < len(list1):\n",
    "    if i %3 == 2 and not i == len(list1)-1:\n",
    "        result.append(list1[i])\n",
    "        result.append(\",\")\n",
    "        i += 1\n",
    "    else:\n",
    "        result.append(list1[i])\n",
    "        i += 1\n",
    "result.reverse()      \n",
    "\n",
    "pnt = \"\".join(result)\n",
    "print(pnt)"
   ]
  },
  {
   "cell_type": "markdown",
   "metadata": {
    "id": "ArpZddYjE8wM"
   },
   "source": [
    "#### 6. example_list = [\"요소A\", \"요소B\", \"요소C\"]를 파이썬 내장함수를 이용하여 아래와 같이 출력하세요. \n",
    "0번째 요소는 요소A입니다.\\\n",
    "1번째 요소는 요소B입니다.\\\n",
    "2번째 요소는 요소C입니다."
   ]
  },
  {
   "cell_type": "code",
   "execution_count": 147,
   "metadata": {},
   "outputs": [
    {
     "name": "stdout",
     "output_type": "stream",
     "text": [
      "0번째 요소는 요소A입니다.\n",
      "1번째 요소는 요소B입니다.\n",
      "2번째 요소는 요소C입니다.\n"
     ]
    }
   ],
   "source": [
    "example_list = [\"요소A\", \"요소B\", \"요소C\"]\n",
    "\n",
    "i = 0\n",
    "while i < len(example_list):\n",
    "    print(f\"{i}번째 요소는 {example_list[i]}입니다.\")\n",
    "    i += 1"
   ]
  },
  {
   "cell_type": "markdown",
   "metadata": {
    "id": "OfYeAyHIE8wN"
   },
   "source": [
    "#### 7. 97을 40으로 나눈 몫과 나머지를 내장함수를 이용하여 구하세요.(튜플로 출력 필수) "
   ]
  },
  {
   "cell_type": "code",
   "execution_count": 26,
   "metadata": {},
   "outputs": [
    {
     "name": "stdout",
     "output_type": "stream",
     "text": [
      "(2, 17)\n"
     ]
    }
   ],
   "source": [
    "a = 97\n",
    "b = 40\n",
    "\n",
    "result = tuple([a//b,a%b])\n",
    "print(result)"
   ]
  },
  {
   "cell_type": "markdown",
   "metadata": {
    "id": "aHbiX8XsE8wO"
   },
   "source": [
    "#### 8. list_number = [52, 273, 32, 72, 100]로 변수 선언하고 정수를 입력하면 그 정수 인덱스와 리스트에서 해당하는 값을 출력하는 프로그램을 작성하세요. 단, 모든 예외처리를 수행하며 특히 ValueError와 IndexError는 별도 구분해서 예외처리 한 후 '예외처리 완료'를 마지막으로 출력하세요.\n",
    "\n",
    "- 4 입력시 \\\n",
    "정수 입력> 4 \\\n",
    "4번째 요소: 100\n",
    "예외 처리 완료\n",
    "\n",
    "- 문자 입력시 \\\n",
    "정수 입력> 가 \\\n",
    "정수를 입력해 주세요!\n",
    "예외 처리 완료\n",
    "\n",
    "- 5 입력시 \\\n",
    "정수 입력> 5 \\\n",
    "리스트의 인덱스를 벗어났어요!\n",
    "예외 처리 완료"
   ]
  },
  {
   "cell_type": "code",
   "execution_count": 30,
   "metadata": {},
   "outputs": [
    {
     "name": "stdout",
     "output_type": "stream",
     "text": [
      "정수 입력\n",
      ">5\n",
      "리스트의 인덱스를 벗어났어요!\n",
      "예외 처리 완료.\n"
     ]
    }
   ],
   "source": [
    "list_number = [52, 273, 32, 72, 100]\n",
    "\n",
    "try:\n",
    "    a = int(input(\"정수 입력\\n>\"))\n",
    "    if a > len(list_number)-1:\n",
    "        print(\"리스트의 인덱스를 벗어났어요!\")\n",
    "    else:\n",
    "        print(f\"{a}번째 요소 : {list_number[a]}\")\n",
    "except:\n",
    "    print(\"정수를 입력해 주세요!\")\n",
    "finally:\n",
    "    print(\"예외 처리 완료.\")"
   ]
  },
  {
   "cell_type": "markdown",
   "metadata": {
    "id": "EaQCwEAtE8wP"
   },
   "source": [
    "#### 9. 사용자로부터 서로 다른 숫자 두 개를 입력받고 첫 번째 와 두 번째중 큰 숫자를 구하는 프로그램을 수행하세요."
   ]
  },
  {
   "cell_type": "code",
   "execution_count": 31,
   "metadata": {},
   "outputs": [
    {
     "name": "stdout",
     "output_type": "stream",
     "text": [
      "숫자를 입력55\n",
      "숫자를 입력12.1\n",
      "더 큰 숫자는 55.0입니다.\n"
     ]
    }
   ],
   "source": [
    "try:\n",
    "    a = float(input(\"숫자를 입력\"))\n",
    "    b = float(input(\"숫자를 입력\"))\n",
    "    if a - b > 0:\n",
    "        print(f\"더 큰 숫자는 {a}입니다.\")\n",
    "    else:\n",
    "        print(f\"더 큰 숫자는 {b}입니다.\")\n",
    "except:\n",
    "    print(\"숫자를 입력해 주세요.\")"
   ]
  },
  {
   "cell_type": "markdown",
   "metadata": {
    "id": "LRfQjiCzE8wQ"
   },
   "source": [
    "#### 10. 1부터 100까지 아래와 같은 방식으로 2개의 수를 곱해서 가장 큰 수를 구하세요.\n",
    "\n",
    " 1 * 99 ...99 * 1"
   ]
  },
  {
   "cell_type": "code",
   "execution_count": 34,
   "metadata": {},
   "outputs": [
    {
     "name": "stdout",
     "output_type": "stream",
     "text": [
      "2500\n"
     ]
    }
   ],
   "source": [
    "i = 1\n",
    "result = 0\n",
    "while i < 99:\n",
    "    if result < i*(100-i):\n",
    "        result = i*(100-i)\n",
    "    i += 1\n",
    "    \n",
    "print(result)"
   ]
  },
  {
   "cell_type": "markdown",
   "metadata": {
    "id": "a40kqI8ME8wQ"
   },
   "source": [
    "#### 11. 현재 시간을 년-월-일 시:분:초로 출력하세요."
   ]
  },
  {
   "cell_type": "code",
   "execution_count": 52,
   "metadata": {},
   "outputs": [
    {
     "name": "stdout",
     "output_type": "stream",
     "text": [
      "2023-3-24 14:49:43\n"
     ]
    }
   ],
   "source": [
    "import time\n",
    "\n",
    "T = time.localtime(time.time())\n",
    "\n",
    "print(f\"{T.tm_year}-{T.tm_mon}-{T.tm_mday} {T.tm_hour}:{T.tm_min}:{T.tm_sec}\")"
   ]
  },
  {
   "cell_type": "markdown",
   "metadata": {
    "id": "N9EEnKZvE8wR"
   },
   "source": [
    "#### 12. 1에서 백만까지 더하는데 걸리는 프로그램 실행 시간을 밀리초(ms) 단위로 구하세요.(1000 밀리초(ms) = 1초)"
   ]
  },
  {
   "cell_type": "code",
   "execution_count": 39,
   "metadata": {},
   "outputs": [
    {
     "name": "stdout",
     "output_type": "stream",
     "text": [
      "499999500000\n",
      "runtime : 189.56518173217773 ms\n"
     ]
    }
   ],
   "source": [
    "i = 0\n",
    "sum = 0\n",
    "start = time.time()\n",
    "while i < 1000000:\n",
    "    sum += i\n",
    "    i += 1\n",
    "\n",
    "print(sum)\n",
    "end = time.time()\n",
    "\n",
    "runtime = (end - start)*1000\n",
    "\n",
    "print(f\"runtime : {runtime} ms\")"
   ]
  },
  {
   "cell_type": "markdown",
   "metadata": {
    "id": "vWkI-A1JE8wR"
   },
   "source": [
    "#### 13. [0, 1, 2, 3, 4, 5, 6, 7, 8, 9, 'a', 'b', 'c']에서 9와 'a'를 삭제 후 리스트로 출력하세요"
   ]
  },
  {
   "cell_type": "code",
   "execution_count": 40,
   "metadata": {},
   "outputs": [
    {
     "name": "stdout",
     "output_type": "stream",
     "text": [
      "[0, 1, 2, 3, 4, 5, 6, 7, 8, 'b', 'c']\n"
     ]
    }
   ],
   "source": [
    "list1 = [0, 1, 2, 3, 4, 5, 6, 7, 8, 9, 'a', 'b', 'c']\n",
    "\n",
    "list1.remove(9)\n",
    "list1.remove('a')\n",
    "print(list1)"
   ]
  },
  {
   "cell_type": "markdown",
   "metadata": {
    "id": "GMR1DQYkE8wS"
   },
   "source": [
    "#### 14. 500 ~ 1000사이의 정수 중 5와 7의 공배수의 합을 구하세요"
   ]
  },
  {
   "cell_type": "code",
   "execution_count": 41,
   "metadata": {},
   "outputs": [
    {
     "name": "stdout",
     "output_type": "stream",
     "text": [
      "10535\n"
     ]
    }
   ],
   "source": [
    "\n",
    "i = 500\n",
    "sum = 0\n",
    "while i < 1000:\n",
    "    if i%5 == 0 and i%7 == 0:\n",
    "        sum += i\n",
    "    i += 1\n",
    "    \n",
    "print(sum)"
   ]
  },
  {
   "cell_type": "markdown",
   "metadata": {
    "id": "aUeANeYlE8wS"
   },
   "source": [
    "#### 15. [    ]을 채워서 아래와 같이 출력하세요."
   ]
  },
  {
   "cell_type": "code",
   "execution_count": 47,
   "metadata": {
    "id": "0e9zx41YE8wS"
   },
   "outputs": [
    {
     "name": "stdout",
     "output_type": "stream",
     "text": [
      "[[1, 4, 7], [2, 5, 8], [3, 6, 9]]\n"
     ]
    }
   ],
   "source": [
    "numbers = [1,2,3,4,5,6,7,8,9]\n",
    "output = [[], [], []]\n",
    "\n",
    "i = 0\n",
    "while i < len(numbers):\n",
    "    a = i%3\n",
    "    if a == 0:\n",
    "        output[0].append(numbers[i])\n",
    "        i +=1\n",
    "    elif a == 1:\n",
    "        output[1].append(numbers[i])\n",
    "        i +=1\n",
    "    else:\n",
    "        output[2].append(numbers[i])\n",
    "        i +=1\n",
    "        \n",
    "print(output)"
   ]
  },
  {
   "cell_type": "markdown",
   "metadata": {
    "id": "tCc1vBWeE8wT"
   },
   "source": [
    "####  16. numbers 내부에 들어 있는 숫자가 몇 번 등장하는지를 출력하는 코드를 작성하세요."
   ]
  },
  {
   "cell_type": "code",
   "execution_count": 77,
   "metadata": {},
   "outputs": [
    {
     "name": "stdout",
     "output_type": "stream",
     "text": [
      "2 : 2개\n",
      "3 : 4개\n",
      "4 : 2개\n",
      "5 : 2개\n",
      "6 : 2개\n",
      "7 : 2개\n",
      "8 : 2개\n",
      "9 : 2개\n"
     ]
    }
   ],
   "source": [
    "numbers = [3,6,3,5,8,2,9,7,4,3,6,3,5,8,2,9,7,4]\n",
    "\n",
    "numbers.sort()\n",
    "i = 1\n",
    "count = 1\n",
    "while i < len(numbers):\n",
    "    if numbers[i] == numbers[i-1]:\n",
    "        count += 1\n",
    "    else:\n",
    "        print(f\"{numbers[i-1]} : {count}개\")\n",
    "        count = 1\n",
    "    i += 1\n",
    "print(f\"{numbers[-1]} : {count}개\")"
   ]
  },
  {
   "cell_type": "markdown",
   "metadata": {
    "id": "N1fnr0ISE8wT"
   },
   "source": [
    "#### 17. 클래스 Country를 완성하여 아래와 같이 출력하세요."
   ]
  },
  {
   "cell_type": "code",
   "execution_count": 49,
   "metadata": {
    "id": "9DtEm6x0E8wT",
    "outputId": "08815b9b-78e5-48f0-8e54-8f637d19ce7e"
   },
   "outputs": [
    {
     "name": "stdout",
     "output_type": "stream",
     "text": [
      "한국의 인구는 5천만명이며 수도는서울입니다.\n",
      "1인당 gnp는 USD 3만입니다.\n"
     ]
    }
   ],
   "source": [
    "class Country:\n",
    "    def __init__(self,country,p,city):\n",
    "        self.country = country\n",
    "        self.p = p\n",
    "        self.city = city\n",
    "\n",
    "class Korea(Country):\n",
    "    def desc(self):\n",
    "        print(f\"{self.country}의 인구는 {self.p}천만명이며 수도는{self.city}입니다.\")\n",
    "\n",
    "    def desc1(self,gnp):\n",
    "        self.gnp = gnp\n",
    "        print('1인당 gnp는 USD %d만입니다.' %self.gnp)\n",
    "        \n",
    "obj = Korea('한국',5,'서울')\n",
    "obj.desc()\n",
    "obj.desc1(3)"
   ]
  },
  {
   "cell_type": "markdown",
   "metadata": {
    "id": "64-pIQ7cE8wU"
   },
   "source": [
    "#### 18. 사칙연산을 수행하는  클래스를 작성하여 객체를 만들고 2개의 정수 10, 5를 입력한 후 연산 결과를  포멧을 이용하여 출력하세요."
   ]
  },
  {
   "cell_type": "code",
   "execution_count": 50,
   "metadata": {},
   "outputs": [
    {
     "name": "stdout",
     "output_type": "stream",
     "text": [
      "15 5 50 2.0\n"
     ]
    }
   ],
   "source": [
    "class Cal:\n",
    "    def __init__(self,a,b):\n",
    "        self.a = a\n",
    "        self.b = b\n",
    "    def sum(self):\n",
    "        return self.a+self.b\n",
    "    def sub(self):\n",
    "        return self.a-self.b\n",
    "    def mul(self):\n",
    "        return self.a*self.b\n",
    "    def div(self):\n",
    "        if a != 0 and b != 0:\n",
    "            return self.a/self.b\n",
    "        else:\n",
    "            print(\"나눗셈에는 0이 포함될 수 없습니다.\")\n",
    "            \n",
    "C = Cal(10,5)\n",
    "\n",
    "print(C.sum(),C.sub(),C.mul(),C.div())"
   ]
  },
  {
   "cell_type": "markdown",
   "metadata": {
    "id": "aXnTCJjhE8wV"
   },
   "source": [
    "#### 19. 올해 경과된 날짜수를 계산하여 출력하세요."
   ]
  },
  {
   "cell_type": "code",
   "execution_count": 55,
   "metadata": {},
   "outputs": [
    {
     "name": "stdout",
     "output_type": "stream",
     "text": [
      "2023년, 83일 지났습니다.\n"
     ]
    }
   ],
   "source": [
    "T = time.localtime(time.time())\n",
    "\n",
    "print(f\"{T.tm_year}년, {T.tm_yday}일 지났습니다.\")"
   ]
  },
  {
   "cell_type": "markdown",
   "metadata": {
    "id": "dcwksmd7E8wV"
   },
   "source": [
    "#### 20. # [도전과제] 문자열 리스트 states를 정형화하여 아래와 같이 출력하세요\n",
    "states = ['   Alabama ', 'Georgia!', 'Georgia', 'georgia', 'FlOrIda',\n",
    "          'south   carolina##', 'West virginia?']\n",
    "          \n",
    "[출력]<br>\n",
    "['Alabama',<br>\n",
    " 'Georgia',<br>\n",
    " 'Georgia',<br>\n",
    " 'Georgia',<br>\n",
    " 'Florida',<br>\n",
    " 'South   Carolina',<br>\n",
    " 'West Virginia']"
   ]
  },
  {
   "cell_type": "code",
   "execution_count": 145,
   "metadata": {},
   "outputs": [],
   "source": [
    "def makeCapital(name):\n",
    "\n",
    "    b = name\n",
    "    a = []\n",
    "    for i in b:\n",
    "        i = i.strip()\n",
    "        a.append(i)\n",
    "    if \" \" in name:\n",
    "        a = a.split(\" \")\n",
    "    e = []\n",
    "    i = 0\n",
    "    while i < len(a):\n",
    "        c = list(a[i])\n",
    "        j = 0\n",
    "        d = []\n",
    "        while j < len(c):\n",
    "            if c[j].isalpha():\n",
    "                d.append(c[j].lower())\n",
    "                j += 1\n",
    "            elif c[j] == \" \":\n",
    "                d.append(\" \")\n",
    "                j += 1\n",
    "                d.append(c[j].upper())\n",
    "                j += 1\n",
    "            else:\n",
    "                j += 1\n",
    "        d[0] = d[0].upper()\n",
    "        e.append(\"\".join(d))\n",
    "        i += 1\n",
    "    return e\n",
    "\n",
    "\n"
   ]
  },
  {
   "cell_type": "code",
   "execution_count": 146,
   "metadata": {},
   "outputs": [
    {
     "name": "stdout",
     "output_type": "stream",
     "text": [
      "['Alabama', 'Georgia', 'Georgia', 'Georgia', 'Florida', 'South Carolina', 'West Virginia']\n"
     ]
    }
   ],
   "source": [
    "states = [' Alabama ', 'Georgia!', 'Georgia', 'georgia', 'FlOrIda', 'south carolina##', 'West virginia?']\n",
    "result = makeCapital(states)\n",
    "\n",
    "\n",
    "    \n",
    "print(result)"
   ]
  }
 ],
 "metadata": {
  "colab": {
   "provenance": []
  },
  "kernelspec": {
   "display_name": "Python 3 (ipykernel)",
   "language": "python",
   "name": "python3"
  },
  "language_info": {
   "codemirror_mode": {
    "name": "ipython",
    "version": 3
   },
   "file_extension": ".py",
   "mimetype": "text/x-python",
   "name": "python",
   "nbconvert_exporter": "python",
   "pygments_lexer": "ipython3",
   "version": "3.9.13"
  }
 },
 "nbformat": 4,
 "nbformat_minor": 1
}
