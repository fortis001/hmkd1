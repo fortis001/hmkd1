{
 "cells": [
  {
   "cell_type": "markdown",
   "id": "d0fa3934",
   "metadata": {},
   "source": [
    "#### NumPy는 “Numerical Python“의 약자로 대규모 다차원 배열과 행렬 연산에 필요한 다양한 함수를 제공\n",
    "* Numerical Python을 의미하는 NumPy는 파이썬에서 선형대수 기반의 프로그램을 쉽게 만들 수 있도록 지원하는 대표적인 패키지\n",
    "* 많은 머신러닝 알고리즘이 넘파이 기반으로 작성돼 있으며 알고리즘의 입출력 데이터를 넘파이 배열 타입으로 사용함\n",
    "* 넘파이의 기본 데이터 타입은 ndarray. ndarray를 이용해 넘파이에서 다차원 배열을 쉽게 생성하고 다양한 연산 수행\n",
    "\n",
    "NumPy 특징\n",
    "\n",
    "- 강력한 N 차원 배열 객체\n",
    "- 정교한 브로드케스팅(Broadcast) 기능\n",
    "- C/C ++ 및 포트란 코드 통합 도구\n",
    "- 유용한 선형 대수학, 푸리에 변환 및 난수 기능\n",
    "- 푸리에 변환(Fourier transform, FT)은 시간이나 공간에 대한 함수를 시간 또는 공간 주파수 성분으로 분해하는 변환\n",
    "- 범용적 데이터 처리에 사용 가능한 다차원 컨테이너\n",
    "\n",
    "Numpy Documentation  \n",
    "\n",
    "https://numpy.org/doc/1.21/index.html"
   ]
  },
  {
   "cell_type": "markdown",
   "id": "f1bd0277",
   "metadata": {},
   "source": [
    "Numpy는 대용량 데이터 배열을 효율적으로 다룰 수 있도록 설계되었다.\n",
    "- Numpy는 내부적으로 데이터를 다른 내장 파이썬 객체와 구분된 연속된 메모리 블록에 저장\n",
    "- Numpy의 각종 알고리즘은 모두 C로 작성되어 타입 검사나 다른 오버헤드 없이 메모리를 직접 조작\n",
    "- Numpy 배열은 또한 내장 파이썬의 연속된 자료형들보다 훨씬 더 적은 메모리를 사용\n",
    "- Numpy 연산은 파이썬 반복문을 사용하지 않고 전체 배열에 대한 복잡한 계산을 수행"
   ]
  },
  {
   "cell_type": "code",
   "execution_count": 1,
   "id": "de45257b",
   "metadata": {},
   "outputs": [],
   "source": [
    "import numpy as np\n",
    "\n",
    "z = np.arange(1000000)\n",
    "zlist = list(range(1000000))"
   ]
  },
  {
   "cell_type": "code",
   "execution_count": 2,
   "id": "5ba6ffbd",
   "metadata": {},
   "outputs": [
    {
     "name": "stdout",
     "output_type": "stream",
     "text": [
      "Wall time: 196 ms\n",
      "Wall time: 22.9 ms\n"
     ]
    }
   ],
   "source": [
    "%time for _ in range(10) : z2 = zlist * 2\n",
    "%time for _ in range(10) : z2 = z * 2"
   ]
  },
  {
   "cell_type": "code",
   "execution_count": 3,
   "id": "542eb1d5",
   "metadata": {},
   "outputs": [
    {
     "name": "stdout",
     "output_type": "stream",
     "text": [
      "[[ 1.76405235  0.40015721  0.97873798]\n",
      " [ 2.2408932   1.86755799 -0.97727788]] \n",
      "\n",
      "[[17.64052346  4.00157208  9.78737984]\n",
      " [22.40893199 18.6755799  -9.7727788 ]] \n",
      "\n",
      "[[ 3.52810469  0.80031442  1.95747597]\n",
      " [ 4.4817864   3.73511598 -1.95455576]]\n"
     ]
    }
   ],
   "source": [
    "np.random.seed(0)\n",
    "data = np.random.randn(2,3)\n",
    "print(data,\"\\n\")\n",
    "print(data * 10, \"\\n\")\n",
    "print(data + data)"
   ]
  },
  {
   "cell_type": "code",
   "execution_count": 4,
   "id": "d41bdcbc",
   "metadata": {},
   "outputs": [
    {
     "name": "stdout",
     "output_type": "stream",
     "text": [
      "(2, 3)\n",
      "float64\n",
      "2\n"
     ]
    }
   ],
   "source": [
    "print(data.shape)\n",
    "print(data.dtype)\n",
    "print(data.ndim)"
   ]
  },
  {
   "cell_type": "code",
   "execution_count": 5,
   "id": "77d25ac4",
   "metadata": {},
   "outputs": [
    {
     "name": "stdout",
     "output_type": "stream",
     "text": [
      "[6 7 5 8 0 1] <class 'numpy.ndarray'>\n"
     ]
    }
   ],
   "source": [
    "data1 = [6,7,5,8,0,1]\n",
    "arr1 = np.array(data1)\n",
    "print(arr1,type(arr1))"
   ]
  },
  {
   "cell_type": "code",
   "execution_count": 6,
   "id": "a0b04808",
   "metadata": {},
   "outputs": [
    {
     "name": "stdout",
     "output_type": "stream",
     "text": [
      "[[1 2 3 4]\n",
      " [5 6 7 8]] <class 'numpy.ndarray'>\n",
      "(2, 4)\n",
      "2\n",
      "int32\n"
     ]
    }
   ],
   "source": [
    "data2 = [[1,2,3,4],[5,6,7,8]]\n",
    "arr2 = np.array(data2)\n",
    "print(arr2,type(arr2))\n",
    "print(arr2.shape)\n",
    "print(arr2.ndim)\n",
    "print(arr2.dtype)"
   ]
  },
  {
   "cell_type": "code",
   "execution_count": 7,
   "id": "1a12e8c0",
   "metadata": {},
   "outputs": [
    {
     "name": "stdout",
     "output_type": "stream",
     "text": [
      "[[[ 1  2  3  4  5]\n",
      "  [ 6  7  8  9 10]]\n",
      "\n",
      " [[ 1  2  3  4  5]\n",
      "  [ 6  7  8  9 10]]\n",
      "\n",
      " [[ 1  2  3  4  5]\n",
      "  [ 6  7  8  9 10]]] <class 'numpy.ndarray'>\n",
      "(3, 2, 5)\n",
      "3\n",
      "int32\n"
     ]
    }
   ],
   "source": [
    "data3 = [[[1,2,3,4,5],[6,7,8,9,10]],\n",
    "         [[1,2,3,4,5],[6,7,8,9,10]],\n",
    "         [[1,2,3,4,5],[6,7,8,9,10]]]\n",
    "\n",
    "arr3 = np.array(data3)\n",
    "print(arr3,type(arr3))\n",
    "print(arr3.shape)\n",
    "print(arr3.ndim)\n",
    "print(arr3.dtype)"
   ]
  },
  {
   "cell_type": "markdown",
   "id": "f2927eaa",
   "metadata": {},
   "source": [
    "배열 생성 및 초기화\n",
    "- Numpy는 원하는 shape로 배열을 설정하고 각 요소를 특정 값으로 초기화하는 zeros, ones, full, eye 함수 제공\n",
    "- 파라미터로 입력한 배열과 같은 shape의 배열을 만드는 zeros_like, ones_like, full_like 함수도 제공"
   ]
  },
  {
   "cell_type": "code",
   "execution_count": 8,
   "id": "25b7a66e",
   "metadata": {},
   "outputs": [
    {
     "name": "stdout",
     "output_type": "stream",
     "text": [
      "[0. 0. 0. 0. 0. 0. 0. 0. 0. 0.]\n",
      "[[0. 0. 0. 0. 0.]\n",
      " [0. 0. 0. 0. 0.]\n",
      " [0. 0. 0. 0. 0.]]\n",
      "[[[0. 0.]\n",
      "  [0. 0.]\n",
      "  [0. 0.]]\n",
      "\n",
      " [[0. 0.]\n",
      "  [0. 0.]\n",
      "  [0. 0.]]]\n"
     ]
    }
   ],
   "source": [
    "print(np.zeros(10))\n",
    "print(np.zeros((3,5)))\n",
    "print(np.zeros((2,3,2)))"
   ]
  },
  {
   "cell_type": "code",
   "execution_count": 9,
   "id": "98391255",
   "metadata": {},
   "outputs": [
    {
     "name": "stdout",
     "output_type": "stream",
     "text": [
      "[1. 1. 1. 1. 1. 1. 1. 1. 1. 1.]\n",
      "[[1. 1. 1. 1. 1.]\n",
      " [1. 1. 1. 1. 1.]\n",
      " [1. 1. 1. 1. 1.]]\n",
      "[[[1. 1.]\n",
      "  [1. 1.]\n",
      "  [1. 1.]]\n",
      "\n",
      " [[1. 1.]\n",
      "  [1. 1.]\n",
      "  [1. 1.]]]\n"
     ]
    }
   ],
   "source": [
    "print(np.ones(10))\n",
    "print(np.ones((3,5)))\n",
    "print(np.ones((2,3,2)))"
   ]
  },
  {
   "cell_type": "code",
   "execution_count": 10,
   "id": "39a37497",
   "metadata": {},
   "outputs": [
    {
     "name": "stdout",
     "output_type": "stream",
     "text": [
      "[[0 0 0 0 0]\n",
      " [0 0 0 0 0]]\n",
      "[[1 1 1 1 1]\n",
      " [1 1 1 1 1]]\n",
      "[[5 5 5 5 5]\n",
      " [5 5 5 5 5]]\n"
     ]
    }
   ],
   "source": [
    "a = np.arange(10).reshape(2,5)\n",
    "\n",
    "print(np.zeros_like(a))\n",
    "print(np.ones_like(a))\n",
    "print(np.full_like(a,5))"
   ]
  },
  {
   "cell_type": "code",
   "execution_count": 11,
   "id": "0faee950",
   "metadata": {},
   "outputs": [
    {
     "name": "stdout",
     "output_type": "stream",
     "text": [
      "[ 0  1  2  3  4  5  6  7  8  9 10 11 12 13 14]\n",
      "[[ 0  1  2  3  4]\n",
      " [ 5  6  7  8  9]\n",
      " [10 11 12 13 14]]\n"
     ]
    }
   ],
   "source": [
    "ar = np.arange(15)\n",
    "print(ar)\n",
    "ar2 = ar.reshape(3,5)\n",
    "print(ar2)"
   ]
  },
  {
   "cell_type": "code",
   "execution_count": 12,
   "id": "5b702a66",
   "metadata": {},
   "outputs": [
    {
     "name": "stdout",
     "output_type": "stream",
     "text": [
      "[[0 1]\n",
      " [2 3]\n",
      " [4 5]\n",
      " [6 7]\n",
      " [8 9]]\n"
     ]
    }
   ],
   "source": [
    "array1 = np.arange(10)\n",
    "\n",
    "array1 = array1.reshape(5,2)\n",
    "print(array1)"
   ]
  },
  {
   "cell_type": "code",
   "execution_count": 13,
   "id": "99607c14",
   "metadata": {},
   "outputs": [
    {
     "name": "stdout",
     "output_type": "stream",
     "text": [
      "[ 0  1  2  3  4  5  6  7  8  9 10 11 12 13 14 15 16 17 18 19] \n",
      "\n",
      "[[ 0  1  2  3  4]\n",
      " [ 5  6  7  8  9]\n",
      " [10 11 12 13 14]\n",
      " [15 16 17 18 19]] \n",
      "\n",
      "[[[ 0  1  2  3  4]\n",
      "  [ 5  6  7  8  9]]\n",
      "\n",
      " [[10 11 12 13 14]\n",
      "  [15 16 17 18 19]]]\n"
     ]
    }
   ],
   "source": [
    "ar = np.arange(20)\n",
    "print(ar,\"\\n\")\n",
    "\n",
    "ar = ar.reshape(4,5)\n",
    "print(ar,\"\\n\")\n",
    "\n",
    "ar = ar.reshape(2,2,5)\n",
    "print(ar)"
   ]
  },
  {
   "cell_type": "code",
   "execution_count": 14,
   "id": "815548b8",
   "metadata": {},
   "outputs": [
    {
     "name": "stdout",
     "output_type": "stream",
     "text": [
      "1 -> 2,3차원\n",
      "[[ 0  1  2  3  4]\n",
      " [ 5  6  7  8  9]\n",
      " [10 11 12 13 14]\n",
      " [15 16 17 18 19]\n",
      " [20 21 22 23 24]\n",
      " [25 26 27 28 29]] \n",
      "\n",
      "[[[ 0  1  2  3  4]\n",
      "  [ 5  6  7  8  9]\n",
      "  [10 11 12 13 14]]\n",
      "\n",
      " [[15 16 17 18 19]\n",
      "  [20 21 22 23 24]\n",
      "  [25 26 27 28 29]]]\n"
     ]
    }
   ],
   "source": [
    "ar1 = np.arange(30)\n",
    "print(\"1 -> 2,3차원\")\n",
    "ar12 = ar1.reshape(6,-1)\n",
    "print(ar12, \"\\n\")\n",
    "ar13 = ar1.reshape(-1,3,5)\n",
    "print(ar13)"
   ]
  },
  {
   "cell_type": "code",
   "execution_count": 15,
   "id": "2c9b942b",
   "metadata": {},
   "outputs": [
    {
     "name": "stdout",
     "output_type": "stream",
     "text": [
      "2 -> 1,3차원\n",
      "[[ 0  1  2  3  4]\n",
      " [ 5  6  7  8  9]\n",
      " [10 11 12 13 14]\n",
      " [15 16 17 18 19]\n",
      " [20 21 22 23 24]\n",
      " [25 26 27 28 29]] \n",
      "\n",
      "[ 0  1  2  3  4  5  6  7  8  9 10 11 12 13 14 15 16 17 18 19 20 21 22 23\n",
      " 24 25 26 27 28 29] \n",
      "\n",
      "[[[ 0  1  2  3  4]\n",
      "  [ 5  6  7  8  9]]\n",
      "\n",
      " [[10 11 12 13 14]\n",
      "  [15 16 17 18 19]]\n",
      "\n",
      " [[20 21 22 23 24]\n",
      "  [25 26 27 28 29]]]\n"
     ]
    }
   ],
   "source": [
    "print(\"2 -> 1,3차원\")\n",
    "print(ar12, \"\\n\")\n",
    "ar21 = ar12.reshape(-1,)\n",
    "ar23 = ar12.reshape(-1,2,5)\n",
    "print(ar21, \"\\n\")\n",
    "print(ar23)"
   ]
  },
  {
   "cell_type": "code",
   "execution_count": 16,
   "id": "258a2bf9",
   "metadata": {},
   "outputs": [
    {
     "name": "stdout",
     "output_type": "stream",
     "text": [
      "3 -> 1,2차원\n",
      "[ 0  1  2  3  4  5  6  7  8  9 10 11 12 13 14 15 16 17 18 19 20 21 22 23\n",
      " 24 25 26 27 28 29] \n",
      "\n",
      "[[ 0  1  2  3  4]\n",
      " [ 5  6  7  8  9]\n",
      " [10 11 12 13 14]\n",
      " [15 16 17 18 19]\n",
      " [20 21 22 23 24]\n",
      " [25 26 27 28 29]]\n"
     ]
    }
   ],
   "source": [
    "print(\"3 -> 1,2차원\")\n",
    "ar31 = ar13.reshape(-1,)\n",
    "ar32 = ar13.reshape(-1,5)\n",
    "print(ar31, \"\\n\")\n",
    "print(ar32)"
   ]
  },
  {
   "cell_type": "code",
   "execution_count": 17,
   "id": "c87a624b",
   "metadata": {},
   "outputs": [
    {
     "name": "stdout",
     "output_type": "stream",
     "text": [
      "[[[ 0  1  2  3  4]\n",
      "  [ 5  6  7  8  9]]\n",
      "\n",
      " [[10 11 12 13 14]\n",
      "  [15 16 17 18 19]]\n",
      "\n",
      " [[20 21 22 23 24]\n",
      "  [25 26 27 28 29]]] <class 'numpy.ndarray'> \n",
      "\n",
      "[[[0, 1, 2, 3, 4], [5, 6, 7, 8, 9]], [[10, 11, 12, 13, 14], [15, 16, 17, 18, 19]], [[20, 21, 22, 23, 24], [25, 26, 27, 28, 29]]] <class 'list'>\n"
     ]
    }
   ],
   "source": [
    "ar3 = np.arange(30).reshape(3,2,5)\n",
    "print(ar3, type(ar3),\"\\n\")\n",
    "l3 = ar3.tolist()\n",
    "print(l3, type(l3))"
   ]
  },
  {
   "cell_type": "markdown",
   "id": "e56a5fc6",
   "metadata": {},
   "source": [
    "행렬의 종류\n",
    "\n",
    "https://math-development-geometry.tistory.com/52\n",
    "\n",
    "- 정방행렬은 행과 열의 수가 같은 행렬\n",
    "- 대각행렬은 주대각선 원소를 제외한 모든 원소들이 0인 정방행렬\n",
    "- 삼각행렬은 주대각선 원소를 기준으로 위 또는 아래에 있는 성분이 모두 0인 정방행렬\n",
    "- 항등행렬은 행렬 곱셈 연산에 항등원으로 작용하는 행렬\n",
    "- 영행렬은 모든 원소가 0인 행렬로 곱셈 연산에서 영원으로 작용하는 행렬\n",
    "- 전치행렬은 주대각선 원소를 기준으로 행과 열을 바꿔주는 행렬\n",
    "- 직교행렬은 행렬 A의 역행렬이 A의 전치행렬이고 A의 전치행렬과 A 행렬을 곱하였을때 항등행렬이 나오는 행렬"
   ]
  },
  {
   "cell_type": "code",
   "execution_count": 18,
   "id": "a3963e5d",
   "metadata": {},
   "outputs": [
    {
     "data": {
      "text/plain": [
       "array([[7, 7],\n",
       "       [7, 7]])"
      ]
     },
     "execution_count": 18,
     "metadata": {},
     "output_type": "execute_result"
    }
   ],
   "source": [
    "# 정방행렬\n",
    "a = np.full((2,2),7)\n",
    "a"
   ]
  },
  {
   "cell_type": "code",
   "execution_count": 19,
   "id": "4925215e",
   "metadata": {},
   "outputs": [
    {
     "data": {
      "text/plain": [
       "array([[1., 0., 0.],\n",
       "       [0., 1., 0.],\n",
       "       [0., 0., 1.]])"
      ]
     },
     "execution_count": 19,
     "metadata": {},
     "output_type": "execute_result"
    }
   ],
   "source": [
    "# 항등행렬 = 단위행렬\n",
    "ar = np.eye(3)\n",
    "ar"
   ]
  },
  {
   "cell_type": "code",
   "execution_count": 20,
   "id": "659c0ce3",
   "metadata": {},
   "outputs": [
    {
     "data": {
      "text/plain": [
       "array([[1, 0, 0, 0, 0],\n",
       "       [0, 2, 0, 0, 0],\n",
       "       [0, 0, 3, 0, 0],\n",
       "       [0, 0, 0, 4, 0],\n",
       "       [0, 0, 0, 0, 5]])"
      ]
     },
     "execution_count": 20,
     "metadata": {},
     "output_type": "execute_result"
    }
   ],
   "source": [
    "# 대각행렬\n",
    "diag_mat = np.diag([1,2,3,4,5])\n",
    "diag_mat"
   ]
  },
  {
   "cell_type": "code",
   "execution_count": 21,
   "id": "2f0ad3e6",
   "metadata": {},
   "outputs": [
    {
     "name": "stdout",
     "output_type": "stream",
     "text": [
      "[[1 2 3]\n",
      " [0 5 6]\n",
      " [0 0 9]] \n",
      "\n",
      "[[1 0 0]\n",
      " [4 5 0]\n",
      " [7 8 9]]\n"
     ]
    }
   ],
   "source": [
    "# 삼각행렬\n",
    "upper_tri_mat = np.triu([[1,2,3],[4,5,6],[7,8,9]])\n",
    "print(upper_tri_mat,\"\\n\")\n",
    "lower_tri_mat = np.tril([[1,2,3],[4,5,6],[7,8,9]])\n",
    "print(lower_tri_mat)"
   ]
  },
  {
   "cell_type": "code",
   "execution_count": 22,
   "id": "026a014e",
   "metadata": {},
   "outputs": [
    {
     "name": "stdout",
     "output_type": "stream",
     "text": [
      "[[1 2]\n",
      " [3 4]\n",
      " [5 6]] \n",
      "\n"
     ]
    },
    {
     "data": {
      "text/plain": [
       "array([[1, 3, 5],\n",
       "       [2, 4, 6]])"
      ]
     },
     "execution_count": 22,
     "metadata": {},
     "output_type": "execute_result"
    }
   ],
   "source": [
    "# 전치행렬\n",
    "mat = np.array([[1,2],[3,4],[5,6]])\n",
    "print(mat, \"\\n\")\n",
    "transpose_mat = mat.T\n",
    "transpose_mat"
   ]
  },
  {
   "cell_type": "markdown",
   "id": "b10eb7ae",
   "metadata": {},
   "source": [
    "# 직교행렬 \n",
    "- 행과 열이 서로 직교하는 정방행렬\n",
    "- 모든 열벡터와 행벡터가 서로 직교하고 크기가 1인 단위벡터\n",
    "- np.linalg.qu() 함수를 사용하여 QR분해를 수행하여 직교행렬을 추출\n",
    "- q를 추출하여 직교행렬 orth_mat을 만든다.\n",
    "- np.dot(orth_mat,orth_mat.T)를 계산하여 직교성을 검증\n",
    "- np.allclose() 함수로 두 행렬이 동일한지 검사, True를 반환하면 두 행렬은 동일."
   ]
  },
  {
   "cell_type": "code",
   "execution_count": 23,
   "id": "5c14f60f",
   "metadata": {},
   "outputs": [
    {
     "name": "stdout",
     "output_type": "stream",
     "text": [
      "[[ 0.95008842 -0.15135721 -0.10321885]\n",
      " [ 0.4105985   0.14404357  1.45427351]\n",
      " [ 0.76103773  0.12167502  0.44386323]]\n",
      "[[-0.73954478  0.64510245 -0.19213628]\n",
      " [-0.31960813 -0.58776037 -0.74322836]\n",
      " [-0.59238853 -0.48824233  0.6408551 ]]\n",
      "True\n"
     ]
    }
   ],
   "source": [
    "\n",
    "mat = np.random.randn(3,3)\n",
    "print(mat)\n",
    "\n",
    "# qr 분해\n",
    "q,r = np.linalg.qr(mat)\n",
    "\n",
    "# 직교행렬 추출\n",
    "orth_mat = q\n",
    "print(orth_mat)\n",
    "\n",
    "# 직교성 검증\n",
    "print(np.allclose(np.dot(orth_mat,orth_mat.T),np.eye(3)))"
   ]
  },
  {
   "cell_type": "code",
   "execution_count": 24,
   "id": "0dd9c5d2",
   "metadata": {},
   "outputs": [
    {
     "data": {
      "text/plain": [
       "array([[1, 2, 3],\n",
       "       [4, 5, 6],\n",
       "       [7, 8, 9]])"
      ]
     },
     "execution_count": 24,
     "metadata": {},
     "output_type": "execute_result"
    }
   ],
   "source": [
    "ar2 = np.arange(1,10).reshape(3,3)\n",
    "ar2"
   ]
  },
  {
   "cell_type": "code",
   "execution_count": 25,
   "id": "9b8828b6",
   "metadata": {},
   "outputs": [
    {
     "name": "stdout",
     "output_type": "stream",
     "text": [
      "[7 8 9]\n",
      "3\n"
     ]
    }
   ],
   "source": [
    "print(ar2[2])\n",
    "print(ar2[0][2])"
   ]
  },
  {
   "cell_type": "code",
   "execution_count": 26,
   "id": "beb7e1d7",
   "metadata": {},
   "outputs": [
    {
     "name": "stdout",
     "output_type": "stream",
     "text": [
      "[[1 2]\n",
      " [4 5]]\n",
      "[[4 5 6]\n",
      " [7 8 9]]\n",
      "[[1 2 3]\n",
      " [4 5 6]\n",
      " [7 8 9]]\n",
      "[[1 2]\n",
      " [4 5]]\n",
      "[[1]\n",
      " [4]]\n"
     ]
    }
   ],
   "source": [
    "a = np.arange(1,10).reshape(3,3)\n",
    "a\n",
    "print(a[:2,:2])\n",
    "print(a[1:3,0:3])\n",
    "print(a[0::1])\n",
    "print(a[:2,0:2])\n",
    "print(a[:2,0:1])"
   ]
  },
  {
   "cell_type": "code",
   "execution_count": 27,
   "id": "18174bdb",
   "metadata": {},
   "outputs": [
    {
     "data": {
      "text/plain": [
       "array([1, 2, 3, 4, 5, 6, 7, 8, 9])"
      ]
     },
     "execution_count": 27,
     "metadata": {},
     "output_type": "execute_result"
    }
   ],
   "source": [
    "ar = np.arange(1,10)\n",
    "ar"
   ]
  },
  {
   "cell_type": "code",
   "execution_count": 28,
   "id": "6394c1e5",
   "metadata": {},
   "outputs": [
    {
     "data": {
      "text/plain": [
       "array([6, 7, 8, 9])"
      ]
     },
     "execution_count": 28,
     "metadata": {},
     "output_type": "execute_result"
    }
   ],
   "source": [
    "ar[ar > 5]"
   ]
  },
  {
   "cell_type": "code",
   "execution_count": 59,
   "id": "cd1cf09c",
   "metadata": {},
   "outputs": [
    {
     "name": "stdout",
     "output_type": "stream",
     "text": [
      "[[1 2 3]\n",
      " [4 5 6]\n",
      " [7 8 9]]\n",
      "[3 6]\n",
      "[[1 2]\n",
      " [4 5]]\n",
      "[[1 2 3]\n",
      " [4 5 6]]\n"
     ]
    }
   ],
   "source": [
    "# ar에서 아래아 같이 출력하시오\n",
    "#[3,6]\n",
    "#[[1.2],[4,5]]\n",
    "#[[1,2,3],[4,5,6]]\n",
    "ar = ar.reshape(3,3)\n",
    "print(ar)\n",
    "print(ar[0:2,2])\n",
    "print(ar[:2,:2])\n",
    "print(ar[:2,:])"
   ]
  },
  {
   "cell_type": "code",
   "execution_count": 30,
   "id": "6cf4c461",
   "metadata": {},
   "outputs": [
    {
     "data": {
      "text/plain": [
       "array([11, 12, 13, 14])"
      ]
     },
     "execution_count": 30,
     "metadata": {},
     "output_type": "execute_result"
    }
   ],
   "source": [
    "# 1~ 14까지 ndarray를 만들어 array_e로 저장하고 array_e/2 > 3을 만족하는 값을 불린 인덱스로 출력하세요.\n",
    "\n",
    "array_e = np.arange(1,15)\n",
    "array_e[(array_e/2)>5]"
   ]
  },
  {
   "cell_type": "code",
   "execution_count": 31,
   "id": "02c19afd",
   "metadata": {},
   "outputs": [
    {
     "data": {
      "text/plain": [
       "array([1.49407907, 0.6536186 , 0.8644362 , 2.26975462, 1.53277921,\n",
       "       1.46935877, 1.23029068, 1.20237985, 1.9507754 , 0.77749036,\n",
       "       0.72909056, 1.13940068, 0.90082649, 1.48825219, 1.89588918,\n",
       "       1.17877957, 1.05445173, 1.22244507, 0.97663904, 0.70657317,\n",
       "       1.78587049, 1.8831507 , 0.96939671, 1.94362119, 1.92294203,\n",
       "       1.48051479, 1.86755896, 0.90604466, 1.91006495])"
      ]
     },
     "execution_count": 31,
     "metadata": {},
     "output_type": "execute_result"
    }
   ],
   "source": [
    "# arr에서 0.5보다 큰 수를 출력하라\n",
    "arr = np.random.randn(100)\n",
    "arr[arr > 0.5]"
   ]
  },
  {
   "cell_type": "code",
   "execution_count": 32,
   "id": "cee30205",
   "metadata": {},
   "outputs": [
    {
     "data": {
      "text/plain": [
       "array([ 0,  3,  6,  9, 12, 15, 18, 21, 24, 27])"
      ]
     },
     "execution_count": 32,
     "metadata": {},
     "output_type": "execute_result"
    }
   ],
   "source": [
    "np.random.seed(0)\n",
    "data = np.arange(30)\n",
    "data[data%3 == 0]"
   ]
  },
  {
   "cell_type": "code",
   "execution_count": 60,
   "id": "2406a5f9",
   "metadata": {},
   "outputs": [
    {
     "data": {
      "text/plain": [
       "(array([0, 1, 4], dtype=int64),)"
      ]
     },
     "execution_count": 60,
     "metadata": {},
     "output_type": "execute_result"
    }
   ],
   "source": [
    "# [1,2,0,0,4,0]에서 zero가 아닌 인덱스를 배열 형태로 출력하세요.\n",
    "data = np.array([1,2,0,0,4,0])\n",
    "np.nonzero(data)"
   ]
  },
  {
   "cell_type": "code",
   "execution_count": 34,
   "id": "7421417d",
   "metadata": {},
   "outputs": [
    {
     "data": {
      "text/plain": [
       "array([False, False,  True,  True])"
      ]
     },
     "execution_count": 34,
     "metadata": {},
     "output_type": "execute_result"
    }
   ],
   "source": [
    "bools = np.array([False,False,True,True])\n",
    "bools"
   ]
  },
  {
   "cell_type": "code",
   "execution_count": 35,
   "id": "bee231c8",
   "metadata": {},
   "outputs": [
    {
     "data": {
      "text/plain": [
       "True"
      ]
     },
     "execution_count": 35,
     "metadata": {},
     "output_type": "execute_result"
    }
   ],
   "source": [
    "# 하나 이상의 값이 True인지 검사\n",
    "bools.any()"
   ]
  },
  {
   "cell_type": "code",
   "execution_count": 36,
   "id": "c8ba9fa9",
   "metadata": {},
   "outputs": [
    {
     "data": {
      "text/plain": [
       "False"
      ]
     },
     "execution_count": 36,
     "metadata": {},
     "output_type": "execute_result"
    }
   ],
   "source": [
    "# 모든 원소가 True인지 검사\n",
    "bools.all()"
   ]
  },
  {
   "cell_type": "code",
   "execution_count": 37,
   "id": "2aa6ee1d",
   "metadata": {},
   "outputs": [
    {
     "data": {
      "text/plain": [
       "array([[ 2,  2,  2,  2],\n",
       "       [ 2, -2,  2, -2],\n",
       "       [-2,  2,  2,  2],\n",
       "       [ 2,  2,  2,  2]])"
      ]
     },
     "execution_count": 37,
     "metadata": {},
     "output_type": "execute_result"
    }
   ],
   "source": [
    "# arr에서 0보다 크면 2, 아니면 -2로 변경하라\n",
    "arr = np.random.randn(4,4)\n",
    "np.where(arr > 0, 2, -2)"
   ]
  },
  {
   "cell_type": "code",
   "execution_count": 38,
   "id": "717a818e",
   "metadata": {},
   "outputs": [
    {
     "data": {
      "text/plain": [
       "array([[ 2.        , -0.20515826,  2.        , -0.85409574],\n",
       "       [-2.55298982,  2.        ,  2.        , -0.74216502],\n",
       "       [ 2.        , -1.45436567,  2.        , -0.18718385],\n",
       "       [ 2.        ,  2.        ,  2.        ,  2.        ]])"
      ]
     },
     "execution_count": 38,
     "metadata": {},
     "output_type": "execute_result"
    }
   ],
   "source": [
    "# arr의 모든 양수를 2로 바꾸세요.\n",
    "arr = np.random.randn(4,4)\n",
    "arr[arr > 0] = 2\n",
    "arr"
   ]
  },
  {
   "cell_type": "code",
   "execution_count": 39,
   "id": "523dbedf",
   "metadata": {},
   "outputs": [
    {
     "data": {
      "text/plain": [
       "array([45, 48, 65, 68, 68, 10, 84, 22, 37, 88])"
      ]
     },
     "execution_count": 39,
     "metadata": {},
     "output_type": "execute_result"
    }
   ],
   "source": [
    "# np.sort() : 복사본을 정렬 반환\n",
    "np.random.seed(0)\n",
    "arr = np.random.randint(1,100,size = 10)\n",
    "arr"
   ]
  },
  {
   "cell_type": "code",
   "execution_count": 40,
   "id": "2fadc1d8",
   "metadata": {},
   "outputs": [
    {
     "data": {
      "text/plain": [
       "array([10, 22, 37, 45, 48, 65, 68, 68, 84, 88])"
      ]
     },
     "execution_count": 40,
     "metadata": {},
     "output_type": "execute_result"
    }
   ],
   "source": [
    "np.sort(arr)"
   ]
  },
  {
   "cell_type": "code",
   "execution_count": 41,
   "id": "7aef0879",
   "metadata": {},
   "outputs": [
    {
     "data": {
      "text/plain": [
       "array([[ 7,  1],\n",
       "       [ 8, 12]])"
      ]
     },
     "execution_count": 41,
     "metadata": {},
     "output_type": "execute_result"
    }
   ],
   "source": [
    "ar2 = np.array([[8,12],\n",
    "              [7,1]])\n",
    "np.sort(ar2, axis = 0)"
   ]
  },
  {
   "cell_type": "code",
   "execution_count": 42,
   "id": "19823ea6",
   "metadata": {},
   "outputs": [
    {
     "data": {
      "text/plain": [
       "array([1, 1, 5, 6, 6, 7, 7, 8, 8, 8])"
      ]
     },
     "execution_count": 42,
     "metadata": {},
     "output_type": "execute_result"
    }
   ],
   "source": [
    "# ndarray.sort() : 원본에 정렬 적용\n",
    "\n",
    "arr = np.random.randint(10,size = 10)\n",
    "arr.sort()\n",
    "arr"
   ]
  },
  {
   "cell_type": "code",
   "execution_count": 43,
   "id": "cbc493fc",
   "metadata": {},
   "outputs": [
    {
     "data": {
      "text/plain": [
       "array([[9, 8, 9, 4, 3, 0, 3, 5, 0, 2],\n",
       "       [3, 8, 1, 3, 3, 3, 7, 0, 1, 9],\n",
       "       [9, 0, 4, 7, 3, 2, 7, 2, 0, 0],\n",
       "       [4, 5, 5, 6, 8, 4, 1, 4, 9, 8],\n",
       "       [1, 1, 7, 9, 9, 3, 6, 7, 2, 0],\n",
       "       [3, 5, 9, 4, 4, 6, 4, 4, 3, 4],\n",
       "       [4, 8, 4, 3, 7, 5, 5, 0, 1, 5],\n",
       "       [9, 3, 0, 5, 0, 1, 2, 4, 2, 0],\n",
       "       [3, 2, 0, 7, 5, 9, 0, 2, 7, 2],\n",
       "       [9, 2, 3, 3, 2, 3, 4, 1, 2, 9]])"
      ]
     },
     "execution_count": 43,
     "metadata": {},
     "output_type": "execute_result"
    }
   ],
   "source": [
    "arr = np.random.randint(10,size = (10,10))\n",
    "arr"
   ]
  },
  {
   "cell_type": "code",
   "execution_count": 44,
   "id": "73b58967",
   "metadata": {},
   "outputs": [
    {
     "data": {
      "text/plain": [
       "array([[0, 0, 0, 1, 2, 2, 3, 4, 5, 8],\n",
       "       [0, 0, 0, 2, 2, 3, 3, 4, 6, 9],\n",
       "       [0, 0, 1, 2, 2, 3, 3, 5, 7, 9],\n",
       "       [0, 0, 1, 2, 3, 3, 4, 5, 7, 9],\n",
       "       [0, 1, 2, 2, 3, 3, 4, 7, 7, 9],\n",
       "       [0, 1, 2, 3, 3, 4, 5, 7, 8, 9],\n",
       "       [0, 1, 2, 3, 3, 4, 5, 7, 8, 9],\n",
       "       [1, 2, 3, 4, 4, 5, 5, 7, 9, 9],\n",
       "       [1, 3, 4, 4, 4, 5, 6, 8, 9, 9],\n",
       "       [3, 4, 4, 4, 5, 6, 7, 8, 9, 9]])"
      ]
     },
     "execution_count": 44,
     "metadata": {},
     "output_type": "execute_result"
    }
   ],
   "source": [
    "arr.sort(axis = 1)\n",
    "arr.sort(axis = 0)\n",
    "arr"
   ]
  },
  {
   "cell_type": "code",
   "execution_count": 45,
   "id": "cf55ddb3",
   "metadata": {},
   "outputs": [
    {
     "name": "stdout",
     "output_type": "stream",
     "text": [
      "[3 1 9 5]\n"
     ]
    },
    {
     "data": {
      "text/plain": [
       "array([1, 0, 3, 2], dtype=int64)"
      ]
     },
     "execution_count": 45,
     "metadata": {},
     "output_type": "execute_result"
    }
   ],
   "source": [
    "# 정렬된 행렬의 인덱스 반환 : 기존 원본 행렬의 원소에 대한 인덱스를 필요로 할 떄\n",
    "org_array = np.array([3,1,9,5])\n",
    "sort_indices = np.argsort(org_array)\n",
    "print(org_array)\n",
    "sort_indices"
   ]
  },
  {
   "cell_type": "code",
   "execution_count": 46,
   "id": "a6d4703c",
   "metadata": {},
   "outputs": [
    {
     "data": {
      "text/plain": [
       "array([0, 1, 2, 3, 4, 5, 6, 7, 8, 9])"
      ]
     },
     "execution_count": 46,
     "metadata": {},
     "output_type": "execute_result"
    }
   ],
   "source": [
    "# 배열 데이터의 입출력\n",
    "# np.save, np.load는 바이너리 형식, npy 파일로 저장\n",
    "arr = np.arange(10)\n",
    "np.save(\"some_array\", arr)\n",
    "\n",
    "np.load(\"some_array.npy\")"
   ]
  },
  {
   "cell_type": "code",
   "execution_count": 47,
   "id": "19470f7f",
   "metadata": {},
   "outputs": [
    {
     "data": {
      "text/plain": [
       "array([0, 1, 2, 3, 4, 5, 6, 7, 8, 9])"
      ]
     },
     "execution_count": 47,
     "metadata": {},
     "output_type": "execute_result"
    }
   ],
   "source": [
    "# np.savez : 여러 개의 배열을 압축된 형식으로 저장\n",
    "np.savez(\"array_archive.npz\", a = arr, b = arr)\n",
    "arch = np.load(\"array_archive.npz\")\n",
    "arch[\"b\"]"
   ]
  },
  {
   "cell_type": "code",
   "execution_count": 48,
   "id": "f167099d",
   "metadata": {},
   "outputs": [
    {
     "data": {
      "text/plain": [
       "array([1, 0, 1, 0, 1, 0, 1, 0, 1, 0])"
      ]
     },
     "execution_count": 48,
     "metadata": {},
     "output_type": "execute_result"
    }
   ],
   "source": [
    "# 인덱싱을 사용하여 [1,0,1,0,1,0,1,0,1,0]을 출력하세요.\n",
    "arr = np.array([1,2,3,4,5,6,7,8,9,10])\n",
    "arr[:] = arr%2\n",
    "arr"
   ]
  },
  {
   "cell_type": "code",
   "execution_count": 61,
   "id": "7ccce3d5",
   "metadata": {},
   "outputs": [
    {
     "data": {
      "text/plain": [
       "array([[  1,   2,   3,   4,   5,   6,   7,   8,   9,  10],\n",
       "       [ 20,  19,  18,  17,  16,  15,  14,  13,  12,  11],\n",
       "       [ 21,  22,  23,  24,  25,  26,  27,  28,  29,  30],\n",
       "       [ 40,  39,  38,  37,  36,  35,  34,  33,  32,  31],\n",
       "       [ 41,  42,  43,  44,  45,  46,  47,  48,  49,  50],\n",
       "       [ 60,  59,  58,  57,  56,  55,  54,  53,  52,  51],\n",
       "       [ 61,  62,  63,  64,  65,  66,  67,  68,  69,  70],\n",
       "       [ 80,  79,  78,  77,  76,  75,  74,  73,  72,  71],\n",
       "       [ 81,  82,  83,  84,  85,  86,  87,  88,  89,  90],\n",
       "       [100,  99,  98,  97,  96,  95,  94,  93,  92,  91]])"
      ]
     },
     "execution_count": 61,
     "metadata": {},
     "output_type": "execute_result"
    }
   ],
   "source": [
    "# 1 ~ 100을 아래와 같이 출력하세요\n",
    "arr = np.arange(1,101).reshape(10,10)\n",
    "arr[1::2] = arr[1::2, ::-1]\n",
    "arr"
   ]
  },
  {
   "cell_type": "code",
   "execution_count": 50,
   "id": "4b98524d",
   "metadata": {},
   "outputs": [
    {
     "data": {
      "text/plain": [
       "array([[1., 1., 1., 1., 1., 1., 1., 1., 1., 1.],\n",
       "       [1., 0., 0., 0., 0., 0., 0., 0., 0., 1.],\n",
       "       [1., 0., 0., 0., 0., 0., 0., 0., 0., 1.],\n",
       "       [1., 0., 0., 0., 0., 0., 0., 0., 0., 1.],\n",
       "       [1., 0., 0., 0., 0., 0., 0., 0., 0., 1.],\n",
       "       [1., 0., 0., 0., 0., 0., 0., 0., 0., 1.],\n",
       "       [1., 0., 0., 0., 0., 0., 0., 0., 0., 1.],\n",
       "       [1., 0., 0., 0., 0., 0., 0., 0., 0., 1.],\n",
       "       [1., 0., 0., 0., 0., 0., 0., 0., 0., 1.],\n",
       "       [1., 1., 1., 1., 1., 1., 1., 1., 1., 1.]])"
      ]
     },
     "execution_count": 50,
     "metadata": {},
     "output_type": "execute_result"
    }
   ],
   "source": [
    "# np.ones((10,10))을 아래와 같이 출력하세요\n",
    "arr = np.ones((10,10))\n",
    "arr[1:9,1:9] = 0\n",
    "arr"
   ]
  },
  {
   "cell_type": "code",
   "execution_count": 51,
   "id": "0fb96843",
   "metadata": {},
   "outputs": [
    {
     "data": {
      "text/plain": [
       "array([[0., 0., 0., 0., 0., 0., 0., 0., 0., 0.],\n",
       "       [0., 0., 0., 0., 0., 0., 0., 0., 0., 0.],\n",
       "       [0., 0., 1., 1., 1., 1., 1., 1., 0., 0.],\n",
       "       [0., 0., 1., 1., 1., 1., 1., 1., 0., 0.],\n",
       "       [0., 0., 1., 1., 1., 1., 1., 1., 0., 0.],\n",
       "       [0., 0., 1., 1., 1., 1., 1., 1., 0., 0.],\n",
       "       [0., 0., 1., 1., 1., 1., 1., 1., 0., 0.],\n",
       "       [0., 0., 1., 1., 1., 1., 1., 1., 0., 0.],\n",
       "       [0., 0., 0., 0., 0., 0., 0., 0., 0., 0.],\n",
       "       [0., 0., 0., 0., 0., 0., 0., 0., 0., 0.]])"
      ]
     },
     "execution_count": 51,
     "metadata": {},
     "output_type": "execute_result"
    }
   ],
   "source": [
    "#  np.ones((5,5))을 아래와 같이 출력하세요\n",
    "arr = np.zeros((10,10))\n",
    "arr[2:8,2:8] = 1\n",
    "arr"
   ]
  },
  {
   "cell_type": "code",
   "execution_count": 62,
   "id": "4a944edb",
   "metadata": {},
   "outputs": [
    {
     "name": "stdout",
     "output_type": "stream",
     "text": [
      "[[0. 1. 0. 1. 0. 1. 0. 1.]\n",
      " [1. 0. 1. 0. 1. 0. 1. 0.]\n",
      " [0. 1. 0. 1. 0. 1. 0. 1.]\n",
      " [1. 0. 1. 0. 1. 0. 1. 0.]\n",
      " [0. 1. 0. 1. 0. 1. 0. 1.]\n",
      " [1. 0. 1. 0. 1. 0. 1. 0.]\n",
      " [0. 1. 0. 1. 0. 1. 0. 1.]\n",
      " [1. 0. 1. 0. 1. 0. 1. 0.]]\n",
      "[[0 1 0 1 0 1 0 1]\n",
      " [1 0 1 0 1 0 1 0]\n",
      " [0 1 0 1 0 1 0 1]\n",
      " [1 0 1 0 1 0 1 0]\n",
      " [0 1 0 1 0 1 0 1]\n",
      " [1 0 1 0 1 0 1 0]\n",
      " [0 1 0 1 0 1 0 1]\n",
      " [1 0 1 0 1 0 1 0]]\n"
     ]
    }
   ],
   "source": [
    "# np.zeros((8,8))을 이용해서 아래와 같이 출력하세요(두가지 방식:인덱싱, tile 함수)\n",
    "arr = np.zeros((8,8))\n",
    "for i in range(8):\n",
    "    for j in range(8):\n",
    "        if (i + j) % 2 != 0:\n",
    "            arr[i][j] = 1\n",
    "print(arr)\n",
    "arr = np.tile(np.array([[0, 1], [1, 0]]), (4, 4))\n",
    "print(arr)"
   ]
  },
  {
   "cell_type": "code",
   "execution_count": 53,
   "id": "5f06aef3",
   "metadata": {},
   "outputs": [
    {
     "data": {
      "text/plain": [
       "array([[0, 1, 0, 1, 0, 1, 0, 1],\n",
       "       [1, 0, 1, 0, 1, 0, 1, 0],\n",
       "       [0, 1, 0, 1, 0, 1, 0, 1],\n",
       "       [1, 0, 1, 0, 1, 0, 1, 0],\n",
       "       [0, 1, 0, 1, 0, 1, 0, 1],\n",
       "       [1, 0, 1, 0, 1, 0, 1, 0],\n",
       "       [0, 1, 0, 1, 0, 1, 0, 1],\n",
       "       [1, 0, 1, 0, 1, 0, 1, 0]])"
      ]
     },
     "execution_count": 53,
     "metadata": {},
     "output_type": "execute_result"
    }
   ],
   "source": [
    "arr = np.tile(np.array([[0, 1], [1, 0]]), (4, 4))\n",
    "arr"
   ]
  },
  {
   "cell_type": "code",
   "execution_count": 54,
   "id": "45c697ae",
   "metadata": {},
   "outputs": [
    {
     "data": {
      "text/plain": [
       "(1, 5, 4)"
      ]
     },
     "execution_count": 54,
     "metadata": {},
     "output_type": "execute_result"
    }
   ],
   "source": [
    "# np.arange(336).reshape(6,7,8)에서 100번째 요소의 인덱스를 구하세요\n",
    "arr = np.arange(336).reshape(6,7,8)\n",
    "np.unravel_index(100, arr.shape)"
   ]
  }
 ],
 "metadata": {
  "kernelspec": {
   "display_name": "Python 3 (ipykernel)",
   "language": "python",
   "name": "python3"
  },
  "language_info": {
   "codemirror_mode": {
    "name": "ipython",
    "version": 3
   },
   "file_extension": ".py",
   "mimetype": "text/x-python",
   "name": "python",
   "nbconvert_exporter": "python",
   "pygments_lexer": "ipython3",
   "version": "3.9.13"
  }
 },
 "nbformat": 4,
 "nbformat_minor": 5
}
