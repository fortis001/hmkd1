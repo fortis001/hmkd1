{
 "cells": [
  {
   "cell_type": "code",
   "execution_count": 1,
   "id": "ad061f89",
   "metadata": {},
   "outputs": [],
   "source": [
    "import numpy as np\n",
    "import pandas as pd\n",
    "import seaborn as sns\n",
    "import matplotlib.pyplot as plt"
   ]
  },
  {
   "cell_type": "code",
   "execution_count": null,
   "id": "09c25913",
   "metadata": {},
   "outputs": [],
   "source": [
    "\n",
    "\n",
    "\n",
    "\n",
    "\n",
    "\n",
    "\n",
    "data = {'id' : customer_id,'gender': gender,'age' : age,\"age_cat\" : age_cat,'region' : region,'pdt_22' : pdt_22,\"pdt_23\" : pdt_23,\n",
    "        'price_22' : pa_22,\"price_23\" : pa_23,'qty_22' : q_22,\"qty_23\" : q_23, \n",
    "        'month_22' : t_22,\"month_23\" : t_23, \"season_22\" : season_22, \"season_23\" : season_23, \"channel\" : channel,\"tr_y\" : tr_y}"
   ]
  }
 ],
 "metadata": {
  "kernelspec": {
   "display_name": "Python 3 (ipykernel)",
   "language": "python",
   "name": "python3"
  },
  "language_info": {
   "codemirror_mode": {
    "name": "ipython",
    "version": 3
   },
   "file_extension": ".py",
   "mimetype": "text/x-python",
   "name": "python",
   "nbconvert_exporter": "python",
   "pygments_lexer": "ipython3",
   "version": "3.9.13"
  }
 },
 "nbformat": 4,
 "nbformat_minor": 5
}
