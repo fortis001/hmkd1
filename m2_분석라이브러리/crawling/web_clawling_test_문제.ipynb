{
 "cells": [
  {
   "cell_type": "code",
   "execution_count": 82,
   "metadata": {},
   "outputs": [],
   "source": [
    "import re\n",
    "import urllib\n",
    "import requests\n",
    "from bs4 import BeautifulSoup\n",
    "import selenium\n",
    "from selenium import webdriver\n",
    "from selenium.webdriver.common.keys import Keys\n",
    "import time\n",
    "from selenium.webdriver.common.by import By\n",
    "from selenium.webdriver.support.ui import WebDriverWait\n",
    "from selenium.webdriver.support import expected_conditions as EC\n",
    "\n",
    "import warnings\n",
    "warnings.filterwarnings(\"ignore\")\n",
    "\n",
    "headers = {\"User-Agent\":\"Mozilla/5.0 (Windows NT 10.0; Win64; x64) AppleWebKit/537.36 (KHTML, like Gecko) Chrome/96.0.4664.45 Safari/537.36\"}"
   ]
  },
  {
   "cell_type": "markdown",
   "metadata": {},
   "source": [
    "Q1. url = \"http://finance.naver.com/marketindex/\" 사이트에서 usd/krw 환율을 출력하세요."
   ]
  },
  {
   "cell_type": "code",
   "execution_count": 5,
   "metadata": {},
   "outputs": [
    {
     "name": "stdout",
     "output_type": "stream",
     "text": [
      "USD/KRW = 1:1,324.40\n"
     ]
    }
   ],
   "source": [
    "url = \"http://finance.naver.com/marketindex/\"\n",
    "html = urllib.request.urlopen(url)\n",
    "bs = BeautifulSoup(html, \"html.parser\")\n",
    "\n",
    "line = bs.select_one(\"#exchangeList > li.on > a.head.usd > div > span.value\")\n",
    "\n",
    "print(f\"USD/KRW = 1:{line.text}\")"
   ]
  },
  {
   "cell_type": "markdown",
   "metadata": {},
   "source": [
    "Q2. 'https://news.naver.com/main/main.nhn?mode=LSD&mid=shm&sid1=100' 사이트에서 '기사목록'을 출력하세요 "
   ]
  },
  {
   "cell_type": "code",
   "execution_count": 120,
   "metadata": {},
   "outputs": [
    {
     "name": "stdout",
     "output_type": "stream",
     "text": [
      "與, 文 정부 출신 장관급·공기업 인사에 연일 사퇴 압박\n",
      "여당, 文정부 장관급·공기업 인사에 “반정부 노릇하며 알박기···사퇴해야”\n",
      "與박대출 “정연주·한상혁·전현희, 세금 도둑질 그만하고 물러나야”\n",
      "박대출, 文정부 '알박기 인사' 저격… \"반정부 기관장 물러나야\"\n",
      "與윤리위 긴급 소집…태영호 '녹취록 파문' 병합 심사 결정(종합)\n",
      "사면초가 태영호 “절대 굴복하지 않겠다”지만 김기현 “당에 상당한 부담”\n",
      "'녹취 논란' 태영호 \"굴복 않겠다\"…김기현 \"윤리위 병합판단 요청\"\n",
      "태영호에 선 긋기? 국민의힘 긴급 윤리위, 징계 절차 개시\n",
      "백악관처럼 훤히 보이는 용산청사… 300m 앞 30만㎡ 개방\n",
      "서울 '용산 어린이정원' 첫 개방…윤 대통령 방문\n",
      "尹 \"취임때 마음 되새겨\"…아이들과 '용산어린이정원' 첫입장\n",
      "용산어린이정원 정식 개방…윤 대통령 “취임 때 마음 되새긴다”\n",
      "이재명 \"윤석열 정부 외교, 친구 아니면 적\"\n",
      "이재명 “尹정부, 정답 놔두고 오답 선택…‘호갱’ 외교 자처”\n",
      "기시다 방한 앞두고 찬물 끼얹는 민주… “윤 정부 ‘호응’ 구걸에 일본은 독도 억지”\n",
      "이재명 \"尹정부, 미·일에는 호갱외교…중·러 자극해 한반도 위기\"\n",
      "일본 언론 \"윤석열 · 기시다 만찬 대통령 관저 개최 조율…홈 파티 형식\"\n",
      "일본 언론 \"윤 대통령·기시다 총리, 대통령 관저 홈파티할 듯\"\n",
      "日, 韓 의원 방문에 또 '독도 영유권'...\"한일정상회담 영향은 제한적\"\n",
      " 의원 한 명 독도 갔다고…유감에 재발 방지까지 요구한 일본[비머pick]\n",
      "尹, 방통위 상임위원에 이상인 임명\n",
      "윤 대통령, 방통위 상임위원에 이상인 변호사 임명\n",
      "김기현·이재명, 내부 논란에 골치…'강력조치' 경쟁까지 활활\n",
      "與, 또 지도부 리스크…시작부터 위기 맞은 쇄신작업 [이런정치]\n",
      "‘尹 멘토’ 신평 “尹정부 1년, 국민들 희망 배신당한 씁쓸함 느껴”\n",
      "신평, ‘尹 정부 1년’ 비판…“국민들, 희망 배신당해 씁쓸함 느껴”\n",
      "최고위 \"일정상 불가능\"했다는 金…'태영호 때문' 일축\n",
      "태영호 논란에 최고위 취소?…김기현 “일정상 불가했을 뿐”\n",
      "MB, 15일 청계천 산책…마장동까지 6.5km 걷는다\n",
      "이명박, 15일 '정치 치적' 청계천 산책…명예회복 나서나\n",
      "기시다 \"尹 용기있는 결단에 답방\"… 진전된 과거사 입장 나오나\n",
      "“기시다 총리, 윤 대통령 외교적 결단에 화답을” … 일본 내 목소리 커져\n",
      "尹 일회용컵 사용에…조명래, “文정부 상상 못할 일” 지적했다 역풍\n",
      "\"지난 정부에선 상상할 수 없는 일\" 전 환경부장관, 尹 일회용품 사용 비판\n",
      "안민석 \"음주·사기·불륜은 출마 안돼\"…장예찬 \"이재명 얘기?\"\n",
      "안민석 “음주운전·사기 전과자 등 출마 막아야”\n",
      "용혜인, 두살배기 아들 안고 기자회견 \"퍼스트 키즈존 만들자\"\n",
      "野의원, 두살 아들 안고 국회 기자회견 “노키즈존 없애자”\n",
      "이재명 \"건폭 운운 노동자 폭력배 취급…사람 잡는 정치 그만\"\n",
      "이재명, \"분신 노동자 유서받았다…사람 잡는 정치 이제 그만하라\"\n",
      " 한일 안보실장 오늘 회동 外\n",
      " 기시다 \"7~8일 방한 조율\" 外\n",
      " 노동절 집회…곳곳 교통 정체 外\n",
      " 윤대통령, 미군 핵심시설 방문 外\n"
     ]
    }
   ],
   "source": [
    "url = 'https://news.naver.com/main/main.nhn?mode=LSD&mid=shm&sid1=100'\n",
    "html = urllib.request.urlopen(url)\n",
    "bs = BeautifulSoup(html, \"html.parser\")\n",
    "\n",
    "lines = bs.select(\"a.cluster_text_headline\")\n",
    "for i in lines:\n",
    "    print(i.text)"
   ]
  },
  {
   "cell_type": "markdown",
   "metadata": {},
   "source": [
    "Q3. 아래 html에서 아래와 같이 출력하세요."
   ]
  },
  {
   "cell_type": "code",
   "execution_count": null,
   "metadata": {},
   "outputs": [],
   "source": [
    "naver > http://www.naver.com\n",
    "daum > http://www.daum.net"
   ]
  },
  {
   "cell_type": "code",
   "execution_count": 10,
   "metadata": {},
   "outputs": [],
   "source": [
    "html = \"\"\"\n",
    "<html><body>\n",
    "  <ul>\n",
    "    <li><a href=\"http://www.naver.com\">naver</a></li>\n",
    "    <li><a href=\"http://www.daum.net\">daum</a></li>\n",
    "  </ul>\n",
    "</body></html>\n",
    "\"\"\""
   ]
  },
  {
   "cell_type": "code",
   "execution_count": 19,
   "metadata": {},
   "outputs": [
    {
     "name": "stdout",
     "output_type": "stream",
     "text": [
      "naver > http://www.naver.com\n",
      "daum > http://www.daum.net\n"
     ]
    }
   ],
   "source": [
    "bs = BeautifulSoup(html, \"html.parser\")\n",
    "result = bs.select(\"a\")\n",
    "nav_url = result[0][\"href\"]\n",
    "dau_url = result[1][\"href\"]\n",
    "print(f\"naver > {nav_url}\")\n",
    "print(f\"daum > {dau_url}\")"
   ]
  },
  {
   "cell_type": "markdown",
   "metadata": {},
   "source": [
    "Q4. 아래 html에서 다음을 수행하세요.\n",
    "- html에 들여쓰기를 적용하세요\n",
    "- 세가지 방법으로 텍스트를 출력하세요."
   ]
  },
  {
   "cell_type": "code",
   "execution_count": 21,
   "metadata": {},
   "outputs": [],
   "source": [
    "html = '''\n",
    "<html>\n",
    "<body>\n",
    "<div>\n",
    "Hello,world!\n",
    "</div>\n",
    "<div>\n",
    "<p>\n",
    "Hello,<b>world!</b>\n",
    "</p>\n",
    "</div>        \n",
    "</body>\n",
    "</html>\n",
    "'''"
   ]
  },
  {
   "cell_type": "code",
   "execution_count": 55,
   "metadata": {},
   "outputs": [
    {
     "name": "stdout",
     "output_type": "stream",
     "text": [
      "<html>\n",
      " <body>\n",
      "  <div>\n",
      "   Hello,world!\n",
      "  </div>\n",
      "  <div>\n",
      "   <p>\n",
      "    Hello,\n",
      "    <b>\n",
      "     world!\n",
      "    </b>\n",
      "   </p>\n",
      "  </div>\n",
      " </body>\n",
      "</html>\n",
      "\n"
     ]
    }
   ],
   "source": [
    "bs = BeautifulSoup(html, \"html.parser\")\n",
    "print(bs.prettify())"
   ]
  },
  {
   "cell_type": "code",
   "execution_count": 30,
   "metadata": {},
   "outputs": [
    {
     "name": "stdout",
     "output_type": "stream",
     "text": [
      "\n",
      "Hello,world!\n",
      "\n",
      "\n",
      "Hello,world!\n",
      "\n",
      "\n",
      "Hello,world!\n",
      "\n"
     ]
    }
   ],
   "source": [
    "print(bs.select_one(\"div\").text)\n",
    "print(bs.find(\"div\").text)\n",
    "print(bs.find(\"p\").text)"
   ]
  },
  {
   "cell_type": "markdown",
   "metadata": {},
   "source": [
    "Q5. 정규표현식을 사용하여 아래와 같이 출력하세요."
   ]
  },
  {
   "cell_type": "code",
   "execution_count": null,
   "metadata": {},
   "outputs": [],
   "source": [
    "Hello,world!\n",
    "Hello,world!"
   ]
  },
  {
   "cell_type": "code",
   "execution_count": 57,
   "metadata": {},
   "outputs": [
    {
     "name": "stdout",
     "output_type": "stream",
     "text": [
      "\n",
      "\n",
      "Hello,world!\n",
      "\n",
      "\n",
      "\n",
      "Hello,world!\n",
      "\n",
      "\n",
      "\n"
     ]
    }
   ],
   "source": [
    "bs1 = bs.body.text\n",
    "print(bs1)"
   ]
  },
  {
   "cell_type": "code",
   "execution_count": 59,
   "metadata": {},
   "outputs": [
    {
     "name": "stdout",
     "output_type": "stream",
     "text": [
      "Hello,world!\n",
      "Hello,world!\n"
     ]
    }
   ],
   "source": [
    "result = re.findall(\".+\",bs1)\n",
    "for i in result:\n",
    "    print(i)"
   ]
  },
  {
   "cell_type": "markdown",
   "metadata": {},
   "source": [
    "Q6. 정규표현식을 사용하여 아래와 같이 출력하세요."
   ]
  },
  {
   "cell_type": "code",
   "execution_count": null,
   "metadata": {},
   "outputs": [],
   "source": [
    "Hello,world! Hello,world! "
   ]
  },
  {
   "cell_type": "code",
   "execution_count": 60,
   "metadata": {},
   "outputs": [
    {
     "data": {
      "text/plain": [
       "'Hello,world! Hello,world!'"
      ]
     },
     "execution_count": 60,
     "metadata": {},
     "output_type": "execute_result"
    }
   ],
   "source": [
    "result = re.findall(\".+\",bs1)\n",
    "\" \".join(result)"
   ]
  },
  {
   "cell_type": "markdown",
   "metadata": {},
   "source": [
    "Q7. html_doc에서 영어 텍스트만 출력하세요."
   ]
  },
  {
   "cell_type": "code",
   "execution_count": 61,
   "metadata": {},
   "outputs": [],
   "source": [
    "html_doc = \"\"\"<html><head><title>The Dormouse's story</title></head>\n",
    "<body>\n",
    "<div></div>\n",
    "<p class=\"title\"><b>The Dormouse's story</b></p>\n",
    "<p class=\"story\">Once upon a time there were three little sisters; and their names were\n",
    "<a href=\"http://example.com/elsie\" class=\"sister\" id=\"link1\">Elsie</a>,\n",
    "<a href=\"http://example.com/lacie\" class=\"sister\" id=\"link2\">Lacie</a> and\n",
    "<a href=\"http://example.com/tillie\" class=\"sister\" id=\"link3\">Tillie</a>;\n",
    "and they lived at the bottom of a well.</p>\n",
    "\n",
    "<p class=\"story\">...</p>\n",
    "\"\"\""
   ]
  },
  {
   "cell_type": "code",
   "execution_count": 68,
   "metadata": {},
   "outputs": [
    {
     "data": {
      "text/plain": [
       "'The Dormouse s story The Dormouse s story Once upon a time there were three little sisters and their names were Elsie Lacie and Tillie and they lived at the bottom of a well'"
      ]
     },
     "execution_count": 68,
     "metadata": {},
     "output_type": "execute_result"
    }
   ],
   "source": [
    "bs = BeautifulSoup(html_doc, \"html.parser\")\n",
    "\n",
    "result = bs.text\n",
    "\n",
    "\" \".join(re.findall(\"[a-zA-Z]+\", result))"
   ]
  },
  {
   "cell_type": "markdown",
   "metadata": {},
   "source": [
    "Q8. 아래 텍스트에서 개행을 정규표현식을 사용해서 제거한 후 출력하세요."
   ]
  },
  {
   "cell_type": "code",
   "execution_count": 71,
   "metadata": {},
   "outputs": [
    {
     "name": "stdout",
     "output_type": "stream",
     "text": [
      "The Dormouse's story\n",
      "\n",
      "\n",
      "The Dormouse's story\n",
      "Once upon a time there were three little sisters; and their names were\n",
      "Elsie,\n",
      "Lacie and\n",
      "Tillie;\n",
      "and they lived at the bottom of a well.\n",
      "...\n",
      "\n"
     ]
    },
    {
     "data": {
      "text/plain": [
       "\"The Dormouse's story\\n\\n\\nThe Dormouse's story\\nOnce upon a time there were three little sisters; and their names were\\nElsie,\\nLacie and\\nTillie;\\nand they lived at the bottom of a well.\\n...\\n\""
      ]
     },
     "execution_count": 71,
     "metadata": {},
     "output_type": "execute_result"
    }
   ],
   "source": [
    "print(result)\n",
    "result"
   ]
  },
  {
   "cell_type": "code",
   "execution_count": 72,
   "metadata": {},
   "outputs": [
    {
     "data": {
      "text/plain": [
       "\"The Dormouse's storyThe Dormouse's storyOnce upon a time there were three little sisters; and their names wereElsie,Lacie andTillie;and they lived at the bottom of a well....\""
      ]
     },
     "execution_count": 72,
     "metadata": {},
     "output_type": "execute_result"
    }
   ],
   "source": [
    "re.sub(\"\\n\",\"\",result)"
   ]
  },
  {
   "cell_type": "markdown",
   "metadata": {},
   "source": [
    "Q9. url = 'https://news.naver.com/main/main.nhn?mode=LSD&mid=shm&sid1=100' 사이트에서 p태그가 있는 데이터를 3개만 출력하세요"
   ]
  },
  {
   "cell_type": "code",
   "execution_count": 73,
   "metadata": {},
   "outputs": [
    {
     "data": {
      "text/plain": [
       "[<p class=\"airs_info_inner\"><i class=\"airs_info_icon_airs\">AiRS</i><span class=\"airs_info_text\"><b>추천</b>으로 구성된 뉴스를 제공합니다.</span></p>,\n",
       " <p class=\"section_sub_txt\">오후 1시~오후 2시까지 집계한 결과입니다.</p>,\n",
       " <p class=\"copyright\">본 콘텐츠의 저작권은 제공처 또는 네이버에 있으며 이를 무단 이용하는 경우 저작권법 등에 따라 법적책임을 질 수 있습니다.</p>]"
      ]
     },
     "execution_count": 73,
     "metadata": {},
     "output_type": "execute_result"
    }
   ],
   "source": [
    "url = 'https://news.naver.com/main/main.nhn?mode=LSD&mid=shm&sid1=100'\n",
    "html = urllib.request.urlopen(url)\n",
    "bs = BeautifulSoup(html, \"html.parser\")\n",
    "\n",
    "lines = bs.select(\"p\")\n",
    "lines"
   ]
  },
  {
   "cell_type": "markdown",
   "metadata": {},
   "source": [
    "Q10. url에서 데이터를 가져와서 불필요한 스페이스를 제거한 후 한글만 출력하세요.\n",
    "\n",
    "url = 'https://news.naver.com/main/main.nhn?mode=LSD&mid=shm&sid1=100'"
   ]
  },
  {
   "cell_type": "code",
   "execution_count": 77,
   "metadata": {},
   "outputs": [
    {
     "data": {
      "text/plain": [
       "'정치 네이버 뉴스 국회 행정 국방 외교 등 정치 분야 뉴스 제공 네이버 정치 네이버 뉴스 네이버 뉴스 네이버 뉴스 국회 행정 국방 외교 등 정치 분야 뉴스 제공 정치 홈 네이버 뉴스 광고적용 태그 추가 메인 메뉴로 바로가기 본문으로 바로가기 검색 뉴스 연예 스포츠 날씨 프리미엄 언론사별 정치 선택됨 경제 사회 생활 문화 과학 세계 랭킹 신문보기 오피니언 팩트체크 전체 언론사 전체 언론사 뉴스스탠드 뉴스스탠드 라이브러리 라이브러리 목 전체 언론사 전체 언론사 뉴스스탠드 뉴스스탠드 라이브러리 라이브러리 기사목록 정치 대통령실 국회 정당 북한 행정 국방 외교 정치일반 언론사 구독하기 네이버 프리미엄콘텐츠 안내 헤드라인 뉴스 헤드라인 뉴스와 각 기사묶음 타이틀은 기사 내용을 기반으로 자동 추출 됩니다 닫기 인도 태평양 개발에 적극 기여 협력적 공급망 구축 종합 연차총회 축사 경인고속도로 년 지원으로 건설 일본 인도네시아 인도 재무수장 및 총재와 사전 환담도 윤석열 대통령은 일 연합뉴스 뉴스 아시아 공급망 구축 적극 참여 연대 필요 종합 보 경향신문 윤 대통령 아시아개발은행 총회 참석 인도 태평양 개발 협력 적극 기여 헤럴드경제 제 차 연차 총회 인천서 개막 역대 최대 참가 규모 개의 관련뉴스 더보기 민주 윤관석 이성만 탈당 여 꼬리 자르기 야 본인 결단 전당대회 돈봉투 의혹에 연루된 윤관석 이성만 더불어민주당 의원의 자진탈당 결정을 두고 여야가 엇갈린 반응을 보였다 민주당은 본인의 결단이라고 밝힌 뉴시스 윤관석 이성만 탈당 불만 폭주에 쇄신 시험대 뉴스 윤관석 이성만 탈당했지만 추가 의혹 대응 고심 끝나지 않아 조선 이재명 윤관석 이성만 탈당 본인 결단 태영호 녹취는 동문서답 개의 관련뉴스 더보기 이진복 되받은 안철수 아무일 안하면 아무일 안생겨 국민의힘 안철수 의원은 일 태영호 최고위원의 녹취록으로 공천 개입 의혹에 휩싸인 이진복 대통령정무수석비서관을 겨냥해 남한테 얘기할 게 아니고 본인 동아일보 이데일리 이진복에 말 갚아준 안철수 일 안하시면 일 안생길텐데 조선일보 이진복 겨냥 아무 일 않으면 아무 일 안 생길 텐데 참 우려 세계일보 안철수 이진복 공천 개입 논란에 아무 일도 하지 않으면 아무 일도 안 생길텐데 개의 관련뉴스 더보기 김민석 간호법 헌법전문 삽입은 여야 공통공약 김민석 더불어민주당 정책위의장은 일 여야 간 대선 공통공약 추진 움직임에 대해 간호법과 정신 헌법 전문 삽입이야말로 가장 대표적인 여야 공통 서울경제 뉴스 김민석 정부 여당 의 독도 방문 항의 왜 말을 못하나 뉴시스 김민석 간호법 정신 헌법 삽입 여야 공통공약 조속 합의 기대 머니투데이 김민석 간호법 헌법전문 삽입 여야 공통공약 개의 관련뉴스 더보기 동영상기사 단독 기시다 오므라이스에 윤대통령 숯불 불고기 대접 윤석열 대통령이 기시다 후미오 일본 총리의 방한 때 숯불 불고기를 대접하겠다 고 밝힌 것으로 전해졌습니다 지난 월 일본 방문 때 받은 오므라이스 연합뉴스 단독 기시다에 청주 대접 안보국장은 통역 질책 왜 기시다 총리에게 한국식 청주를 대접하려 합니다 윤석열 대통령이 지난 일 한국을 찾은 아키바 다케오 일본 국가안전보장국장을 접견해 전한 말이다 윤 중앙일보 개의 관련뉴스 더보기 대통령 용산시대 호 약속 지켰다 용산어린이정원 개방 윤석열 대통령은 일 용산어린이정원에 대해 어린이들이 건강하고 즐겁고 행복한 공간이 되도록 계속 가꿔 나가겠다 고 했다 윤 대통령은 이날 오전 용산어 파이낸셜뉴스 용산시대 호 약속 지킨 대통령 용산어린이정원 개방 윤석열 대통령이 미래세대 주역인 아이들에게 돌려주겠다고 공언한 용산 미군기지 반환부지가 용산어린이정원 으로 재탄생해 일 문을 열었다 대통령실을 이전 헤럴드경제 개의 관련뉴스 더보기 태영호 녹취 파문 후원금 의혹 부인 법적 책임 물을 것 국민의힘 태영호 최고위원은 일 자신의 지역구 기초의원들로부터 지방선거 공천 대가성 정치후원금을 받았다는 의혹에 대해 뒷거래 공천 의혹까지 제기되다니 서울신문 동영상기사 태영호 의혹 부인 정치 공세에 굴복 안 해 앵커 국민의힘 태영호 최고위원이 어제 긴급 기자회견을 열었습니다 이진복 대통령실 정무수석과 공천에 대한 말을 나누지 않았다며 녹취 유출과 언론 개의 관련뉴스 더보기 방통위도 대통령 직속부처 대통령 국정철학 따라야 이상인 신임 방송통신위원회 상임위원은 방통위가 위원회 형식이지만 대통령 직속 중앙행정 부처이기 때문에 대통령의 국정 운영철학에 따라 운영되는 것이 맞다고 소신을 밝혔습니다 이 위원은 취임 첫날 정부과천청사 대통령몫 방통위원에 이상인 변호사 인선 윤석열 대통령이 지난달 임기가 끝나 퇴임한 김창룡 방송통신위원회 상임위원 후임으로 이상인 변호사를 임명했습니다 년생으로 서울대 법대를 졸업한 이 변호사는 사법연수원 기 수료 후 법관으로 임용돼 개의 관련뉴스 더보기 전용기 의원 독도 방문 일본 항의 부당 일본 정부가 더불어민주당 전용기 의원의 독도 방문에 대해 항의하자 우리 정부와 전 의원이 즉각 반박에 나섰다 외교부 당국자는 전 의원의 독도 방문에 대 부산일보 동영상기사 한국 국회의원 독도방문 일본 항의에 외교부 부당한 주장 가상기자 뉴스픽 가상기자 리나가 선정한 오늘의 뉴스픽입니다 한국 국회의원의 독도 방문에 대해 일본 측이 도저히 받아들일 수 없다 라고 반발한 가운데 우리 외교부 개의 관련뉴스 더보기 호갱외교 안돼 총리 방한 앞두고 벼르는 민주당 더불어민주당은 일 기시다 일본 총리의 방한을 앞두고 한미 정상회담 성과를 비롯한 윤석열 정부의 외교 안보정책을 평가하며 국익 중심의 실용외교 를 촉구 뉴스 이재명 외교 직격 에 접어주는 호갱 이재명 더불어민주당 대표가 일 윤석열 정부의 외교를 두고 정부가 일부러 오답을 선택하고 있는 것 같다 며 일본에게는 우아하게 미국에게는 알아서 접 아이뉴스 개의 관련뉴스 더보기 정부 화형식 보도 도 넘는 비난 유감 북한이 한미 정상회담 후 두 정상을 겨냥해 망언을 넘어 화형식 까지 했다고 보도한 데 대해 정부가 매우 유감스럽다 는 입장을 밝혔다 통일부 관계자는 어제 북한 관영매체의 화형식 집회 보도에 관해 한미 조선 정부 화형식 보도 매우 유감 주민통제 성격도 정부는 북한이 한미 정상회담 이후 망언을 넘어 두 정상을 겨냥한 화형식까지 했다고 보도한 데 대해 강한 유감을 표명했습니다 통일부 관계자는 기자들과 만나 한미 간 확장억제 강화 방안을 담은 워싱턴 선언에 개의 관련뉴스 더보기 박광온 민주당 경제기조는 포용적 성장 유능한 양손잡이 될 것 박광온 더불어민주당 원내대표는 일 민주당의 경제기조는 포용적 성장 이라며 윤석열 정부를 향해 국민 모두를 위한 포용적 성장 기조로 전환하라 고 촉구 뉴스 박광온 정부 경제정책 겨냥 감세 긴축 재정부터 폐기하길 더불어민주당 박광온 원내대표는 일 윤석열 정부 경제 정책과 관련해 감세 정책과 긴축 재정 정책부터 폐기하기 바란다 고 밝혔다 박 원내대표는 이날 오 중앙일보 개의 관련뉴스 더보기 야당 시민단체 급조된 한일정상회담 굴욕외교 중단 촉구 오는 일 기시다 후미오 일본 총리의 방한을 앞두고 야당과 시민단체들이 급조된 한일정상회담에 대한 국민의 우려가 크다 며 윤석열 정부의 굴욕외교 중단을 시민 사회단체 기사다 총리 방한 앞서 강제동원 사죄 배상부터 한일역사정의평화행동 등 시민 사회단체가 기시다 후미오 일본 총리의 방한과 관련해 과거사 사죄를 촉구했다 이들은 일 오전 국회 앞에서 기자회견을 열고 서울경제 개의 관련뉴스 더보기 결단에 보답 기시다 메시지 주목 정상 간 소통 강화 기대 기시다 후미오 일본 총리가 다음주 우리나라 방문을 앞두고 윤석열 대통령의 결단에 보답하는 마음 이란 메시지를 전해온 것으로 알려져 관심을 모 뉴스 기시다 방한 일성은 통화스와프 등 부담 덜한 성의 표시 가능성 기시다 후미오 일본 총리가 다음주 우리나라를 방문하기로 하면서 그의 방한 일성에 관심이 모아진다 일단 국내 여론은 기시다 총리가 이번 방한을 뉴스 개의 관련뉴스 더보기 유승민 태영호 녹취록 사실일 듯 거짓말이면 대통령실이 고발해야 유승민 전 의원이 일 태영호 국민의힘 최고위원 음성 녹취발 대통령실 공천 개입 의혹을 태 최고위원의 거짓말 문제로 무마하려는 여권의 분위기에 대해 태 경향신문 유승민 태영호 이진복 해명 못 믿어 대통령실이 고발해야 유승민 전 의원이 일 태영호 국민의힘 최고위원 녹취록 파문과 관련해 대통령실이 태 최고위원을 고발해야 할 일 이라고 주장했다 유승민 전 의원 사진 이데일리 개의 관련뉴스 더보기 안민석 음주 사기 불륜은 출마 안돼 장예찬 이재명 콕 짚어 더불어민주당 선 중진인 안민석 의원이 음주운전과 사기 전과자 불륜 등이 있는 사람은 선거에 출마해서는 안 된다는 주장을 내놨다 이에 국민의힘에서는 매일경제 동영상기사 음주운전 불륜 등 전과자 출마 못하게 해야 씨박스 안민석 음주운전 불륜 등 전과자 출마 못하게 해야 조선 개의 관련뉴스 더보기 헤드라인 더보기 연재보기 박성태의 다시보기 동영상기사 톡 쏘는 사이다 는 어디 가고 동문서답만 오늘 일 돈봉투 의혹으로 민주당 윤관석 이성만 두 의원이 탈당했죠 기자들이 이재명 대표에게 몇 가지를 물었습니다 직접 태영호 녹취록 에서 바뀌지 않는 사실은 피해자가 아니라 손해자일 뿐 첫 망언도 아니지만 전광훈 해서는 안 될 그 말 뉴스 더보기 추천 으로 구성된 뉴스를 제공합니다 언론사별 가장 많이 본 뉴스 안내 각 언론사의 가장 많이 본 기사 건을 제공합니다 닫기 오후 시 오후 시까지 집계한 결과입니다 정부 환경부 장관 일회용 컵 사용 강력 비판 주간조선 동영상기사 성명서에서 사라진 단어 파월이 시장에 뿌린 암 응급실 돌다 숨진 대구 대 병원 곳 과징금에 보조금 태국 팝 팬들의 눈물 월급 다 털어야 블랙핑크 볼 수 서울경제 웨딩드레스도 못 갈아입었는데 결혼 직후 음주 차량에 숨진 모델인줄 알았다 전주 한옥마을 간 조민 한복입고 술빚고 매일경제 온몸이 칼에 찔리는 듯 아팠다 전두환 손자 전우원이 한국일보 응급실 돌다 구급차서 숨진 대 거부 병원 곳 철퇴 국민일보 만취 운전자에 결혼식 시간만에 신부 사망했다 신랑은 파이낸셜뉴스 머리채 잡히고 발로 일방적 폭행 태안 학폭 영상 유포 노컷뉴스 발가락 개 아기 사망선고 의사 가운 벗고 보호자를 안으 한겨레 단독 김만배 기자 시절 도박 사실 보도하겠다 며 세계일보 인천대공원 대신 키카 어린이날 비소식에 시민들 경향신문 고생한다 호프집 대 남성 직원 명 엉덩이 만진 중앙일보 억 로또 등 당첨 한 달 후 일용직 아직 다녀 조선일보 열흘째 하락 만원도 깨졌다 한국경제 일회용품을 저렇게 쓰다니 비판한 환경장관 아시아경제 얘들아 미안해 어린이날 년 만에 전국 물폭탄 뉴스 응급실 표류 하다 숨진 대 진료 거부한 병원 곳 제 동아일보 우리부부 성관계 보여드립니다 성영상 올려 억원번 부부 디지털타임스 동영상기사 어린이날 우산 쓸 확률 불과한데 올해는 호우특보 연합뉴스 취임때 마음 되새겨 아이들과 용산어린이정원 첫입 연합뉴스 억대 연봉 탈모 없음 살 여의사 남편 서울신문 쇼크 남자친구 있으면 안 돼 만 유튜버 아이뉴스 동영상기사 피해자 바지 지퍼 내려간 상태 부산 돌려차기 경찰 기다려주셔서 고맙습니다 모빌리티 임직원에 소고기 데일리안 에 추가될 가지 기능 어떤 게 있나 억 받던 나영석 퇴사 알고보니 충격의 적자 사 헤럴드경제 동영상기사 더 글로리 촬영장인 줄 잔인한 학폭 영상 충격 연진아 나 지금 신나 송혜교 이 기업 광고 모델됐 한국경제 홍대입구역 출구서 지갑 줍지 마세요 경고 글 확 머니투데이 엄마 아빠 회사서 선물 주나요 어린이날 분주한 기 더팩트 경기 시흥서 실종된 대 춘천 용산리 배수로 인근서 숨 강원일보 여보세력 나야 거기 잘 오르니 임창정 발끈했지만 이데일리 삼성전자 하이닉스 반도체 장비 수출통제 년 추가 조선비즈 현대엘리베이터 자사주 억 소각 억 매입 블로터 일회용품 걱정 끝 라멘회사 면으로 된 포크 선봬 뉴시스 단독 이준석 천아용인 광주 총집결 횃불 들고 시사저널 양문형 버스 등장하면 벌어질 현상은 비즈워치 강간범 혀 깨물고 가해자 된 여성 법원은 어쩔 수 프레시안 부모님이 택배기사님에게 쥐여준 만 원 오마이뉴스 제품 개발만 년 걸린 소주한잔 세븐일레븐 임창정 한경비즈니스 로또 등 당첨 한 달 후기 일용직인데 꿈만 같아 빚 갚 부산 돌려차기 출동 경찰 바지 지퍼 내려가 있었다 부산일보 이재명 윤 대통령 호갱 외교 자처 핵공유 문제도 빈껍데 채널 대만서 숨진 여친 짐부터 으로 동행 남자친구 살해했냐 문화일보 이 음식 먹을 때 속 메스껍다면 췌장 위험하단 신호 헬스조선 분신 민주노총 건설노조 강원지부 양회동씨 빈소 서울로 강원도민일보 아침신문 솎아보기 윤 대통령 맥주나 한잔 발언에 한 미디어오늘 혈압 조절에 살도 빼는 운동 음식은 코메디닷컴 티켓값 억 천만원 전석 매진 브루노 마스 공연 조선 반도체 석학 삼성 중국서 년간 반도체 증산 전자신문 오늘과학 콘도르가 시체 먹는 이유 년전 배설 동아사이언스 코리아헤럴드 대통령 일회용 컵 사용 에 정부 환경부 장관 상상할 매일신문 고등학생 딸 성추행한 대 아버지 구속 술 취해 기억 광주방송 주가 조작 몰랐다 나도 피해자 임창정은 진짜 피해자일 이코노미스트 에드워드 호퍼 매혹만큼 깊은 여성혐오의 그늘 여성신문 군을 믿어서는 안 됐다 고 이예람 중사 부모 인터 뉴스타파 체감온도 도 괴물폭염 우리나라도 달궜다 파월 금리 동결 선 그었지만 국내 증권가 연내 인 조세일보 방귀쟁이 며느리 동화는 나쁜 이야기일까요 한겨레 어릴 땐 가 창작자인 줄만 알았지 미디어 리터러시 시사 코리아중앙데일리 은 정치적 계산 이해관계 생각조차 않는 사람 신동아 눈물바다가 됐다 미혼모 손님 외상해준 사장님이 전한 디지털데일리 치킨업계 위 바뀌었다 원 인상 후폭풍 교촌 매경이코노미 대강 보가 해갈에 쓸모 정봉석의 기후환경 이야기 주간경향 대구 경북 늦은 오후부터 비 토요일까지 대구 어린이 산행 핸드폰 보다 산이 좋아요 최연소 월간 산 아무 일 안하면 아무 일도 안 생겨 안철수 녹취 머니 년 만의 미투 피해자가 사법정의를 묻고 있다 일다 음주사고 뺑소니 경찰관 근무복 남기고 도망쳤다가 붙잡 전주 옛것 에 세대 취향 얹은 최신 유행들 주간동아 오늘 모레 부산 울산 경남 비바람 불어 새벽 강력 국제신문 강남 학원가 마약음료 일당 구속기소 최대 사형 혐의 경기일보 대통령몫 방통위원 지명 야당 추천몫 한 달 넘게 공석 기자협회보 홀로 키워 아들 명문대 보냈는데 이젠 결혼하면 얼마 보태 농민신문 부산 돌려차기 최초 목격 경찰관 바지 지퍼 내려갔었다 대전일보 민주 김민석 윤 대통령 간호법 거부권 행사 이해하기 청주방송 민주 김민석 윤 대통령 간호법 거부권 행사 이해하기 청주방송 제 세종문화회관을 여의도공원에 깜깜이 부지 변경 추적 더스쿠프 안민석 음주 사기 불륜은 출마 안돼 대놓고 이 국립한글박물관 기획특별전 어린이 나라 열고 어린이날 중앙 한소희 패션 브랜드 찰스앤키스 앰배서더 발탁 레이디경향 더보기 분야별 주요뉴스 용산어린이정원 개방 취임 때 마음 되새겨 용산어린이정원 개방 취임 때 마음 되새겨 박광온 윤석열 정부 감세 긴축재정 정책부터 폐기해야 박광온 윤석열 정부 감세 긴축재정 정책부터 폐기해야 대통령실 겨냥한 안철수 아무 일 안하면 아무 일도 안 생길텐데 대통령실 겨냥한 안철수 아무 일 안하면 아무 일도 안 생길텐데 우크라 푸틴 암살하려 크렘린 드론 공격 심리전 목적일 듯 우크라 푸틴 암살하려 크렘린 드론 공격 심리전 목적일 듯 트럼프 나였으면 우크라이나 전쟁 시간 안에 종료 트럼프 나였으면 우크라이나 전쟁 시간 안에 종료 한미 금리 격차 사상 최대 환율 영향은 한미 금리 격차 사상 최대 환율 영향은 김영록 전남지사 독일에서 조 원 투자유치 여수 묘도에 수소생산 김영록 전남지사 독일에서 조 원 투자유치 여수 묘도에 수소생산 아태 국장 한국 외환보유고 충분하다 경제 매우 탄탄 일문일답 아태 국장 한국 외환보유고 충분하다 경제 매우 탄탄 일문일답 어닝쇼크 카카오 분기 영업익 반토막 수익성 비상에 일부 사업 정리 어닝쇼크 카카오 분기 영업익 반토막 수익성 비상에 일부 사업 정리 개인정보위 개 가명정보 결합 선도사례 지정 저출산 등 사회문제 해결 개인정보위 개 가명정보 결합 선도사례 지정 저출산 등 사회문제 해결 강남 학원가 마약음료 최고 사형 구형 체류 윗선 추적 강남 학원가 마약음료 최고 사형 구형 체류 윗선 추적 돈 봉투 강래구 구속영장 재청구 증거인멸 정황 추가 포착 돈 봉투 강래구 구속영장 재청구 증거인멸 정황 추가 포착 보 이재명 측근 정진상 이어 김용도 보석 석방 보 이재명 측근 정진상 이어 김용도 보석 석방 어린이날 전국 강하고 많은 비 토요일 오전 수도권부터 그칠 듯 어린이날 전국 강하고 많은 비 토요일 오전 수도권부터 그칠 듯 날씨 어린이날 집중호우 강풍 동반 안전사고 유의 날씨 어린이날 집중호우 강풍 동반 안전사고 유의 네이버 메인에서 바로 보는 언론사 편집뉴스 지금 바로 구독해보세요 내일을 여는 국민의 국회 뉴스 기사와 댓글로 인한 문제 발생 시 시간 센터로 접수해주세요 서비스 안내 고침 기사 모음 정정 반론 추후 보도 기사 모음 불공정 선거 보도 기사 모음 서비스 안내 더보기 이젠 페이지 맨위로 언론사 목록 열기 로딩 중 분야별 목록 열기 로딩 중 이용약관 서비스 안내 기사배열 원칙 책임자 유봉석 청소년 보호 책임자 이희만 개인정보처리방침 책임의 한계와 법적고지 새창 뉴스 고객센터 본 콘텐츠의 저작권은 제공처 또는 네이버에 있으며 이를 무단 이용하는 경우 저작권법 등에 따라 법적책임을 질 수 있습니다'"
      ]
     },
     "execution_count": 77,
     "metadata": {},
     "output_type": "execute_result"
    }
   ],
   "source": [
    "url = 'https://news.naver.com/main/main.nhn?mode=LSD&mid=shm&sid1=100'\n",
    "html = urllib.request.urlopen(url)\n",
    "bs = BeautifulSoup(html, \"html.parser\")\n",
    "\n",
    "\" \".join(re.findall(\"[가-힣]+\", str(bs)))"
   ]
  },
  {
   "cell_type": "markdown",
   "metadata": {},
   "source": [
    "Q11. \"http://www.naver.com\" 사이트에서 span 태그에 연결된 한글 전부를 불필요한 공백을 제거한 후 출력하세요."
   ]
  },
  {
   "cell_type": "code",
   "execution_count": 80,
   "metadata": {},
   "outputs": [
    {
     "data": {
      "text/plain": [
       "'뉴스스탠드 바로가기 주제별캐스트 바로가기 타임스퀘어 바로가기 쇼핑캐스트 바로가기 로그인 바로가기 매일 쓰는 브라우저 보안이 걱정된다면 안전하고 빠른 최신 브라우저 웨일로 업데이트 하세요 매일 쓰는 브라우저 보안이 걱정된다면 다운로드 네이버 쥬니어네이버 해피빈 검색 한글 입력기 자동완성 레이어 클래스를 추가해주세요 삭제 설정이 초기화 된다면 도움말 을 확인해주세요 설정이 초기화 된다면 도움말 을 확인해주세요 도움말 도움말 클래스를 추가해주세요 자동저장 끄기 클래스를 추가해주세요 자동저장 끄기 회 로또당첨번호 동행복권 제공 동행복권 제공 원 원 날씨별 맑음 낮 맑음 밤 구름조금 낮 구름조금 밤 구름많음 낮 구름많음 밤 흐림 약한비 비 강한비 약한눈 눈 강한눈 진눈깨비 소나기 안개 소낙눈 번개뇌우 우박 황사 비또는눈 가끔비 가끔눈 가끔비또는눈 흐린후갬 뇌우후갬 비후갬 눈후갬 흐려져비 흐려져눈 날씨별 맑음 낮 맑음 밤 구름조금 낮 구름조금 밤 구름많음 낮 구름많음 밤 흐림 약한비 비 강한비 약한눈 눈 강한눈 진눈깨비 소나기 안개 소낙눈 번개뇌우 우박 황사 비또는눈 가끔비 가끔눈 가끔비또는눈 흐린후갬 뇌우후갬 비후갬 눈후갬 흐려져비 흐려져눈 바로가기 바로가기 추가 최근검색어 있으면 날짜 표시 추가 추가 클래스를 추가해주세요 클래스를 추가해주세요 자세히보기 도움말 신고 도움말 신고 클래스를 추가해주세요 자동완성 끄기 클래스를 추가해주세요 자동완성 끄기 쇼핑 쇼핑 최저기온 최고기온 영등포동 가 영등포동 가 리스트형 썸네일형 설정 이전 다음 닫기 닫기 이전 다음 닫기 닫기 이전 다음 다음 닫기 닫기 이전 다음 닫기 닫기 주제별로 분류된 다양한 글 모음 개의 글 이전 다음 주일 전 주일 전 월간 전원속의 내집 월간 전원속의 내집 개월 전 오하루 오하루 주일 전 기록하기 기록하기 주일 전 또신이 또신이 주일 전 박또치 박또치 주일 전 강꼼꼼 강꼼꼼 주일 전 아라 아라 이전 다음 펀딩 달성 제리백 제리백 펀딩 달성 데일리스티치협동조합 데일리스티치협동조합 기부 원 기부 재단법인 베스티안재단 재단법인 베스티안재단 펀딩 달성 네이버웹툰 가비지타임 네이버웹툰 가비지타임 펀딩 달성 칠루칠루 칠루칠루 기부 원 기부 사단법인 여성인권 동감 사단법인 여성인권 동감 주일 전 전원주택라이프 전원주택라이프 주일 전 응디 응디 주일 전 예진 예진 주일 전 개월 전 찰스퍼니처 찰스퍼니처 주일 전 리빙 레시피 리빙 레시피 개월 전 개월 전 치코언니 치코언니 주일 전 소이쏘이 소이쏘이 주일 전 아잉맘 아잉맘 주일 전 튼튼뽀맘 튼튼뽀맘 주일 전 르노베 르노베 주일 전 림 림 주일 전 월간 전원속의 내집 월간 전원속의 내집 개월 전 리빙 레시피 리빙 레시피 개월 전 치즈순대 치즈순대 개월 전 두와나 두와나 개월 전 현대리바트 현대리바트 주일 전 러브쏭 러브쏭 주일 전 슈슈션션 슈슈션션 이전 다음 코로나바이러스감염증 현황 하락 하락 상승 상승 하락 하락 라이트 모드로 보기'"
      ]
     },
     "execution_count": 80,
     "metadata": {},
     "output_type": "execute_result"
    }
   ],
   "source": [
    "url =  \"http://www.naver.com\"\n",
    "html = urllib.request.urlopen(url)\n",
    "bs = BeautifulSoup(html, \"html.parser\")\n",
    "\n",
    "lines = bs.select(\"span\")\n",
    "\" \".join(re.findall(\"[가-힣]+\", str(lines)))"
   ]
  },
  {
   "cell_type": "markdown",
   "metadata": {},
   "source": [
    "Q12. url = 'https://naver.com' 에서 셀레니움을 활용하여 경제 뉴스 카테고리로 들어간 후 BS 메서드를 이용하여 뉴스 제목과 링크를 10개씩 출력하세요."
   ]
  },
  {
   "cell_type": "code",
   "execution_count": 90,
   "metadata": {},
   "outputs": [
    {
     "name": "stdout",
     "output_type": "stream",
     "text": [
      "이재명, 외교안보통일자문회의 첫 회의…한미 정상회담 평가\n",
      "https://n.news.naver.com/mnews/article/421/0006786389?sid=100\n",
      "野, 오늘 외교안보통일자문회의…尹정부 대미·대일외교 비판\n",
      "https://n.news.naver.com/mnews/article/001/0013920796?sid=100\n",
      "이재명 \"尹정부 외교, 뻔한 정답 놔두고 일부러 오답 선택\"\n",
      "https://n.news.naver.com/mnews/article/001/0013921620?sid=100\n",
      "이재명 \"尹, 日에 퍼주고 美엔 접어주는 '호갱 외교'\"비판\n",
      "https://n.news.naver.com/mnews/article/088/0000812425?sid=100\n",
      "與 윤리위, 태영호 ‘4.3 발언·녹취 유출’ 병합…8일 징계 결정\n",
      "https://n.news.naver.com/mnews/article/009/0005125481?sid=100\n",
      "태영호 '정치 후원금' 의혹에 \"너무 황당해 말 안나와\" [종합]\n",
      "https://n.news.naver.com/mnews/article/015/0004840523?sid=100\n",
      "국민의힘, 태영호 ‘녹취유출’ 징계 개시...8일 수위 결정\n",
      "https://n.news.naver.com/mnews/article/366/0000898872?sid=100\n",
      "與윤리위 긴급 소집…태영호 '녹취록 파문' 병합 심사 결정(종합)\n",
      "https://n.news.naver.com/mnews/article/421/0006786137?sid=100\n",
      "尹 \"아시아 국가와 협력 공급망 구축 적극 참여\"\n",
      "https://n.news.naver.com/mnews/article/029/0002798631?sid=100\n",
      "尹대통령, ADB 총회서 \"기후변화·디지털격차, 적극적 기여 외교\"\n",
      "https://n.news.naver.com/mnews/article/008/0004882803?sid=100\n"
     ]
    }
   ],
   "source": [
    "url = 'https://naver.com'\n",
    "\n",
    "driver = webdriver.Chrome(\"C:/tool/chromedriver.exe\")\n",
    "driver.get(url)\n",
    "\n",
    "news_button = driver.find_element(By.XPATH, '''//*[@id=\"NM_FAVORITE\"]/div[1]/ul[2]/li[2]/a''')\n",
    "news_button.click()\n",
    "\n",
    "poli_button = driver.find_element(By.XPATH, '''/html/body/section/header/div[2]/div/div/div[1]/div/div/ul/li[2]/a/span''')\n",
    "poli_button.click()\n",
    "\n",
    "news_url = driver.current_url\n",
    "\n",
    "html = urllib.request.urlopen(news_url)\n",
    "bs = BeautifulSoup(html, \"html.parser\")\n",
    "\n",
    "result = bs.select(\"a.cluster_text_headline\")\n",
    "n = 0\n",
    "for i in result:\n",
    "    if n < 10:\n",
    "        print(i.text)\n",
    "        print(i[\"href\"])\n",
    "        n += 1\n",
    "\n",
    "time.sleep(5)\n",
    "driver.close()"
   ]
  },
  {
   "cell_type": "markdown",
   "metadata": {},
   "source": [
    "Q13. url = 'https://naver.com'에서 셀레니움을 활용하여 경제 뉴스 카테고리에서 뉴스 제목과 링크를 10개씩 출력하세요."
   ]
  },
  {
   "cell_type": "code",
   "execution_count": 91,
   "metadata": {},
   "outputs": [
    {
     "name": "stdout",
     "output_type": "stream",
     "text": [
      "한은 “연내 피봇 두고 연준과 시장 괴리 지속…시장 변동성 커질 수도”\n",
      "https://n.news.naver.com/mnews/article/011/0004186558?sid=101\n",
      "원화값 떨어뜨리고 자금유출 우려…고민 깊어진 한은\n",
      "https://n.news.naver.com/mnews/article/016/0002139204?sid=101\n",
      "“파월, 매파 기조는 유지”…“인상중단 신호에도 인하는 부적절” [김영필의 3분 월스트리트]\n",
      "https://n.news.naver.com/mnews/article/011/0004186529?sid=101\n",
      "한은 \"美 금리 인상 마무리 단계...금융시장 변동성 주시\"\n",
      "https://n.news.naver.com/mnews/article/052/0001880860?sid=101\n",
      "서울 아파트값 하락폭 4주연속 둔화…강남·서초 상승세 지속\n",
      "https://n.news.naver.com/mnews/article/374/0000334503?sid=101\n",
      "37주 연속 내리던 용산도 하락 멈췄다…서울 4주째 하락세 둔화 [부동산360]\n",
      "https://n.news.naver.com/mnews/article/016/0002139269?sid=101\n",
      "서울 노원 아파트값 2주째 상승… 송파·강동 하락 전환\n",
      "https://n.news.naver.com/mnews/article/056/0011478625?sid=101\n",
      "서울 아파트값 4주 연속 낙폭 둔화‥용산도 하락 멈춰\n",
      "https://n.news.naver.com/mnews/article/214/0001270679?sid=101\n",
      " 버핏, 평범한 투자에도 7.5조 수익… 그가 노린 종목은?[人사이더]\n",
      "https://n.news.naver.com/mnews/article/029/0002798706?sid=101\n",
      "버핏의 투자 성공 비결은?…올해 7조 6천억 원 수익 예상\n",
      "https://n.news.naver.com/mnews/article/057/0001740015?sid=101\n"
     ]
    }
   ],
   "source": [
    "url = 'https://naver.com'\n",
    "\n",
    "driver = webdriver.Chrome(\"C:/tool/chromedriver.exe\")\n",
    "driver.get(url)\n",
    "\n",
    "news_button = driver.find_element(By.XPATH, '''//*[@id=\"NM_FAVORITE\"]/div[1]/ul[2]/li[2]/a''')\n",
    "news_button.click()\n",
    "\n",
    "poli_button = driver.find_element(By.XPATH, '''/html/body/section/header/div[2]/div/div/div[1]/div/div/ul/li[3]/a/span''')\n",
    "poli_button.click()\n",
    "\n",
    "news_url = driver.current_url\n",
    "\n",
    "html = urllib.request.urlopen(news_url)\n",
    "bs = BeautifulSoup(html, \"html.parser\")\n",
    "\n",
    "result = bs.select(\"a.cluster_text_headline\")\n",
    "n = 0\n",
    "for i in result:\n",
    "    if n < 10:\n",
    "        print(i.text)\n",
    "        print(i[\"href\"])\n",
    "        n += 1\n",
    "\n",
    "time.sleep(5)\n",
    "driver.close()"
   ]
  },
  {
   "cell_type": "markdown",
   "metadata": {},
   "source": [
    "Q14. \"http://www.naver.com\" 사이트에서 a 태그에 id가 있는 경우에 대하여 연결된 문자 + 숫자를 아래와 같이 출력하세요.\n",
    "- 해당되는 조건에 맞게 모두 출력\n",
    "- 한글만 열방향으로 출력\n",
    "- 불필요한 공백을 제거한 후 한글만 한줄에 출력"
   ]
  },
  {
   "cell_type": "code",
   "execution_count": 97,
   "metadata": {},
   "outputs": [
    {
     "data": {
      "text/plain": [
       "[<a class=\"_2aeXMlrb BMgpjddw\" data-clk=\"dropdownload1b\" href=\"https://installer-whale.pstatic.net/downloads/banner/RydDy7/WhaleSetup.exe\" id=\"NM_whale_download_btn\"><span style=\"background-color: #0436c7\">다운로드</span></a>,\n",
       " <a class=\"link_set\" data-clk=\"top.mkhome\" href=\"https://help.naver.com/support/welcomePage/guide.help\" id=\"NM_set_home_btn\">네이버를 시작페이지로</a>,\n",
       " <a class=\"btn_keyboard\" href=\"#\" id=\"ke_kbd_btn\" onclick=\"return false;\" role=\"button\"><span class=\"blind\">한글 입력기</span><span class=\"ico_keyboard\"></span></a>,\n",
       " <a aria-pressed=\"false\" class=\"btn_arw _btn_arw fold\" data-atcmp-element=\"\" href=\"#\" id=\"nautocomplete\" role=\"button\" tabindex=\"2\"><span class=\"blind\">자동완성 레이어</span><span class=\"ico_arr\"></span></a>,\n",
       " <a class=\"btn_set\" data-clk=\"tca.like\" href=\"#\" id=\"NM_THEME_EDIT_SET\" role=\"button\">관심주제 설정</a>,\n",
       " <a class=\"content_top\" href=\"#wrap\" id=\"NM_scroll_top_btn\"><span class=\"blind\">TOP</span></a>]"
      ]
     },
     "execution_count": 97,
     "metadata": {},
     "output_type": "execute_result"
    }
   ],
   "source": [
    "url = \"http://www.naver.com\"\n",
    "html = urllib.request.urlopen(url)\n",
    "bs = BeautifulSoup(html, \"html.parser\")\n",
    "\n",
    "result = bs.find_all(\"a\", id = True)\n",
    "print(result)"
   ]
  },
  {
   "cell_type": "code",
   "execution_count": 100,
   "metadata": {},
   "outputs": [
    {
     "name": "stdout",
     "output_type": "stream",
     "text": [
      "다운로드\n",
      "네이버를\n",
      "시작페이지로\n",
      "한글\n",
      "입력기\n",
      "자동완성\n",
      "레이어\n",
      "관심주제\n",
      "설정\n"
     ]
    }
   ],
   "source": [
    "result1 = re.findall(\"[가-힣\\d]+[가-힣]\", str(result))\n",
    "for i in result1:\n",
    "    print(i)"
   ]
  },
  {
   "cell_type": "code",
   "execution_count": null,
   "metadata": {},
   "outputs": [],
   "source": [
    "\" \".join(result1)"
   ]
  },
  {
   "cell_type": "markdown",
   "metadata": {},
   "source": [
    "Q15. 네이버 영화 랭킹 실시간 조회 데이터를 가져와서 Top 10 영화를 아래와 같이 출력하세요."
   ]
  },
  {
   "cell_type": "code",
   "execution_count": 104,
   "metadata": {},
   "outputs": [
    {
     "name": "stdout",
     "output_type": "stream",
     "text": [
      "1. : 던전 앤 드래곤: 도적들의 명예\n",
      "2. : 존 윅\n",
      "3. : 아바타: 물의 길(부가영상 제공)\n",
      "4. : 극장판 짱구는 못말려: 수수께끼! 꽃피는 천하떡잎학교\n",
      "5. : 존 윅 3: 파라벨룸\n",
      "6. : 앤트맨과 와스프: 퀀텀매니아(세트: 1~3편)\n",
      "7. : 소중한 날의 꿈\n",
      "8. : 타이타닉\n",
      "9. : 장화신은 고양이: 끝내주는 모험\n",
      "10. : 에브리씽 에브리웨어 올 앳 원스\n"
     ]
    }
   ],
   "source": [
    "url = \"https://serieson.naver.com/v3/movie/ranking/realtime\"\n",
    "\n",
    "r = requests.get(url)\n",
    "html = r.text\n",
    "bs = BeautifulSoup(html, \"html.parser\")\n",
    "result = bs.find_all('span',class_=\"Title_title__s9o0D\")\n",
    "\n",
    "i = 0\n",
    "while i < 10:\n",
    "    print(f\"{i+1}. : {result[i].text}\")\n",
    "    i += 1"
   ]
  },
  {
   "cell_type": "markdown",
   "metadata": {},
   "source": [
    "Q16. 네이버 뉴스 데이터 사회분야 데이터를 가져와서 다음을 수행하세요.\n",
    "- 첫번째 뉴스 제목과 href를 출력\n",
    "- 뉴스 제목과 href를 각각 10개씩 출력"
   ]
  },
  {
   "cell_type": "code",
   "execution_count": 105,
   "metadata": {},
   "outputs": [
    {
     "name": "stdout",
     "output_type": "stream",
     "text": [
      "의사·간호조무사 '부분 파업' 반발‥간협 \"진료 거부\" 비판\n",
      "https://n.news.naver.com/mnews/article/214/0001270521?sid=102\n",
      "\"간호법 반대 투쟁 나갑니다\"…동네의원 곳곳 진료 차질\n",
      "https://n.news.naver.com/mnews/article/015/0004840662?sid=102\n",
      "'간호법 반발' 의료연대 부분파업… 큰 혼란 없었지만 일부 병원 진료 차질\n",
      "https://n.news.naver.com/mnews/article/469/0000737468?sid=102\n",
      "\"간호법 재검토\" 의사·간호조무사 부분파업…17일엔 총파업\n",
      "https://n.news.naver.com/mnews/article/437/0000341608?sid=102\n",
      "마약류 관리법 위반 조사받던 의사 숨진 채 발견\n",
      "https://n.news.naver.com/mnews/article/052/0001880935?sid=102\n",
      "'클럽마약' 투약 혐의로 수사받던 의사 돌연사\n",
      "https://n.news.naver.com/mnews/article/469/0000737551?sid=102\n",
      "'클럽 마약'에 빠진 40대 의사, 본인 병원서 숨진채 발견\n",
      "https://n.news.naver.com/mnews/article/016/0002139249?sid=102\n",
      "마약류 투약 혐의로 검찰 송치된 의사, 병원서 숨진 채 발견\n",
      "https://n.news.naver.com/mnews/article/082/0001210709?sid=102\n",
      "'천화동인 6호 실소유주 의혹' 조우형 영장심사 '묵묵부답'\n",
      "https://n.news.naver.com/mnews/article/629/0000215183?sid=102\n",
      "'천화동인 6호 실소유주 의혹' 조우형 영장실질심사\n",
      "https://n.news.naver.com/mnews/article/055/0001055373?sid=102\n"
     ]
    }
   ],
   "source": [
    "url = 'https://naver.com'\n",
    "\n",
    "driver = webdriver.Chrome(\"C:/tool/chromedriver.exe\")\n",
    "driver.get(url)\n",
    "\n",
    "news_button = driver.find_element(By.XPATH, '''//*[@id=\"NM_FAVORITE\"]/div[1]/ul[2]/li[2]/a''')\n",
    "news_button.click()\n",
    "\n",
    "soci_button = driver.find_element(By.XPATH, '''/html/body/section/header/div[2]/div/div/div[1]/div/div/ul/li[4]/a/span''')\n",
    "soci_button.click()\n",
    "\n",
    "news_url = driver.current_url\n",
    "\n",
    "html = urllib.request.urlopen(news_url)\n",
    "bs = BeautifulSoup(html, \"html.parser\")\n",
    "\n",
    "result = bs.select(\"a.cluster_text_headline\")\n",
    "n = 0\n",
    "for i in result:\n",
    "    if n < 10:\n",
    "        print(i.text)\n",
    "        print(i[\"href\"])\n",
    "        n += 1\n",
    "\n",
    "time.sleep(5)\n",
    "driver.close()"
   ]
  },
  {
   "cell_type": "markdown",
   "metadata": {},
   "source": [
    "Q17. 구글에서 \"빅데이터\"라는 검색어로 검색한 후 검색 결과를 가져와서 출력하고 파일로 저장"
   ]
  },
  {
   "cell_type": "code",
   "execution_count": null,
   "metadata": {},
   "outputs": [],
   "source": [
    "with open(\"goggle.txt\", \"w\") as f:\n",
    "    f.write(\"\")"
   ]
  },
  {
   "cell_type": "code",
   "execution_count": 109,
   "metadata": {},
   "outputs": [
    {
     "name": "stdout",
     "output_type": "stream",
     "text": [
      "검색결과\n",
      "웹의 추천 스니펫\n",
      "빅데이터는 단지 데이터 양 때문이 아니라 특성의 다양성과 복잡성으로 인해 \"빅\"으로 정의됩니다. 일반적으로 빅데이터는 데이터를 수집, 관리, 처리하는 기존 데이터베이스의 용량을 초과합니다. 또한 빅데이터는 디지털로 모니터링할 수 있는 전 세계의 모든 사물과 장소에서 생성될 수 있습니다.\n",
      "\n",
      "빅데이터란? | 고급 빅데이터 분석 | SAP Insights\n",
      "sap.com\n",
      "https://www.sap.com › korea › insights › what-is-big-data\n",
      "추천 스니펫 정보\n",
      "•\n",
      "사용자 의견\n",
      "\n",
      "빅 데이터란 무엇인가 - Oracle\n",
      "oracle.com\n",
      "https://www.oracle.com › Oracle 대한민국 › 빅 데이터\n",
      "빅데이터란 거대한 규모(volume), 빠른 속도(velocity), 높은 다양성(variety)을 특징으로 하는 데이터입니다. 이를 3V라고도 합니다. 간단히 말해, 빅 데이터는 특히 ...\n",
      "양(volume): 데이터의 양이 중요합니다. 빅 데이...\n",
      "종류(variety): 종류란 사용 가능한 데이터의 유형 ...\n",
      "속도(velocity): 속도는 데이터가 얼마나 빨리 수신 ...\n",
      "\n",
      "빅 데이터 - 위키백과, 우리 모두의 백과사전\n",
      "wikipedia.org\n",
      "https://ko.wikipedia.org › wiki › 빅_데이터\n",
      "빅 데이터(영어: big data)란 기존 데이터베이스 관리도구의 능력을 넘어서는 대량(수십 테라바이트)의 정형 또는 심지어 데이터베이스 형태가 아닌 비정형의 데이터 ...\n",
      "\n",
      "빅 데이터 프로세싱 - 나무위키\n",
      "namu.wiki\n",
      "https://namu.wiki › 빅 데이터 프로세싱\n",
      "2023. 4. 21. — 빅 데이터는 종종 조지 오웰의 빅 브라더와도 관련되어 언급되곤 하는데, 빅 데이터는 데이터베이스 관련 기술명이며 빅 브라더는 국가권력의 비합법적인 ...\n",
      "\n",
      "빅데이터(Big Data) – 빅데이터, 정의, 특징, 활용 사례\n",
      "modulabs.co.kr\n",
      "https://modulabs.co.kr › blog › big-data\n",
      "2022. 9. 4. — 빅데이터는 정치, 사회, 경제, 과학 기술 등 전 영역에 걸쳐 사회와 인류에게 가치 있는 정보를 제공할 가능성을 제시하며 그 중요성이 주목받고 있습니다 ...\n",
      "관련 질문\n",
      "빅데이터 어떻게 활용?\n",
      "\n",
      "왜 빅데이터인가?\n",
      "\n",
      "\n",
      "\n",
      "사용자 의견\n",
      "\n",
      "빅데이터(Big Data)란? - 알테어 블로그\n",
      "altair.co.kr\n",
      "https://blog.altair.co.kr › ...\n",
      "2021. 6. 15. — 빅데이터(Big Data)란? · 디지털 환경에서 발생하는 대량의 모든 데이터 · 기존 데이터베이스 관리 도구의 능력을 넘어서 데이터에서 가치를 추출하고 결과 ...\n",
      "\n",
      "빅데이터분석기사 - 데이터자격시험\n",
      "dataq.or.kr\n",
      "https://www.dataq.or.kr › www › sub\n",
      "이에 정부차원에서 빅데이터 분석 전문가 양성과 함께 체계적으로 역량을 검증할 수 있는 국가기술자격 수요가 높은 편이다. 빅데이터분석기사의 직무. 대용량의 데이터 ...\n",
      "\n",
      "빅데이터(big data) 상세 정보: 정의, 분석, 기술, 특징, 사례 연구 ...\n",
      "redhat.com\n",
      "https://www.redhat.com › topics › big-data\n",
      "2022. 2. 4. — 빅데이터란 전통적인 데이터 프로세싱 방법으로는 처리할 수 없을 만큼 대규모이거나 복잡한 데이터입니다. 빅데이터는 흔히 'Three V'로 불리는 ...\n",
      "\n",
      "연안 빅데이터 플랫폼\n",
      "bigdata-coast.kr\n",
      "https://www.bigdata-coast.kr\n",
      "연안 빅데이터 플랫폼. 검색. # 기후변화; # 연안침식; # 해수욕장; # 연안. 2023-05-01 현재. 전체 데이터상품 현황 162 종. 파일 DATA 282,740 건 전월대비 -.\n",
      "\n",
      "제주 음식점 구글 리뷰 분석 데이터 - KT 통신 빅데이터 플랫폼\n",
      "bigdata-telecom.kr\n",
      "https://www.bigdata-telecom.kr › invoke › SOKBP0000\n",
      "빅데이터 서비스. kt bigsight. 잘나가게. 유레카. 식품 Trend Sensing. AI 큐레이션 식이관리. 마켓 인텔리전스. Social 감정 읽어주기. 웹 기반 AI분석서비스.\n",
      "₩5,000,000\n",
      "광고\n",
      "스폰서\n",
      "빅데이터, 스크래핑 - API 분석, API데이터 플랫폼\n",
      "hyphen.im\n",
      "https://www.hyphen.im\n",
      "기업이 본연의 고객가치에 집중할 수 있도록 필요한 데이터와 솔루션을 API로 제공해드립니다. 국내 최다 금융기관과 연동된 API 마켓, 불필요한 심사 및 구축비 없이, 이용한 만큼만 결제!\n",
      "신개념 API마켓 플레이스 · 왜 하이픈인가?\n",
      "관련 검색어\n",
      "빅데이터 사이트\n",
      "빅데이터 정의 및 특징\n",
      "빅데이터 활용 사례\n",
      "빅데이터란\n",
      "빅데이터 분석\n",
      "빅데이터 예시\n",
      "빅데이터 특징\n",
      "빅데이터 플랫폼\n",
      "Page Navigation\n",
      "결과 더보기\n",
      "보완 검색결과\n",
      "빅 데이터\n",
      "설명\n",
      "빅 데이터란 기존 데이터베이스 관리도구의 능력을 넘어서는 대량의 정형 또는 심지어 데이터베이스 형태가 아닌 비정형의 데이터 집합조차 포함한 데이터로부터 가치를 추출하고 결과를 분석하는 기술이다. 위키백과\n",
      "피드백\n"
     ]
    }
   ],
   "source": [
    "url = \"https://www.google.com/\"\n",
    "\n",
    "driver = webdriver.Chrome(\"C:/tool/chromedriver.exe\")\n",
    "driver.get(url)\n",
    "\n",
    "time.sleep(1)\n",
    "\n",
    "search = driver.find_element(By.NAME, '''q''')\n",
    "\n",
    "search.send_keys(\"빅데이터\")\n",
    "search.send_keys(Keys.ENTER)\n",
    "\n",
    "elements = driver.find_elements(By.XPATH, '''//*[@id=\"rcnt\"]''')\n",
    "\n",
    "for element in elements:\n",
    "    print(element.text)\n",
    "    print(element.text, file = open(\"google.txt\", \"a\", encoding = \"utf-8\"))\n",
    "    \n",
    "time.sleep(1)\n",
    "driver.close()"
   ]
  },
  {
   "cell_type": "markdown",
   "metadata": {},
   "source": [
    "Q18. 'https://www.naver.com/'에서 뉴스 > 사회 카테고리 클릭하고 뉴스 제목 20개를 출력하세요."
   ]
  },
  {
   "cell_type": "code",
   "execution_count": 110,
   "metadata": {},
   "outputs": [
    {
     "name": "stdout",
     "output_type": "stream",
     "text": [
      "尹 대선 때 간호협회 찾았지만…與 \"간호법 공약한 적 없다\"\n",
      "https://n.news.naver.com/mnews/article/018/0005478380?sid=102\n",
      "간호협회 \"복지부, 갈등 조장 중단해야…의협, 국민 겁박 말라\"\n",
      "https://n.news.naver.com/mnews/article/018/0005478141?sid=102\n",
      "'간호법 반발' 간호조무사 등 13개 단체 부분파업\n",
      "https://n.news.naver.com/mnews/article/422/0000596890?sid=102\n",
      "\"보건 의료계 갈라치기\"…간호법 제정에 거리로 나온 의료계\n",
      "https://n.news.naver.com/mnews/article/079/0003766313?sid=102\n",
      "홍남표 창원특례시장 “국방부에 사격장 이전 검토해달라”\n",
      "https://n.news.naver.com/mnews/article/277/0005254810?sid=102\n",
      "창원 도심 미군 사격장 건설 추진에 주민 항의 빗발…국방부 '기존 시설 개선' 해명(종합)\n",
      "https://n.news.naver.com/mnews/article/658/0000039962?sid=102\n",
      "창원시, 국방부에 '사격장 확장 안전대책 촉구' 건의\n",
      "https://n.news.naver.com/mnews/article/003/0011840761?sid=102\n",
      "\"창원 도심 한복판에 대규모 미군 사격장 확장 웬말이냐\"\n",
      "https://n.news.naver.com/mnews/article/003/0011838513?sid=102\n",
      "법원, ‘이재명 대선자금 의혹’ 김용 보석 석방\n",
      "https://n.news.naver.com/mnews/article/005/0001606075?sid=102\n",
      "‘이재명 측근’ 연이어 석방…정진상 이어 김용도 보석\n",
      "https://n.news.naver.com/mnews/article/005/0001606082?sid=102\n",
      "'이재명 측근' 정진상 이어 김용도 보석 석방…구속 6개월 만\n",
      "https://n.news.naver.com/mnews/article/055/0001055438?sid=102\n",
      "'이재명 측근' 김용 보석 석방…\"위치추적 장치 부착\"(종합)\n",
      "https://n.news.naver.com/mnews/article/421/0006787582?sid=102\n",
      "음주운전 추돌사고 낸 뒤 달아난 경찰관 덜미\n",
      "https://n.news.naver.com/mnews/article/003/0011840749?sid=102\n",
      "현직 경찰관 음주 추돌 사고 뒤 도망쳤다 붙잡혀\n",
      "https://n.news.naver.com/mnews/article/056/0011478550?sid=102\n",
      "음주 사고낸 뒤 도주한 경찰관, 차량 안 근무복으로 잡혔다\n",
      "https://n.news.naver.com/mnews/article/025/0003277813?sid=102\n",
      "음주사고 경찰관 차버리고 도주…차에 남은 근무복에 덜미\n",
      "https://n.news.naver.com/mnews/article/020/0003495456?sid=102\n",
      "강풍 동반 비 예보에 서울시 어린이날 행사 연기·취소\n",
      "https://n.news.naver.com/mnews/article/001/0013921613?sid=102\n",
      "부산 주요공원 어린이날 문화행사 우천 예보로 연기\n",
      "https://n.news.naver.com/mnews/article/014/0005007228?sid=102\n",
      "전세 비율 낮은 제주서도 터졌다…HUG가 집주인 대신 반환한 보증금 30억\n",
      "https://n.news.naver.com/mnews/article/009/0005125263?sid=102\n",
      "정의당 대전시당, 전세 사기 '피해상담창구' 개설\n",
      "https://n.news.naver.com/mnews/article/079/0003766485?sid=102\n"
     ]
    }
   ],
   "source": [
    "url = 'https://naver.com'\n",
    "\n",
    "driver = webdriver.Chrome(\"C:/tool/chromedriver.exe\")\n",
    "driver.get(url)\n",
    "\n",
    "news_button = driver.find_element(By.XPATH, '''//*[@id=\"NM_FAVORITE\"]/div[1]/ul[2]/li[2]/a''')\n",
    "news_button.click()\n",
    "\n",
    "soci_button = driver.find_element(By.XPATH, '''/html/body/section/header/div[2]/div/div/div[1]/div/div/ul/li[4]/a/span''')\n",
    "soci_button.click()\n",
    "\n",
    "news_url = driver.current_url\n",
    "\n",
    "html = urllib.request.urlopen(news_url)\n",
    "bs = BeautifulSoup(html, \"html.parser\")\n",
    "\n",
    "result = bs.select(\"a.cluster_text_headline\")\n",
    "n = 0\n",
    "for i in result:\n",
    "    if n < 20:\n",
    "        print(i.text)\n",
    "        print(i[\"href\"])\n",
    "        n += 1\n",
    "\n",
    "time.sleep(5)\n",
    "driver.close()"
   ]
  },
  {
   "cell_type": "markdown",
   "metadata": {},
   "source": [
    "Q19. daum.net 에서 빅데이터를 검색해서 출력하세요(CSS_SELECTOR 사용)"
   ]
  },
  {
   "cell_type": "code",
   "execution_count": 113,
   "metadata": {},
   "outputs": [
    {
     "name": "stdout",
     "output_type": "stream",
     "text": [
      "제안\n",
      "도움말 빅데이터 분석기사 인공지능 빅데이터 교육 빅데이터 전문가 빅데이터 분석 빅데이터 학원 빅데이터 전문가 양성과정 빅데이터 자격증 빅데이터 활용\n",
      "더보기\n",
      "프리미엄링크\n",
      "'빅데이터' 관련 광고입니다.\n",
      "이 광고의 표시 사유\n",
      "\n",
      "신청하기\n",
      "빅데이터분석기사 와우패스\n",
      "www.wowpass.com\n",
      "저자직강 김계철 교수님 강의\n",
      "교재 2종 제공! R을 활용한 통계 특강! 시험 직전 쪽집게 특강까지!\n",
      "프로그래밍학원 부산예일\n",
      "www.gamebusan.com\n",
      "부산지역 천삼백여명 개발자 양성\n",
      "c#, c언어, 코딩기초, 프로그래밍기초, 웹개발, 초보자 참여가능, 전공무관\n",
      "문의\n",
      "Google Ads 광고\n",
      "ads.google.com\n",
      "원하는 고객에게 광고하세요.\n",
      "더 새로워진 구글 애드워즈. Google Ads 를 시작하세요.\n",
      "오라클자바교육센터\n",
      "www.oraclejava.co.kr\n",
      "구로위치 미취업자 전액무료, 머신러닝 딥러닝 파이썬 빅데이터 R 분석 취업교육.\n",
      "KG 아이티뱅크학원 주제희\n",
      "itbank.me\n",
      "정규교육과정\n",
      "라이브강의\n",
      "학원위치안내\n",
      "IT프로그래밍, 해킹 기초 심화과정 학습, 상담 예약 후 방문 시 수강료 지원혜택\n",
      "빅데이터 분석 솔루션 텍스톰\n",
      "www.textom.co.kr\n",
      "About\n",
      "Blog\n",
      "Manual\n",
      "Join\n",
      "웹데이터와 보유데이터의 정제, 분석 및 매트릭스 데이터, 시각화 생성까지 한번에!\n",
      "테라텍\n",
      "www.teratec.co.kr\n",
      "인텔 솔루션 프리미어 파트너. HPC, OEM, 오픈하드웨어, 인텔서버, 국산서버\n",
      "더존 아마란스 10\n",
      "www.amaranth10.com\n",
      "브랜드\n",
      "서비스소개\n",
      "도입안내\n",
      "미디어센터\n",
      "Next ERP,Post Groupware기업 디지털 전환을 위한 올인원 솔루션\n",
      "옥션 빅데이터\n",
      "www.auction.co.kr\n",
      "옥션BEST\n",
      "올킬 특가\n",
      "스마일배송\n",
      "웰컴백쿠폰\n",
      "빅데이터 가입만 해도 5천원 할인 쿠폰 제공! 웰컴백쿠폰 받고 쇼핑하기!\n",
      "빅데이터 G마켓\n",
      "www.gmarket.kr\n",
      "G마켓베스트\n",
      "슈퍼딜특가\n",
      "웰컴백쿠폰\n",
      "선물하기\n",
      "빅데이터 빠른 배송은 스마일배송! 저녁 8시 전 주문 시 내일 도착!\n",
      "프리미엄링크 더보기\n",
      "스페셜링크\n",
      "'빅데이터' 관련 광고입니다.\n",
      "이 광고의 표시 사유\n",
      "신청하기\n",
      "11번가 빅데이터\n",
      "www.11st.co.kr\n",
      "빅데이터, 전 고객 장바구니쿠폰! T멤버십 할인,SKpay포인트 적립까지!\n",
      "G마켓 빅데이터\n",
      "www.gmarket.co.kr\n",
      "빅데이터 관련 도서 특가, 테마 별 신간, DVD, 인기음반, 빠른배송.\n",
      "옥션 빅데이터\n",
      "www.auction.co.kr\n",
      "쇼핑이 생각날땐, 어서옥션! 빅데이터 ALLKILL특가+스마일클럽 최대12%할인\n",
      "와이드링크\n",
      "'빅데이터' 관련 광고입니다.\n",
      "이 광고의 표시 사유\n",
      "\n",
      "신청하기\n",
      "KG아이티뱅크 김서균 진학담당\n",
      "www.itbank21.com\n",
      "SW특별전형 학종vs특기자 무료진학상담, 청소년반, 주말가능, 신규생 할인이벤트\n",
      "쿠팡 빅데이터\n",
      "www.coupang.com\n",
      "빅데이터 특가! 경제, 경영도서, 국내도서, 한 개만 사도 무료배송 로켓와우\n",
      "빅데이터 무료수강 비전큐\n",
      "v-q.co.kr\n",
      "취업관련 인기자격증 145종 100%무료수강 전액지원! 정식1급 자격증\n",
      "빅데이터, 잡코리아에서\n",
      "www.jobkorea.co.kr\n",
      "직무/산업별 채용정보를 한눈에! 합격을 위한 빠른 길. 취업은 잡코리아\n",
      "NCS자격개발원 무료수강ON\n",
      "www.ncs.or.kr\n",
      "빅데이터전문가, 심리상담사, 바리스타 등 석,박사 교수님들께 배우는 자격과정!\n",
      "와이드링크 더보기\n",
      "블로그\n",
      "카페\n",
      "웹문서\n",
      "100.daum.net백과사전\n",
      "빅데이터\n",
      "빅데이터(big data)란 복잡하고 다양한 대규모 데이터세트 자체는 물론 이 데이터세트로부터 정보를 추출하고 결과를 분석하여 더 큰 가치를 창출하는 기술을 뜻한다. 수치 데이터 등 기존의 정형화된 정보뿐 아니라 텍스트 ・ 이미지 ・ 오디오 ・ 로그기...\n",
      "백과사전 검색 더보기\n",
      "출처: 경제금융용어 700선\n",
      "namu.wiki\n",
      "빅 데이터 프로세싱 - 나무위키\n",
      "거기에 더해 단순한 문자 데이터에서 벗어나 녹음, 사진, 동영상 등 데이터의 종류가 다양해지고 데이터의 용량 자체도 큰 폭으로 늘어났다. 이런 빅 데이터는 기존의 기술이나 도구로는 원활한 수집과 처리가 불가능할 정도로 성질이 달라졌으므로 빅 데이터에서 유용한 정보를 추합하거나 가치를 뽑아내기 위해서 고안...\n",
      "개요\n",
      "상세\n",
      "관련 자격증\n",
      "빅 데이터 프로세싱 기술\n",
      "개인정보 침해 우려\n",
      "기타\n",
      "관련 문서\n",
      "웹문서 검색 더보기\n",
      "2023.03.29\n",
      "같은 출처 내 관련문서\n",
      "선일빅데이터고등학교 - 나무위키\n",
      "빅데이터 드립 - 나무위키\n",
      "gall.dcinside.commgallerytft\n",
      "4-5코증강이길래 빅데이터 반등만 기다렸는데 슈발\n",
      "잭스 빅데이터먹으면 나름 반등각 잡힌다길래 기다렸는데 플레증강 먹고 쳐박았네\n",
      "2023.04.24\n",
      "같은 출처 내 관련문서\n",
      "전체보기\n",
      "워윅 빅데이터 증강체 사기지??\n",
      "빅데이터 분석을 활용한 게임 반영\n",
      "typ4rk.tistory.comLearning by doing\n",
      "[AA][리포트] 빅데이터 아키텍처\n",
      "58\n",
      "대량의 데이터를 관리하고 방대한 데이터에 대해 복잡한 작업을 수행하려면 관련 도구와 기술을 사용해야 함 Layer 역할 데이터 소스 (Data Source) 빅 데이터 파이프라인의 시작점이 있는 곳 - RDBMS, 데이터 웨어하우스, 클라우드 기반 데이터 웨어하우스, SaaS 애플리케이션, IoT 장치 센서 실시간 데이터 등 데이터...\n",
      "아키텍처\n",
      "블로그 검색 더보기\n",
      "2023.04.26\n",
      "illiny.shop1liny\n",
      "빅데이터 키워드 분석 사이트\n",
      "27\n",
      "빅데이터 분석하는 사이트를 찾아보다 괜찮은 곳들이 있어서 내 블로그에 저장! 무슨을 시작하든 데이터로 분석하는것이 제일 중요하다고 생각한다. 철저한 조사없는 용기만 가진 도전은 결국엔 의미없는 실패가 되니 말이다. 보통의 회사원들의 경우 아무리 잘해봤자 공은 상사가 가지고 가고, 노고는 부하직원이 하지...\n",
      "키워드분석\n",
      "구글트랜드\n",
      "키워드분석사이트\n",
      "빅데이터사이트\n",
      "키워드별검색량확인\n",
      "연관검색어작성방법\n",
      "실시간검색어확인방법\n",
      "실시간데이터검색\n",
      "데이터사이트 비교\n",
      "네이버랩과 카카오트랜드 비교\n",
      "다음 컨텐츠보기\n",
      "2023.04.16\n",
      "cjh-blog.tistory.comIT 사물함 🐻\n",
      "챕터4. 빅데이터의 축적\n",
      "19\n",
      "챕터4: 빅데이터의 축적 데이터 전송에는 벌크 형과 스트리밍 형의 두 종류의 도구가 사용된다. 객체 스토리지와 데이터 수집 빅데이터는 대부분 확장성이 높은 ‘분산 스토리지’에 저장된다. → 우선 기본이 되는 것은 ‘객체 스토리지’ → 하둡(HDFS), AWS(Amazon S3) 데이터 수집 객체 스토리지에서 효율적으로...\n",
      "4시간전\n",
      "통합웹 더보기\n",
      "dic.daum.net 어학사전\n",
      "빅 데이터\n",
      "[big data]\n",
      "국어\n",
      "디지털 환경에서 생성되는 거대한 규모의 자료 더보기\n",
      "어학사전 더보기\n",
      "빅데이터\n",
      "www.bigdata.go.kr/\n",
      "행정안전부 운영, 지원, 분석사업, 추진 방향, 사례, 홍보자료 소개.\n",
      "네이버 데이터랩\n",
      "datalab.naver.com/\n",
      "빅데이터 포털, 분야별 검색어, 트렌드, 지역통계, 데이터 융합분석, 공공데이터 제공.\n",
      "BIG KINDS\n",
      "www.bigkinds.or.kr/\n",
      "뉴스빅데이터 분석 서비스 빅 카인즈. 이슈 트렌드, 히스토리, 관계도, 워드크라우드, 고객센터.\n",
      "전화\n",
      "채널추가\n",
      "사이트 더보기\n",
      "뉴스\n",
      "서비스 안내\n",
      "정확도순 최신순\n",
      "침수 예방·소방통행로 어떻게…서울시 빅데이터 활용 연구\n",
      "(서울=연합뉴스) 윤보람 기자 = 서울디지털재단은 안전사고 예방과 시민 편의 증진을 위해 올해 빅데이터를 활용해 10개 과제를 분석한다고 3일 밝혔다. 10개 과제는 서울시 각 실국본부, 자치구, 유관기관의 수요를 반영해 도출했으며 재난 안전(3건), 스마트시티...\n",
      "연합뉴스 2023.05.03 다음뉴스\n",
      "연세의료원, ‘데이터 레이크’로 의료 빅데이터 공유한다\n",
      "연구자 친화적 데이터 활용…정밀의료 실현 디딤돌개방형 운영으로 접근성 높이고, 가명 데이터로 안전성 강화\n",
      "이를 위해 연세의료원은 연구자들이 의료빅데이터에 손쉽게 접근해 필요에 맞게 분석하고 활용할 수 있는 환경을 앞장서 조성했다. 의료 연구 목적을 가진 연구자라면 누구나 접근 가능한 세브란스 포털(Severance Data Portal, SDP)은 필요한 ...\n",
      "이데일리 2023.05.02 다음뉴스\n",
      "연세의료원, ‘데이터 레이크’로 의료 빅데이터 공유\n",
      "파이낸셜뉴스\n",
      "2023.05.02\n",
      "다음뉴스\n",
      "연세의료원, 의료빅데이터 플랫폼 '세브란스 ...\n",
      "스포츠조선\n",
      "2023.05.02\n",
      "다음뉴스\n",
      "연세의료원, ‘데이터 레이크’로 의료 빅데이터 ...\n",
      "의사신문\n",
      "2023.05.03\n",
      "관련뉴스 17건 전체보기\n",
      "셀트리온 빅데이터 '바스젠바이오'와 공동연구개발 계약 체결\n",
      "기존 의약품 연구 넘어 빅데이터로 R&D 확장\n",
      "대표이사, 김호 바스젠바이오 대표(왼쪽부터)가 기념 촬영을 하고 있다. 셀트리온 제공. [파이낸셜뉴스] 셀트리온은 바이오 빅데이터 전문기업 ‘바스젠바이오’와 공동연구개발 계약을 체결하고 바이오 분석 역량 강화에 나선다고 4일 밝혔다. 양사는 이번...\n",
      "파이낸셜뉴스 30분전 다음뉴스\n",
      "셀트리온-바스젠바이오, 바이오 빅데이터 역량 강화\n",
      "뉴스핌\n",
      "55분전\n",
      "셀트리온, '빅데이터 분석 역량 강화'...'바스젠바...\n",
      "팍스경제TV\n",
      "52분전\n",
      "셀트리온, 바스젠바이오와 공동 R&D 계약 체결…바...\n",
      "이코노미스트\n",
      "57분전\n",
      "관련뉴스 5건 전체보기\n",
      "데이터스트림즈, 해외 진출 AI·빅데이터 플랫폼 현지화 지원\n",
      "체결했으며, 해외 진출국으로 베트남을 선정했다. 데이터스트림즈는 'AI·빅데이터 기반 비대면 원격의료 헬스케어 플랫폼(AI·빅데이터 비대면 원격의료 플랫폼)' 서비스를 구체화할 계획이다. AI· 비대면 원격의료 플랫폼은 감염병 AI· 플랫폼과...\n",
      "헬로티 2023.05.03\n",
      "펼쳐보기\n",
      "뉴스 더보기\n",
      "장소\n",
      "신규등록\n",
      "전체보기\n",
      "확대\n",
      "축소\n",
      "4km\n",
      "서울 영등포구 영등포동 접속지역 주변 빅데이터\n",
      "지역 옵션더보기\n",
      "정확도순\n",
      "거리순\n",
      "A 빅데이터뉴스 신문 홈페이지\n",
      "02-2235-3738\n",
      "영등포구 여의도동 접기\n",
      "로드뷰\n",
      "길찾기\n",
      "B 빅데이터산업협회 단체,협회\n",
      "영등포구 양평동4가 접기\n",
      "로드뷰\n",
      "길찾기\n",
      "C 한국빅데이터연구소 연구소\n",
      "동작구 대방동 접기\n",
      "로드뷰\n",
      "길찾기\n",
      "D 연세의료원협력건강보험빅데이터분석센터 연구소\n",
      "서대문구 신촌동 접기\n",
      "로드뷰\n",
      "길찾기\n",
      "E 서울특별시 빅데이터캠퍼스 인터넷,IT 홈페이지\n",
      "02-2124-2950\n",
      "마포구 상암동 접기\n",
      "로드뷰\n",
      "길찾기\n",
      "F 서울특별시 빅데이터캠퍼스 상암동캠퍼스 교육단체 홈페이지\n",
      "마포구 상암동 접기\n",
      "로드뷰\n",
      "길찾기\n",
      "1 / \n",
      "5\n",
      "이전페이지\n",
      "다음페이지\n",
      "장소 더보기\n",
      "동영상\n",
      "01:00\n",
      "빅데이터로 선정한 뉴진스 레전드 모음\n",
      "Youtube2023.01.23\n",
      "토끼저장소 Bunnies-Storage\n",
      "27:30\n",
      "1만 시간 빅데이터 위치 추적기 - Dead by daylight\n",
      "Youtube21시간전\n",
      "살인마협회장\n",
      "02:07\n",
      "[롤토체스 시즌8.5] 빅데이터 잭스\n",
      "Youtube2023.05.01\n",
      "대충만든롤체채널\n",
      "01:01\n",
      "왁파고의 빅데이터 (아이네 반응)\n",
      "Youtube2022.12.21\n",
      "데친 숙주나물\n",
      "01:48\n",
      "[롤토체스 시즌8.5] 빅데이터 나르\n",
      "Youtube2023.05.03\n",
      "대충만든롤체채널\n",
      "25:06\n",
      "배종찬 \"빅데이터는 말한다, 송영길 리스크가 이재명보다 심각\" “국힘 지지율, 윤리위 태영호 징계가 관건\" [한판승부]\n",
      "Youtube17시간전\n",
      "박재홍의 한판승부\n",
      "오늘의 숏beta\n",
      "00:52\n",
      "AI·빅데이터 기반 사이버 보안 기대주는 누구?\n",
      "MTN 머니투데이방송\n",
      "동영상 더보기\n",
      "다음 책\n",
      "i\n",
      "다른 사이트 더보기\n",
      "내일은 실험왕 시즌 2 4: 빅 데이터와 전염병\n",
      "저자\n",
      "스토리 a.\n",
      "출간\n",
      "2022.8.11.\n",
      "도서\n",
      "13,050원\n",
      "한국사능력검정시험 기출선지 빅데이터 2주끝장 심화(2021)(에듀윌)\n",
      "저자\n",
      "에듀윌 한국사교육연구소\n",
      "출간\n",
      "2021.3.17.\n",
      "도서\n",
      "18,900원\n",
      "2022 에듀윌 한국사능력검정시험 2주끝장 심화\n",
      "저자\n",
      "에듀윌 한국사교육연구소\n",
      "출간\n",
      "2022.1.6.\n",
      "도서\n",
      "18,900원\n",
      "초등 수학 2-1(2020)(빅데이터 우등생)\n",
      "저자\n",
      "최용준, 해법수학연구회\n",
      "출간\n",
      "2019.1.25.\n",
      "도서\n",
      "13,500원\n",
      "BEST\n",
      "2023 이기적 빅데이터분석기사 필기 기본서\n",
      "저자\n",
      "나홍석 외\n",
      "출간\n",
      "2022.8.24.\n",
      "도서\n",
      "29,700원\n",
      "초등 수학 1-1(2020)(빅데이터 우등생)\n",
      "저자\n",
      "최용준, 해법수학연구회\n",
      "출간\n",
      "2019.9.15.\n",
      "도서\n",
      "13,500원\n",
      "초등 수학 5-1(2020)(빅데이터 우등생 해법)\n",
      "저자\n",
      "최용준, 해법수학연구회\n",
      "출간\n",
      "2019.8.15.\n",
      "도서\n",
      "14,850원\n",
      "초등 수학 3-2(2020)(빅데이터 우등생 해법)\n",
      "저자\n",
      "최용준, 해법수학연구회\n",
      "출간\n",
      "2020.2.15.\n",
      "도서\n",
      "14,400원\n",
      "초등 수학 4-1(2020)(빅데이터 우등생 해법)\n",
      "저자\n",
      "최용준, 해법수학연구회\n",
      "출간\n",
      "2019.8.15.\n",
      "도서\n",
      "14,400원\n",
      "초등 수학 3-1(2020)(빅데이터 우등생 해법)\n",
      "저자\n",
      "최용준, 해법수학연구회\n",
      "출간\n",
      "2019.8.15.\n",
      "도서\n",
      "14,400원\n",
      "더보기\n",
      "다음 컨텐츠보기\n",
      "(주)카카오는 상품판매의 당사자가 아닙니다.i\n",
      "이미지\n",
      "이미지 더보기\n",
      "쇼핑하우\n",
      "다른 사이트 더보기\n",
      "빅데이터로 보는 질환,현경예,고려의학\n",
      "30,000 원 유료배송\n",
      "모던북\n",
      "구매\n",
      "[시대고시기획] 2023 빅데이터분석기사 필기 한권으로 끝내기 한\n",
      "32,400 원 무료배송\n",
      "5.0\n",
      "리뷰 2\n",
      "GS샵\n",
      "[이노플리아]고교학점제를 완성하는 진로 로드맵 ： 경영계열\n",
      "16,020 원 유료배송\n",
      "홈앤쇼핑\n",
      "빅데이터를 지배하는 통계의 힘 : 입문 편\n",
      "13,950 원 무료배송\n",
      "롯데홈쇼핑\n",
      "[이노플리아]코딩 없이 배우는 데이터 과학 ： 인공지능 세계 권위자가...\n",
      "26,820 원 유료배송\n",
      "홈앤쇼핑\n",
      "[밀크북]포스트 코로나 신상권 지도 ： 빅데이터로 뽑아본 10대 유망 상권\n",
      "18,000 원 유료배송\n",
      "홈앤쇼핑\n",
      "펼쳐보기\n",
      "Kakao는 상품판매의 당사자가 아닙니다. 법적고지 및 안내\n",
      "쇼핑 15,153건 더보기\n",
      "멜론뮤직\n",
      "i\n",
      "다른 사이트 더보기\n",
      "Dangerous (Oliver Remix)\n",
      "Big Data 외 2명\n",
      "앨범\n",
      "1.6\n",
      "2014.04.30.\n",
      "Dangerous\n",
      "Big Data 외 2명\n",
      "앨범\n",
      "2.0\n",
      "2015.03.23.\n",
      "Dangerous\n",
      "Big Data\n",
      "앨범\n",
      "Earth to Echo (Mu...\n",
      "2014.06.30.\n",
      "Clean (Feat. Jamie Lidell)\n",
      "Big Data\n",
      "앨범\n",
      "2.0\n",
      "2015.03.23.\n",
      "Calm Yourself Down (Big Data Remix)\n",
      "Big Data\n",
      "앨범\n",
      "Calm Yourself Dow...\n",
      "2021.08.13.\n",
      "Every Window Is A Mirror (Big Data Remix)\n",
      "Joywave 외 2명\n",
      "앨범\n",
      "Every Window Is A...\n",
      "2021.10.08.\n",
      "Perfect Holiday (Feat. Twin Shadow)\n",
      "Big Data\n",
      "앨범\n",
      "2.0\n",
      "2015.03.23.\n",
      "Sick for Me (Feat. Bear Hands)\n",
      "Big Data\n",
      "앨범\n",
      "2.0\n",
      "2015.03.23.\n",
      "The Business of Emotion (Feat. White Sea)\n",
      "Big Data\n",
      "앨범\n",
      "2.0\n",
      "2015.03.23.\n",
      "Dangerous (Chappo Remix) (Feat. Joywave)\n",
      "Big Data\n",
      "앨범\n",
      "1.6\n",
      "2014.04.30.\n",
      "Get Some Freedom (Feat. Dragonette)\n",
      "Big Data\n",
      "앨범\n",
      "2.0\n",
      "2015.03.23.\n",
      "Unglued\n",
      "Big Data\n",
      "앨범\n",
      "3.0\n",
      "2019.07.26.\n",
      "Let Go (Feat. Lizy Ryan)\n",
      "Big Data\n",
      "앨범\n",
      "Fair Trade\n",
      "2015.06.11.\n",
      "Dangerous (Astr Remix) (Feat. Joywave)\n",
      "Big Data\n",
      "앨범\n",
      "1.6\n",
      "2014.04.30.\n",
      "Automatic (Feat. Jenn Wasner)\n",
      "Big Data\n",
      "앨범\n",
      "2.0\n",
      "2015.03.23.\n",
      "Big Dater\n",
      "Big Data\n",
      "앨범\n",
      "2.0\n",
      "2015.03.23.\n",
      "Put Me to Work\n",
      "Big Data\n",
      "앨범\n",
      "Put Me to Work\n",
      "2019.04.26.\n",
      "Dangerous (Spacebrother's Disco Dancing Remix) (Feat. Joywave)\n",
      "Big Data\n",
      "앨범\n",
      "1.6\n",
      "2014.04.30.\n",
      "The Glow (Feat. Kimbra)\n",
      "Big Data\n",
      "앨범\n",
      "2.0\n",
      "2015.03.23.\n",
      "Slay (Feat. L1ZY)\n",
      "Big Data\n",
      "앨범\n",
      "3.0\n",
      "2019.07.26.\n",
      "더보기\n",
      "다음 컨텐츠보기\n",
      "애드센스\n",
      "'빅데이터' 관련 광고입니다.\n",
      "이 광고의 표시 사유\n",
      "\n",
      "문의하기\n",
      "'빅데이터' 다른결과 더보기\n",
      "같이가치\n",
      "이전페이지\n",
      "1 2 3 4 5\n",
      "다음페이지\n",
      "제안\n",
      "도움말 빅데이터 분석기사 인공지능 빅데이터 교육 빅데이터 전문가 빅데이터 분석 빅데이터 학원 빅데이터 전문가 양성과정 빅데이터 자격증 빅데이터 활용\n",
      "더보기\n"
     ]
    }
   ],
   "source": [
    "url = \"https://www.daum.net/\"\n",
    "\n",
    "driver = webdriver.Chrome(\"C:/tool/chromedriver.exe\")\n",
    "driver.get(url)\n",
    "time.sleep(1)\n",
    "\n",
    "search = driver.find_element(By.NAME, '''q''')\n",
    "\n",
    "search.send_keys(\"빅데이터\")\n",
    "search.send_keys(Keys.ENTER)\n",
    "\n",
    "elements = driver.find_elements(By.XPATH, '''//*[@id=\"mArticle\"]/div''')\n",
    "for element in elements:\n",
    "    print(element.text)\n",
    "    \n",
    "time.sleep(5)\n",
    "driver.close()"
   ]
  },
  {
   "cell_type": "markdown",
   "metadata": {},
   "source": [
    "Q20. 셀레니움으로 아래를 수행하여 네이버 로그인 후 메일을 확인하세요.\n",
    "- 자바스크립트로 데이터 입력하기\n",
    "- 로그인 폼의 id와 pw 요소에 직접 데이터 전달"
   ]
  },
  {
   "cell_type": "code",
   "execution_count": null,
   "metadata": {},
   "outputs": [],
   "source": []
  }
 ],
 "metadata": {
  "kernelspec": {
   "display_name": "Python 3 (ipykernel)",
   "language": "python",
   "name": "python3"
  },
  "language_info": {
   "codemirror_mode": {
    "name": "ipython",
    "version": 3
   },
   "file_extension": ".py",
   "mimetype": "text/x-python",
   "name": "python",
   "nbconvert_exporter": "python",
   "pygments_lexer": "ipython3",
   "version": "3.9.13"
  }
 },
 "nbformat": 4,
 "nbformat_minor": 4
}
